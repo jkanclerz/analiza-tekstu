{
 "cells": [
  {
   "cell_type": "markdown",
   "metadata": {
    "id": "VhkQMwrapyVx"
   },
   "source": [
    "[![Open In Colab](https://colab.research.google.com/assets/colab-badge.svg)](https://colab.research.google.com/github.com/jkanclerz/analiza-tekstu/blob/master/02_Eksploracyjna_analiza_dokumentow_reprezentacja-wektorowa.ipynb)"
   ]
  },
  {
   "cell_type": "markdown",
   "metadata": {
    "id": "OuWu_NR1pzrN"
   },
   "source": [
    "# Analiza dokumentów tekstowych\t"
   ]
  },
  {
   "cell_type": "markdown",
   "metadata": {
    "id": "H8j_eVFyvhbE"
   },
   "source": [
    "# Reprezentacja numeryczna\n",
    "\n",
    "https://scikit-learn.org/stable/modules/classes.html#module-sklearn.feature_extraction.text"
   ]
  },
  {
   "cell_type": "code",
   "execution_count": 1,
   "metadata": {},
   "outputs": [
    {
     "name": "stdout",
     "output_type": "stream",
     "text": [
      "Collecting sklearn\n",
      "  Using cached sklearn-0.0.tar.gz (1.1 kB)\n",
      "  Preparing metadata (setup.py) ... \u001b[?25ldone\n",
      "\u001b[?25hCollecting scikit-learn\n",
      "  Using cached scikit_learn-1.0.1-cp39-cp39-macosx_10_13_x86_64.whl (8.0 MB)\n",
      "Collecting scipy>=1.1.0\n",
      "  Downloading scipy-1.7.3-cp39-cp39-macosx_10_9_x86_64.whl (33.2 MB)\n",
      "     |████████████████████████████████| 33.2 MB 260 kB/s            \n",
      "\u001b[?25hRequirement already satisfied: numpy>=1.14.6 in ./.venv/lib/python3.9/site-packages (from scikit-learn->sklearn) (1.21.4)\n",
      "Collecting joblib>=0.11\n",
      "  Using cached joblib-1.1.0-py2.py3-none-any.whl (306 kB)\n",
      "Collecting threadpoolctl>=2.0.0\n",
      "  Using cached threadpoolctl-3.0.0-py3-none-any.whl (14 kB)\n",
      "Using legacy 'setup.py install' for sklearn, since package 'wheel' is not installed.\n",
      "Installing collected packages: threadpoolctl, scipy, joblib, scikit-learn, sklearn\n",
      "    Running setup.py install for sklearn ... \u001b[?25ldone\n",
      "\u001b[?25hSuccessfully installed joblib-1.1.0 scikit-learn-1.0.1 scipy-1.7.3 sklearn-0.0 threadpoolctl-3.0.0\n",
      "Note: you may need to restart the kernel to use updated packages.\n"
     ]
    }
   ],
   "source": [
    "pip install sklearn"
   ]
  },
  {
   "cell_type": "code",
   "execution_count": 2,
   "metadata": {
    "id": "NXBR3ZHwvkrY"
   },
   "outputs": [],
   "source": [
    "from sklearn.feature_extraction.text import  CountVectorizer"
   ]
  },
  {
   "cell_type": "markdown",
   "metadata": {
    "id": "R3Ty1g4lwZ73"
   },
   "source": [
    "## Bag of words\n",
    "Pozwala reprezentować dane tekstowe jako wektor cech(ang. feature vector). Reprezentacja bag-of-words jest niezwykle prosta, sprowadza się do 2 kroków. 1. Stworzenie słownika unikalnych wyrazów - zbiór wyrazów z całej kolekcji dokumentów 2. Stworzenie reprezentacji wektorowej dla każdego z dokumentów zawierającej częstość wystąpień dla poszczególnych wyrazów\n",
    "\n",
    "Jako, że pojedyńczy dokument zawiera wyłącznie mały wycinek z całego zbioru dostępnych wyrazów, wektor cech zawiera głównie 0. Często nazywany rzadkim (ang. sparse vector)"
   ]
  },
  {
   "cell_type": "code",
   "execution_count": 3,
   "metadata": {
    "id": "6o95OBv8wb9B"
   },
   "outputs": [],
   "source": [
    "documents = [\n",
    "    \"Care About Your Craft\",\n",
    "    \"Make Quality a Requirements Issue\",\n",
    "    \"Don't Repeat Yourself\",\n",
    "    \"Always Design for Concurrency\",\n",
    "    \"Sign Your Work\",\n",
    "    \"Refactor Early, Refactor Often\",\n",
    "]"
   ]
  },
  {
   "cell_type": "code",
   "execution_count": 4,
   "metadata": {
    "id": "U0_qWMgdwfCs"
   },
   "outputs": [],
   "source": [
    "from sklearn.feature_extraction.text import CountVectorizer\n",
    "import pandas as pd"
   ]
  },
  {
   "cell_type": "code",
   "execution_count": 5,
   "metadata": {
    "id": "X3AhX2QJwhIK"
   },
   "outputs": [],
   "source": [
    "cv = CountVectorizer(binary=True)\n",
    "cv.fit(documents)\n",
    "X = cv.transform(documents)"
   ]
  },
  {
   "cell_type": "code",
   "execution_count": 6,
   "metadata": {
    "colab": {
     "base_uri": "https://localhost:8080/",
     "height": 225
    },
    "id": "5A-vAhg0wiZT",
    "outputId": "86a56aad-6474-44cc-d2f4-b48c4e6fa732"
   },
   "outputs": [
    {
     "name": "stderr",
     "output_type": "stream",
     "text": [
      "/Users/jkanclerz/myplace/dydaktyka/analiza-tekstu/.venv/lib/python3.9/site-packages/sklearn/utils/deprecation.py:87: FutureWarning: Function get_feature_names is deprecated; get_feature_names is deprecated in 1.0 and will be removed in 1.2. Please use get_feature_names_out instead.\n",
      "  warnings.warn(msg, category=FutureWarning)\n"
     ]
    },
    {
     "data": {
      "text/html": [
       "<div>\n",
       "<style scoped>\n",
       "    .dataframe tbody tr th:only-of-type {\n",
       "        vertical-align: middle;\n",
       "    }\n",
       "\n",
       "    .dataframe tbody tr th {\n",
       "        vertical-align: top;\n",
       "    }\n",
       "\n",
       "    .dataframe thead th {\n",
       "        text-align: right;\n",
       "    }\n",
       "</style>\n",
       "<table border=\"1\" class=\"dataframe\">\n",
       "  <thead>\n",
       "    <tr style=\"text-align: right;\">\n",
       "      <th></th>\n",
       "      <th>about</th>\n",
       "      <th>always</th>\n",
       "      <th>care</th>\n",
       "      <th>concurrency</th>\n",
       "      <th>craft</th>\n",
       "      <th>design</th>\n",
       "      <th>don</th>\n",
       "      <th>early</th>\n",
       "      <th>for</th>\n",
       "      <th>issue</th>\n",
       "      <th>make</th>\n",
       "      <th>often</th>\n",
       "      <th>quality</th>\n",
       "      <th>refactor</th>\n",
       "      <th>repeat</th>\n",
       "      <th>requirements</th>\n",
       "      <th>sign</th>\n",
       "      <th>work</th>\n",
       "      <th>your</th>\n",
       "      <th>yourself</th>\n",
       "    </tr>\n",
       "  </thead>\n",
       "  <tbody>\n",
       "    <tr>\n",
       "      <th>0</th>\n",
       "      <td>1</td>\n",
       "      <td>0</td>\n",
       "      <td>1</td>\n",
       "      <td>0</td>\n",
       "      <td>1</td>\n",
       "      <td>0</td>\n",
       "      <td>0</td>\n",
       "      <td>0</td>\n",
       "      <td>0</td>\n",
       "      <td>0</td>\n",
       "      <td>0</td>\n",
       "      <td>0</td>\n",
       "      <td>0</td>\n",
       "      <td>0</td>\n",
       "      <td>0</td>\n",
       "      <td>0</td>\n",
       "      <td>0</td>\n",
       "      <td>0</td>\n",
       "      <td>1</td>\n",
       "      <td>0</td>\n",
       "    </tr>\n",
       "    <tr>\n",
       "      <th>1</th>\n",
       "      <td>0</td>\n",
       "      <td>0</td>\n",
       "      <td>0</td>\n",
       "      <td>0</td>\n",
       "      <td>0</td>\n",
       "      <td>0</td>\n",
       "      <td>0</td>\n",
       "      <td>0</td>\n",
       "      <td>0</td>\n",
       "      <td>1</td>\n",
       "      <td>1</td>\n",
       "      <td>0</td>\n",
       "      <td>1</td>\n",
       "      <td>0</td>\n",
       "      <td>0</td>\n",
       "      <td>1</td>\n",
       "      <td>0</td>\n",
       "      <td>0</td>\n",
       "      <td>0</td>\n",
       "      <td>0</td>\n",
       "    </tr>\n",
       "  </tbody>\n",
       "</table>\n",
       "</div>"
      ],
      "text/plain": [
       "   about  always  care  concurrency  craft  design  don  early  for  issue  \\\n",
       "0      1       0     1            0      1       0    0      0    0      0   \n",
       "1      0       0     0            0      0       0    0      0    0      1   \n",
       "\n",
       "   make  often  quality  refactor  repeat  requirements  sign  work  your  \\\n",
       "0     0      0        0         0       0             0     0     0     1   \n",
       "1     1      0        1         0       0             1     0     0     0   \n",
       "\n",
       "   yourself  \n",
       "0         0  \n",
       "1         0  "
      ]
     },
     "metadata": {},
     "output_type": "display_data"
    },
    {
     "data": {
      "text/html": [
       "<div>\n",
       "<style scoped>\n",
       "    .dataframe tbody tr th:only-of-type {\n",
       "        vertical-align: middle;\n",
       "    }\n",
       "\n",
       "    .dataframe tbody tr th {\n",
       "        vertical-align: top;\n",
       "    }\n",
       "\n",
       "    .dataframe thead th {\n",
       "        text-align: right;\n",
       "    }\n",
       "</style>\n",
       "<table border=\"1\" class=\"dataframe\">\n",
       "  <thead>\n",
       "    <tr style=\"text-align: right;\">\n",
       "      <th></th>\n",
       "      <th>about</th>\n",
       "      <th>always</th>\n",
       "      <th>care</th>\n",
       "      <th>concurrency</th>\n",
       "      <th>craft</th>\n",
       "      <th>design</th>\n",
       "      <th>don</th>\n",
       "      <th>early</th>\n",
       "      <th>for</th>\n",
       "      <th>issue</th>\n",
       "      <th>make</th>\n",
       "      <th>often</th>\n",
       "      <th>quality</th>\n",
       "      <th>refactor</th>\n",
       "      <th>repeat</th>\n",
       "      <th>requirements</th>\n",
       "      <th>sign</th>\n",
       "      <th>work</th>\n",
       "      <th>your</th>\n",
       "      <th>yourself</th>\n",
       "    </tr>\n",
       "  </thead>\n",
       "  <tbody>\n",
       "    <tr>\n",
       "      <th>4</th>\n",
       "      <td>0</td>\n",
       "      <td>0</td>\n",
       "      <td>0</td>\n",
       "      <td>0</td>\n",
       "      <td>0</td>\n",
       "      <td>0</td>\n",
       "      <td>0</td>\n",
       "      <td>0</td>\n",
       "      <td>0</td>\n",
       "      <td>0</td>\n",
       "      <td>0</td>\n",
       "      <td>0</td>\n",
       "      <td>0</td>\n",
       "      <td>0</td>\n",
       "      <td>0</td>\n",
       "      <td>0</td>\n",
       "      <td>1</td>\n",
       "      <td>1</td>\n",
       "      <td>1</td>\n",
       "      <td>0</td>\n",
       "    </tr>\n",
       "    <tr>\n",
       "      <th>5</th>\n",
       "      <td>0</td>\n",
       "      <td>0</td>\n",
       "      <td>0</td>\n",
       "      <td>0</td>\n",
       "      <td>0</td>\n",
       "      <td>0</td>\n",
       "      <td>0</td>\n",
       "      <td>1</td>\n",
       "      <td>0</td>\n",
       "      <td>0</td>\n",
       "      <td>0</td>\n",
       "      <td>1</td>\n",
       "      <td>0</td>\n",
       "      <td>1</td>\n",
       "      <td>0</td>\n",
       "      <td>0</td>\n",
       "      <td>0</td>\n",
       "      <td>0</td>\n",
       "      <td>0</td>\n",
       "      <td>0</td>\n",
       "    </tr>\n",
       "  </tbody>\n",
       "</table>\n",
       "</div>"
      ],
      "text/plain": [
       "   about  always  care  concurrency  craft  design  don  early  for  issue  \\\n",
       "4      0       0     0            0      0       0    0      0    0      0   \n",
       "5      0       0     0            0      0       0    0      1    0      0   \n",
       "\n",
       "   make  often  quality  refactor  repeat  requirements  sign  work  your  \\\n",
       "4     0      0        0         0       0             0     1     1     1   \n",
       "5     0      1        0         1       0             0     0     0     0   \n",
       "\n",
       "   yourself  \n",
       "4         0  \n",
       "5         0  "
      ]
     },
     "metadata": {},
     "output_type": "display_data"
    }
   ],
   "source": [
    "DF = pd.DataFrame(X.toarray(), columns=cv.get_feature_names())\n",
    "display(DF[:2], DF[4:6])"
   ]
  },
  {
   "cell_type": "markdown",
   "metadata": {
    "id": "gra6iA0RwqHB"
   },
   "source": [
    "Transformacja pozwoliła uzyskać strukturę w której każdy wiersz reprezentuje dokument, każda kolumna określa częstość wystąpienia danego tokenu"
   ]
  },
  {
   "cell_type": "markdown",
   "metadata": {
    "id": "SBWc0Rakwrtv"
   },
   "source": [
    "## Wektor częstości"
   ]
  },
  {
   "cell_type": "code",
   "execution_count": null,
   "metadata": {
    "colab": {
     "base_uri": "https://localhost:8080/",
     "height": 225
    },
    "id": "ufiyQ6xuwxYE",
    "outputId": "955c7e3c-1518-4d4a-beff-62586234cc48"
   },
   "outputs": [
    {
     "data": {
      "text/html": [
       "<div>\n",
       "<style scoped>\n",
       "    .dataframe tbody tr th:only-of-type {\n",
       "        vertical-align: middle;\n",
       "    }\n",
       "\n",
       "    .dataframe tbody tr th {\n",
       "        vertical-align: top;\n",
       "    }\n",
       "\n",
       "    .dataframe thead th {\n",
       "        text-align: right;\n",
       "    }\n",
       "</style>\n",
       "<table border=\"1\" class=\"dataframe\">\n",
       "  <thead>\n",
       "    <tr style=\"text-align: right;\">\n",
       "      <th></th>\n",
       "      <th>about</th>\n",
       "      <th>always</th>\n",
       "      <th>care</th>\n",
       "      <th>concurrency</th>\n",
       "      <th>craft</th>\n",
       "      <th>design</th>\n",
       "      <th>don</th>\n",
       "      <th>early</th>\n",
       "      <th>for</th>\n",
       "      <th>issue</th>\n",
       "      <th>make</th>\n",
       "      <th>often</th>\n",
       "      <th>quality</th>\n",
       "      <th>refactor</th>\n",
       "      <th>repeat</th>\n",
       "      <th>requirements</th>\n",
       "      <th>sign</th>\n",
       "      <th>work</th>\n",
       "      <th>your</th>\n",
       "      <th>yourself</th>\n",
       "    </tr>\n",
       "  </thead>\n",
       "  <tbody>\n",
       "    <tr>\n",
       "      <th>0</th>\n",
       "      <td>1</td>\n",
       "      <td>0</td>\n",
       "      <td>1</td>\n",
       "      <td>0</td>\n",
       "      <td>1</td>\n",
       "      <td>0</td>\n",
       "      <td>0</td>\n",
       "      <td>0</td>\n",
       "      <td>0</td>\n",
       "      <td>0</td>\n",
       "      <td>0</td>\n",
       "      <td>0</td>\n",
       "      <td>0</td>\n",
       "      <td>0</td>\n",
       "      <td>0</td>\n",
       "      <td>0</td>\n",
       "      <td>0</td>\n",
       "      <td>0</td>\n",
       "      <td>1</td>\n",
       "      <td>0</td>\n",
       "    </tr>\n",
       "    <tr>\n",
       "      <th>1</th>\n",
       "      <td>0</td>\n",
       "      <td>0</td>\n",
       "      <td>0</td>\n",
       "      <td>0</td>\n",
       "      <td>0</td>\n",
       "      <td>0</td>\n",
       "      <td>0</td>\n",
       "      <td>0</td>\n",
       "      <td>0</td>\n",
       "      <td>1</td>\n",
       "      <td>1</td>\n",
       "      <td>0</td>\n",
       "      <td>1</td>\n",
       "      <td>0</td>\n",
       "      <td>0</td>\n",
       "      <td>1</td>\n",
       "      <td>0</td>\n",
       "      <td>0</td>\n",
       "      <td>0</td>\n",
       "      <td>0</td>\n",
       "    </tr>\n",
       "  </tbody>\n",
       "</table>\n",
       "</div>"
      ],
      "text/plain": [
       "   about  always  care  concurrency  ...  sign  work  your  yourself\n",
       "0      1       0     1            0  ...     0     0     1         0\n",
       "1      0       0     0            0  ...     0     0     0         0\n",
       "\n",
       "[2 rows x 20 columns]"
      ]
     },
     "metadata": {},
     "output_type": "display_data"
    },
    {
     "data": {
      "text/html": [
       "<div>\n",
       "<style scoped>\n",
       "    .dataframe tbody tr th:only-of-type {\n",
       "        vertical-align: middle;\n",
       "    }\n",
       "\n",
       "    .dataframe tbody tr th {\n",
       "        vertical-align: top;\n",
       "    }\n",
       "\n",
       "    .dataframe thead th {\n",
       "        text-align: right;\n",
       "    }\n",
       "</style>\n",
       "<table border=\"1\" class=\"dataframe\">\n",
       "  <thead>\n",
       "    <tr style=\"text-align: right;\">\n",
       "      <th></th>\n",
       "      <th>about</th>\n",
       "      <th>always</th>\n",
       "      <th>care</th>\n",
       "      <th>concurrency</th>\n",
       "      <th>craft</th>\n",
       "      <th>design</th>\n",
       "      <th>don</th>\n",
       "      <th>early</th>\n",
       "      <th>for</th>\n",
       "      <th>issue</th>\n",
       "      <th>make</th>\n",
       "      <th>often</th>\n",
       "      <th>quality</th>\n",
       "      <th>refactor</th>\n",
       "      <th>repeat</th>\n",
       "      <th>requirements</th>\n",
       "      <th>sign</th>\n",
       "      <th>work</th>\n",
       "      <th>your</th>\n",
       "      <th>yourself</th>\n",
       "    </tr>\n",
       "  </thead>\n",
       "  <tbody>\n",
       "    <tr>\n",
       "      <th>4</th>\n",
       "      <td>0</td>\n",
       "      <td>0</td>\n",
       "      <td>0</td>\n",
       "      <td>0</td>\n",
       "      <td>0</td>\n",
       "      <td>0</td>\n",
       "      <td>0</td>\n",
       "      <td>0</td>\n",
       "      <td>0</td>\n",
       "      <td>0</td>\n",
       "      <td>0</td>\n",
       "      <td>0</td>\n",
       "      <td>0</td>\n",
       "      <td>0</td>\n",
       "      <td>0</td>\n",
       "      <td>0</td>\n",
       "      <td>1</td>\n",
       "      <td>1</td>\n",
       "      <td>1</td>\n",
       "      <td>0</td>\n",
       "    </tr>\n",
       "    <tr>\n",
       "      <th>5</th>\n",
       "      <td>0</td>\n",
       "      <td>0</td>\n",
       "      <td>0</td>\n",
       "      <td>0</td>\n",
       "      <td>0</td>\n",
       "      <td>0</td>\n",
       "      <td>0</td>\n",
       "      <td>1</td>\n",
       "      <td>0</td>\n",
       "      <td>0</td>\n",
       "      <td>0</td>\n",
       "      <td>1</td>\n",
       "      <td>0</td>\n",
       "      <td>2</td>\n",
       "      <td>0</td>\n",
       "      <td>0</td>\n",
       "      <td>0</td>\n",
       "      <td>0</td>\n",
       "      <td>0</td>\n",
       "      <td>0</td>\n",
       "    </tr>\n",
       "  </tbody>\n",
       "</table>\n",
       "</div>"
      ],
      "text/plain": [
       "   about  always  care  concurrency  ...  sign  work  your  yourself\n",
       "4      0       0     0            0  ...     1     1     1         0\n",
       "5      0       0     0            0  ...     0     0     0         0\n",
       "\n",
       "[2 rows x 20 columns]"
      ]
     },
     "metadata": {},
     "output_type": "display_data"
    }
   ],
   "source": [
    "cv = CountVectorizer(binary=False)\n",
    "cv.fit(documents)\n",
    "X = cv.transform(documents)\n",
    "DF = pd.DataFrame(X.toarray(), columns=cv.get_feature_names())\n",
    "display(DF[:2], DF[4:6])"
   ]
  },
  {
   "cell_type": "code",
   "execution_count": null,
   "metadata": {
    "id": "mgHtdVkVwy5y"
   },
   "outputs": [],
   "source": []
  },
  {
   "cell_type": "markdown",
   "metadata": {
    "id": "01t9yOA3yarY"
   },
   "source": [
    "### zalety\n",
    "+ Jest prostą numeryczną reprezentacją danych tekstowych.\n",
    "\n",
    "### wady\n",
    "\n",
    "- Problem stanowi rozmiar wektora który jest równy długości całego słownika.\n",
    "- Nie uwzględnia relacji pomiędzy semantyką wyrazów\n",
    "- relacje pomiędzy słowami - rózne interpretacje\n",
    "- znaczenie – te same słowa różne znaczenie\n",
    "- metafory, tautologie, ironie\n",
    "- znaki specialne\n",
    "- homonimy - to samo brzmienie inne znaczenia\n",
    "- synonimy, idiomy\n",
    "- 150k słów w słowniku\n"
   ]
  },
  {
   "cell_type": "code",
   "execution_count": null,
   "metadata": {
    "id": "TFbIzkmSyoZL"
   },
   "outputs": [],
   "source": [
    "\n"
   ]
  },
  {
   "cell_type": "markdown",
   "metadata": {
    "id": "CIX4wxk4y6eq"
   },
   "source": [
    "## Ważony wektor częstości\n",
    " "
   ]
  },
  {
   "cell_type": "markdown",
   "metadata": {
    "id": "xm3jg0VZzV6h"
   },
   "source": [
    "TF-IDF Term Frequency - Inverse Document Frequency pozwala uzyskać wartość określającą istotność danego tokenu w kontekście całego dokumentu. \n",
    "Wartość częstości (TF) nie uwzględnia różnicy w wartości informacyjnej jaką niosą ze sobą poszczególne wyrazy.\n",
    "IDF - pozwala tą różnicę uchwycić.\n",
    "\n",
    "Innymi słowy metodad TF-IDF pozwala wzmocnić znaczenie tokenu wraz ze wzrostem ilości wystąpień w dokumencie. Jednocześnie niwelując efekt wzmocnienia jeżeli dany token występuje równie często w pozostałych dokumentach stanowiących korpus.\n",
    "\n",
    "Wartość tf-idf może być policzona przez mnożenie wartości tf oraz idf\n",
    "\n",
    "$$ TfIdf(t,d) = tf(t,d)*idf(t,d)$$\n",
    "\n",
    "\n",
    "$tf(t,d)$ jest częstością występowania tokenu w dokumencie\n",
    "$idf(t,d)$ obliczany jest wg wzoru\n",
    "\n",
    "$$ idf(t,d) = log\\frac{n_d}{1+df(d,t)}$$\n",
    "$n_d$ - liczba wystąpień w korpusie\n",
    "\n",
    "$df(d,t)$ - liczba kokumentów gdzie występuje token t\n",
    "\n",
    "$1$ - stała 1 jest opcjonalna, niemniej pozwala uzyskać niezerowe wartości dla tokenów występujących we wszystkich dokumentach\n",
    "\n",
    "\n",
    "Implementacja TF-IDF w scikit-learn różni się jednak od powyższej definicji jest liczony następująco:\n",
    "$$ TfIdf(t,d) = tf(t,d)*(idf(t,d) + 1)$$\n",
    "$$ idf(t,d) = log\\frac{1 + n_d}{1+df(d,t)}$$\n"
   ]
  },
  {
   "cell_type": "code",
   "execution_count": null,
   "metadata": {
    "colab": {
     "base_uri": "https://localhost:8080/",
     "height": 224
    },
    "id": "fuNXnrDKy_2s",
    "outputId": "9455ebbe-0168-491a-d824-1f32303937a3"
   },
   "outputs": [
    {
     "data": {
      "text/html": [
       "<div>\n",
       "<style scoped>\n",
       "    .dataframe tbody tr th:only-of-type {\n",
       "        vertical-align: middle;\n",
       "    }\n",
       "\n",
       "    .dataframe tbody tr th {\n",
       "        vertical-align: top;\n",
       "    }\n",
       "\n",
       "    .dataframe thead th {\n",
       "        text-align: right;\n",
       "    }\n",
       "</style>\n",
       "<table border=\"1\" class=\"dataframe\">\n",
       "  <thead>\n",
       "    <tr style=\"text-align: right;\">\n",
       "      <th></th>\n",
       "      <th>abstractions</th>\n",
       "      <th>as</th>\n",
       "      <th>automatically</th>\n",
       "      <th>details</th>\n",
       "      <th>early</th>\n",
       "      <th>in</th>\n",
       "      <th>just</th>\n",
       "      <th>keep</th>\n",
       "      <th>knowledge</th>\n",
       "      <th>live</th>\n",
       "      <th>longer</th>\n",
       "      <th>might</th>\n",
       "      <th>often</th>\n",
       "      <th>plain</th>\n",
       "      <th>refactor</th>\n",
       "      <th>saboteurs</th>\n",
       "      <th>test</th>\n",
       "      <th>testing</th>\n",
       "      <th>text</th>\n",
       "      <th>than</th>\n",
       "      <th>to</th>\n",
       "      <th>use</th>\n",
       "      <th>you</th>\n",
       "      <th>your</th>\n",
       "    </tr>\n",
       "  </thead>\n",
       "  <tbody>\n",
       "    <tr>\n",
       "      <th>0</th>\n",
       "      <td>0.000000</td>\n",
       "      <td>0.000000</td>\n",
       "      <td>0.350068</td>\n",
       "      <td>0.000000</td>\n",
       "      <td>0.282433</td>\n",
       "      <td>0.000000</td>\n",
       "      <td>0.000000</td>\n",
       "      <td>0.000000</td>\n",
       "      <td>0.000000</td>\n",
       "      <td>0.000000</td>\n",
       "      <td>0.000000</td>\n",
       "      <td>0.000000</td>\n",
       "      <td>0.282433</td>\n",
       "      <td>0.000000</td>\n",
       "      <td>0.000000</td>\n",
       "      <td>0.000000</td>\n",
       "      <td>0.847299</td>\n",
       "      <td>0.000000</td>\n",
       "      <td>0.000000</td>\n",
       "      <td>0.000000</td>\n",
       "      <td>0.000000</td>\n",
       "      <td>0.000000</td>\n",
       "      <td>0.000000</td>\n",
       "      <td>0.000000</td>\n",
       "    </tr>\n",
       "    <tr>\n",
       "      <th>1</th>\n",
       "      <td>0.000000</td>\n",
       "      <td>0.327881</td>\n",
       "      <td>0.000000</td>\n",
       "      <td>0.000000</td>\n",
       "      <td>0.264532</td>\n",
       "      <td>0.000000</td>\n",
       "      <td>0.327881</td>\n",
       "      <td>0.000000</td>\n",
       "      <td>0.000000</td>\n",
       "      <td>0.000000</td>\n",
       "      <td>0.000000</td>\n",
       "      <td>0.327881</td>\n",
       "      <td>0.264532</td>\n",
       "      <td>0.000000</td>\n",
       "      <td>0.655761</td>\n",
       "      <td>0.000000</td>\n",
       "      <td>0.000000</td>\n",
       "      <td>0.000000</td>\n",
       "      <td>0.000000</td>\n",
       "      <td>0.000000</td>\n",
       "      <td>0.000000</td>\n",
       "      <td>0.000000</td>\n",
       "      <td>0.327881</td>\n",
       "      <td>0.000000</td>\n",
       "    </tr>\n",
       "    <tr>\n",
       "      <th>2</th>\n",
       "      <td>0.447214</td>\n",
       "      <td>0.000000</td>\n",
       "      <td>0.000000</td>\n",
       "      <td>0.447214</td>\n",
       "      <td>0.000000</td>\n",
       "      <td>0.000000</td>\n",
       "      <td>0.000000</td>\n",
       "      <td>0.000000</td>\n",
       "      <td>0.000000</td>\n",
       "      <td>0.447214</td>\n",
       "      <td>0.447214</td>\n",
       "      <td>0.000000</td>\n",
       "      <td>0.000000</td>\n",
       "      <td>0.000000</td>\n",
       "      <td>0.000000</td>\n",
       "      <td>0.000000</td>\n",
       "      <td>0.000000</td>\n",
       "      <td>0.000000</td>\n",
       "      <td>0.000000</td>\n",
       "      <td>0.447214</td>\n",
       "      <td>0.000000</td>\n",
       "      <td>0.000000</td>\n",
       "      <td>0.000000</td>\n",
       "      <td>0.000000</td>\n",
       "    </tr>\n",
       "    <tr>\n",
       "      <th>3</th>\n",
       "      <td>0.000000</td>\n",
       "      <td>0.000000</td>\n",
       "      <td>0.000000</td>\n",
       "      <td>0.000000</td>\n",
       "      <td>0.000000</td>\n",
       "      <td>0.000000</td>\n",
       "      <td>0.000000</td>\n",
       "      <td>0.000000</td>\n",
       "      <td>0.000000</td>\n",
       "      <td>0.000000</td>\n",
       "      <td>0.000000</td>\n",
       "      <td>0.000000</td>\n",
       "      <td>0.000000</td>\n",
       "      <td>0.000000</td>\n",
       "      <td>0.000000</td>\n",
       "      <td>0.420669</td>\n",
       "      <td>0.339393</td>\n",
       "      <td>0.420669</td>\n",
       "      <td>0.000000</td>\n",
       "      <td>0.000000</td>\n",
       "      <td>0.420669</td>\n",
       "      <td>0.420669</td>\n",
       "      <td>0.000000</td>\n",
       "      <td>0.420669</td>\n",
       "    </tr>\n",
       "    <tr>\n",
       "      <th>4</th>\n",
       "      <td>0.000000</td>\n",
       "      <td>0.000000</td>\n",
       "      <td>0.000000</td>\n",
       "      <td>0.000000</td>\n",
       "      <td>0.000000</td>\n",
       "      <td>0.447214</td>\n",
       "      <td>0.000000</td>\n",
       "      <td>0.447214</td>\n",
       "      <td>0.447214</td>\n",
       "      <td>0.000000</td>\n",
       "      <td>0.000000</td>\n",
       "      <td>0.000000</td>\n",
       "      <td>0.000000</td>\n",
       "      <td>0.447214</td>\n",
       "      <td>0.000000</td>\n",
       "      <td>0.000000</td>\n",
       "      <td>0.000000</td>\n",
       "      <td>0.000000</td>\n",
       "      <td>0.447214</td>\n",
       "      <td>0.000000</td>\n",
       "      <td>0.000000</td>\n",
       "      <td>0.000000</td>\n",
       "      <td>0.000000</td>\n",
       "      <td>0.000000</td>\n",
       "    </tr>\n",
       "  </tbody>\n",
       "</table>\n",
       "</div>"
      ],
      "text/plain": [
       "   abstractions        as  automatically  ...       use       you      your\n",
       "0      0.000000  0.000000       0.350068  ...  0.000000  0.000000  0.000000\n",
       "1      0.000000  0.327881       0.000000  ...  0.000000  0.327881  0.000000\n",
       "2      0.447214  0.000000       0.000000  ...  0.000000  0.000000  0.000000\n",
       "3      0.000000  0.000000       0.000000  ...  0.420669  0.000000  0.420669\n",
       "4      0.000000  0.000000       0.000000  ...  0.000000  0.000000  0.000000\n",
       "\n",
       "[5 rows x 24 columns]"
      ]
     },
     "execution_count": 520,
     "metadata": {},
     "output_type": "execute_result"
    }
   ],
   "source": [
    "documents = [\n",
    "    \"Test Early. Test Often. Test Automatically!\",\n",
    "    \"Refactor Early, Refactor Often, Just as you might!\",\n",
    "    \"Abstractions Live Longer than Details\",\n",
    "    \"Use Saboteurs to Test Your Testing\",\n",
    "    \"Keep Knowledge in Plain Text\",\n",
    "]\n",
    "\n",
    "import pandas as pd\n",
    "from sklearn.feature_extraction.text import TfidfVectorizer\n",
    "\n",
    "tdif = TfidfVectorizer()\n",
    "X = tdif.fit(documents)\n",
    "X = tdif.transform(documents)\n",
    "DF = pd.DataFrame(X.toarray(), columns=tdif.get_feature_names())\n",
    "DF"
   ]
  },
  {
   "cell_type": "markdown",
   "metadata": {
    "id": "iDo8ha8HzqVz"
   },
   "source": [
    "### zalety\n",
    "\n",
    "* wielkość dokumentu nie ma wpływu wartość, tfifd która jest normalizowana\n",
    "* uwzględnia różnice w znaczeniu tokenów dla znaczenia dokumentu\n",
    "\n",
    "### wady\n",
    "\n",
    "- Nie uwzględnia relacji pomiędzy semantyką wyrazów\n",
    "- relacje pomiędzy słowami - rózne interpretacje\n",
    "- znaczenie – te same słowa różne znaczenie\n",
    "- homonimy - to samo brzmienie inne znaczenia\n",
    "- ignoruje kolejność wyrazów w dokumencie"
   ]
  },
  {
   "cell_type": "code",
   "execution_count": null,
   "metadata": {
    "id": "9thomcc6zvpa"
   },
   "outputs": [],
   "source": []
  },
  {
   "cell_type": "markdown",
   "metadata": {
    "id": "-v1Cknuf0Jmk"
   },
   "source": [
    "## Wektory - odległość\n",
    "\n",
    "https://docs.scipy.org/doc/scipy/reference/generated/scipy.spatial.distance.cosine.html\n",
    "\n",
    "### Podobieństwo wektorów / odległość kosinusowa\n",
    "\n",
    "Jest metryką pozwalającą zmierzyć jak 2 wektory są podobne względem siebie. Wartość otrzymujemy obliczając wartość kosinusa konta pomiędzy wektorami w przestrzeni. Odległosć kosinusowa pozwala zniwelować wartości wynikające z położenia wektorów w przestrzeni, zachowując interpretowalną statystykę podobieństwa. Zakres wartości (0,1)\n",
    "\n",
    "\n",
    "\n",
    "![cosine](http://blog.jkan.pl/images/cosine-distance.svg)\n",
    "\n",
    "$ A = (3,3)$\n",
    "$ B = (5,2)$\n",
    "$ C = (5,0.5)$\n",
    "\n",
    "$$Cos\\theta = \\frac{\\vec{a} * \\vec{b}}{||\\vec{a}|| ||\\vec{b}||} = \\frac{\\sum_1^n a_ib_i}{\\sqrt{\\sum_1^na_i^2} * \\sqrt{\\sum_1^nb_i^2}}$$\n",
    "$$Cos\\theta = \\frac{15 + 6}{\\sqrt{18} * \\sqrt{29}}$$\n",
    "$$Cos\\theta = 0,9191$$\n",
    "\n",
    "$$cos(90) = 0$$\n",
    "$$cos(0) = 1$$\n",
    "Kosunius przyjmuje wartość ``0`` dla wektorów prostopadłych (ortogonalnych) i wartość ``1`` dla wektorów równoległych. Im wartość kosinusa bliższa ``1`` tym mniejszy kont pomiędzy wektorami\n",
    "\n",
    "Wykorzystując metodę cosine z ``scipy.spatial.distance`` musimy pamiętać o przekształceniu wg wzoru: \n",
    "\n",
    "$$Cosine Distance = 1 − Cosine Similarity$$\n",
    "\n",
    "Oczekujemy że $podobieństwo(A,B) > podobieństwo(A,C)$ ponieważ kąt pomiędzy wektorami A,B jest mniejszy\n",
    "\n"
   ]
  },
  {
   "cell_type": "code",
   "execution_count": null,
   "metadata": {
    "colab": {
     "base_uri": "https://localhost:8080/",
     "height": 51
    },
    "id": "iHRMqN0T0Mhz",
    "outputId": "4fbe8631-ce01-4d4c-c271-9e243a0dc09b"
   },
   "outputs": [
    {
     "data": {
      "text/plain": [
       "0.9191450300180578"
      ]
     },
     "metadata": {},
     "output_type": "display_data"
    },
    {
     "data": {
      "text/plain": [
       "0.7739572992033211"
      ]
     },
     "metadata": {},
     "output_type": "display_data"
    }
   ],
   "source": [
    "from scipy.spatial.distance import cosine\n",
    "A = (3,3)\n",
    "B = (5,2)\n",
    "C = (5,0.5)\n",
    "display(1 - cosine(A,B))\n",
    "display(1 - cosine(A,C))"
   ]
  },
  {
   "cell_type": "code",
   "execution_count": null,
   "metadata": {
    "colab": {
     "base_uri": "https://localhost:8080/"
    },
    "id": "oHvOciRj0syP",
    "outputId": "4d71d51e-ac20-4895-cd8b-7a6355558768"
   },
   "outputs": [
    {
     "data": {
      "text/plain": [
       "0.0"
      ]
     },
     "execution_count": 522,
     "metadata": {},
     "output_type": "execute_result"
    }
   ],
   "source": [
    "A = (1,0,0)\n",
    "B = (0,1,0)\n",
    "1 - cosine(A,B)\n",
    "0.0"
   ]
  },
  {
   "cell_type": "code",
   "execution_count": null,
   "metadata": {
    "colab": {
     "base_uri": "https://localhost:8080/"
    },
    "id": "mY-fJjmv005t",
    "outputId": "009dfe4f-e573-40ba-f665-0dc255be4b57"
   },
   "outputs": [
    {
     "data": {
      "text/plain": [
       "1.0"
      ]
     },
     "execution_count": 523,
     "metadata": {},
     "output_type": "execute_result"
    }
   ],
   "source": [
    "A = (1,0,0)\n",
    "1 - cosine(A,A)\n",
    "1.0"
   ]
  },
  {
   "cell_type": "code",
   "execution_count": null,
   "metadata": {
    "id": "1etkjFlr02hK"
   },
   "outputs": [],
   "source": []
  },
  {
   "cell_type": "markdown",
   "metadata": {
    "id": "OsZ0s3RP0-ju"
   },
   "source": [
    "## Inne metryki\n",
    "* Manhattan distance\n",
    "* Euclidean distance\n",
    "* Minkowski distance\n",
    "* Jaccard similarity"
   ]
  },
  {
   "cell_type": "code",
   "execution_count": null,
   "metadata": {
    "colab": {
     "base_uri": "https://localhost:8080/"
    },
    "id": "-sFaKoXm1Bp-",
    "outputId": "01e3b863-a986-4b00-8dc4-f7c2887465aa"
   },
   "outputs": [
    {
     "data": {
      "text/plain": [
       "(1.0, 19.82422760159901, 19.82422760159901, 35, 0.008847457489864041)"
      ]
     },
     "execution_count": 524,
     "metadata": {},
     "output_type": "execute_result"
    }
   ],
   "source": [
    "from scipy.spatial.distance import jaccard\n",
    "from scipy.spatial.distance import minkowski\n",
    "from scipy.spatial.distance import euclidean\n",
    "from scipy.spatial.distance import cityblock\n",
    "from scipy.spatial.distance import cosine\n",
    "\n",
    "A = (3, 22, 55, 13)\n",
    "B = (1, 12, 40, 5)\n",
    "\n",
    "jaccard(A,B), minkowski(A,B), euclidean(A,B), cityblock(A,B), cosine(A,B)\n",
    "(1.0, 19.82422760159901, 19.82422760159901, 35, 0.008847457489864041)"
   ]
  },
  {
   "cell_type": "code",
   "execution_count": null,
   "metadata": {
    "id": "sXemDenL1GwO"
   },
   "outputs": [],
   "source": []
  },
  {
   "cell_type": "markdown",
   "metadata": {
    "id": "d73akN1q1PZ8"
   },
   "source": [
    "## Reprezentacja wektorowa"
   ]
  },
  {
   "cell_type": "code",
   "execution_count": null,
   "metadata": {
    "colab": {
     "base_uri": "https://localhost:8080/",
     "height": 204
    },
    "id": "_3lxe10q1bvA",
    "outputId": "e97a107f-cfce-4642-97a4-a0f22e14c2ad"
   },
   "outputs": [
    {
     "data": {
      "text/html": [
       "<div>\n",
       "<style scoped>\n",
       "    .dataframe tbody tr th:only-of-type {\n",
       "        vertical-align: middle;\n",
       "    }\n",
       "\n",
       "    .dataframe tbody tr th {\n",
       "        vertical-align: top;\n",
       "    }\n",
       "\n",
       "    .dataframe thead th {\n",
       "        text-align: right;\n",
       "    }\n",
       "</style>\n",
       "<table border=\"1\" class=\"dataframe\">\n",
       "  <thead>\n",
       "    <tr style=\"text-align: right;\">\n",
       "      <th></th>\n",
       "      <th>author</th>\n",
       "      <th>content_txt</th>\n",
       "      <th>words</th>\n",
       "    </tr>\n",
       "  </thead>\n",
       "  <tbody>\n",
       "    <tr>\n",
       "      <th>0</th>\n",
       "      <td>Mickiewicz</td>\n",
       "      <td>adam mickiewicz dziady</td>\n",
       "      <td>3</td>\n",
       "    </tr>\n",
       "    <tr>\n",
       "      <th>1</th>\n",
       "      <td>Mickiewicz</td>\n",
       "      <td>widowisko</td>\n",
       "      <td>1</td>\n",
       "    </tr>\n",
       "    <tr>\n",
       "      <th>2</th>\n",
       "      <td>Mickiewicz</td>\n",
       "      <td>część i / prawa strona teatru — dziewica w sam...</td>\n",
       "      <td>16</td>\n",
       "    </tr>\n",
       "    <tr>\n",
       "      <th>3</th>\n",
       "      <td>Mickiewicz</td>\n",
       "      <td>fortepiano</td>\n",
       "      <td>1</td>\n",
       "    </tr>\n",
       "    <tr>\n",
       "      <th>4</th>\n",
       "      <td>Mickiewicz</td>\n",
       "      <td>okno z lewej strony w pole; na prawej wielkie ...</td>\n",
       "      <td>19</td>\n",
       "    </tr>\n",
       "  </tbody>\n",
       "</table>\n",
       "</div>"
      ],
      "text/plain": [
       "       author                                        content_txt  words\n",
       "0  Mickiewicz                             adam mickiewicz dziady      3\n",
       "1  Mickiewicz                                          widowisko      1\n",
       "2  Mickiewicz  część i / prawa strona teatru — dziewica w sam...     16\n",
       "3  Mickiewicz                                         fortepiano      1\n",
       "4  Mickiewicz  okno z lewej strony w pole; na prawej wielkie ...     19"
      ]
     },
     "execution_count": 525,
     "metadata": {},
     "output_type": "execute_result"
    }
   ],
   "source": [
    "BOOK_LINES.head()"
   ]
  },
  {
   "cell_type": "code",
   "execution_count": null,
   "metadata": {
    "colab": {
     "base_uri": "https://localhost:8080/"
    },
    "id": "fZhS-Fo61VJ6",
    "outputId": "29b1648a-1db2-46ba-b7ef-24c09d8c57c3"
   },
   "outputs": [
    {
     "data": {
      "text/plain": [
       "CountVectorizer(analyzer='word', binary=False, decode_error='strict',\n",
       "                dtype=<class 'numpy.int64'>, encoding='utf-8', input='content',\n",
       "                lowercase=True, max_df=1.0, max_features=None, min_df=1,\n",
       "                ngram_range=(1, 1), preprocessor=None, stop_words=None,\n",
       "                strip_accents=None, token_pattern='(?u)\\\\b\\\\w\\\\w+\\\\b',\n",
       "                tokenizer=None, vocabulary=None)"
      ]
     },
     "execution_count": 528,
     "metadata": {},
     "output_type": "execute_result"
    }
   ],
   "source": [
    "vectorizer = CountVectorizer() # Binary False\n",
    "vectorizer.fit(train_df['content_txt'])"
   ]
  },
  {
   "cell_type": "code",
   "execution_count": null,
   "metadata": {
    "id": "pAs8-MX31oOi"
   },
   "outputs": [],
   "source": [
    "sample = train_df.iloc[120]['content_txt']"
   ]
  },
  {
   "cell_type": "code",
   "execution_count": null,
   "metadata": {
    "colab": {
     "base_uri": "https://localhost:8080/",
     "height": 35
    },
    "id": "0M0s6H5R13Fw",
    "outputId": "5722db22-b8ff-43c5-b803-6378ed3f4473"
   },
   "outputs": [
    {
     "data": {
      "application/vnd.google.colaboratory.intrinsic+json": {
       "type": "string"
      },
      "text/plain": [
       "'tam i przyjaźni prawdziwej być nie może'"
      ]
     },
     "execution_count": 533,
     "metadata": {},
     "output_type": "execute_result"
    }
   ],
   "source": [
    "sample"
   ]
  },
  {
   "cell_type": "code",
   "execution_count": null,
   "metadata": {
    "id": "if6_Hpdn2CkN"
   },
   "outputs": [],
   "source": [
    "vector = vectorizer.transform([sample])"
   ]
  },
  {
   "cell_type": "code",
   "execution_count": null,
   "metadata": {
    "colab": {
     "base_uri": "https://localhost:8080/"
    },
    "id": "Yxr_7yOP2ITd",
    "outputId": "1aef613e-8646-4946-a809-b9899476bdc5"
   },
   "outputs": [
    {
     "data": {
      "text/plain": [
       "[<1x127720 sparse matrix of type '<class 'numpy.int64'>'\n",
       " \twith 6 stored elements in Compressed Sparse Row format>]"
      ]
     },
     "execution_count": 537,
     "metadata": {},
     "output_type": "execute_result"
    }
   ],
   "source": [
    "list(vector)"
   ]
  },
  {
   "cell_type": "code",
   "execution_count": null,
   "metadata": {
    "colab": {
     "base_uri": "https://localhost:8080/"
    },
    "id": "es2yyFPS3a39",
    "outputId": "2b2b6052-c376-437c-aae3-e1a1ce2ceae5"
   },
   "outputs": [
    {
     "data": {
      "text/plain": [
       "127720"
      ]
     },
     "execution_count": 541,
     "metadata": {},
     "output_type": "execute_result"
    }
   ],
   "source": [
    "len(vectorizer.vocabulary_)"
   ]
  },
  {
   "cell_type": "code",
   "execution_count": null,
   "metadata": {
    "id": "Wm-ke2UA3o60"
   },
   "outputs": [],
   "source": [
    "X_train = vectorizer.transform(train_df['content_txt'])\n",
    "X_test = vectorizer.transform(test_df['content_txt'])\n",
    "Y_train = train_df['author']\n",
    "Y_test = test_df['author']"
   ]
  },
  {
   "cell_type": "code",
   "execution_count": null,
   "metadata": {
    "id": "umLbguyS4H2-"
   },
   "outputs": [],
   "source": [
    "from sklearn.linear_model import LogisticRegression"
   ]
  },
  {
   "cell_type": "code",
   "execution_count": null,
   "metadata": {
    "id": "8Ql4y2q335fj"
   },
   "outputs": [],
   "source": [
    "model = LogisticRegression(class_weight='balanced', dual=True)"
   ]
  },
  {
   "cell_type": "markdown",
   "metadata": {
    "id": "wZ-73TmA4WrY"
   },
   "source": [
    "Pierwszy z parametrów pomaga zrównoważyć nierównomierne ilości tekstów poszczególnych autorów przypisując im wagi odwrotnie proporcjonalne do częstotliwości występowania danej klasy. Drugi pozwala na wewnętrzne wykorzystanie innego sposobu implementacji algorytmu regresji logistycznej, który jest znacznie szybszy jeśli liczba cech przewyższa ilość próbek"
   ]
  },
  {
   "cell_type": "code",
   "execution_count": null,
   "metadata": {
    "id": "JotZJ3Cq5b-n"
   },
   "outputs": [],
   "source": []
  },
  {
   "cell_type": "code",
   "execution_count": null,
   "metadata": {
    "colab": {
     "base_uri": "https://localhost:8080/"
    },
    "id": "7SgVfqRT4fsD",
    "outputId": "d11f72d2-018c-428e-e0a9-dff38f58178e"
   },
   "outputs": [
    {
     "data": {
      "text/plain": [
       "((296289, 127720), (296289,))"
      ]
     },
     "execution_count": 579,
     "metadata": {},
     "output_type": "execute_result"
    }
   ],
   "source": [
    "X_train.shape, Y_train.shape"
   ]
  },
  {
   "cell_type": "code",
   "execution_count": null,
   "metadata": {
    "colab": {
     "base_uri": "https://localhost:8080/"
    },
    "id": "gF2Dh7tP4DAt",
    "outputId": "497e0bb5-52ba-42a1-e771-0c40156f583c"
   },
   "outputs": [
    {
     "data": {
      "text/plain": [
       "False"
      ]
     },
     "execution_count": 580,
     "metadata": {},
     "output_type": "execute_result"
    }
   ],
   "source": [
    "len(vectorizer.vocabulary_) > len(train_df)"
   ]
  },
  {
   "cell_type": "code",
   "execution_count": null,
   "metadata": {
    "colab": {
     "base_uri": "https://localhost:8080/"
    },
    "id": "qSMfTGC65Uoj",
    "outputId": "1100792e-8c3c-49d4-e00c-b2c3a1eec155"
   },
   "outputs": [
    {
     "data": {
      "text/plain": [
       "<296289x127720 sparse matrix of type '<class 'numpy.int64'>'\n",
       "\twith 1429080 stored elements in Compressed Sparse Row format>"
      ]
     },
     "execution_count": 581,
     "metadata": {},
     "output_type": "execute_result"
    }
   ],
   "source": [
    "\n",
    "X_train"
   ]
  },
  {
   "cell_type": "code",
   "execution_count": null,
   "metadata": {
    "id": "SA6MtgsI5_IB"
   },
   "outputs": [],
   "source": [
    "\n",
    "model = LogisticRegression(class_weight='balanced', dual=False, solver=\"liblinear\")"
   ]
  },
  {
   "cell_type": "code",
   "execution_count": null,
   "metadata": {
    "colab": {
     "base_uri": "https://localhost:8080/"
    },
    "id": "eAUkjwp_6CYA",
    "outputId": "421c090f-d8a4-4700-a7d9-f5066e7ae4d2"
   },
   "outputs": [
    {
     "data": {
      "text/plain": [
       "LogisticRegression(C=1.0, class_weight='balanced', dual=False,\n",
       "                   fit_intercept=True, intercept_scaling=1, l1_ratio=None,\n",
       "                   max_iter=100, multi_class='auto', n_jobs=None, penalty='l2',\n",
       "                   random_state=None, solver='liblinear', tol=0.0001, verbose=0,\n",
       "                   warm_start=False)"
      ]
     },
     "execution_count": 592,
     "metadata": {},
     "output_type": "execute_result"
    }
   ],
   "source": [
    "\n",
    "model"
   ]
  },
  {
   "cell_type": "code",
   "execution_count": null,
   "metadata": {
    "colab": {
     "base_uri": "https://localhost:8080/"
    },
    "id": "RQSc_FE54eMm",
    "outputId": "24c2be04-6188-432e-befb-5061ce144058"
   },
   "outputs": [
    {
     "data": {
      "text/plain": [
       "LogisticRegression(C=1.0, class_weight='balanced', dual=False,\n",
       "                   fit_intercept=True, intercept_scaling=1, l1_ratio=None,\n",
       "                   max_iter=100, multi_class='auto', n_jobs=None, penalty='l2',\n",
       "                   random_state=None, solver='liblinear', tol=0.0001, verbose=0,\n",
       "                   warm_start=False)"
      ]
     },
     "execution_count": 593,
     "metadata": {},
     "output_type": "execute_result"
    }
   ],
   "source": [
    "model.fit(X_train, Y_train)"
   ]
  },
  {
   "cell_type": "code",
   "execution_count": null,
   "metadata": {
    "id": "XZQgnJ--43k0"
   },
   "outputs": [],
   "source": []
  },
  {
   "cell_type": "markdown",
   "metadata": {
    "id": "t9GGXHIP5kLf"
   },
   "source": [
    "## Ocena modelu"
   ]
  },
  {
   "cell_type": "code",
   "execution_count": null,
   "metadata": {
    "colab": {
     "base_uri": "https://localhost:8080/"
    },
    "id": "R_VSN0cw5mZj",
    "outputId": "690543e7-cbc8-4403-cc36-1c5481c4a014"
   },
   "outputs": [
    {
     "data": {
      "text/plain": [
       "0.6492816135597339"
      ]
     },
     "execution_count": 594,
     "metadata": {},
     "output_type": "execute_result"
    }
   ],
   "source": [
    "model.score(X_test, test_df['author'])"
   ]
  },
  {
   "cell_type": "code",
   "execution_count": null,
   "metadata": {
    "id": "JEy7lxm66T-A"
   },
   "outputs": [],
   "source": []
  },
  {
   "cell_type": "markdown",
   "metadata": {
    "id": "y1Z7Gu937FGu"
   },
   "source": [
    "Trzeba też pamiętać, że accuracy bardzo często nie jest dobrą miarą oceny jakości modelu. Bez wchodzenia w zbyt wiele detali nadmienię że podobnie jest w naszym przypadku. Jako przykład niech posłużą bardziej szczegółowe wyniki miar precision, recall (inaczej sensitivity, czułość), i F1 dla poszczególnych klas:\n",
    "\n",
    "https://en.wikipedia.org/wiki/Precision_and_recall\n",
    "\n",
    "https://en.wikipedia.org/wiki/Sensitivity_and_specificity\n",
    "\n",
    "https://en.wikipedia.org/wiki/F1_score\n"
   ]
  },
  {
   "cell_type": "code",
   "execution_count": null,
   "metadata": {
    "colab": {
     "base_uri": "https://localhost:8080/"
    },
    "id": "Cz_C4oRe7F9i",
    "outputId": "7f547eee-7d0d-4f9c-e7e2-6b1b07884d0a"
   },
   "outputs": [
    {
     "name": "stdout",
     "output_type": "stream",
     "text": [
      "              precision    recall  f1-score   support\n",
      "\n",
      "  Mickiewicz     0.1138    0.3219    0.1682       320\n",
      "  Orzeszkowa     0.6379    0.6237    0.6307      7323\n",
      "        Prus     0.6165    0.5621    0.5880      6959\n",
      "     Reymont     0.6434    0.6987    0.6699      7756\n",
      " Sienkiewicz     0.7310    0.6981    0.7142     10563\n",
      "\n",
      "    accuracy                         0.6493     32921\n",
      "   macro avg     0.5485    0.5809    0.5542     32921\n",
      "weighted avg     0.6594    0.6493    0.6532     32921\n",
      "\n"
     ]
    }
   ],
   "source": [
    "from sklearn import metrics\n",
    "target = test_df['author']\n",
    "predicted = model.predict(X_test)\n",
    "print (metrics.classification_report(target, predicted, digits=4))"
   ]
  },
  {
   "cell_type": "code",
   "execution_count": null,
   "metadata": {
    "colab": {
     "base_uri": "https://localhost:8080/",
     "height": 235
    },
    "id": "IjrKIwuF7TRO",
    "outputId": "c530ce7a-cf12-46f1-f4d9-049b804bf7c2"
   },
   "outputs": [
    {
     "data": {
      "text/html": [
       "<div>\n",
       "<style scoped>\n",
       "    .dataframe tbody tr th:only-of-type {\n",
       "        vertical-align: middle;\n",
       "    }\n",
       "\n",
       "    .dataframe tbody tr th {\n",
       "        vertical-align: top;\n",
       "    }\n",
       "\n",
       "    .dataframe thead th {\n",
       "        text-align: right;\n",
       "    }\n",
       "</style>\n",
       "<table border=\"1\" class=\"dataframe\">\n",
       "  <thead>\n",
       "    <tr style=\"text-align: right;\">\n",
       "      <th></th>\n",
       "      <th>content_txt</th>\n",
       "      <th>words</th>\n",
       "    </tr>\n",
       "    <tr>\n",
       "      <th>author</th>\n",
       "      <th></th>\n",
       "      <th></th>\n",
       "    </tr>\n",
       "  </thead>\n",
       "  <tbody>\n",
       "    <tr>\n",
       "      <th>Mickiewicz</th>\n",
       "      <td>3206</td>\n",
       "      <td>3206</td>\n",
       "    </tr>\n",
       "    <tr>\n",
       "      <th>Orzeszkowa</th>\n",
       "      <td>73230</td>\n",
       "      <td>73230</td>\n",
       "    </tr>\n",
       "    <tr>\n",
       "      <th>Prus</th>\n",
       "      <td>69588</td>\n",
       "      <td>69588</td>\n",
       "    </tr>\n",
       "    <tr>\n",
       "      <th>Reymont</th>\n",
       "      <td>77560</td>\n",
       "      <td>77560</td>\n",
       "    </tr>\n",
       "    <tr>\n",
       "      <th>Sienkiewicz</th>\n",
       "      <td>105626</td>\n",
       "      <td>105626</td>\n",
       "    </tr>\n",
       "  </tbody>\n",
       "</table>\n",
       "</div>"
      ],
      "text/plain": [
       "             content_txt   words\n",
       "author                          \n",
       "Mickiewicz          3206    3206\n",
       "Orzeszkowa         73230   73230\n",
       "Prus               69588   69588\n",
       "Reymont            77560   77560\n",
       "Sienkiewicz       105626  105626"
      ]
     },
     "execution_count": 596,
     "metadata": {},
     "output_type": "execute_result"
    }
   ],
   "source": [
    "BOOK_LINES.groupby('author').count()"
   ]
  },
  {
   "cell_type": "code",
   "execution_count": null,
   "metadata": {
    "id": "OfUj-BEK7isi"
   },
   "outputs": [],
   "source": []
  },
  {
   "cell_type": "markdown",
   "metadata": {
    "id": "YjpGkE9--rh4"
   },
   "source": [
    "# Wykorzystanie innych modeli"
   ]
  },
  {
   "cell_type": "code",
   "execution_count": null,
   "metadata": {
    "colab": {
     "base_uri": "https://localhost:8080/"
    },
    "id": "UdtkCn61_ijR",
    "outputId": "57b22927-2519-42eb-adc5-3e9d8295b9c2"
   },
   "outputs": [
    {
     "data": {
      "text/plain": [
       "0.6658971477172625"
      ]
     },
     "execution_count": 603,
     "metadata": {},
     "output_type": "execute_result"
    }
   ],
   "source": [
    "from sklearn.naive_bayes import MultinomialNB\n",
    "\n",
    "model = MultinomialNB()\n",
    "model.fit(X_train, Y_train)\n",
    "model.score(X_test, test_df['author'])\n",
    "\n"
   ]
  },
  {
   "cell_type": "code",
   "execution_count": null,
   "metadata": {
    "colab": {
     "base_uri": "https://localhost:8080/"
    },
    "id": "go68AcBRAD3y",
    "outputId": "330d1918-5513-4e5a-ed46-cb4c376f522f"
   },
   "outputs": [
    {
     "name": "stdout",
     "output_type": "stream",
     "text": [
      "              precision    recall  f1-score   support\n",
      "\n",
      "  Mickiewicz     0.7500    0.0094    0.0185       320\n",
      "  Orzeszkowa     0.6859    0.5954    0.6374      7323\n",
      "        Prus     0.6317    0.5545    0.5906      6959\n",
      "     Reymont     0.7125    0.6706    0.6909      7756\n",
      " Sienkiewicz     0.6463    0.8046    0.7168     10563\n",
      "\n",
      "    accuracy                         0.6659     32921\n",
      "   macro avg     0.6853    0.5269    0.5308     32921\n",
      "weighted avg     0.6686    0.6659    0.6596     32921\n",
      "\n"
     ]
    }
   ],
   "source": [
    "from sklearn import metrics\n",
    "\n",
    "target = test_df['author']\n",
    "predicted = model.predict(X_test)\n",
    "print (metrics.classification_report(target, predicted, digits=4))"
   ]
  },
  {
   "cell_type": "code",
   "execution_count": null,
   "metadata": {
    "colab": {
     "background_save": true
    },
    "id": "bt8w8EXeAMhP",
    "outputId": "e33abc03-136f-48a4-8c03-4a3c4390c1ac"
   },
   "outputs": [
    {
     "name": "stdout",
     "output_type": "stream",
     "text": [
      "              precision    recall  f1-score   support\n",
      "\n",
      "  Mickiewicz     0.3864    0.1594    0.2257       320\n",
      "  Orzeszkowa     0.6476    0.5918    0.6185      7323\n",
      "        Prus     0.6138    0.5498    0.5800      6959\n",
      "     Reymont     0.6767    0.6756    0.6761      7756\n",
      " Sienkiewicz     0.6630    0.7608    0.7085     10563\n",
      "\n",
      "    accuracy                         0.6527     32921\n",
      "   macro avg     0.5975    0.5475    0.5618     32921\n",
      "weighted avg     0.6497    0.6527    0.6490     32921\n",
      "\n"
     ]
    }
   ],
   "source": [
    "from sklearn.naive_bayes import MultinomialNB\n",
    "from sklearn.svm import LinearSVC\n",
    "\n",
    "model = LinearSVC()\n",
    "model.fit(X_train, Y_train)\n",
    "model.score(X_test, test_df['author'])\n",
    "\n",
    "target = test_df['author']\n",
    "predicted = model.predict(X_test)\n",
    "print (metrics.classification_report(target, predicted, digits=4))"
   ]
  },
  {
   "cell_type": "code",
   "execution_count": null,
   "metadata": {
    "id": "7cq3d2sg-GMk"
   },
   "outputs": [],
   "source": []
  }
 ],
 "metadata": {
  "colab": {
   "collapsed_sections": [],
   "name": "01_Eksploracyjna_analiza_dokumentów_tekstowych.ipynb",
   "provenance": [],
   "toc_visible": true
  },
  "kernelspec": {
   "display_name": "Python 3 (ipykernel)",
   "language": "python",
   "name": "python3"
  },
  "language_info": {
   "codemirror_mode": {
    "name": "ipython",
    "version": 3
   },
   "file_extension": ".py",
   "mimetype": "text/x-python",
   "name": "python",
   "nbconvert_exporter": "python",
   "pygments_lexer": "ipython3",
   "version": "3.9.8"
  }
 },
 "nbformat": 4,
 "nbformat_minor": 1
}
