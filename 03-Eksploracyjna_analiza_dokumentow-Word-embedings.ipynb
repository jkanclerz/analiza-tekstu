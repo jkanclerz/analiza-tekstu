{
 "cells": [
  {
   "cell_type": "markdown",
   "id": "6c1902f4",
   "metadata": {},
   "source": [
    "[![Open In Colab](https://colab.research.google.com/assets/colab-badge.svg)](https://colab.research.google.com/github.com/jkanclerz/analiza-tekstu/blob/master/03-Eksploracyjna_analiza_dokumentow-Word-embedings.ipynb)"
   ]
  },
  {
   "cell_type": "markdown",
   "id": "34085d6e",
   "metadata": {},
   "source": [
    "## Word2Vec\n",
    "\n",
    "Word2Vec nie jest pojedynczym algorytmem, jest to raczej rodzina architektur modeli i optymalizacji, które mogą być używane do uczenia się embeddingów słów z dużych zbiorów danych. Embeddingi poznane dzięki Word2Vec okazały się skuteczne w wielu zadaniach przetwarzania języka naturalnego.\n",
    "\n",
    "### OneHot vs WordVector\n",
    "\n",
    "* Mniejszy wymiar 8, 50, 100, 300 vs (140000 polski, 350000 angielski) \n",
    "    * efektywność przechowywania w pamięci\n",
    "* Semantyka / znaczenie\n",
    "    * W słowniku Kot i Pies == Kot i Pieniądz\n",
    "    * Intuicyjnie to nieprawda, ale maszyna nie ma jak wnioskować o podobieństwie\n",
    "\n",
    "Zakładamy, że wyrazy o podobnym znaczeniu występują częściej w tym samym kontekście niż wyrazy zupełnie z tematem nie związane\n",
    "    "
   ]
  },
  {
   "cell_type": "markdown",
   "id": "5b719fd1",
   "metadata": {},
   "source": [
    "### Continuous Bag-of-Words Model\n",
    "który przewiduje środkowe słowo na podstawie otaczających je słów kontekstu. Kontekst składa się z kilku słów przed i po bieżącym (środkowym) słowie. Architektura ta jest nazywana modelem worka słów, ponieważ kolejność słów w kontekście nie jest istotna.\n",
    "\n",
    "\n",
    "### Continuous Skip-gram Model\n",
    "który przewiduje słowa w pewnym zakresie przed i po bieżącym słowie w tym samym zdaniu. Działający przykład tego jest podany poniżej."
   ]
  },
  {
   "cell_type": "code",
   "execution_count": 4,
   "id": "d92c7ef9",
   "metadata": {},
   "outputs": [
    {
     "name": "stdout",
     "output_type": "stream",
     "text": [
      "The Zen of Python, by Tim Peters\n",
      "\n",
      "Beautiful is better than ugly.\n",
      "Explicit is better than implicit.\n",
      "Simple is better than complex.\n",
      "Complex is better than complicated.\n",
      "Flat is better than nested.\n",
      "Sparse is better than dense.\n",
      "Readability counts.\n",
      "Special cases aren't special enough to break the rules.\n",
      "Although practicality beats purity.\n",
      "Errors should never pass silently.\n",
      "Unless explicitly silenced.\n",
      "In the face of ambiguity, refuse the temptation to guess.\n",
      "There should be one-- and preferably only one --obvious way to do it.\n",
      "Although that way may not be obvious at first unless you're Dutch.\n",
      "Now is better than never.\n",
      "Although never is often better than *right* now.\n",
      "If the implementation is hard to explain, it's a bad idea.\n",
      "If the implementation is easy to explain, it may be a good idea.\n",
      "Namespaces are one honking great idea -- let's do more of those!\n"
     ]
    }
   ],
   "source": [
    "import this"
   ]
  },
  {
   "cell_type": "markdown",
   "id": "79d6763e",
   "metadata": {},
   "source": [
    "**Now is better than never, although never is often better than right now.**\n",
    "\n",
    "![](var/word_context.jpeg)"
   ]
  },
  {
   "cell_type": "markdown",
   "id": "6e6f6925",
   "metadata": {},
   "source": [
    "#### Parametry:\n",
    "* Okno - Window -> 2\n",
    "\n",
    "#### Transformacja\n",
    "* 1 iteracja\n",
    "    * target: Now\n",
    "    * context: [is, better]\n",
    "* 2 iteracja\n",
    "    * target: Is\n",
    "    * context: [Now, better, than]\n",
    "* 3 iteracja\n",
    "    * target: better\n",
    "    * context: [Now, is, than, never]\n",
    "    \n",
    "#### Dane wejściowe\n",
    "[(Now, is), (Now, better), (Is, Now), (Is, better), (Is, than)...]"
   ]
  },
  {
   "cell_type": "markdown",
   "id": "bf89ef2d",
   "metadata": {},
   "source": [
    "### skip-gram\n",
    "* 1 iteracja\n",
    "    * target: [is, better]\n",
    "    * word: Now\n",
    "* 2 iteracja\n",
    "    * target: [Now, better, than]\n",
    "    * word: Is\n",
    "* 3 iteracja\n",
    "    * target: [Now, is, than, never]\n",
    "    * word: better\n",
    "    \n"
   ]
  },
  {
   "cell_type": "markdown",
   "id": "838f6ed1",
   "metadata": {},
   "source": [
    "### Przebieg"
   ]
  },
  {
   "cell_type": "markdown",
   "id": "389ca122",
   "metadata": {},
   "source": [
    "Is better _____ never although -> **than**"
   ]
  },
  {
   "cell_type": "markdown",
   "id": "674b8742",
   "metadata": {},
   "source": [
    "#### Cbow\n",
    "HotOne (0,0,1,0,1,1,0....0,1,1) -> Sieć neuronowa (50 parametrów) -> HotOne (..., 1, ...)\n",
    "#### Skip gram\n",
    "HotOne (..., 1, ...) -> Sieć neuronowa (50 parametrów) -> HotOne (0,0,1,0,1,1,0....0,1,1)\n",
    "\n",
    "![](var/models.jpeg)"
   ]
  },
  {
   "cell_type": "markdown",
   "id": "5ea7d6ec",
   "metadata": {},
   "source": [
    "### Znaczenie wyrazów\n",
    "\n",
    "![](var/dimenssions.jpeg)\n",
    "\n",
    "#### Gotowe modele\n",
    "\n",
    "* [http://dsmodels.nlp.ipipan.waw.pl/](http://dsmodels.nlp.ipipan.waw.pl/)"
   ]
  },
  {
   "cell_type": "code",
   "execution_count": 13,
   "id": "62e37442",
   "metadata": {},
   "outputs": [
    {
     "name": "stdout",
     "output_type": "stream",
     "text": [
      "--2021-12-04 01:42:59--  http://dsmodels.nlp.ipipan.waw.pl/dsmodels/wiki-forms-all-100-cbow-ns-30-it100.txt.gz\n",
      "Resolving dsmodels.nlp.ipipan.waw.pl (dsmodels.nlp.ipipan.waw.pl)... 213.135.36.94\n",
      "Connecting to dsmodels.nlp.ipipan.waw.pl (dsmodels.nlp.ipipan.waw.pl)|213.135.36.94|:80... connected.\n",
      "HTTP request sent, awaiting response... 200 OK\n",
      "Length: 96291106 (92M) [application/octet-stream]\n",
      "Saving to: ‘wiki-forms-all-100-cbow-ns-30-it100.txt.gz’\n",
      "\n",
      "wiki-forms-all-100- 100%[===================>]  91,83M  33,2MB/s    in 2,8s    \n",
      "\n",
      "2021-12-04 01:43:02 (33,2 MB/s) - ‘wiki-forms-all-100-cbow-ns-30-it100.txt.gz’ saved [96291106/96291106]\n",
      "\n"
     ]
    }
   ],
   "source": [
    "!wget http://dsmodels.nlp.ipipan.waw.pl/dsmodels/wiki-forms-all-100-cbow-ns-30-it100.txt.gz"
   ]
  },
  {
   "cell_type": "code",
   "execution_count": 14,
   "id": "15bc6e0a",
   "metadata": {},
   "outputs": [
    {
     "name": "stdout",
     "output_type": "stream",
     "text": [
      "Requirement already satisfied: gensim in ./.venv/lib/python3.9/site-packages (4.1.2)\n",
      "Requirement already satisfied: smart-open>=1.8.1 in ./.venv/lib/python3.9/site-packages (from gensim) (5.2.1)\n",
      "Requirement already satisfied: scipy>=0.18.1 in ./.venv/lib/python3.9/site-packages (from gensim) (1.7.3)\n",
      "Requirement already satisfied: numpy>=1.17.0 in ./.venv/lib/python3.9/site-packages (from gensim) (1.21.4)\n",
      "Note: you may need to restart the kernel to use updated packages.\n"
     ]
    }
   ],
   "source": [
    "pip install gensim"
   ]
  },
  {
   "cell_type": "code",
   "execution_count": 16,
   "id": "d1e936e2",
   "metadata": {},
   "outputs": [],
   "source": [
    "from gensim.models import KeyedVectors"
   ]
  },
  {
   "cell_type": "code",
   "execution_count": 17,
   "id": "d2a0b8b7",
   "metadata": {},
   "outputs": [],
   "source": [
    "word2vec_model = KeyedVectors.load_word2vec_format('wiki-forms-all-100-cbow-ns-30-it100.txt.gz', binary=False)"
   ]
  },
  {
   "cell_type": "code",
   "execution_count": 18,
   "id": "3a680408",
   "metadata": {},
   "outputs": [
    {
     "data": {
      "text/plain": [
       "<gensim.models.keyedvectors.KeyedVectors at 0x10a6ded90>"
      ]
     },
     "execution_count": 18,
     "metadata": {},
     "output_type": "execute_result"
    }
   ],
   "source": [
    "word2vec_model"
   ]
  },
  {
   "cell_type": "code",
   "execution_count": 22,
   "id": "8280e665",
   "metadata": {},
   "outputs": [
    {
     "data": {
      "text/plain": [
       "[('mikroprocesor', 0.8413556218147278),\n",
       " ('procesor', 0.8408359289169312),\n",
       " ('mikrokomputer', 0.7868935465812683),\n",
       " ('serwer', 0.7859148979187012),\n",
       " ('sterownik', 0.7709600925445557),\n",
       " ('odbiornik', 0.7664448618888855),\n",
       " ('modem', 0.76606285572052),\n",
       " ('automat', 0.7601091265678406),\n",
       " ('interfejs', 0.7560226321220398),\n",
       " ('moduł', 0.7477715015411377)]"
      ]
     },
     "execution_count": 22,
     "metadata": {},
     "output_type": "execute_result"
    }
   ],
   "source": [
    "word2vec_model.most_similar(\"komputer\")"
   ]
  },
  {
   "cell_type": "code",
   "execution_count": 25,
   "id": "34fc93e4",
   "metadata": {},
   "outputs": [
    {
     "data": {
      "text/plain": [
       "[('królowa', 0.8121304512023926), ('cesarzowa', 0.7185278534889221)]"
      ]
     },
     "execution_count": 25,
     "metadata": {},
     "output_type": "execute_result"
    }
   ],
   "source": [
    "## Kobieta + Król - Mężczyzna => \n",
    "word2vec_model.most_similar(positive=['kobieta', 'król'], negative=['mężczyzna'], topn=2)"
   ]
  },
  {
   "cell_type": "code",
   "execution_count": 29,
   "id": "597f8268",
   "metadata": {},
   "outputs": [
    {
     "data": {
      "text/plain": [
       "226396"
      ]
     },
     "execution_count": 29,
     "metadata": {},
     "output_type": "execute_result"
    }
   ],
   "source": [
    "len(word2vec_model.index_to_key)"
   ]
  },
  {
   "cell_type": "code",
   "execution_count": 31,
   "id": "1b94ca47",
   "metadata": {},
   "outputs": [
    {
     "data": {
      "text/plain": [
       "['w', 'i', 'na', 'z', 'do']"
      ]
     },
     "execution_count": 31,
     "metadata": {},
     "output_type": "execute_result"
    }
   ],
   "source": [
    "word2vec_model.index_to_key[:5]"
   ]
  },
  {
   "cell_type": "code",
   "execution_count": 32,
   "id": "66f98663",
   "metadata": {},
   "outputs": [
    {
     "data": {
      "text/plain": [
       "array([  2.340531,   4.042009,   1.379964,  -2.570875,  -6.386054,\n",
       "         2.563526,  -2.15919 ,  -5.862146,   0.900218,   4.766161,\n",
       "         6.316826,  -3.465864,   4.536585,   5.025024,   2.033738,\n",
       "         5.342262,  -9.382997,   2.485591,   9.384068,  -6.73937 ,\n",
       "         6.684585,   4.521341,   0.503903,   5.57772 ,  -1.284685,\n",
       "        -2.736128,   3.997064,  -1.389462,   2.380089,   1.208408,\n",
       "        -2.977874,  -4.645787,   0.359989,   5.398995, -13.140451,\n",
       "        -1.73424 ,  -0.928283,  -6.178953,  -5.871259,  -0.229391,\n",
       "        -6.043469,  -1.246072,  -0.312358,  -0.607806,   5.411756,\n",
       "       -11.643624,   7.283361,  -3.326613,   4.791219,   4.176166,\n",
       "         2.003737,  -7.958755,   6.639453,   4.922795,   5.656033,\n",
       "        -2.38712 ,  -7.016893,  -1.731023,   8.705477,   6.712057,\n",
       "        -0.108324,   1.07114 ,   1.748102,   1.65885 ,   5.361063,\n",
       "         1.075046,   1.301678,   2.086038,   0.717669,   0.452681,\n",
       "         4.019646,   1.437227,   8.210261,   3.675681,   0.358452,\n",
       "        -0.922227,  -1.88483 ,  -5.797983,   4.062846,  -5.404707,\n",
       "         3.946038,   3.876417,  -2.806873,  -8.07345 ,   0.975951,\n",
       "         8.97326 ,  -4.175491,   1.125358,  -7.368661,   2.061484,\n",
       "        -6.022151,  -3.587339,   1.358741,   5.343403,  -7.125355,\n",
       "         0.891223,   7.08285 ,   2.867014,  -6.19289 ,   0.415801],\n",
       "      dtype=float32)"
      ]
     },
     "execution_count": 32,
     "metadata": {},
     "output_type": "execute_result"
    }
   ],
   "source": [
    "word2vec_model['studia']"
   ]
  },
  {
   "cell_type": "markdown",
   "id": "94806359",
   "metadata": {},
   "source": [
    "### Własny embedding"
   ]
  },
  {
   "cell_type": "code",
   "execution_count": 33,
   "id": "b61e89eb",
   "metadata": {},
   "outputs": [
    {
     "name": "stdout",
     "output_type": "stream",
     "text": [
      "Collecting keras\n",
      "  Downloading keras-2.7.0-py2.py3-none-any.whl (1.3 MB)\n",
      "     |████████████████████████████████| 1.3 MB 2.3 MB/s            \n",
      "\u001b[?25hCollecting tensorflow\n",
      "  Downloading tensorflow-2.7.0-cp39-cp39-macosx_10_11_x86_64.whl (207.1 MB)\n",
      "     |████████████████████████████████| 207.1 MB 16 kB/s              \n",
      "\u001b[?25hRequirement already satisfied: six>=1.12.0 in ./.venv/lib/python3.9/site-packages (from tensorflow) (1.16.0)\n",
      "Collecting tensorboard~=2.6\n",
      "  Downloading tensorboard-2.7.0-py3-none-any.whl (5.8 MB)\n",
      "     |████████████████████████████████| 5.8 MB 14.4 MB/s            \n",
      "\u001b[?25hCollecting tensorflow-estimator<2.8,~=2.7.0rc0\n",
      "  Downloading tensorflow_estimator-2.7.0-py2.py3-none-any.whl (463 kB)\n",
      "     |████████████████████████████████| 463 kB 15.6 MB/s            \n",
      "\u001b[?25hCollecting tensorflow-io-gcs-filesystem>=0.21.0\n",
      "  Downloading tensorflow_io_gcs_filesystem-0.22.0-cp39-cp39-macosx_10_14_x86_64.whl (1.6 MB)\n",
      "     |████████████████████████████████| 1.6 MB 15.5 MB/s            \n",
      "\u001b[?25hCollecting opt-einsum>=2.3.2\n",
      "  Using cached opt_einsum-3.3.0-py3-none-any.whl (65 kB)\n",
      "Collecting gast<0.5.0,>=0.2.1\n",
      "  Using cached gast-0.4.0-py3-none-any.whl (9.8 kB)\n",
      "Collecting absl-py>=0.4.0\n",
      "  Downloading absl_py-1.0.0-py3-none-any.whl (126 kB)\n",
      "     |████████████████████████████████| 126 kB 15.5 MB/s            \n",
      "\u001b[?25hCollecting wheel<1.0,>=0.32.0\n",
      "  Using cached wheel-0.37.0-py2.py3-none-any.whl (35 kB)\n",
      "Collecting google-pasta>=0.1.1\n",
      "  Using cached google_pasta-0.2.0-py3-none-any.whl (57 kB)\n",
      "Collecting keras-preprocessing>=1.1.1\n",
      "  Using cached Keras_Preprocessing-1.1.2-py2.py3-none-any.whl (42 kB)\n",
      "Collecting termcolor>=1.1.0\n",
      "  Using cached termcolor-1.1.0.tar.gz (3.9 kB)\n",
      "  Preparing metadata (setup.py) ... \u001b[?25ldone\n",
      "\u001b[?25hCollecting wrapt>=1.11.0\n",
      "  Downloading wrapt-1.13.3-cp39-cp39-macosx_10_9_x86_64.whl (33 kB)\n",
      "Collecting astunparse>=1.6.0\n",
      "  Using cached astunparse-1.6.3-py2.py3-none-any.whl (12 kB)\n",
      "Collecting flatbuffers<3.0,>=1.12\n",
      "  Downloading flatbuffers-2.0-py2.py3-none-any.whl (26 kB)\n",
      "Collecting h5py>=2.9.0\n",
      "  Downloading h5py-3.6.0-cp39-cp39-macosx_10_9_x86_64.whl (3.1 MB)\n",
      "     |████████████████████████████████| 3.1 MB 14.4 MB/s            \n",
      "\u001b[?25hRequirement already satisfied: numpy>=1.14.5 in ./.venv/lib/python3.9/site-packages (from tensorflow) (1.21.4)\n",
      "Collecting libclang>=9.0.1\n",
      "  Downloading libclang-12.0.0-py2.py3-none-macosx_10_9_x86_64.whl (12.2 MB)\n",
      "     |████████████████████████████████| 12.2 MB 17.1 MB/s            \n",
      "\u001b[?25hCollecting grpcio<2.0,>=1.24.3\n",
      "  Downloading grpcio-1.42.0-cp39-cp39-macosx_10_10_x86_64.whl (4.0 MB)\n",
      "     |████████████████████████████████| 4.0 MB 17.4 MB/s            \n",
      "\u001b[?25hCollecting typing-extensions>=3.6.6\n",
      "  Downloading typing_extensions-4.0.1-py3-none-any.whl (22 kB)\n",
      "Collecting protobuf>=3.9.2\n",
      "  Downloading protobuf-3.19.1-cp39-cp39-macosx_10_9_x86_64.whl (1.0 MB)\n",
      "     |████████████████████████████████| 1.0 MB 14.0 MB/s            \n",
      "\u001b[?25hCollecting requests<3,>=2.21.0\n",
      "  Using cached requests-2.26.0-py2.py3-none-any.whl (62 kB)\n",
      "Collecting google-auth-oauthlib<0.5,>=0.4.1\n",
      "  Downloading google_auth_oauthlib-0.4.6-py2.py3-none-any.whl (18 kB)\n",
      "Collecting werkzeug>=0.11.15\n",
      "  Using cached Werkzeug-2.0.2-py3-none-any.whl (288 kB)\n",
      "Collecting tensorboard-data-server<0.7.0,>=0.6.0\n",
      "  Using cached tensorboard_data_server-0.6.1-py3-none-macosx_10_9_x86_64.whl (3.5 MB)\n",
      "Collecting tensorboard-plugin-wit>=1.6.0\n",
      "  Using cached tensorboard_plugin_wit-1.8.0-py3-none-any.whl (781 kB)\n",
      "Collecting google-auth<3,>=1.6.3\n",
      "  Downloading google_auth-2.3.3-py2.py3-none-any.whl (155 kB)\n",
      "     |████████████████████████████████| 155 kB 16.1 MB/s            \n",
      "\u001b[?25hRequirement already satisfied: setuptools>=41.0.0 in ./.venv/lib/python3.9/site-packages (from tensorboard~=2.6->tensorflow) (58.5.3)\n",
      "Collecting markdown>=2.6.8\n",
      "  Downloading Markdown-3.3.6-py3-none-any.whl (97 kB)\n",
      "     |████████████████████████████████| 97 kB 11.9 MB/s            \n",
      "\u001b[?25hCollecting pyasn1-modules>=0.2.1\n",
      "  Using cached pyasn1_modules-0.2.8-py2.py3-none-any.whl (155 kB)\n",
      "Collecting cachetools<5.0,>=2.0.0\n",
      "  Downloading cachetools-4.2.4-py3-none-any.whl (10 kB)\n",
      "Collecting rsa<5,>=3.1.4\n",
      "  Downloading rsa-4.8-py3-none-any.whl (39 kB)\n",
      "Collecting requests-oauthlib>=0.7.0\n",
      "  Using cached requests_oauthlib-1.3.0-py2.py3-none-any.whl (23 kB)\n",
      "Collecting importlib-metadata>=4.4\n",
      "  Downloading importlib_metadata-4.8.2-py3-none-any.whl (17 kB)\n",
      "Collecting idna<4,>=2.5\n",
      "  Using cached idna-3.3-py3-none-any.whl (61 kB)\n",
      "Collecting urllib3<1.27,>=1.21.1\n",
      "  Using cached urllib3-1.26.7-py2.py3-none-any.whl (138 kB)\n",
      "Collecting charset-normalizer~=2.0.0\n",
      "  Downloading charset_normalizer-2.0.9-py3-none-any.whl (39 kB)\n",
      "Collecting certifi>=2017.4.17\n",
      "  Using cached certifi-2021.10.8-py2.py3-none-any.whl (149 kB)\n",
      "Collecting zipp>=0.5\n",
      "  Downloading zipp-3.6.0-py3-none-any.whl (5.3 kB)\n",
      "Collecting pyasn1<0.5.0,>=0.4.6\n",
      "  Using cached pyasn1-0.4.8-py2.py3-none-any.whl (77 kB)\n",
      "Collecting oauthlib>=3.0.0\n",
      "  Using cached oauthlib-3.1.1-py2.py3-none-any.whl (146 kB)\n",
      "Using legacy 'setup.py install' for termcolor, since package 'wheel' is not installed.\n",
      "Installing collected packages: urllib3, pyasn1, idna, charset-normalizer, certifi, zipp, rsa, requests, pyasn1-modules, oauthlib, cachetools, requests-oauthlib, importlib-metadata, google-auth, wheel, werkzeug, tensorboard-plugin-wit, tensorboard-data-server, protobuf, markdown, grpcio, google-auth-oauthlib, absl-py, wrapt, typing-extensions, termcolor, tensorflow-io-gcs-filesystem, tensorflow-estimator, tensorboard, opt-einsum, libclang, keras-preprocessing, keras, h5py, google-pasta, gast, flatbuffers, astunparse, tensorflow\n",
      "    Running setup.py install for termcolor ... \u001b[?25ldone\n",
      "\u001b[?25hSuccessfully installed absl-py-1.0.0 astunparse-1.6.3 cachetools-4.2.4 certifi-2021.10.8 charset-normalizer-2.0.9 flatbuffers-2.0 gast-0.4.0 google-auth-2.3.3 google-auth-oauthlib-0.4.6 google-pasta-0.2.0 grpcio-1.42.0 h5py-3.6.0 idna-3.3 importlib-metadata-4.8.2 keras-2.7.0 keras-preprocessing-1.1.2 libclang-12.0.0 markdown-3.3.6 oauthlib-3.1.1 opt-einsum-3.3.0 protobuf-3.19.1 pyasn1-0.4.8 pyasn1-modules-0.2.8 requests-2.26.0 requests-oauthlib-1.3.0 rsa-4.8 tensorboard-2.7.0 tensorboard-data-server-0.6.1 tensorboard-plugin-wit-1.8.0 tensorflow-2.7.0 tensorflow-estimator-2.7.0 tensorflow-io-gcs-filesystem-0.22.0 termcolor-1.1.0 typing-extensions-4.0.1 urllib3-1.26.7 werkzeug-2.0.2 wheel-0.37.0 wrapt-1.13.3 zipp-3.6.0\n",
      "Note: you may need to restart the kernel to use updated packages.\n"
     ]
    }
   ],
   "source": [
    "pip install keras tensorflow"
   ]
  },
  {
   "cell_type": "code",
   "execution_count": 199,
   "id": "dab97dc2",
   "metadata": {},
   "outputs": [],
   "source": [
    "sentences = \"\"\"\n",
    "Beautiful is better than ugly.\n",
    "Explicit is better than implicit.\n",
    "Simple is better than complex.\n",
    "Complex is better than complicated.\n",
    "Flat is better than nested.\n",
    "Sparse is better than dense.\n",
    "Readability counts.\n",
    "Special cases aren't special enough to break the rules.\n",
    "Although practicality beats purity.\n",
    "Errors should never pass silently.\n",
    "Unless explicitly silenced.\n",
    "In the face of ambiguity, refuse the temptation to guess.\n",
    "There should be one-- and preferably only one --obvious way to do it.\n",
    "Although that way may not be obvious at first unless you're Dutch.\n",
    "Now is better than never.\n",
    "Although never is often better than *right* now.\n",
    "If the implementation is hard to explain, it's a bad idea.\n",
    "If the implementation is easy to explain, it may be a good idea.\n",
    "Namespaces are one honking great idea -- let's do more of those!\"\"\""
   ]
  },
  {
   "cell_type": "markdown",
   "id": "9efbdd9f",
   "metadata": {},
   "source": [
    "#### Przygotowanie"
   ]
  },
  {
   "cell_type": "code",
   "execution_count": 200,
   "id": "c4624923",
   "metadata": {},
   "outputs": [],
   "source": [
    "sentences = sentences.split('.')"
   ]
  },
  {
   "cell_type": "code",
   "execution_count": 201,
   "id": "36c82b35",
   "metadata": {},
   "outputs": [
    {
     "data": {
      "text/plain": [
       "['\\nBeautiful is better than ugly',\n",
       " '\\nExplicit is better than implicit',\n",
       " '\\nSimple is better than complex',\n",
       " '\\nComplex is better than complicated',\n",
       " '\\nFlat is better than nested',\n",
       " '\\nSparse is better than dense',\n",
       " '\\nReadability counts',\n",
       " \"\\nSpecial cases aren't special enough to break the rules\",\n",
       " '\\nAlthough practicality beats purity',\n",
       " '\\nErrors should never pass silently',\n",
       " '\\nUnless explicitly silenced',\n",
       " '\\nIn the face of ambiguity, refuse the temptation to guess',\n",
       " '\\nThere should be one-- and preferably only one --obvious way to do it',\n",
       " \"\\nAlthough that way may not be obvious at first unless you're Dutch\",\n",
       " '\\nNow is better than never',\n",
       " '\\nAlthough never is often better than *right* now',\n",
       " \"\\nIf the implementation is hard to explain, it's a bad idea\",\n",
       " '\\nIf the implementation is easy to explain, it may be a good idea',\n",
       " \"\\nNamespaces are one honking great idea -- let's do more of those!\"]"
      ]
     },
     "execution_count": 201,
     "metadata": {},
     "output_type": "execute_result"
    }
   ],
   "source": [
    "sentences"
   ]
  },
  {
   "cell_type": "code",
   "execution_count": 206,
   "id": "99df5a92",
   "metadata": {},
   "outputs": [],
   "source": [
    "import re\n",
    "sentences = list(map(lambda sent: re.sub('[^A-Za-z0-9]+', ' ', sent), sentences))"
   ]
  },
  {
   "cell_type": "code",
   "execution_count": 207,
   "id": "0e0a20ed",
   "metadata": {},
   "outputs": [
    {
     "data": {
      "text/plain": [
       "['Beautiful is better than ugly',\n",
       " 'Explicit is better than implicit',\n",
       " 'Simple is better than complex',\n",
       " 'Complex is better than complicated',\n",
       " 'Flat is better than nested',\n",
       " 'Sparse is better than dense',\n",
       " 'Readability counts',\n",
       " 'Special cases aren special enough to break the rules',\n",
       " 'Although practicality beats purity',\n",
       " 'Errors should never pass silently',\n",
       " 'Unless explicitly silenced',\n",
       " 'In the face of ambiguity refuse the temptation to guess',\n",
       " 'There should be one and preferably only one obvious way to do it',\n",
       " 'Although that way may not be obvious at first unless you re Dutch',\n",
       " 'Now is better than never',\n",
       " 'Although never is often better than right now',\n",
       " 'If the implementation is hard to explain it a bad idea',\n",
       " 'If the implementation is easy to explain it may be good idea',\n",
       " 'Namespaces are one honking great idea let do more of those']"
      ]
     },
     "execution_count": 207,
     "metadata": {},
     "output_type": "execute_result"
    }
   ],
   "source": [
    "sentences"
   ]
  },
  {
   "cell_type": "code",
   "execution_count": 208,
   "id": "0596d0e1",
   "metadata": {},
   "outputs": [],
   "source": [
    "sentences = list(map(lambda sent: re.sub(r'(?:^| )\\w(?:$| )', ' ', sent).strip(), sentences))"
   ]
  },
  {
   "cell_type": "code",
   "execution_count": 209,
   "id": "5cacaf29",
   "metadata": {},
   "outputs": [
    {
     "data": {
      "text/plain": [
       "['Beautiful is better than ugly',\n",
       " 'Explicit is better than implicit',\n",
       " 'Simple is better than complex',\n",
       " 'Complex is better than complicated',\n",
       " 'Flat is better than nested',\n",
       " 'Sparse is better than dense',\n",
       " 'Readability counts',\n",
       " 'Special cases aren special enough to break the rules',\n",
       " 'Although practicality beats purity',\n",
       " 'Errors should never pass silently',\n",
       " 'Unless explicitly silenced',\n",
       " 'In the face of ambiguity refuse the temptation to guess',\n",
       " 'There should be one and preferably only one obvious way to do it',\n",
       " 'Although that way may not be obvious at first unless you re Dutch',\n",
       " 'Now is better than never',\n",
       " 'Although never is often better than right now',\n",
       " 'If the implementation is hard to explain it bad idea',\n",
       " 'If the implementation is easy to explain it may be good idea',\n",
       " 'Namespaces are one honking great idea let do more of those']"
      ]
     },
     "execution_count": 209,
     "metadata": {},
     "output_type": "execute_result"
    }
   ],
   "source": [
    "sentences"
   ]
  },
  {
   "cell_type": "code",
   "execution_count": 210,
   "id": "37584078",
   "metadata": {},
   "outputs": [],
   "source": [
    "sentences = list(map(lambda sent: sent.lower(), sentences))"
   ]
  },
  {
   "cell_type": "code",
   "execution_count": 211,
   "id": "af67d993",
   "metadata": {},
   "outputs": [
    {
     "data": {
      "text/plain": [
       "['beautiful is better than ugly',\n",
       " 'explicit is better than implicit',\n",
       " 'simple is better than complex',\n",
       " 'complex is better than complicated',\n",
       " 'flat is better than nested',\n",
       " 'sparse is better than dense',\n",
       " 'readability counts',\n",
       " 'special cases aren special enough to break the rules',\n",
       " 'although practicality beats purity',\n",
       " 'errors should never pass silently',\n",
       " 'unless explicitly silenced',\n",
       " 'in the face of ambiguity refuse the temptation to guess',\n",
       " 'there should be one and preferably only one obvious way to do it',\n",
       " 'although that way may not be obvious at first unless you re dutch',\n",
       " 'now is better than never',\n",
       " 'although never is often better than right now',\n",
       " 'if the implementation is hard to explain it bad idea',\n",
       " 'if the implementation is easy to explain it may be good idea',\n",
       " 'namespaces are one honking great idea let do more of those']"
      ]
     },
     "execution_count": 211,
     "metadata": {},
     "output_type": "execute_result"
    }
   ],
   "source": [
    "sentences"
   ]
  },
  {
   "cell_type": "code",
   "execution_count": 215,
   "id": "c6cff338",
   "metadata": {},
   "outputs": [],
   "source": [
    "from keras.preprocessing import text\n",
    "from keras.utils import np_utils\n",
    "from keras.preprocessing import sequence\n",
    "import numpy as np\n",
    "import pandas as pd\n",
    "\n",
    "\n",
    "tokenizer = text.Tokenizer()\n",
    "tokenizer.fit_on_texts(sentences)\n",
    "word_ids = tokenizer.word_index"
   ]
  },
  {
   "cell_type": "code",
   "execution_count": 216,
   "id": "72a01332",
   "metadata": {},
   "outputs": [
    {
     "data": {
      "text/plain": [
       "{'is': 1,\n",
       " 'better': 2,\n",
       " 'than': 3,\n",
       " 'to': 4,\n",
       " 'the': 5,\n",
       " 'although': 6,\n",
       " 'never': 7,\n",
       " 'be': 8,\n",
       " 'one': 9,\n",
       " 'it': 10,\n",
       " 'idea': 11,\n",
       " 'complex': 12,\n",
       " 'special': 13,\n",
       " 'should': 14,\n",
       " 'unless': 15,\n",
       " 'of': 16,\n",
       " 'obvious': 17,\n",
       " 'way': 18,\n",
       " 'do': 19,\n",
       " 'may': 20,\n",
       " 'now': 21,\n",
       " 'if': 22,\n",
       " 'implementation': 23,\n",
       " 'explain': 24,\n",
       " 'beautiful': 25,\n",
       " 'ugly': 26,\n",
       " 'explicit': 27,\n",
       " 'implicit': 28,\n",
       " 'simple': 29,\n",
       " 'complicated': 30,\n",
       " 'flat': 31,\n",
       " 'nested': 32,\n",
       " 'sparse': 33,\n",
       " 'dense': 34,\n",
       " 'readability': 35,\n",
       " 'counts': 36,\n",
       " 'cases': 37,\n",
       " 'aren': 38,\n",
       " 'enough': 39,\n",
       " 'break': 40,\n",
       " 'rules': 41,\n",
       " 'practicality': 42,\n",
       " 'beats': 43,\n",
       " 'purity': 44,\n",
       " 'errors': 45,\n",
       " 'pass': 46,\n",
       " 'silently': 47,\n",
       " 'explicitly': 48,\n",
       " 'silenced': 49,\n",
       " 'in': 50,\n",
       " 'face': 51,\n",
       " 'ambiguity': 52,\n",
       " 'refuse': 53,\n",
       " 'temptation': 54,\n",
       " 'guess': 55,\n",
       " 'there': 56,\n",
       " 'and': 57,\n",
       " 'preferably': 58,\n",
       " 'only': 59,\n",
       " 'that': 60,\n",
       " 'not': 61,\n",
       " 'at': 62,\n",
       " 'first': 63,\n",
       " 'you': 64,\n",
       " 're': 65,\n",
       " 'dutch': 66,\n",
       " 'often': 67,\n",
       " 'right': 68,\n",
       " 'hard': 69,\n",
       " 'bad': 70,\n",
       " 'easy': 71,\n",
       " 'good': 72,\n",
       " 'namespaces': 73,\n",
       " 'are': 74,\n",
       " 'honking': 75,\n",
       " 'great': 76,\n",
       " 'let': 77,\n",
       " 'more': 78,\n",
       " 'those': 79}"
      ]
     },
     "execution_count": 216,
     "metadata": {},
     "output_type": "execute_result"
    }
   ],
   "source": [
    "word_ids"
   ]
  },
  {
   "cell_type": "code",
   "execution_count": 217,
   "id": "0f5b053c",
   "metadata": {},
   "outputs": [],
   "source": [
    "id_words = {v:k for k,v in word_ids.items()}"
   ]
  },
  {
   "cell_type": "code",
   "execution_count": 218,
   "id": "b89958bf",
   "metadata": {},
   "outputs": [
    {
     "data": {
      "text/plain": [
       "{1: 'is',\n",
       " 2: 'better',\n",
       " 3: 'than',\n",
       " 4: 'to',\n",
       " 5: 'the',\n",
       " 6: 'although',\n",
       " 7: 'never',\n",
       " 8: 'be',\n",
       " 9: 'one',\n",
       " 10: 'it',\n",
       " 11: 'idea',\n",
       " 12: 'complex',\n",
       " 13: 'special',\n",
       " 14: 'should',\n",
       " 15: 'unless',\n",
       " 16: 'of',\n",
       " 17: 'obvious',\n",
       " 18: 'way',\n",
       " 19: 'do',\n",
       " 20: 'may',\n",
       " 21: 'now',\n",
       " 22: 'if',\n",
       " 23: 'implementation',\n",
       " 24: 'explain',\n",
       " 25: 'beautiful',\n",
       " 26: 'ugly',\n",
       " 27: 'explicit',\n",
       " 28: 'implicit',\n",
       " 29: 'simple',\n",
       " 30: 'complicated',\n",
       " 31: 'flat',\n",
       " 32: 'nested',\n",
       " 33: 'sparse',\n",
       " 34: 'dense',\n",
       " 35: 'readability',\n",
       " 36: 'counts',\n",
       " 37: 'cases',\n",
       " 38: 'aren',\n",
       " 39: 'enough',\n",
       " 40: 'break',\n",
       " 41: 'rules',\n",
       " 42: 'practicality',\n",
       " 43: 'beats',\n",
       " 44: 'purity',\n",
       " 45: 'errors',\n",
       " 46: 'pass',\n",
       " 47: 'silently',\n",
       " 48: 'explicitly',\n",
       " 49: 'silenced',\n",
       " 50: 'in',\n",
       " 51: 'face',\n",
       " 52: 'ambiguity',\n",
       " 53: 'refuse',\n",
       " 54: 'temptation',\n",
       " 55: 'guess',\n",
       " 56: 'there',\n",
       " 57: 'and',\n",
       " 58: 'preferably',\n",
       " 59: 'only',\n",
       " 60: 'that',\n",
       " 61: 'not',\n",
       " 62: 'at',\n",
       " 63: 'first',\n",
       " 64: 'you',\n",
       " 65: 're',\n",
       " 66: 'dutch',\n",
       " 67: 'often',\n",
       " 68: 'right',\n",
       " 69: 'hard',\n",
       " 70: 'bad',\n",
       " 71: 'easy',\n",
       " 72: 'good',\n",
       " 73: 'namespaces',\n",
       " 74: 'are',\n",
       " 75: 'honking',\n",
       " 76: 'great',\n",
       " 77: 'let',\n",
       " 78: 'more',\n",
       " 79: 'those'}"
      ]
     },
     "execution_count": 218,
     "metadata": {},
     "output_type": "execute_result"
    }
   ],
   "source": [
    "id_words"
   ]
  },
  {
   "cell_type": "code",
   "execution_count": 219,
   "id": "abfe0910",
   "metadata": {},
   "outputs": [
    {
     "data": {
      "text/plain": [
       "['ala', 'ma', 'kota', 'a', 'kot', 'ma', 'mleko']"
      ]
     },
     "execution_count": 219,
     "metadata": {},
     "output_type": "execute_result"
    }
   ],
   "source": [
    "text.text_to_word_sequence('ala ma kota a kot ma mleko')"
   ]
  },
  {
   "cell_type": "code",
   "execution_count": 220,
   "id": "1ef210ae",
   "metadata": {},
   "outputs": [
    {
     "data": {
      "text/plain": [
       "['beautiful is better than ugly',\n",
       " 'explicit is better than implicit',\n",
       " 'simple is better than complex',\n",
       " 'complex is better than complicated',\n",
       " 'flat is better than nested',\n",
       " 'sparse is better than dense',\n",
       " 'readability counts',\n",
       " 'special cases aren special enough to break the rules',\n",
       " 'although practicality beats purity',\n",
       " 'errors should never pass silently',\n",
       " 'unless explicitly silenced',\n",
       " 'in the face of ambiguity refuse the temptation to guess',\n",
       " 'there should be one and preferably only one obvious way to do it',\n",
       " 'although that way may not be obvious at first unless you re dutch',\n",
       " 'now is better than never',\n",
       " 'although never is often better than right now',\n",
       " 'if the implementation is hard to explain it bad idea',\n",
       " 'if the implementation is easy to explain it may be good idea',\n",
       " 'namespaces are one honking great idea let do more of those']"
      ]
     },
     "execution_count": 220,
     "metadata": {},
     "output_type": "execute_result"
    }
   ],
   "source": [
    "[doc for doc in sentences]"
   ]
  },
  {
   "cell_type": "code",
   "execution_count": 221,
   "id": "00ee1f36",
   "metadata": {},
   "outputs": [],
   "source": [
    "sentence_encoded = [[word_ids[w] for w in text.text_to_word_sequence(doc)] for doc in sentences]"
   ]
  },
  {
   "cell_type": "code",
   "execution_count": 222,
   "id": "aeb360e8",
   "metadata": {},
   "outputs": [
    {
     "data": {
      "text/plain": [
       "[25, 1, 2, 3, 26]"
      ]
     },
     "execution_count": 222,
     "metadata": {},
     "output_type": "execute_result"
    }
   ],
   "source": [
    "sentence_encoded[0][:10]"
   ]
  },
  {
   "cell_type": "code",
   "execution_count": 223,
   "id": "28b4aa98",
   "metadata": {},
   "outputs": [],
   "source": [
    "#Params\n",
    "vocab_size = len(word_ids)\n",
    "embed_size = 16\n",
    "window_size = 2"
   ]
  },
  {
   "cell_type": "code",
   "execution_count": null,
   "id": "e9bf2f6d",
   "metadata": {},
   "outputs": [],
   "source": []
  },
  {
   "cell_type": "code",
   "execution_count": 224,
   "id": "c720f1b0",
   "metadata": {},
   "outputs": [],
   "source": [
    "def generate_context_word_pairs(corpus, window_size, vocab_size):\n",
    "    context_length = window_size*2\n",
    "    for words in corpus:\n",
    "        sentence_length = len(words)\n",
    "        for index, word in enumerate(words):\n",
    "            context_words = []\n",
    "            label_word   = []            \n",
    "            start = index - window_size\n",
    "            end = index + window_size + 1\n",
    "            \n",
    "            context_words.append([words[i] \n",
    "                                 for i in range(start, end) \n",
    "                                 if 0 <= i < sentence_length \n",
    "                                 and i != index])\n",
    "            label_word.append(word)\n",
    "\n",
    "            x = sequence.pad_sequences(context_words, maxlen=context_length)\n",
    "            y = np_utils.to_categorical(label_word, vocab_size)\n",
    "            yield (x, y)"
   ]
  },
  {
   "cell_type": "code",
   "execution_count": 225,
   "id": "ddcaf23a",
   "metadata": {},
   "outputs": [
    {
     "name": "stdout",
     "output_type": "stream",
     "text": [
      "Context (X): ['beautiful', 'is', 'than', 'ugly'] -> Target (Y): better\n",
      "Context (X): ['explicit', 'is', 'than', 'implicit'] -> Target (Y): better\n",
      "Context (X): ['simple', 'is', 'than', 'complex'] -> Target (Y): better\n",
      "Context (X): ['complex', 'is', 'than', 'complicated'] -> Target (Y): better\n",
      "Context (X): ['flat', 'is', 'than', 'nested'] -> Target (Y): better\n",
      "Context (X): ['sparse', 'is', 'than', 'dense'] -> Target (Y): better\n",
      "Context (X): ['special', 'cases', 'special', 'enough'] -> Target (Y): aren\n",
      "Context (X): ['cases', 'aren', 'enough', 'to'] -> Target (Y): special\n",
      "Context (X): ['aren', 'special', 'to', 'break'] -> Target (Y): enough\n",
      "Context (X): ['special', 'enough', 'break', 'the'] -> Target (Y): to\n",
      "Context (X): ['enough', 'to', 'the', 'rules'] -> Target (Y): break\n"
     ]
    }
   ],
   "source": [
    "i = 0\n",
    "for x, y in generate_context_word_pairs(corpus=sentence_encoded, window_size=window_size, vocab_size=vocab_size):\n",
    "    if 0 not in x[0]:\n",
    "        print('Context (X):', [id_words[w] for w in x[0]], '-> Target (Y):', id_words[np.argwhere(y[0])[0][0]])\n",
    "    \n",
    "        if i == 10:\n",
    "            break\n",
    "        i += 1"
   ]
  },
  {
   "cell_type": "code",
   "execution_count": 226,
   "id": "b7fcc8e1",
   "metadata": {},
   "outputs": [],
   "source": [
    "import multiprocessing\n",
    "\n",
    "from gensim.models import Word2Vec"
   ]
  },
  {
   "cell_type": "code",
   "execution_count": 227,
   "id": "c3c61dee",
   "metadata": {},
   "outputs": [],
   "source": [
    "cores = multiprocessing.cpu_count()"
   ]
  },
  {
   "cell_type": "code",
   "execution_count": 228,
   "id": "6e7d4303",
   "metadata": {},
   "outputs": [
    {
     "data": {
      "text/plain": [
       "8"
      ]
     },
     "execution_count": 228,
     "metadata": {},
     "output_type": "execute_result"
    }
   ],
   "source": [
    "cores"
   ]
  },
  {
   "cell_type": "code",
   "execution_count": 229,
   "id": "d199f2c2",
   "metadata": {},
   "outputs": [],
   "source": [
    "Word2Vec?"
   ]
  },
  {
   "cell_type": "code",
   "execution_count": 230,
   "id": "7507c929",
   "metadata": {},
   "outputs": [],
   "source": [
    "sentences = [\n",
    "    'Ala ma kota a kot ma mleko',\n",
    "    'Krzyś ma psa a pies zabawkę',\n",
    "    \"Ala ma psa i lubi spacery\"\n",
    "]"
   ]
  },
  {
   "cell_type": "code",
   "execution_count": 231,
   "id": "0366a433",
   "metadata": {},
   "outputs": [],
   "source": [
    "sentences_as_list = list(map(lambda x: x.split(), sentences))"
   ]
  },
  {
   "cell_type": "code",
   "execution_count": 232,
   "id": "9ef384fe",
   "metadata": {},
   "outputs": [
    {
     "data": {
      "text/plain": [
       "[['Ala', 'ma', 'kota', 'a', 'kot', 'ma', 'mleko'],\n",
       " ['Krzyś', 'ma', 'psa', 'a', 'pies', 'zabawkę'],\n",
       " ['Ala', 'ma', 'psa', 'i', 'lubi', 'spacery']]"
      ]
     },
     "execution_count": 232,
     "metadata": {},
     "output_type": "execute_result"
    }
   ],
   "source": [
    "sentences_as_list"
   ]
  },
  {
   "cell_type": "code",
   "execution_count": 233,
   "id": "5c2e3744",
   "metadata": {},
   "outputs": [],
   "source": [
    "w2v_model = Word2Vec(min_count=1,\n",
    "                     window=2,\n",
    "                     vector_size=4,\n",
    "                     workers=cores-1)"
   ]
  },
  {
   "cell_type": "code",
   "execution_count": 234,
   "id": "f25246f0",
   "metadata": {},
   "outputs": [],
   "source": [
    "w2v_model.build_vocab(sentences_as_list, progress_per=1000)"
   ]
  },
  {
   "cell_type": "code",
   "execution_count": 235,
   "id": "2a1f4fc8",
   "metadata": {},
   "outputs": [
    {
     "data": {
      "text/plain": [
       "({'ma': 0,\n",
       "  'psa': 1,\n",
       "  'a': 2,\n",
       "  'Ala': 3,\n",
       "  'spacery': 4,\n",
       "  'lubi': 5,\n",
       "  'i': 6,\n",
       "  'zabawkę': 7,\n",
       "  'pies': 8,\n",
       "  'Krzyś': 9,\n",
       "  'mleko': 10,\n",
       "  'kot': 11,\n",
       "  'kota': 12},\n",
       " ['ma',\n",
       "  'psa',\n",
       "  'a',\n",
       "  'Ala',\n",
       "  'spacery',\n",
       "  'lubi',\n",
       "  'i',\n",
       "  'zabawkę',\n",
       "  'pies',\n",
       "  'Krzyś',\n",
       "  'mleko',\n",
       "  'kot',\n",
       "  'kota'])"
      ]
     },
     "execution_count": 235,
     "metadata": {},
     "output_type": "execute_result"
    }
   ],
   "source": [
    "w2v_model.wv.key_to_index, w2v_model.wv.index_to_key"
   ]
  },
  {
   "cell_type": "code",
   "execution_count": 236,
   "id": "a55fb28e",
   "metadata": {},
   "outputs": [
    {
     "data": {
      "text/plain": [
       "(73, 570)"
      ]
     },
     "execution_count": 236,
     "metadata": {},
     "output_type": "execute_result"
    }
   ],
   "source": [
    "w2v_model.train(sentences_as_list, total_examples=w2v_model.corpus_count, epochs=30, report_delay=1)"
   ]
  },
  {
   "cell_type": "code",
   "execution_count": 237,
   "id": "283de7db",
   "metadata": {},
   "outputs": [
    {
     "data": {
      "text/plain": [
       "[('Krzyś', 0.9422240257263184)]"
      ]
     },
     "execution_count": 237,
     "metadata": {},
     "output_type": "execute_result"
    }
   ],
   "source": [
    "w2v_model.wv.most_similar('pies', topn=1)"
   ]
  },
  {
   "cell_type": "markdown",
   "id": "1d6d8d7f",
   "metadata": {},
   "source": [
    "#### na przykładzie"
   ]
  },
  {
   "cell_type": "code",
   "execution_count": 238,
   "id": "b814d157",
   "metadata": {},
   "outputs": [],
   "source": [
    "from gensim.test.utils import common_texts\n",
    "from gensim.models import Word2Vec"
   ]
  },
  {
   "cell_type": "code",
   "execution_count": 239,
   "id": "29b88a22",
   "metadata": {},
   "outputs": [
    {
     "data": {
      "text/plain": [
       "[['human', 'interface', 'computer'],\n",
       " ['survey', 'user', 'computer', 'system', 'response', 'time'],\n",
       " ['eps', 'user', 'interface', 'system'],\n",
       " ['system', 'human', 'system', 'eps'],\n",
       " ['user', 'response', 'time'],\n",
       " ['trees'],\n",
       " ['graph', 'trees'],\n",
       " ['graph', 'minors', 'trees'],\n",
       " ['graph', 'minors', 'survey']]"
      ]
     },
     "execution_count": 239,
     "metadata": {},
     "output_type": "execute_result"
    }
   ],
   "source": [
    "common_texts"
   ]
  },
  {
   "cell_type": "code",
   "execution_count": 240,
   "id": "1bbf1fc4",
   "metadata": {},
   "outputs": [],
   "source": [
    "model = Word2Vec(vector_size=100, window=5, min_count=1, workers=4)"
   ]
  },
  {
   "cell_type": "code",
   "execution_count": 241,
   "id": "b79f5631",
   "metadata": {},
   "outputs": [],
   "source": [
    "model.build_vocab(common_texts)"
   ]
  },
  {
   "cell_type": "code",
   "execution_count": 242,
   "id": "543f554d",
   "metadata": {},
   "outputs": [
    {
     "data": {
      "text/plain": [
       "(3, 29)"
      ]
     },
     "execution_count": 242,
     "metadata": {},
     "output_type": "execute_result"
    }
   ],
   "source": [
    "model.train(common_texts, total_examples=model.corpus_count, epochs=1)"
   ]
  },
  {
   "cell_type": "code",
   "execution_count": 243,
   "id": "5a0b42d6",
   "metadata": {},
   "outputs": [],
   "source": [
    "vector = model.wv['computer']"
   ]
  },
  {
   "cell_type": "code",
   "execution_count": 244,
   "id": "8811e295",
   "metadata": {},
   "outputs": [
    {
     "data": {
      "text/plain": [
       "[('system', 0.21617144346237183),\n",
       " ('survey', 0.04468921199440956),\n",
       " ('interface', 0.015025189146399498)]"
      ]
     },
     "execution_count": 244,
     "metadata": {},
     "output_type": "execute_result"
    }
   ],
   "source": [
    "model.wv.most_similar('computer', topn=3)"
   ]
  },
  {
   "cell_type": "code",
   "execution_count": 246,
   "id": "4e3389b0",
   "metadata": {},
   "outputs": [],
   "source": [
    "word_vectors = model.wv"
   ]
  },
  {
   "cell_type": "code",
   "execution_count": 247,
   "id": "0177dfba",
   "metadata": {},
   "outputs": [],
   "source": [
    "word_vectors.save(\"word2vec.wordvectors\")"
   ]
  },
  {
   "cell_type": "code",
   "execution_count": 248,
   "id": "6b96542e",
   "metadata": {},
   "outputs": [],
   "source": [
    "from gensim.models import KeyedVectors"
   ]
  },
  {
   "cell_type": "code",
   "execution_count": 249,
   "id": "91eacdb6",
   "metadata": {},
   "outputs": [],
   "source": [
    "wv_loaded = KeyedVectors.load(\"word2vec.wordvectors\", mmap='r')"
   ]
  },
  {
   "cell_type": "code",
   "execution_count": 251,
   "id": "040a77d9",
   "metadata": {},
   "outputs": [
    {
     "data": {
      "text/plain": [
       "[('computer', 0.21617144346237183),\n",
       " ('response', 0.09291724115610123),\n",
       " ('human', 0.07963485270738602)]"
      ]
     },
     "execution_count": 251,
     "metadata": {},
     "output_type": "execute_result"
    }
   ],
   "source": [
    "wv_loaded.most_similar('system', topn=3)"
   ]
  },
  {
   "cell_type": "code",
   "execution_count": null,
   "id": "ede62cd4",
   "metadata": {},
   "outputs": [],
   "source": []
  }
 ],
 "metadata": {
  "kernelspec": {
   "display_name": "Python 3 (ipykernel)",
   "language": "python",
   "name": "python3"
  },
  "language_info": {
   "codemirror_mode": {
    "name": "ipython",
    "version": 3
   },
   "file_extension": ".py",
   "mimetype": "text/x-python",
   "name": "python",
   "nbconvert_exporter": "python",
   "pygments_lexer": "ipython3",
   "version": "3.9.8"
  }
 },
 "nbformat": 4,
 "nbformat_minor": 5
}
