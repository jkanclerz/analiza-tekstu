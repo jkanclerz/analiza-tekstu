{
 "cells": [
  {
   "cell_type": "markdown",
   "metadata": {
    "id": "VhkQMwrapyVx"
   },
   "source": [
    "[![Open In Colab](https://colab.research.google.com/assets/colab-badge.svg)](https://colab.research.google.com/github.com/jkanclerz/analiza-tekstu/blob/master/02_Eksploracyjna_analiza_dokumentow_reprezentacja-wektorowa.ipynb)"
   ]
  },
  {
   "cell_type": "markdown",
   "metadata": {
    "id": "OuWu_NR1pzrN"
   },
   "source": [
    "# Analiza dokumentów tekstowych\t"
   ]
  },
  {
   "cell_type": "markdown",
   "metadata": {
    "id": "fFio-X3_7z9y"
   },
   "source": [
    "# zadania do wykonania\n",
    "\n",
    "Pobierz zbiór danych dotyczących sentymentu wypowiedzi dla tekstów w języku polskim\n",
    "\n",
    "http://blog.jkan.pl/polish_sentiment_dataset.csv\n",
    "\n",
    "Opracuj model klasyfikujący sentyment wypowiedzi dla 3 grup\n",
    "* pozytywne\n",
    "* neutralne\n",
    "* \n"
   ]
  },
  {
   "cell_type": "code",
   "execution_count": 3,
   "metadata": {},
   "outputs": [],
   "source": [
    "!mkdir -p var"
   ]
  },
  {
   "cell_type": "code",
   "execution_count": 4,
   "metadata": {
    "colab": {
     "base_uri": "https://localhost:8080/"
    },
    "id": "5KpfUcDa95xH",
    "outputId": "82579e57-82bd-4a30-e853-5537705f2407"
   },
   "outputs": [
    {
     "name": "stdout",
     "output_type": "stream",
     "text": [
      "--2021-12-03 23:39:50--  http://blog.jkan.pl/polish_sentiment_dataset.csv\n",
      "Resolving blog.jkan.pl (blog.jkan.pl)... 85.128.239.15\n",
      "Connecting to blog.jkan.pl (blog.jkan.pl)|85.128.239.15|:80... connected.\n",
      "HTTP request sent, awaiting response... 200 OK\n",
      "Length: 95240804 (91M) [text/csv]\n",
      "Saving to: ‘var/polish_sentiment.csv’\n",
      "\n",
      "var/polish_sentimen 100%[===================>]  90,83M  16,6MB/s    in 5,5s    \n",
      "\n",
      "2021-12-03 23:39:56 (16,6 MB/s) - ‘var/polish_sentiment.csv’ saved [95240804/95240804]\n",
      "\n"
     ]
    }
   ],
   "source": [
    "!wget http://blog.jkan.pl/polish_sentiment_dataset.csv -O var/polish_sentiment.csv"
   ]
  },
  {
   "cell_type": "code",
   "execution_count": 5,
   "metadata": {
    "id": "MPj7xzTX-ArG"
   },
   "outputs": [
    {
     "ename": "NameError",
     "evalue": "name 'pd' is not defined",
     "output_type": "error",
     "traceback": [
      "\u001b[0;31m---------------------------------------------------------------------------\u001b[0m",
      "\u001b[0;31mNameError\u001b[0m                                 Traceback (most recent call last)",
      "\u001b[0;32m/var/folders/j0/p37k07nj23b114ppnwfsj45m0000gn/T/ipykernel_30715/442930034.py\u001b[0m in \u001b[0;36m<module>\u001b[0;34m\u001b[0m\n\u001b[0;32m----> 1\u001b[0;31m \u001b[0mX\u001b[0m \u001b[0;34m=\u001b[0m \u001b[0mpd\u001b[0m\u001b[0;34m.\u001b[0m\u001b[0mread_csv\u001b[0m\u001b[0;34m(\u001b[0m\u001b[0;34m'var/polish_sentiment.csv'\u001b[0m\u001b[0;34m)\u001b[0m\u001b[0;34m\u001b[0m\u001b[0;34m\u001b[0m\u001b[0m\n\u001b[0m",
      "\u001b[0;31mNameError\u001b[0m: name 'pd' is not defined"
     ]
    }
   ],
   "source": [
    "X = pd.read_csv('var/polish_sentiment.csv')"
   ]
  },
  {
   "cell_type": "code",
   "execution_count": null,
   "metadata": {
    "colab": {
     "base_uri": "https://localhost:8080/",
     "height": 419
    },
    "id": "TPZ5HZ3h-FMX",
    "outputId": "bf49bd16-d1cb-419d-bc8a-da3bf4323888"
   },
   "outputs": [
    {
     "data": {
      "text/html": [
       "<div>\n",
       "<style scoped>\n",
       "    .dataframe tbody tr th:only-of-type {\n",
       "        vertical-align: middle;\n",
       "    }\n",
       "\n",
       "    .dataframe tbody tr th {\n",
       "        vertical-align: top;\n",
       "    }\n",
       "\n",
       "    .dataframe thead th {\n",
       "        text-align: right;\n",
       "    }\n",
       "</style>\n",
       "<table border=\"1\" class=\"dataframe\">\n",
       "  <thead>\n",
       "    <tr style=\"text-align: right;\">\n",
       "      <th></th>\n",
       "      <th>description</th>\n",
       "      <th>length</th>\n",
       "      <th>rate</th>\n",
       "    </tr>\n",
       "  </thead>\n",
       "  <tbody>\n",
       "    <tr>\n",
       "      <th>0</th>\n",
       "      <td>Polecam nie pierwszy i nie ostatni raz!</td>\n",
       "      <td>39.0</td>\n",
       "      <td>1.0</td>\n",
       "    </tr>\n",
       "    <tr>\n",
       "      <th>1</th>\n",
       "      <td>Bardzo dobra komunikacja sms i telefoniczna. Z...</td>\n",
       "      <td>121.0</td>\n",
       "      <td>1.0</td>\n",
       "    </tr>\n",
       "    <tr>\n",
       "      <th>2</th>\n",
       "      <td>Polecam zakupy w tym sklepie. Są dostępne częś...</td>\n",
       "      <td>87.0</td>\n",
       "      <td>1.0</td>\n",
       "    </tr>\n",
       "    <tr>\n",
       "      <th>3</th>\n",
       "      <td>0</td>\n",
       "      <td>0.0</td>\n",
       "      <td>0.0</td>\n",
       "    </tr>\n",
       "    <tr>\n",
       "      <th>4</th>\n",
       "      <td>Jestem w pełni zadowolona z przebiegu transakcji</td>\n",
       "      <td>48.0</td>\n",
       "      <td>1.0</td>\n",
       "    </tr>\n",
       "    <tr>\n",
       "      <th>...</th>\n",
       "      <td>...</td>\n",
       "      <td>...</td>\n",
       "      <td>...</td>\n",
       "    </tr>\n",
       "    <tr>\n",
       "      <th>936878</th>\n",
       "      <td>Coraz lepiej wygląda</td>\n",
       "      <td>NaN</td>\n",
       "      <td>-1.0</td>\n",
       "    </tr>\n",
       "    <tr>\n",
       "      <th>936879</th>\n",
       "      <td>JA SRAM NA TEN PIERSCIONEK I NA CIEBIE CHWILE ...</td>\n",
       "      <td>NaN</td>\n",
       "      <td>-1.0</td>\n",
       "    </tr>\n",
       "    <tr>\n",
       "      <th>936880</th>\n",
       "      <td>Rafatus do Marleny  Ty kurwo bez honoru       ...</td>\n",
       "      <td>NaN</td>\n",
       "      <td>-1.0</td>\n",
       "    </tr>\n",
       "    <tr>\n",
       "      <th>936881</th>\n",
       "      <td>matka Marleny   prosi o pomoc</td>\n",
       "      <td>NaN</td>\n",
       "      <td>-1.0</td>\n",
       "    </tr>\n",
       "    <tr>\n",
       "      <th>936882</th>\n",
       "      <td>wiesz człowieku że on ją nawet nie uderzył i m...</td>\n",
       "      <td>NaN</td>\n",
       "      <td>-1.0</td>\n",
       "    </tr>\n",
       "  </tbody>\n",
       "</table>\n",
       "<p>936883 rows × 3 columns</p>\n",
       "</div>"
      ],
      "text/plain": [
       "                                              description  length  rate\n",
       "0                 Polecam nie pierwszy i nie ostatni raz!    39.0   1.0\n",
       "1       Bardzo dobra komunikacja sms i telefoniczna. Z...   121.0   1.0\n",
       "2       Polecam zakupy w tym sklepie. Są dostępne częś...    87.0   1.0\n",
       "3                                                       0     0.0   0.0\n",
       "4        Jestem w pełni zadowolona z przebiegu transakcji    48.0   1.0\n",
       "...                                                   ...     ...   ...\n",
       "936878                              Coraz lepiej wygląda      NaN  -1.0\n",
       "936879  JA SRAM NA TEN PIERSCIONEK I NA CIEBIE CHWILE ...     NaN  -1.0\n",
       "936880  Rafatus do Marleny  Ty kurwo bez honoru       ...     NaN  -1.0\n",
       "936881                      matka Marleny   prosi o pomoc     NaN  -1.0\n",
       "936882  wiesz człowieku że on ją nawet nie uderzył i m...     NaN  -1.0\n",
       "\n",
       "[936883 rows x 3 columns]"
      ]
     },
     "execution_count": 599,
     "metadata": {},
     "output_type": "execute_result"
    }
   ],
   "source": [
    "X"
   ]
  },
  {
   "cell_type": "code",
   "execution_count": null,
   "metadata": {
    "id": "7cq3d2sg-GMk"
   },
   "outputs": [],
   "source": []
  }
 ],
 "metadata": {
  "colab": {
   "collapsed_sections": [],
   "name": "01_Eksploracyjna_analiza_dokumentów_tekstowych.ipynb",
   "provenance": [],
   "toc_visible": true
  },
  "kernelspec": {
   "display_name": "Python 3 (ipykernel)",
   "language": "python",
   "name": "python3"
  },
  "language_info": {
   "codemirror_mode": {
    "name": "ipython",
    "version": 3
   },
   "file_extension": ".py",
   "mimetype": "text/x-python",
   "name": "python",
   "nbconvert_exporter": "python",
   "pygments_lexer": "ipython3",
   "version": "3.9.8"
  }
 },
 "nbformat": 4,
 "nbformat_minor": 1
}
