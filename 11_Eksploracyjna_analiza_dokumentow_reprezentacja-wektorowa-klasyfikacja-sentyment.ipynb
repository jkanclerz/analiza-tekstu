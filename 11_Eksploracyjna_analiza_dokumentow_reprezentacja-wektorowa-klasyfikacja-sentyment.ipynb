{
 "cells": [
  {
   "cell_type": "markdown",
   "metadata": {
    "id": "VhkQMwrapyVx"
   },
   "source": [
    "[![Open In Colab](https://colab.research.google.com/assets/colab-badge.svg)](https://colab.research.google.com/github/jkanclerz/analiza-tekstu/blob/master/02_Eksploracyjna_analiza_dokumentow_reprezentacja-wektorowa.ipynb)"
   ]
  },
  {
   "cell_type": "markdown",
   "metadata": {
    "id": "OuWu_NR1pzrN"
   },
   "source": [
    "# Analiza dokumentów tekstowych\t"
   ]
  },
  {
   "cell_type": "markdown",
   "metadata": {
    "id": "fFio-X3_7z9y"
   },
   "source": [
    "# zadania do wykonania\n",
    "\n",
    "Pobierz zbiór danych dotyczących sentymentu wypowiedzi dla tekstów w języku polskim\n",
    "\n",
    "http://blog.jkan.pl/polish_sentiment_dataset.csv\n",
    "\n",
    "Opracuj model klasyfikujący sentyment wypowiedzi dla 3 grup\n",
    "* pozytywne\n",
    "* neutralne\n",
    "* \n"
   ]
  },
  {
   "cell_type": "code",
   "execution_count": 3,
   "metadata": {},
   "outputs": [],
   "source": [
    "!mkdir -p var"
   ]
  },
  {
   "cell_type": "code",
   "execution_count": 3,
   "metadata": {
    "colab": {
     "base_uri": "https://localhost:8080/"
    },
    "id": "5KpfUcDa95xH",
    "outputId": "82579e57-82bd-4a30-e853-5537705f2407"
   },
   "outputs": [
    {
     "name": "stdout",
     "output_type": "stream",
     "text": [
      "--2021-12-04 07:57:28--  http://blog.jkan.pl/polish_sentiment_dataset.csv\n",
      "Resolving blog.jkan.pl (blog.jkan.pl)... 85.128.239.15\n",
      "Connecting to blog.jkan.pl (blog.jkan.pl)|85.128.239.15|:80... connected.\n",
      "HTTP request sent, awaiting response... 200 OK\n",
      "Length: 95240804 (91M) [text/csv]\n",
      "Saving to: ‘var/polish_sentiment.csv’\n",
      "\n",
      "var/polish_sentimen 100%[===================>]  90,83M  37,0MB/s    in 2,5s    \n",
      "\n",
      "2021-12-04 07:57:30 (37,0 MB/s) - ‘var/polish_sentiment.csv’ saved [95240804/95240804]\n",
      "\n"
     ]
    }
   ],
   "source": [
    "!wget http://blog.jkan.pl/polish_sentiment_dataset.csv -O var/polish_sentiment.csv"
   ]
  },
  {
   "cell_type": "code",
   "execution_count": 4,
   "metadata": {},
   "outputs": [
    {
     "name": "stdout",
     "output_type": "stream",
     "text": [
      "Requirement already satisfied: pandas in ./.venv/lib/python3.9/site-packages (1.3.4)\n",
      "Requirement already satisfied: numpy>=1.17.3 in ./.venv/lib/python3.9/site-packages (from pandas) (1.21.4)\n",
      "Requirement already satisfied: pytz>=2017.3 in ./.venv/lib/python3.9/site-packages (from pandas) (2021.3)\n",
      "Requirement already satisfied: python-dateutil>=2.7.3 in ./.venv/lib/python3.9/site-packages (from pandas) (2.8.2)\n",
      "Requirement already satisfied: six>=1.5 in ./.venv/lib/python3.9/site-packages (from python-dateutil>=2.7.3->pandas) (1.16.0)\n",
      "Note: you may need to restart the kernel to use updated packages.\n"
     ]
    }
   ],
   "source": [
    "pip install pandas"
   ]
  },
  {
   "cell_type": "code",
   "execution_count": 5,
   "metadata": {},
   "outputs": [],
   "source": [
    "import pandas as pd"
   ]
  },
  {
   "cell_type": "code",
   "execution_count": 6,
   "metadata": {
    "id": "MPj7xzTX-ArG"
   },
   "outputs": [],
   "source": [
    "X = pd.read_csv('var/polish_sentiment.csv')"
   ]
  },
  {
   "cell_type": "code",
   "execution_count": 7,
   "metadata": {
    "colab": {
     "base_uri": "https://localhost:8080/",
     "height": 419
    },
    "id": "TPZ5HZ3h-FMX",
    "outputId": "bf49bd16-d1cb-419d-bc8a-da3bf4323888"
   },
   "outputs": [
    {
     "data": {
      "text/html": [
       "<div>\n",
       "<style scoped>\n",
       "    .dataframe tbody tr th:only-of-type {\n",
       "        vertical-align: middle;\n",
       "    }\n",
       "\n",
       "    .dataframe tbody tr th {\n",
       "        vertical-align: top;\n",
       "    }\n",
       "\n",
       "    .dataframe thead th {\n",
       "        text-align: right;\n",
       "    }\n",
       "</style>\n",
       "<table border=\"1\" class=\"dataframe\">\n",
       "  <thead>\n",
       "    <tr style=\"text-align: right;\">\n",
       "      <th></th>\n",
       "      <th>description</th>\n",
       "      <th>length</th>\n",
       "      <th>rate</th>\n",
       "    </tr>\n",
       "  </thead>\n",
       "  <tbody>\n",
       "    <tr>\n",
       "      <th>694898</th>\n",
       "      <td>BARDZO SZYBKA I PROFESJONALNA OBSŁUGA</td>\n",
       "      <td>37.0</td>\n",
       "      <td>1.0</td>\n",
       "    </tr>\n",
       "    <tr>\n",
       "      <th>441120</th>\n",
       "      <td>Szybka realizacja zamówienia. Przedmiot zgodny...</td>\n",
       "      <td>57.0</td>\n",
       "      <td>1.0</td>\n",
       "    </tr>\n",
       "    <tr>\n",
       "      <th>666610</th>\n",
       "      <td>0</td>\n",
       "      <td>0.0</td>\n",
       "      <td>0.0</td>\n",
       "    </tr>\n",
       "    <tr>\n",
       "      <th>391636</th>\n",
       "      <td>Wszystko ok, tyle, że strasznie agresywne proś...</td>\n",
       "      <td>114.0</td>\n",
       "      <td>1.0</td>\n",
       "    </tr>\n",
       "    <tr>\n",
       "      <th>523276</th>\n",
       "      <td>Jak zwykle bezproblemowy odbiór towaru i dogod...</td>\n",
       "      <td>127.0</td>\n",
       "      <td>1.0</td>\n",
       "    </tr>\n",
       "    <tr>\n",
       "      <th>752811</th>\n",
       "      <td>Jasna polityka sprzedaży, szybka transakcja, d...</td>\n",
       "      <td>119.0</td>\n",
       "      <td>1.0</td>\n",
       "    </tr>\n",
       "    <tr>\n",
       "      <th>122482</th>\n",
       "      <td>Błyskawiczna przesyłka, szczegółowe opisy prze...</td>\n",
       "      <td>53.0</td>\n",
       "      <td>1.0</td>\n",
       "    </tr>\n",
       "    <tr>\n",
       "      <th>841250</th>\n",
       "      <td>trudno się ogląda z jedną ręką</td>\n",
       "      <td>NaN</td>\n",
       "      <td>-1.0</td>\n",
       "    </tr>\n",
       "    <tr>\n",
       "      <th>850017</th>\n",
       "      <td>Myślę, że to już czas na walkę z najmanem xDDDDDD</td>\n",
       "      <td>NaN</td>\n",
       "      <td>-1.0</td>\n",
       "    </tr>\n",
       "    <tr>\n",
       "      <th>547436</th>\n",
       "      <td>Wszystko oceniam na 10 jednak sama paczka wygl...</td>\n",
       "      <td>146.0</td>\n",
       "      <td>1.0</td>\n",
       "    </tr>\n",
       "  </tbody>\n",
       "</table>\n",
       "</div>"
      ],
      "text/plain": [
       "                                              description  length  rate\n",
       "694898              BARDZO SZYBKA I PROFESJONALNA OBSŁUGA    37.0   1.0\n",
       "441120  Szybka realizacja zamówienia. Przedmiot zgodny...    57.0   1.0\n",
       "666610                                                  0     0.0   0.0\n",
       "391636  Wszystko ok, tyle, że strasznie agresywne proś...   114.0   1.0\n",
       "523276  Jak zwykle bezproblemowy odbiór towaru i dogod...   127.0   1.0\n",
       "752811  Jasna polityka sprzedaży, szybka transakcja, d...   119.0   1.0\n",
       "122482  Błyskawiczna przesyłka, szczegółowe opisy prze...    53.0   1.0\n",
       "841250                     trudno się ogląda z jedną ręką     NaN  -1.0\n",
       "850017  Myślę, że to już czas na walkę z najmanem xDDDDDD     NaN  -1.0\n",
       "547436  Wszystko oceniam na 10 jednak sama paczka wygl...   146.0   1.0"
      ]
     },
     "execution_count": 7,
     "metadata": {},
     "output_type": "execute_result"
    }
   ],
   "source": [
    "X.sample(10)"
   ]
  },
  {
   "cell_type": "code",
   "execution_count": null,
   "metadata": {
    "id": "7cq3d2sg-GMk"
   },
   "outputs": [],
   "source": []
  }
 ],
 "metadata": {
  "colab": {
   "collapsed_sections": [],
   "name": "01_Eksploracyjna_analiza_dokumentów_tekstowych.ipynb",
   "provenance": [],
   "toc_visible": true
  },
  "kernelspec": {
   "display_name": "Python 3 (ipykernel)",
   "language": "python",
   "name": "python3"
  },
  "language_info": {
   "codemirror_mode": {
    "name": "ipython",
    "version": 3
   },
   "file_extension": ".py",
   "mimetype": "text/x-python",
   "name": "python",
   "nbconvert_exporter": "python",
   "pygments_lexer": "ipython3",
   "version": "3.9.8"
  }
 },
 "nbformat": 4,
 "nbformat_minor": 1
}
