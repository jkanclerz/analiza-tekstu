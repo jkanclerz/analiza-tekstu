{
  "nbformat": 4,
  "nbformat_minor": 0,
  "metadata": {
    "colab": {
      "name": "01_Eksploracyjna_analiza_dokumentów_tekstowych.ipynb",
      "provenance": [],
      "collapsed_sections": [],
      "toc_visible": true
    },
    "kernelspec": {
      "display_name": "Python 3",
      "name": "python3"
    },
    "language_info": {
      "name": "python"
    }
  },
  "cells": [
    {
      "cell_type": "markdown",
      "metadata": {
        "id": "VhkQMwrapyVx"
      },
      "source": [
        ""
      ]
    },
    {
      "cell_type": "markdown",
      "metadata": {
        "id": "OuWu_NR1pzrN"
      },
      "source": [
        "# Analiza dokumentów tekstowych\t"
      ]
    },
    {
      "cell_type": "markdown",
      "metadata": {
        "id": "Vw4IkCcmp5oi"
      },
      "source": [
        "## Zastosowania\n",
        "### NLP - Natural Language Processing\n",
        "\n",
        "NLP zajmuje się zdolnością komputera do rozumienia, analizowania, manipulowania i potencjalnego generowania ludzkiego języka.\n",
        "\n",
        "* Wyszukiwanie informacji (Google finds relevant and similar results, \"Wyszukiwanie pełnotekstowe Elasticsearch\")\n",
        "* Ekstrakcja informacji (Adresy, naswy, złożone struktury tj. listy, tabele)\n",
        "* Analiza sentymentu\n",
        "* Generowanie streszczeń (https://smmry.com/)\n",
        "* Klasyfikacja\n",
        "* Predykcja, podpowiadanie następnego elementu w zdaniu\n",
        "* Auto korekta\n",
        "* Rozpoznawanie mowy\n",
        "* Generowanie Tekstu\n"
      ]
    },
    {
      "cell_type": "markdown",
      "metadata": {
        "id": "eD_RJfB_5ZC3"
      },
      "source": [
        "\n",
        "## Dane\n",
        "### Structured data\n",
        "* Dane ustrukturyzowane\n",
        "* Usystematyzowane zgodnie z zadanym schematem\n",
        "* Dobrze zorganizowane\n",
        "* Restrykcyjne reguły walidacji\n",
        "* Łatwa manipulacja, syszukiwanie, porównywanie modyfikacja\n",
        "\n",
        "### Semi structured data\n",
        "* Zorganizowane w grupy / kategorie \n",
        "* Elementy kolekcji mogą się wewnetrznie różnić\n",
        "* Posiadają wspólne cechy\n",
        "* Email (nadawca, odbiorca, lista załączników?, tekst?)\n",
        "\n",
        "### Unstructured data\n",
        "* Zawierają dane, tj liczby, fakty.\n",
        "* Trudne do usystematyzowania\n",
        "* Posty, korespondencja, dane cyfrowe, nagrania audio / video\n",
        "* Potrzeba ustrukturyzowania do dalszej analizy\n",
        "\n",
        "## Analiza tekstu\n",
        "\n",
        "### Dane tekstowe\n",
        "Przykłady danych nieustrukturyzowanych obejmują \n",
        "* dokumenty biznesowe i prawne\n",
        "  * forma papierowa\n",
        "  * elektoroniczne formaty wymiany danych\n",
        "* nagrania audio\n",
        "* czaty\n",
        "* wideo\n",
        "* obrazy\n",
        "* tekst na stronie internetowej\n",
        "* korespondencję \n",
        "* zgłoszenia w systemach CRM \n",
        "\n",
        "### Cel\n",
        "\n",
        "Wykorzystanie informacji ukrytych w danych\n",
        "* Ekstrakcja informacji z dokumentów\n",
        "  * Dane o klientach\n",
        "  * Dane o produktach\n",
        "  * Dane o cenach\n",
        "* Poznawanie opinni o produktach / markach\n",
        "  * Wykrywanie nastawienia konsumentów\n",
        "  * Przyśpieszenie reakcja na negatywne sygnały\n",
        "* Zwiększenie skuteczności w komunikacji z klientem\n",
        "  * Analiza ankiet, zgłoszeń, opinni, korespondencji\n",
        "* Rozpoznawanie intencji\n",
        "  * Chęć zakupu\n",
        "  * Reklamacja\n",
        "* Monitorowanie sentymentu dot. marki\n",
        "  * Brand24"
      ]
    },
    {
      "cell_type": "markdown",
      "metadata": {
        "id": "qTH7K8EWp6Cj"
      },
      "source": [
        "## Charakterystyka tekstów \n",
        "\n",
        "* składnia - relacje między słowami w zdaniu mogą być często określone na kilka sposobów, co prowadzi do różnych interpretacji tekstu,\n",
        "* semantyka - to samo słowo może mieć wiele znaczeń, w zależności od kontekstu,\n",
        "* występowanie metafor, tautologii, ironii itp.\n",
        "* znaki diakrytyczne, takie jak: ą, ć, ę, ł, ń, ó, ś, ź, ż,\n",
        "* homonimy - wyrazy o tej samej formie językowej, ale pochodzące od wyrazów o innym znaczeniu,\n",
        "* synonimy - różne wyrazy o tym samym lub bardzo podobnym znaczeniu,\n",
        "* idiomy - wyrażenia, których znaczenie jest inne niż to, które powinno być mu przypisane, biorąc pod uwagę jego części składowe i zasady składni,\n",
        "* ponad 150 tys. słów w słowniku podstawowym.\n",
        "\n",
        "\n",
        "## Narzędzia\n",
        "\n",
        "* Python\n",
        "* biblioteki data science\n",
        "  * scipy\n",
        "  * scikitlearn\n",
        "  * pandas\n",
        "  * tensorflow\n",
        "  * ...\n",
        "\n",
        "## Proces\n",
        "* Pozyskiwanie danych\n",
        "  * Czytanie plików\n",
        "  * Czytanie stron www (web scrapping)\n",
        "  * Odczytywanie tekstów z obrazka\n",
        "* Oczyszczanie danych\n",
        "  * literówki\n",
        "  * usuwanie nieznaczących słów\n",
        "  * interpunkcja\n",
        "  * podział na tokeny\n",
        "    * słowa\n",
        "    * zdania\n",
        "    * N-gramy\n",
        "* Transformacja danych\n",
        "  * Stemming\n",
        "  * Lemmatisation\n",
        "* Analiza zbioru danych\n",
        "  * bazowe statystyki\n",
        "    * długości słów\n",
        "    * częstość słów\n",
        "  * wizualizacje\n",
        "    * word cloud\n",
        "* Wektoryzacja\n",
        "  * one-hot encoding\n",
        "  * częstość (Count)\n",
        "  * częstość ważona (tf-idf)\n",
        "  * word2vec\n",
        "  * doc2vec\n",
        "* Modele\n",
        "  * Klasyfikacja / Klasteryzacja dokumentów\n",
        "  * Generowanie tekstu\n",
        "  * Podobieństwo dokumentów\n",
        "  * Podobieństwo słów\n"
      ]
    },
    {
      "cell_type": "code",
      "metadata": {
        "id": "5jlf2jS75ztu"
      },
      "source": [
        ""
      ],
      "execution_count": null,
      "outputs": []
    },
    {
      "cell_type": "markdown",
      "metadata": {
        "id": "CxpzFBq26c7s"
      },
      "source": [
        "# Python\n",
        "\n",
        "- Intro to python (https://github.com/jkanclerz/intro-to-python)\n",
        "- Python code catas (https://www.codewars.com/)"
      ]
    },
    {
      "cell_type": "code",
      "metadata": {
        "colab": {
          "base_uri": "https://localhost:8080/"
        },
        "id": "hE0jABQB6jgc",
        "outputId": "db8e5a08-da71-4f74-f0e7-a60fc3246f34"
      },
      "source": [
        "print(\"Hello World\")"
      ],
      "execution_count": null,
      "outputs": [
        {
          "name": "stdout",
          "output_type": "stream",
          "text": [
            "Hello World\n"
          ]
        }
      ]
    },
    {
      "cell_type": "code",
      "metadata": {
        "colab": {
          "base_uri": "https://localhost:8080/"
        },
        "id": "WLXqxsKE6m1l",
        "outputId": "35d5817f-7423-4d02-8c94-56226937d54e"
      },
      "source": [
        "name = \"John Snow\"\n",
        "print(\"Hello {}\".format(name))"
      ],
      "execution_count": null,
      "outputs": [
        {
          "name": "stdout",
          "output_type": "stream",
          "text": [
            "Hello John Snow\n"
          ]
        }
      ]
    },
    {
      "cell_type": "code",
      "metadata": {
        "colab": {
          "base_uri": "https://localhost:8080/"
        },
        "id": "XFyREWso6oCa",
        "outputId": "9d261424-6682-4749-f6e4-2d150159d747"
      },
      "source": [
        "type(name)"
      ],
      "execution_count": null,
      "outputs": [
        {
          "data": {
            "text/plain": [
              "str"
            ]
          },
          "execution_count": 6,
          "metadata": {},
          "output_type": "execute_result"
        }
      ]
    },
    {
      "cell_type": "code",
      "metadata": {
        "colab": {
          "base_uri": "https://localhost:8080/"
        },
        "id": "j3Rg3TBj6042",
        "outputId": "5d0bacd0-a6d2-4400-ae1f-ae4ab22c5f5e"
      },
      "source": [
        "x = [\"john\", \"doe\"]\n",
        "type(x)"
      ],
      "execution_count": null,
      "outputs": [
        {
          "data": {
            "text/plain": [
              "list"
            ]
          },
          "execution_count": 8,
          "metadata": {},
          "output_type": "execute_result"
        }
      ]
    },
    {
      "cell_type": "code",
      "metadata": {
        "colab": {
          "base_uri": "https://localhost:8080/"
        },
        "id": "7bScNH9F654a",
        "outputId": "b7e389ac-9f15-4d30-c065-d5c01c7bb411"
      },
      "source": [
        "x = (\"john\", \"doe\")\n",
        "type(x)"
      ],
      "execution_count": null,
      "outputs": [
        {
          "data": {
            "text/plain": [
              "tuple"
            ]
          },
          "execution_count": 10,
          "metadata": {},
          "output_type": "execute_result"
        }
      ]
    },
    {
      "cell_type": "code",
      "metadata": {
        "colab": {
          "base_uri": "https://localhost:8080/"
        },
        "id": "W2ax1t5I7l-6",
        "outputId": "1c442bbb-306a-4c83-c17d-23efe1790692"
      },
      "source": [
        "import itertools\n",
        "\n",
        "x = itertools.chain(['A', 'B', 'C'], ['X', 'Y', 'Z'])\n",
        "type(x)"
      ],
      "execution_count": null,
      "outputs": [
        {
          "data": {
            "text/plain": [
              "itertools.chain"
            ]
          },
          "execution_count": 15,
          "metadata": {},
          "output_type": "execute_result"
        }
      ]
    },
    {
      "cell_type": "code",
      "metadata": {
        "colab": {
          "base_uri": "https://localhost:8080/"
        },
        "id": "QhstLZT-7-QA",
        "outputId": "14e1f98a-a12c-4493-f795-d30a4a573251"
      },
      "source": [
        "x_as_list = list(x)\n",
        "type(x_as_list)\n",
        "print(x_as_list)"
      ],
      "execution_count": null,
      "outputs": [
        {
          "name": "stdout",
          "output_type": "stream",
          "text": [
            "['A', 'B', 'C', 'X', 'Y', 'Z']\n"
          ]
        }
      ]
    },
    {
      "cell_type": "code",
      "metadata": {
        "colab": {
          "base_uri": "https://localhost:8080/"
        },
        "id": "Nj10RR9p8CH8",
        "outputId": "5fbd44c4-6bee-455a-eb43-40e71d69d631"
      },
      "source": [
        "x = [item for item in range(1, 10)]\n",
        "type(x)\n",
        "print(x)"
      ],
      "execution_count": null,
      "outputs": [
        {
          "name": "stdout",
          "output_type": "stream",
          "text": [
            "[1, 2, 3, 4, 5, 6, 7, 8, 9]\n"
          ]
        }
      ]
    },
    {
      "cell_type": "code",
      "metadata": {
        "colab": {
          "base_uri": "https://localhost:8080/"
        },
        "id": "pKAT_pfJ8UpA",
        "outputId": "79cb601c-f184-4a69-b03f-a96c7b962d2f"
      },
      "source": [
        "x = (item for item in range(1, 10))\n",
        "type(x)\n",
        "print(x)"
      ],
      "execution_count": null,
      "outputs": [
        {
          "name": "stdout",
          "output_type": "stream",
          "text": [
            "<generator object <genexpr> at 0x7fedcb88eed0>\n"
          ]
        }
      ]
    },
    {
      "cell_type": "code",
      "metadata": {
        "colab": {
          "base_uri": "https://localhost:8080/"
        },
        "id": "aodYrCId8aaI",
        "outputId": "b8abdd34-7bb3-44ad-d3cc-ce074abe595a"
      },
      "source": [
        "x = (item for item in range(1, 10))\n",
        "type(x)\n",
        "print(list(x))"
      ],
      "execution_count": null,
      "outputs": [
        {
          "name": "stdout",
          "output_type": "stream",
          "text": [
            "[1, 2, 3, 4, 5, 6, 7, 8, 9]\n"
          ]
        }
      ]
    },
    {
      "cell_type": "markdown",
      "metadata": {
        "id": "8-QFXW6W6C5B"
      },
      "source": [
        "# Writing / Reading / Loading\n",
        "\n",
        "https://github.com/git-podrecznik/wiersze\n",
        "\n",
        "https://raw.githubusercontent.com/git-podrecznik/wiersze/master/Julian%20Tuwim%20-%20Lokomotywa.txt"
      ]
    },
    {
      "cell_type": "markdown",
      "metadata": {
        "id": "GGI8fIki-AKD"
      },
      "source": [
        "## writing / reading file"
      ]
    },
    {
      "cell_type": "code",
      "metadata": {
        "id": "tYntjNza6FQo"
      },
      "source": [
        "text = '''\n",
        "Stoi na stacji lokomotywa,\n",
        "Ciężka, ogromna i pot z niej spływa:\n",
        "Tłusta oliwa.\n",
        "Stoi i sapie, dyszy i dmucha,\n",
        "Żar z rozgrzanego jej brzucha bucha:\n",
        "Buch - jak gorąco!\n",
        "Uch - jak gorąco!\n",
        "Puff - jak gorąco!\n",
        "Uff - jak gorąco!\n",
        "Już ledwo sapie, już ledwo zipie,\n",
        "A jeszcze palacz węgiel w nią sypie.\n",
        "\n",
        "Wagony do niej podoczepiali\n",
        "Wielkie i ciężkie, z żelaza, stali,\n",
        "I pełno ludzi w każdym wagonie,\n",
        "A w jednym krowy, a w drugim konie,\n",
        "A w trzecim siedzą same grubasy,\n",
        "Siedzą i jedzą tłuste kiełbasy,\n",
        "A czwarty wagon pełen bananów,\n",
        "A w piątym stoi sześć fortepianów,\n",
        "W szóstym armata - o! jaka wielka!\n",
        "Pod każdym kołem żelazna belka!\n",
        "W siódmym dębowe stoły i szafy,\n",
        "W ósmym słoń, niedźwiedź i dwie żyrafy,\n",
        "W dziewiątym - same tuczone świnie,\n",
        "W dziesiątym - kufry, paki i skrzynie.\n",
        "A tych wagonów jest ze czterdzieści,\n",
        "Sam nie wiem, co się w nich jeszcze mieści.\n",
        "Lecz choćby przyszło tysiąc atletów\n",
        "I każdy zjadłby tysiąc kotletów,\n",
        "I każdy nie wiem jak się wytężał,\n",
        "To nie udźwigną, taki to ciężar.\n",
        "\n",
        "Nagle - gwizd!\n",
        "Nagle - świst!\n",
        "Para - buch!\n",
        "Koła - w ruch!\n",
        "\n",
        "Najpierw - powoli - jak żółw – ociężale,\n",
        "Ruszyła - maszyna - po szynach - ospale,\n",
        "Szarpnęła wagony i ciągnie z mozołem,\n",
        "I kręci się, kręci się koło za kołem,\n",
        "I biegu przyspiesza, i gna coraz prędzej,\n",
        "I dudni, i stuka, łomoce i pędzi,\n",
        "A dokąd? A dokąd? A dokąd? Na wprost!\n",
        "Po torze, po torze, po torze, przez most,\n",
        "Przez góry, przez tunel, przez pola, przez las,\n",
        "I spieszy się, spieszy, by zdążyć na czas,\n",
        "Do taktu turkoce i puka, i stuka to:\n",
        "Tak to to, tak to to , tak to to, tak to to.\n",
        "Gładko tak, lekko tak toczy się w dal,\n",
        "Jak gdyby to była piłeczka, nie stal,\n",
        "Nie ciężka maszyna, zziajana, zdyszana,\n",
        "Lecz fraszka, igraszka, zabawka blaszana.\n",
        "\n",
        "A skądże to, jakże to, czemu tak gna?\n",
        "A co to to, co to to, kto to tak pcha,\n",
        "Że pędzi, że wali, że bucha buch, buch?\n",
        "To para gorąca wprawiła to w ruch,\n",
        "To para, co z kotła rurami do tłoków,\n",
        "A tłoki kołami ruszają z dwóch boków\n",
        "I gnają, i pchają, i pociąg się toczy,\n",
        "Bo para te tłoki wciąż tłoczy i tłoczy,\n",
        "I koła turkocą, i puka, i stuka to:\n",
        "Tak to to, tak to to, tak to to, tak to to!\n",
        "'''"
      ],
      "execution_count": null,
      "outputs": []
    },
    {
      "cell_type": "code",
      "metadata": {
        "id": "31NOWz-_9Zrx"
      },
      "source": [
        "!mkdir -p var"
      ],
      "execution_count": null,
      "outputs": []
    },
    {
      "cell_type": "code",
      "metadata": {
        "id": "sCXQJ8j-9TjM"
      },
      "source": [
        "with open('var/lokomotywa.txt', 'w+') as f:\n",
        "  f.write(text)"
      ],
      "execution_count": null,
      "outputs": []
    },
    {
      "cell_type": "code",
      "metadata": {
        "colab": {
          "base_uri": "https://localhost:8080/"
        },
        "id": "VHZmM7cV9mI-",
        "outputId": "8090031b-5d1b-42f0-84a0-868dad6a36ce"
      },
      "source": [
        "!cat var/lokomotywa.txt"
      ],
      "execution_count": null,
      "outputs": [
        {
          "name": "stdout",
          "output_type": "stream",
          "text": [
            "\n",
            "Stoi na stacji lokomotywa,\n",
            "Ciężka, ogromna i pot z niej spływa:\n",
            "Tłusta oliwa.\n",
            "Stoi i sapie, dyszy i dmucha,\n",
            "Żar z rozgrzanego jej brzucha bucha:\n",
            "Buch - jak gorąco!\n",
            "Uch - jak gorąco!\n",
            "Puff - jak gorąco!\n",
            "Uff - jak gorąco!\n",
            "Już ledwo sapie, już ledwo zipie,\n",
            "A jeszcze palacz węgiel w nią sypie.\n",
            "\n",
            "Wagony do niej podoczepiali\n",
            "Wielkie i ciężkie, z żelaza, stali,\n",
            "I pełno ludzi w każdym wagonie,\n",
            "A w jednym krowy, a w drugim konie,\n",
            "A w trzecim siedzą same grubasy,\n",
            "Siedzą i jedzą tłuste kiełbasy,\n",
            "A czwarty wagon pełen bananów,\n",
            "A w piątym stoi sześć fortepianów,\n",
            "W szóstym armata - o! jaka wielka!\n",
            "Pod każdym kołem żelazna belka!\n",
            "W siódmym dębowe stoły i szafy,\n",
            "W ósmym słoń, niedźwiedź i dwie żyrafy,\n",
            "W dziewiątym - same tuczone świnie,\n",
            "W dziesiątym - kufry, paki i skrzynie.\n",
            "A tych wagonów jest ze czterdzieści,\n",
            "Sam nie wiem, co się w nich jeszcze mieści.\n",
            "Lecz choćby przyszło tysiąc atletów\n",
            "I każdy zjadłby tysiąc kotletów,\n",
            "I każdy nie wiem jak się wytężał,\n",
            "To nie udźwigną, taki to ciężar.\n",
            "\n",
            "Nagle - gwizd!\n",
            "Nagle - świst!\n",
            "Para - buch!\n",
            "Koła - w ruch!\n",
            "\n",
            "Najpierw - powoli - jak żółw – ociężale,\n",
            "Ruszyła - maszyna - po szynach - ospale,\n",
            "Szarpnęła wagony i ciągnie z mozołem,\n",
            "I kręci się, kręci się koło za kołem,\n",
            "I biegu przyspiesza, i gna coraz prędzej,\n",
            "I dudni, i stuka, łomoce i pędzi,\n",
            "A dokąd? A dokąd? A dokąd? Na wprost!\n",
            "Po torze, po torze, po torze, przez most,\n",
            "Przez góry, przez tunel, przez pola, przez las,\n",
            "I spieszy się, spieszy, by zdążyć na czas,\n",
            "Do taktu turkoce i puka, i stuka to:\n",
            "Tak to to, tak to to , tak to to, tak to to.\n",
            "Gładko tak, lekko tak toczy się w dal,\n",
            "Jak gdyby to była piłeczka, nie stal,\n",
            "Nie ciężka maszyna, zziajana, zdyszana,\n",
            "Lecz fraszka, igraszka, zabawka blaszana.\n",
            "\n",
            "A skądże to, jakże to, czemu tak gna?\n",
            "A co to to, co to to, kto to tak pcha,\n",
            "Że pędzi, że wali, że bucha buch, buch?\n",
            "To para gorąca wprawiła to w ruch,\n",
            "To para, co z kotła rurami do tłoków,\n",
            "A tłoki kołami ruszają z dwóch boków\n",
            "I gnają, i pchają, i pociąg się toczy,\n",
            "Bo para te tłoki wciąż tłoczy i tłoczy,\n",
            "I koła turkocą, i puka, i stuka to:\n",
            "Tak to to, tak to to, tak to to, tak to to!\n"
          ]
        }
      ]
    },
    {
      "cell_type": "code",
      "metadata": {
        "colab": {
          "base_uri": "https://localhost:8080/"
        },
        "id": "dB3w-blp9qbi",
        "outputId": "7578c9a9-31bd-4750-c9b1-84031d5e0009"
      },
      "source": [
        "with open(\"var/lokomotywa.txt\") as f:\n",
        "  x = f.read()\n",
        "  print(type(x))"
      ],
      "execution_count": null,
      "outputs": [
        {
          "name": "stdout",
          "output_type": "stream",
          "text": [
            "<class 'str'>\n"
          ]
        }
      ]
    },
    {
      "cell_type": "code",
      "metadata": {
        "colab": {
          "base_uri": "https://localhost:8080/"
        },
        "id": "FljrUVGg-VKE",
        "outputId": "57a26334-db25-4972-b6d7-f91f60baceaa"
      },
      "source": [
        "with open(\"var/lokomotywa.txt\") as f:\n",
        "  x = f.readlines()\n",
        "  print(type(x))"
      ],
      "execution_count": null,
      "outputs": [
        {
          "name": "stdout",
          "output_type": "stream",
          "text": [
            "<class 'list'>\n"
          ]
        }
      ]
    },
    {
      "cell_type": "code",
      "metadata": {
        "colab": {
          "base_uri": "https://localhost:8080/"
        },
        "id": "zDH4S4XB-fIp",
        "outputId": "c56cecf6-0fdb-434c-9c2a-729e3662b22f"
      },
      "source": [
        "lines = (line for line in open(\"var/lokomotywa.txt\"))\n",
        "type(lines)"
      ],
      "execution_count": null,
      "outputs": [
        {
          "data": {
            "text/plain": [
              "generator"
            ]
          },
          "execution_count": 55,
          "metadata": {},
          "output_type": "execute_result"
        }
      ]
    },
    {
      "cell_type": "code",
      "metadata": {
        "colab": {
          "base_uri": "https://localhost:8080/"
        },
        "id": "NU9uT5T4-3LU",
        "outputId": "bee35a2c-3d89-4d04-aa01-fc75e91ee7e7"
      },
      "source": [
        "next(lines),next(lines),next(lines),next(lines)"
      ],
      "execution_count": null,
      "outputs": [
        {
          "data": {
            "text/plain": [
              "('Tłusta oliwa.\\n',\n",
              " 'Stoi i sapie, dyszy i dmucha,\\n',\n",
              " 'Żar z rozgrzanego jej brzucha bucha:\\n',\n",
              " 'Buch - jak gorąco!\\n')"
            ]
          },
          "execution_count": 57,
          "metadata": {},
          "output_type": "execute_result"
        }
      ]
    },
    {
      "cell_type": "code",
      "metadata": {
        "id": "7wb9bt_Q-4sR"
      },
      "source": [
        ""
      ],
      "execution_count": null,
      "outputs": []
    },
    {
      "cell_type": "markdown",
      "metadata": {
        "id": "30rucy7B_NCk"
      },
      "source": [
        "## reading www\n",
        "\n",
        "https://uek.krakow.pl/artykuly/nauka/blockchain-moze-pomoc-zwalczac-fake-newsy\n",
        "\n",
        "https://www.crummy.com/software/BeautifulSoup/bs4/doc/\n",
        "\n",
        "https://docs.python-requests.org/en/latest/"
      ]
    },
    {
      "cell_type": "code",
      "metadata": {
        "colab": {
          "base_uri": "https://localhost:8080/"
        },
        "id": "Ol2wT3vG_SVx",
        "outputId": "63377a72-4f89-4740-9d82-39ecaea705b7"
      },
      "source": [
        "pip install requests beautifulsoup4"
      ],
      "execution_count": null,
      "outputs": [
        {
          "name": "stdout",
          "output_type": "stream",
          "text": [
            "Requirement already satisfied: requests in /usr/local/lib/python3.7/dist-packages (2.23.0)\n",
            "Requirement already satisfied: beautifulsoup4 in /usr/local/lib/python3.7/dist-packages (4.6.3)\n",
            "Requirement already satisfied: certifi>=2017.4.17 in /usr/local/lib/python3.7/dist-packages (from requests) (2021.5.30)\n",
            "Requirement already satisfied: urllib3!=1.25.0,!=1.25.1,<1.26,>=1.21.1 in /usr/local/lib/python3.7/dist-packages (from requests) (1.24.3)\n",
            "Requirement already satisfied: chardet<4,>=3.0.2 in /usr/local/lib/python3.7/dist-packages (from requests) (3.0.4)\n",
            "Requirement already satisfied: idna<3,>=2.5 in /usr/local/lib/python3.7/dist-packages (from requests) (2.10)\n"
          ]
        }
      ]
    },
    {
      "cell_type": "code",
      "metadata": {
        "id": "T5LDiM___XNL"
      },
      "source": [
        "import requests\n",
        "URL = \"https://uek.krakow.pl/artykuly/nauka/blockchain-moze-pomoc-zwalczac-fake-newsy\"\n",
        "response = requests.get(URL)"
      ],
      "execution_count": null,
      "outputs": []
    },
    {
      "cell_type": "code",
      "metadata": {
        "id": "CodBpmH_AtrR"
      },
      "source": [
        "text = response.text"
      ],
      "execution_count": null,
      "outputs": []
    },
    {
      "cell_type": "code",
      "metadata": {
        "colab": {
          "base_uri": "https://localhost:8080/"
        },
        "id": "OvjBWc3GAz_I",
        "outputId": "48b388c3-b2b8-49a9-b479-06ab05264688"
      },
      "source": [
        "print(text)"
      ],
      "execution_count": null,
      "outputs": [
        {
          "name": "stdout",
          "output_type": "stream",
          "text": [
            "<!DOCTYPE html>\n",
            "\n",
            "<html lang=\"pl\">\n",
            "    <head>\n",
            "        <meta charset=\"UTF-8\">\n",
            "<meta name=\"locale\" content=\"pl\"/>\n",
            "<meta http-equiv=\"Content-Type\" content=\"text/html; charset=utf-8\" />\n",
            "<meta http-equiv=\"X-UA-Compatible\" content=\"IE=edge\" />\n",
            "<meta name=\"viewport\" content=\"width=device-width, user-scalable=yes, initial-scale=1.0, maximum-scale=7.0, minimum-scale=1.0\">\n",
            "<title>Uniwersytet Ekonomiczny w Krakowie - Blockchain może pomóc zwalczać fake newsy</title>\n",
            "<meta name=\"description\" content=\"Nieprawdziwe wiadomości zwykle nie są związane z wiarygodnym źródłem ani autorytetem. Można je eliminować używając metody przypominającej zakłady bukmacherskie.\"/>\n",
            "<meta property=\"og:title\" content=\"Uniwersytet Ekonomiczny w Krakowie - Blockchain może pomóc zwalczać fake newsy\"/>\n",
            "<meta property=\"og:description\" content=\"Nieprawdziwe wiadomości zwykle nie są związane z wiarygodnym źródłem ani autorytetem. Można je eliminować używając metody przypominającej zakłady bukmacherskie.\"/>\n",
            "<meta property=\"og:image\" content=\"https://sg-cdn.uek.krakow.pl/thumbnail/teaser_promoted/articles/hero.jpg\"/>\n",
            "<meta property=\"og:image:url\" content=\"https://sg-cdn.uek.krakow.pl/thumbnail/teaser_promoted/articles/hero.jpg\"/>\n",
            "<meta property=\"og:type\" content=\"website\" />\n",
            "<meta property=\"og:url\" content=\"https://uek.krakow.pl/artykuly/nauka/blockchain-moze-pomoc-zwalczac-fake-newsy\"/>\n",
            "<meta property=\"fb:app_id\" content=\"644855922663718\"/>\n",
            "<meta property=\"author\" content=\"http://contextit.pl\"/>\n",
            "            <link rel=\"shortcut icon\" href=\"/assets/icons/favicon.ico\">\n",
            "    <link rel=\"apple-touch-icon\" href=\"/assets/icons/touch-icon-ipad.png\">\n",
            "    <link rel=\"apple-touch-icon-precomposed\" sizes=\"72x72\" href=\"/assets/icons/touch-icon-iphone.png\">\n",
            "    <link rel=\"apple-touch-icon-precomposed\" sizes=\"114x114\" href=\"/assets/icons/touch-icon-iphone4.png\">\n",
            "    <link href=\"https://stackpath.bootstrapcdn.com/font-awesome/4.7.0/css/font-awesome.min.css\" rel=\"stylesheet\" integrity=\"sha384-wvfXpqpZZVQGK6TAh5PVlGOfQNHSoD2xbE+QkPxCAFlNEevoEH3Sl0sibVcOQVnN\" crossorigin=\"anonymous\">\n",
            "\n",
            "    <link href=\"/main.bundle.css?v=2&t=2021102406\" rel=\"stylesheet\">\n",
            "        <script async src=\"https://www.googletagmanager.com/gtag/js?id=UA-142061000-1\"></script>\n",
            "<script>\n",
            "    window.dataLayer = window.dataLayer || [];\n",
            "    function gtag(){dataLayer.push(arguments);}\n",
            "    gtag('js', new Date());\n",
            "\n",
            "    gtag('config', 'UA-142061000-1');\n",
            "</script>\n",
            "    </head>\n",
            "\n",
            "    <body>\n",
            "    <ul class=\"shortcut-navigation shortcut-navigation--unstyled\">\n",
            "            <li class=\"shortcut-navigation__item\">\n",
            "            <a class=\"shortcut-navigation__link\" href=\"#header-navigation\">Menu główne</a>\n",
            "        </li>\n",
            "            <li class=\"shortcut-navigation__item\">\n",
            "            <a class=\"shortcut-navigation__link\" href=\".search\">Wyszukiwarka</a>\n",
            "        </li>\n",
            "            <li class=\"shortcut-navigation__item\">\n",
            "            <a class=\"shortcut-navigation__link\" href=\"article\">Tresć artykułu</a>\n",
            "        </li>\n",
            "            <li class=\"shortcut-navigation__item\">\n",
            "            <a class=\"shortcut-navigation__link\" href=\".footer__sections\">Stopka</a>\n",
            "        </li>\n",
            "    </ul>\n",
            "    <header id=\"header-navigation\" class=\"header   header--with-breadcrumbs\">\n",
            "    <div class=\"header__top\">\n",
            "    <div class=\"wrapper bg-red\">\n",
            "        <div class=\"container\">\n",
            "            <div>\n",
            "                <div id=\"top-menu\" class=\"top-bar\">\n",
            "                    <nav>\n",
            "                        <ul class=\"nav-list-h nav-list-h--top-bar__main\">\n",
            "                                                            <li>\n",
            "                                    <a\n",
            "                                        href=\"/kandydaci\"\n",
            "                                        title=\"Kandydaci\"\n",
            "                                                                            >\n",
            "                                        Kandydaci\n",
            "                                    </a>\n",
            "                                </li>\n",
            "                                                            <li>\n",
            "                                    <a\n",
            "                                        href=\"/studenci\"\n",
            "                                        title=\"Studenci\"\n",
            "                                                                            >\n",
            "                                        Studenci\n",
            "                                    </a>\n",
            "                                </li>\n",
            "                                                            <li>\n",
            "                                    <a\n",
            "                                        href=\"/doktoranci\"\n",
            "                                        title=\"Doktoranci\"\n",
            "                                                                            >\n",
            "                                        Doktoranci\n",
            "                                    </a>\n",
            "                                </li>\n",
            "                                                            <li>\n",
            "                                    <a\n",
            "                                        href=\"/pracownicy\"\n",
            "                                        title=\"Pracownicy\"\n",
            "                                                                            >\n",
            "                                        Pracownicy\n",
            "                                    </a>\n",
            "                                </li>\n",
            "                                                            <li>\n",
            "                                    <a\n",
            "                                        href=\"/biznes\"\n",
            "                                        title=\"Biznes\"\n",
            "                                                                            >\n",
            "                                        Biznes\n",
            "                                    </a>\n",
            "                                </li>\n",
            "                                                            <li>\n",
            "                                    <a\n",
            "                                        href=\"/absolwenci\"\n",
            "                                        title=\"Absolwenci\"\n",
            "                                                                            >\n",
            "                                        Absolwenci\n",
            "                                    </a>\n",
            "                                </li>\n",
            "                                                    </ul>\n",
            "                    </nav>\n",
            "                    <aside>\n",
            "                        <div class=\"header-tools\">\n",
            "                            <div class=\"theme-selection header-tools__themes\">\n",
            "                                <ul class=\"theme-selection__list\">\n",
            "                                                                                                            <li class=\"theme-selection__item theme-selection__item--main\">\n",
            "                                        <a class=\"theme-selection__item-label\" title=\"motyw główny\" href=\"/zmien-motyw/main\">A</a>\n",
            "                                    </li>\n",
            "                                                                                                            <li class=\"theme-selection__item theme-selection__item--black-white\">\n",
            "                                        <a class=\"theme-selection__item-label\" title=\"biały na czarnym\" href=\"/zmien-motyw/black-white\">A</a>\n",
            "                                    </li>\n",
            "                                                                                                            <li class=\"theme-selection__item theme-selection__item--black-yellow\">\n",
            "                                        <a class=\"theme-selection__item-label\" title=\"żółty na czarnym\" href=\"/zmien-motyw/black-yellow\">A</a>\n",
            "                                    </li>\n",
            "                                                                                                            <li class=\"theme-selection__item theme-selection__item--yellow-black\">\n",
            "                                        <a class=\"theme-selection__item-label\" title=\"czarny na zółtym\" href=\"/zmien-motyw/yellow-black\">A</a>\n",
            "                                    </li>\n",
            "                                                                    </ul>\n",
            "                            </div>\n",
            "\n",
            "                            <div class=\"fonts-selection header-tools__fonts\">\n",
            "                                <ul class=\"fonts-selection__list\">\n",
            "                                    <li class=\"fonts-selection__item fonts-selection__item--normal\">\n",
            "                                        <button class=\"fonts-selection__item-label\" title=\"normalna\" data-value=\"100\">A</button>\n",
            "                                    </li>\n",
            "                                    <li class=\"fonts-selection__item fonts-selection__item--bigger\">\n",
            "                                        <button class=\"fonts-selection__item-label\" title=\"większa\" data-value=\"110\">A</button>\n",
            "                                    </li>\n",
            "                                    <li class=\"fonts-selection__item fonts-selection__item--bigest\">\n",
            "                                        <button class=\"fonts-selection__item-label\" title=\"największa\" data-value=\"120\">A</button>\n",
            "                                    </li>\n",
            "                                </ul>\n",
            "                            </div>\n",
            "\n",
            "                            <div class=\"language-selection\">\n",
            "                                <form action=\"/change/locale\" method=\"POST\">\n",
            "                                    <input name=\"current_path\" value=\"/artykuly/nauka/blockchain-moze-pomoc-zwalczac-fake-newsy\" type=\"hidden\"/>\n",
            "                                    <input name=\"current_locale\" value=\"pl\" type=\"hidden\"/>\n",
            "                                    <ul class=\"language-selection__list\">\n",
            "                                                                                <li class=\"language-selection__item\">\n",
            "                                            <button\n",
            "                                                    class=\"language-selection__text\"\n",
            "                                                    name=\"selected\"\n",
            "                                                    type=\"submit\"\n",
            "                                                    title=\"Zmień język en\"\n",
            "                                                    value=\"en\"\n",
            "                                            >en</button>\n",
            "                                        </li>\n",
            "                                                                            </ul>\n",
            "                                </form>\n",
            "                            </div>\n",
            "                        </div>\n",
            "                    </aside>\n",
            "                </div>\n",
            "            </div>\n",
            "        </div>\n",
            "    </div>\n",
            "</div>\n",
            "\n",
            "\n",
            "\n",
            "    <div class=\"header__bottom\">\n",
            "  <div class=\"wrapper bg-light\">\n",
            "    <div class=\"container container--header-bottom\">\n",
            "      <div>\n",
            "        <div class=\"primary-bar\">\n",
            "          <div class=\"primary-bar__navigation\">\n",
            "              <button id=\"main-menu-trigger\" class=\"hamburger hamburger--slider\" type=\"button\"\n",
            "        aria-label=\"Menu\" aria-controls=\"main-menu\">\n",
            "  <span class=\"hamburger-box\">\n",
            "    <span class=\"hamburger-inner\"></span>\n",
            "  </span>\n",
            "</button>\n",
            "\n",
            "<nav\n",
            "        id=\"main-menu\"\n",
            "        role=\"navigation\"\n",
            "        class=\"main-menu\"\n",
            "        aria-expanded=\"false\"\n",
            "        aria-label=\"Main menu\"\n",
            ">\n",
            "    <ul>\n",
            "                <li><a href=\"/uniwersytet\" title=\"Uniwersytet\">Uniwersytet</a></li>\n",
            "                <li><a href=\"/rektor\" title=\"Rektor\">Rektor</a></li>\n",
            "                <li><a href=\"/nauka\" title=\"Nauka \">Nauka </a></li>\n",
            "                <li><a href=\"/ksztacenie\" title=\"Kształcenie\">Kształcenie</a></li>\n",
            "                <li><a href=\"/wspolpraca\" title=\"Współpraca\">Współpraca</a></li>\n",
            "            </ul>\n",
            "</nav>\n",
            "<label\n",
            "        for=\"main-menu-checkbox\"\n",
            "        class=\"backdrop\"\n",
            "        tabindex=\"-1\"\n",
            "        aria-hidden=\"true\" hidden>\n",
            "</label>\n",
            "          </div>\n",
            "\n",
            "          <div class=\"primary-bar__logo\">\n",
            "              <div class=\"brand\">\n",
            "  <a class=\"brand__link\" href=\"/\" title=\"Powrót na stronę główną\">\n",
            "    <img\n",
            "      class=\"brand__logo\"\n",
            "      src=\"/static/images/logo_uek_red.svg\"\n",
            "      alt=\"logo\"\n",
            "    />\n",
            "  </a>\n",
            "</div>\n",
            "          </div>\n",
            "\n",
            "          <div class=\"primary-bar__search\">\n",
            "              <form class=\"search\" data-query-url=\"https://sg-api.uek.krakow.pl/api/search\" action=\"/wyszukiwarka\">\n",
            "  <input\n",
            "    class=\"search__input\"\n",
            "    id=\"search\"\n",
            "    aria-label=\"Wyszukiwarka\"\n",
            "    type=\"text\"\n",
            "    name=\"q\"\n",
            "    placeholder=\"Wyszukaj w serwisie\"\n",
            "    autocomplete=\"off\"\n",
            "  />\n",
            "  <div class=\"search__button-wrapper\">\n",
            "    <button\n",
            "      title=\"wyszukaj\"\n",
            "      class=\"search__button search__button--lookup\"\n",
            "    ></button>\n",
            "  </div>\n",
            "  <div class=\"search__autocomplete\">\n",
            "    <ul class=\"search__autocomplete-list\">\n",
            "    </ul>\n",
            "    <div class=\"search__summary\">\n",
            "      <span class=\"search__summary-results-count\" data-label=\"__count__ wyników dla &quot;__query__&quot;\">0 wyników dla \"\"</span>\n",
            "    </div>\n",
            "  </div>\n",
            "</form>\n",
            "\n",
            "<a class=\"header-button header-button--search search-toggle\">\n",
            "  <span class=\"sr-only\">Open search</span>\n",
            "  <span class=\"fa fa-search\" aria-hidden=\"true\"></span>\n",
            "</a>\n",
            "          </div>\n",
            "\n",
            "          <div class=\"primary-bar__emblem\">\n",
            "              <div class=\"emblem\">\n",
            "    <img class=\"emblem__image\" alt=\"Godło Polski\" src=\"/static/images/Herb_Polski.svg\"/>\n",
            "</div>\n",
            "          </div>\n",
            "        </div>\n",
            "      </div>\n",
            "    </div>\n",
            "  </div>\n",
            "</div>\n",
            "            <div class=\"breadcrumbs\">\n",
            "  <div class=\"container\">\n",
            "    <div class=\"breadcrumbs__container\">\n",
            "          <a href=\"/\">Strona główna</a>\n",
            "          <a href=\"/artykuly/nauka\">Doniesienia naukowe</a>\n",
            "          <a href=\"/artykuly/nauka/blockchain-moze-pomoc-zwalczac-fake-newsy\">Blockchain może pomóc zwalczać fake newsy</a>\n",
            "        </div>\n",
            "  </div>\n",
            "</div>\n",
            "    </header>\n",
            "\n",
            "            <div class=\"hero article-hero\">\n",
            "  <div\n",
            "    class=\"wrapper wrapper--hero\"\n",
            "    style=\"background-image:url('https://sg-cdn.uek.krakow.pl/thumbnail/hero/articles/hero.jpg'); background-image: -webkit-image-set(url('https://sg-cdn.uek.krakow.pl/thumbnail/hero/articles/hero.jpg') 1x, url('https://sg-cdn.uek.krakow.pl/thumbnail/hero_x2/articles/hero.jpg') 2x); background-image: image-set(url('https://sg-cdn.uek.krakow.pl/thumbnail/hero/articles/hero.jpg') 1x, url('https://sg-cdn.uek.krakow.pl/thumbnail/hero_x2/articles/hero.jpg') 2x) \"\n",
            "  >\n",
            "    <div class=\"container\">\n",
            "      <section class=\"hero-text\">\n",
            "        <h1 class=\"hero-text__title hero-text__title--blue\">\n",
            "          Blockchain może pomóc zwalczać fake newsy\n",
            "        </h1>\n",
            "      </section>\n",
            "\n",
            "      \n",
            "      \n",
            "              <small class=\"article-hero__img-attribution\">\n",
            "                      <a href=\"https://sg-cdn.uek.krakow.pl/thumbnail/hero/articles/hero.jpg\" target=\"_blank\"></a>\n",
            "                  </small>\n",
            "          </div>\n",
            "  </div>\n",
            "</div>\n",
            "\n",
            "    <div class=\"article-toolbar article-toolbar--blue\">\n",
            "  <div class=\"article-navigation\">\n",
            "  <input id=\"article-menu-checkbox\" type=\"checkbox\">\n",
            "  \n",
            "  <label for=\"article-menu-checkbox\" class=\"article-navigation__toggle article-navigation__toggle--blue\">\n",
            "    <span class=\"sr-only\">Open article menu</span>\n",
            "    <span class=\"fa fa-bars\" aria-hidden=\"true\"></span>\n",
            "    \n",
            "              </label>\n",
            "  \n",
            "  <nav\n",
            "    id=\"article-menu\"\n",
            "    role=\"navigation\"\n",
            "    class=\"article-menu\"\n",
            "    aria-expanded=\"false\"\n",
            "    aria-label=\"Article menu\"\n",
            "  >\n",
            "    <ul>\n",
            "            <li>\n",
            "                        <a href=\"/artykuly/nauka\">\n",
            "          Doniesienia naukowe\n",
            "        </a>\n",
            "      </li>\n",
            "            <li>\n",
            "                        <a href=\"/artykuly/aktualnosci\">\n",
            "          Aktualności\n",
            "        </a>\n",
            "      </li>\n",
            "            <li>\n",
            "                        <a href=\"/artykuly/wydarzenia\">\n",
            "          Wydarzenia\n",
            "        </a>\n",
            "      </li>\n",
            "            <li>\n",
            "                        <a href=\"/artykuly/studenci\">\n",
            "          Życie akademickie\n",
            "        </a>\n",
            "      </li>\n",
            "          </ul>\n",
            "  </nav>\n",
            "  <label\n",
            "    for=\"article-menu-checkbox\"\n",
            "    class=\"backdrop\"\n",
            "    tabindex=\"-1\"\n",
            "    aria-hidden=\"true\"\n",
            "  >\n",
            "  </label>\n",
            "</div>\n",
            "  <div class=\"article-toolbar__domain article-toolbar__domain--blue\">Doniesienia naukowe</div>\n",
            "  <div class=\"article-toolbar__time\">2019-06-06</div>\n",
            "  <div class=\"article-toolbar__divider\"></div>\n",
            "  <div class=\"social-info\">\n",
            "  </div>\n",
            "  <div class=\"social-media-buttons\">\n",
            "      </div>\n",
            "    <div class=\"social-media-buttons__divider\"></div>\n",
            "  <div class=\"social-media-buttons__share\">\n",
            "          </div>\n",
            "</div>\n",
            "</div>\n",
            "    <article class=\"article-content article-content--blue\">\n",
            "  <div class=\"article-introduction\">\n",
            "  <div class=\"container\">\n",
            "    <h1 class=\"article-introduction__title\">Blockchain może pomóc zwalczać fake newsy</h1>\n",
            "    <p class=\"article-introduction__content\">Nieprawdziwe wiadomości zwykle nie są związane z wiarygodnym źródłem ani autorytetem. Można je eliminować używając metody przypominającej zakłady bukmacherskie.</p>\n",
            "      </div>\n",
            "</div>\n",
            "  <div class=\"container article-content__content\">\n",
            "    <div class=\"raw\"><p>Dezinformacja i zjawisko fake news są jednymi z największych zagrożeń dla współczesnego społeczeństwa opartego na informacji. Aktualnie w Internecie zarejestrowanych jest około miliarda domen, każdego dnia przybywa 100 tysięcy nowych witryn, a każdej sekundy ilość danych wzrasta o 50 tysięcy gigabajtów. Nawet jeśli tylko ułamek tych danych jest nieprawdziwy, to w tej skali urasta on do olbrzymich rozmiarów.</p>\n",
            "<p>Ta sama technologia informatyczna daje jednak pewną nadzieję na uratowanie ludzkości przed zalewem fałszywych informacji. Tak przynajmniej uważa Radosław Nicieja, student II stopnia Informatyki stosowanej, który wraz ze studentami Uniwersytetu Ekonomicznego w Krakowie oraz innych uczelni polskich i zagranicznych uczestniczył w<a href=\"https://cfm.uek.krakow.pl/\"> 11. Międzynarodowej Konferencji Naukowej Wydziału Zarządzania UEK.</a></p>\n",
            "<p>W trakcie wydarzenia Radosław Nicieja zaprezentował koncepcję systemu decydującego o autentyczności informacji. Wykorzystuje on zakłady, w których stawką mogłyby być rzeczywiste pieniądze, podobnie jak w tych bukmacherskich.</p>\n",
            "</div><div class=\"layout__element\"><div class=\"resource\">  <h2 class=\"resource__title\"> Swoboda kontra wiarygodność</h2>  <p class=\"resource__content\"><div>W gospodarce cyfrowej tworzenie i prezentacja treści stały się wygodne i łatwe. Informacje w postaci obrazów, filmów lub tekstu są obecnie tworzone i publikowane na dużą skalę nawet przez zupełnych amatorów. Każda osoba może napisać artykuł lub inną treść i udostępnić ją całemu światu.</div><div><br></div><div>Doprowadza to do destrukcji autorytetu samego medium komunikacji:&nbsp; fakt opublikowania informacji nie jest wystarczającym dowodem jej wiarygodności. Co gorsza, rozwój sztucznej inteligencji, grafiki komputerowej i innych technologii sprawia, iż granice między treścią autentyczną, zniekształconą i całkowicie fikcyjną zaczynają się coraz bardziej zacierać.</div><div><br></div><div>Fake newsy łączą w sobie formę oszustwa i manipulacji. Były postrzegane jeszcze do niedawna jako treść całkowicie nieprawdziwa, aktualnie również należy do tej kategorii nieścisłość, nadinterpretacja i przeinaczenie. Z drugiej strony nie każda nieprawdziwa wiadomość to fake news, gdyż należy jeszcze pozostawić miejsce na satyrę, parodię czy inne zabiegi twórcze.</div></p></div></div><div class=\"layout__element\"><div class=\"resource\">  <h2 class=\"resource__title\">Wszechstronny blockchain</h2>  <p class=\"resource__content\"><div>Technologia blockchain może pomóc chronić się przed fake newsami – choć paradoksalnie sama nosi piętno dezinformacji, ponieważ wciąż nie udało się ustalić, kto jest jej twórcą. Początkowo służyła ona do księgowania transakcji realizowanych przy użyciu kryptowalut. Z czasem jednak zauważono, że blockchain może mieć bardzo wiele innych zastosowań.</div><div><br></div><div>Jako rozproszony i jawny rejestr przypominający księgę rachunkową, blockchain oferuje możliwość przechowywania wiarygodnych danych, co do których autentyczności można być pewnym. Skłania to do poszukiwań takich zastosowań technologii, które pomagałyby eliminować fake newsy.</div><div><br></div><div>Jeszcze większe możliwości oferuje zawarty w obrębie blockchain system inteligentnych kontraktów. Umowa tego rodzaju bezpośrednio kontroluje transfer walut cyfrowych lub inne transakcje między stronami zachodzące pod pewnymi warunkami. Inteligentna umowa nie tylko definiuje zasady i kary, podobnie jak tradycyjna umowa, ale może również automatycznie egzekwować te zobowiązania.</div></p></div></div><div class=\"layout__element\"><figure class=\"figure figure--with-caption\">  <div>    <img src=\"http://sg-cdn.uek.krakow.pl/thumbnail/article_full/article/science/blockchain-moze-pomoc-zwalczac-fake-newsy/pl/bcfake.png\" title=\"Schemat działania systemu\"/>                </div>      <figcaption class=\"figure__caption\">Schemat działania systemu</figcaption>  </figure></div><div class=\"layout__element\"><div class=\"resource\">  <h2 class=\"resource__title\">Zakład o prawdziwość</h2>  <p class=\"resource__content\"><div>Zaproponowane przez Radosława Nicieję rozwiązanie łączy w sobie kilka pomysłów. Po pierwsze, nowe doniesienia wstępnie oceniane są przez moduł sztucznej inteligencji wykorzystujący typowe i używane obecnie techniki uczenia maszynowego. Nie ma on jednak zdania decydującego.</div><div><br></div><div>W drugim etapie wkraczają użytkownicy pełniący rolę arbitrów, którzy na podstawie wstępnej oceny oraz własnych przewidywań głosują, czy wiadomość jest autentyczna. Swoje głosy muszą uzasadnić podając odpowiednie źródła, a także poprzeć stawką zakładu – stawiając własne pieniądze jako poręczenie, że dany artykuł jest prawdziwy lub fałszywy.</div><div><br></div><div>Ostatni etap to agregacja i rozstrzygnięcie zakładów, najpierw przez odpowiednio wytrenowany model sztucznej inteligencji, a ostatecznie przez człowieka. Wszyscy zaangażowani w proces użytkownicy wnoszą wkład w postaci udostępnionej mocy obliczeniowej, czasu lub stawki zakładu. Po ostatecznym werdykcie ci użytkownicy, którzy trafnie ocenili wiadomość, dzielą się zyskiem.</div><div><br></div><div>Dodatkowo każda rozpatrzona wiadomość staje się kolejnym przypadkiem wykorzystywanym do trenowania modeli sztucznej inteligencji.</div><div><br></div><div>Nagrodzeni autorzy i użytkownicy, którzy trafnie głosowali, zostaną dołączeni do rozproszonego rejestru zaufanych autorytetów, obsługiwanego przez blockchain. W ten sposób mogą zyskiwać reputację braną pod uwagę w przyszłości, podczas oceniania nowych wiadomości, których będą autorami.</div><div><br></div><div>Ktoś jednak musi tracić, podobnie jak w zakładach bukmacherskich. “Tracą oczywiście autorzy fake newsów oraz ci, którzy próbują ich uwiarygodnić,” objaśnia swój pomysł Radosław Nicieja. “W ten sposób każdy, kto będzie chciał rozpowszechniać fałszywe wiadomości, będzie musiał ponosić za to koszty.”</div><div><br></div><div>Gdyby udało się całkowicie wyeliminować fałszywe informacje, system przestanie się bilansować, gdyż wszyscy powinni tylko zyskiwać. – Wątpię jednak, żeby to nastąpiło w najbliższym czasie – uspokaja autor koncepcji.</div></p></div></div><div class=\"layout__element\"><div class=\"resource\">  <h2 class=\"resource__title\"></h2>  <p class=\"resource__content\"></p></div></div>\n",
            "  </div>\n",
            "  <div class=\"article-author\">\n",
            "  <div class=\"container\">\n",
            "    <h2>O autorze</h2>\n",
            "    <div class=\"person\">\n",
            "      <div class=\"person__avatar\" style=\"background-image: url('https://sg-cdn.uek.krakow.pl/thumbnail/avatar_x2/static/logo.png');\"></div>\n",
            "    <div>\n",
            "    <h6 class=\"person__name\">Redakcja Uniwersytetu Ekonomicznego</h6>\n",
            "    <p class=\"person__info\">Redakcja Uniwersytetu Ekonomicznego</p>\n",
            "    <p class=\"person__statement\"></p>\n",
            "  </div>\n",
            "</div>\n",
            "  </div>\n",
            "</div>\n",
            "  <div class=\"article-footer\">\n",
            "  <div class=\"container\">\n",
            "    <div class=\"social-media-buttons\">\n",
            "      </div>\n",
            "    <div class=\"social-media-buttons__divider\"></div>\n",
            "  <div class=\"social-media-buttons__share\">\n",
            "          </div>\n",
            "</div>\n",
            "  </div>\n",
            "</div>\n",
            "</article>\n",
            "\n",
            "    <script type=\"application/ld+json\">\n",
            "        {\n",
            "            \"@context\": \"http://schema.org\",\n",
            "            \"@type\": \"Article\",\n",
            "            \"mainEntityOfPage\": {\n",
            "                \"@type\": \"WebPage\",\n",
            "                \"@id\": \"https://uek.krakow.pl/artykuly/nauka/blockchain-moze-pomoc-zwalczac-fake-newsy\"\n",
            "            },\n",
            "            \"author\": \"Redakcja Uniwersytetu Ekonomicznego\",\n",
            "            \"name\": \"Blockchain może pomóc zwalczać fake newsy\",\n",
            "            \"description\": \"Nieprawdziwe wiadomości zwykle nie są związane z wiarygodnym źródłem ani autorytetem. Można je eliminować używając metody przypominającej zakłady bukmacherskie.\",\n",
            "            \"datePublished\": \"2019-06-06\",\n",
            "            \"dateModified\": \"2019-06-06\",\n",
            "            \"headline\": \"Blockchain może pomóc zwalczać fake newsy\",\n",
            "            \"publisher\": {\n",
            "              \"@type\": \"Organization\",\n",
            "              \"name\": \"Redakcja Uniwersytetu Ekonomicznego\",\n",
            "              \"logo\": {\n",
            "                \"@type\": \"ImageObject\",\n",
            "                \"url\": \"/thumbnail/avatar_x2/static/logo.png\"\n",
            "              }\n",
            "            },\n",
            "            \"image\": \"https://sg-cdn.uek.krakow.pl/thumbnail/hero/articles/hero.jpg\",\n",
            "            \"interactionStatistic\": [\n",
            "                {\n",
            "                    \"@type\": \"InteractionCounter\",\n",
            "                    \"interactionService\": {\n",
            "                        \"@type\": \"WebSite\",\n",
            "                        \"name\": \"Facebook\",\n",
            "                        \"url\": \"https://facebook.com\"\n",
            "                    },\n",
            "                    \"interactionType\": \"http://schema.org/ShareAction\",\n",
            "                    \"userInteractionCount\": \"0\"\n",
            "                },\n",
            "                {\n",
            "                    \"@type\": \"InteractionCounter\",\n",
            "                    \"interactionService\": {\n",
            "                        \"@type\": \"WebSite\",\n",
            "                        \"name\": \"Facebook\",\n",
            "                        \"url\": \"https://facebook.com\"\n",
            "                    },\n",
            "                    \"interactionType\": \"http://schema.org/LikeAction\",\n",
            "                    \"userInteractionCount\": \"1\"\n",
            "                }\n",
            "            ]\n",
            "        }\n",
            "    </script>\n",
            "    <div class=\"article-discovery\">\n",
            "                <div class=\"article-wrapper article-wrapper--wide article-wrapper--carousel\">\n",
            "  <div class=\"container\">\n",
            "    <div class=\"article-wrapper__header\">\n",
            "      <h2 class=\"article-wrapper__title article-wrapper__title--no-border\">Popularne artykuły</h2>\n",
            "      <div class=\"article-carousel__dots\" id=\"article-carousel-dots\"></div>\n",
            "      <div class=\"article-wrapper__pagination\">\n",
            "        <button class=\"prev\"></button>\n",
            "        <button class=\"next\"></button>\n",
            "      </div>\n",
            "    </div>\n",
            "\n",
            "    <div class=\"article-wrapper__carousel article-carousel\" id=\"article-carousel\">\n",
            "              \n",
            "<section\n",
            "  class=\"article-item\"\n",
            "  >\n",
            "  <div\n",
            "    class=\"image-wrapper\"\n",
            "    style=\"background-image:url('https://sg-cdn.uek.krakow.pl/thumbnail/teaser/articles/adobestock_314944592.jpeg')\"\n",
            "  >\n",
            "    \n",
            "          <div class=\"content\">\n",
            "        <div class=\"top-label\">\n",
            "          <span class=\"top-label__domain top-label__domain--red\">\n",
            "            Aktualności\n",
            "          </span>\n",
            "        </div>\n",
            "                  <div class=\"social-info\">\n",
            "  </div>\n",
            "              </div>\n",
            "      </div>\n",
            "\n",
            "  <div class=\"text-wrapper text-offset\">\n",
            "  \n",
            "      \n",
            "    <h3 class=\"text-wrapper__title text-wrapper__title--3-lines\">\n",
            "      <a href=\"/artykuly/aktualnosci/28-pazdziernika-2020-r-dniem-wolnym-od-zajec-dydaktycznych\">28 października 2020 r. dniem wolnym od zajęć dydaktycznych</a>\n",
            "    </h3>\n",
            "        \n",
            "  </div>\n",
            "</section>\n",
            "              \n",
            "<section\n",
            "  class=\"article-item\"\n",
            "  >\n",
            "  <div\n",
            "    class=\"image-wrapper\"\n",
            "    style=\"background-image:url('https://sg-cdn.uek.krakow.pl/thumbnail/teaser/articles/pm_0035123123123(1).jpg')\"\n",
            "  >\n",
            "    \n",
            "          <div class=\"content\">\n",
            "        <div class=\"top-label\">\n",
            "          <span class=\"top-label__domain top-label__domain--red\">\n",
            "            Aktualności\n",
            "          </span>\n",
            "        </div>\n",
            "                  <div class=\"social-info\">\n",
            "  </div>\n",
            "              </div>\n",
            "      </div>\n",
            "\n",
            "  <div class=\"text-wrapper text-offset\">\n",
            "  \n",
            "      \n",
            "    <h3 class=\"text-wrapper__title text-wrapper__title--3-lines\">\n",
            "      <a href=\"/artykuly/aktualnosci/dr-magdalena-gorzelany-dziadkowiec-laureatka-nagrody-amicus-hominum\">Dr Magdalena Gorzelany-Dziadkowiec laureatką Nagrody Amicus Hominum </a>\n",
            "    </h3>\n",
            "        \n",
            "  </div>\n",
            "</section>\n",
            "              \n",
            "<section\n",
            "  class=\"article-item\"\n",
            "  >\n",
            "  <div\n",
            "    class=\"image-wrapper\"\n",
            "    style=\"background-image:url('https://sg-cdn.uek.krakow.pl/thumbnail/teaser/articles/95-lat-uniwersytetu-ekonomicznego-w-krakowie/propozycja-01.jpg')\"\n",
            "  >\n",
            "    \n",
            "          <div class=\"content\">\n",
            "        <div class=\"top-label\">\n",
            "          <span class=\"top-label__domain top-label__domain--red\">\n",
            "            Aktualności\n",
            "          </span>\n",
            "        </div>\n",
            "                  <div class=\"social-info\">\n",
            "  </div>\n",
            "              </div>\n",
            "      </div>\n",
            "\n",
            "  <div class=\"text-wrapper text-offset\">\n",
            "  \n",
            "      \n",
            "    <h3 class=\"text-wrapper__title text-wrapper__title--3-lines\">\n",
            "      <a href=\"/artykuly/aktualnosci/95-lat-uniwersytetu-ekonomicznego-w-krakowie\">95 lat Uniwersytetu Ekonomicznego w Krakowie</a>\n",
            "    </h3>\n",
            "        \n",
            "  </div>\n",
            "</section>\n",
            "              \n",
            "<section\n",
            "  class=\"article-item\"\n",
            "  >\n",
            "  <div\n",
            "    class=\"image-wrapper\"\n",
            "    style=\"background-image:url('https://sg-cdn.uek.krakow.pl/thumbnail/teaser/articles/prof-jerzy-hausner-doktorem-honoris-causa-szkoly-glownej-handlowej/lepsze.jpg')\"\n",
            "  >\n",
            "    \n",
            "          <div class=\"content\">\n",
            "        <div class=\"top-label\">\n",
            "          <span class=\"top-label__domain top-label__domain--red\">\n",
            "            Aktualności\n",
            "          </span>\n",
            "        </div>\n",
            "                  <div class=\"social-info\">\n",
            "  </div>\n",
            "              </div>\n",
            "      </div>\n",
            "\n",
            "  <div class=\"text-wrapper text-offset\">\n",
            "  \n",
            "      \n",
            "    <h3 class=\"text-wrapper__title text-wrapper__title--3-lines\">\n",
            "      <a href=\"/artykuly/aktualnosci/prof-jerzy-hausner-doktorem-honoris-causa-szkoly-glownej-handlowej\">Prof. Jerzy Hausner doktorem honoris causa Szkoły Głównej Handlowej</a>\n",
            "    </h3>\n",
            "        \n",
            "  </div>\n",
            "</section>\n",
            "              \n",
            "<section\n",
            "  class=\"article-item\"\n",
            "  >\n",
            "  <div\n",
            "    class=\"image-wrapper\"\n",
            "    style=\"background-image:url('https://sg-cdn.uek.krakow.pl/thumbnail/teaser/articles/1.jpg')\"\n",
            "  >\n",
            "    \n",
            "          <div class=\"content\">\n",
            "        <div class=\"top-label\">\n",
            "          <span class=\"top-label__domain top-label__domain--red\">\n",
            "            Aktualności\n",
            "          </span>\n",
            "        </div>\n",
            "                  <div class=\"social-info\">\n",
            "  </div>\n",
            "              </div>\n",
            "      </div>\n",
            "\n",
            "  <div class=\"text-wrapper text-offset\">\n",
            "  \n",
            "      \n",
            "    <h3 class=\"text-wrapper__title text-wrapper__title--3-lines\">\n",
            "      <a href=\"/artykuly/aktualnosci/100-lecie-urodzin-jana-pawla-ii\">100-lecie urodzin Jana Pawła II</a>\n",
            "    </h3>\n",
            "        \n",
            "  </div>\n",
            "</section>\n",
            "              \n",
            "<section\n",
            "  class=\"article-item\"\n",
            "  >\n",
            "  <div\n",
            "    class=\"image-wrapper\"\n",
            "    style=\"background-image:url('https://sg-cdn.uek.krakow.pl/thumbnail/teaser/articles/lepsze-(2).jpg')\"\n",
            "  >\n",
            "    \n",
            "          <div class=\"content\">\n",
            "        <div class=\"top-label\">\n",
            "          <span class=\"top-label__domain top-label__domain--red\">\n",
            "            Aktualności\n",
            "          </span>\n",
            "        </div>\n",
            "                  <div class=\"social-info\">\n",
            "  </div>\n",
            "              </div>\n",
            "      </div>\n",
            "\n",
            "  <div class=\"text-wrapper text-offset\">\n",
            "  \n",
            "      \n",
            "    <h3 class=\"text-wrapper__title text-wrapper__title--3-lines\">\n",
            "      <a href=\"/artykuly/aktualnosci/zarzadzenie-jm-rektora-uek-z-dnia-11-marca-2020\">Zarządzenie JM Rektora UEK z dnia 11 marca 2020</a>\n",
            "    </h3>\n",
            "        \n",
            "  </div>\n",
            "</section>\n",
            "              \n",
            "<section\n",
            "  class=\"article-item\"\n",
            "  >\n",
            "  <div\n",
            "    class=\"image-wrapper\"\n",
            "    style=\"background-image:url('https://sg-cdn.uek.krakow.pl/thumbnail/teaser/articles/krasp1.jpg')\"\n",
            "  >\n",
            "    \n",
            "          <div class=\"content\">\n",
            "        <div class=\"top-label\">\n",
            "          <span class=\"top-label__domain top-label__domain--red\">\n",
            "            Aktualności\n",
            "          </span>\n",
            "        </div>\n",
            "                  <div class=\"social-info\">\n",
            "  </div>\n",
            "              </div>\n",
            "      </div>\n",
            "\n",
            "  <div class=\"text-wrapper text-offset\">\n",
            "  \n",
            "      \n",
            "    <h3 class=\"text-wrapper__title text-wrapper__title--3-lines\">\n",
            "      <a href=\"/artykuly/aktualnosci/powolania-do-rady-glownej-nauki-i-szkolnictwa-wyzszego\">Powołania do Rady Głównej Nauki i Szkolnictwa Wyższego</a>\n",
            "    </h3>\n",
            "        \n",
            "  </div>\n",
            "</section>\n",
            "              \n",
            "<section\n",
            "  class=\"article-item\"\n",
            "  >\n",
            "  <div\n",
            "    class=\"image-wrapper\"\n",
            "    style=\"background-image:url('https://sg-cdn.uek.krakow.pl/thumbnail/teaser/articles/prorektor-dr-hab-piotr-bula-prof-uek-doktorem-honoris-causa-akademii-studiow-ekonomicznych-w-moldawii/242654717_808654689831665_6817556796963511244_n.jpg')\"\n",
            "  >\n",
            "    \n",
            "          <div class=\"content\">\n",
            "        <div class=\"top-label\">\n",
            "          <span class=\"top-label__domain top-label__domain--red\">\n",
            "            Aktualności\n",
            "          </span>\n",
            "        </div>\n",
            "                  <div class=\"social-info\">\n",
            "  </div>\n",
            "              </div>\n",
            "      </div>\n",
            "\n",
            "  <div class=\"text-wrapper text-offset\">\n",
            "  \n",
            "      \n",
            "    <h3 class=\"text-wrapper__title text-wrapper__title--3-lines\">\n",
            "      <a href=\"/artykuly/aktualnosci/prorektor-dr-hab-piotr-bula-prof-uek-doktorem-honoris-causa-akademii-studiow-ekonomicznych-w-moldawii\">Prorektor, dr hab. Piotr Buła, prof. UEK Doktorem Honoris Causa Akademii Studiów Ekonomicznych w Mołdawii</a>\n",
            "    </h3>\n",
            "        \n",
            "  </div>\n",
            "</section>\n",
            "              \n",
            "<section\n",
            "  class=\"article-item\"\n",
            "  >\n",
            "  <div\n",
            "    class=\"image-wrapper\"\n",
            "    style=\"background-image:url('https://sg-cdn.uek.krakow.pl/thumbnail/teaser/articles/top-dyrektorzy.jpg')\"\n",
            "  >\n",
            "    \n",
            "          <div class=\"content\">\n",
            "        <div class=\"top-label\">\n",
            "          <span class=\"top-label__domain top-label__domain--red\">\n",
            "            Aktualności\n",
            "          </span>\n",
            "        </div>\n",
            "                  <div class=\"social-info\">\n",
            "  </div>\n",
            "              </div>\n",
            "      </div>\n",
            "\n",
            "  <div class=\"text-wrapper text-offset\">\n",
            "  \n",
            "      \n",
            "    <h3 class=\"text-wrapper__title text-wrapper__title--3-lines\">\n",
            "      <a href=\"/artykuly/aktualnosci/nowi-dyrektorzy-instytutow\">Nowi dyrektorzy Instytutów </a>\n",
            "    </h3>\n",
            "        \n",
            "  </div>\n",
            "</section>\n",
            "              \n",
            "<section\n",
            "  class=\"article-item\"\n",
            "  >\n",
            "  <div\n",
            "    class=\"image-wrapper\"\n",
            "    style=\"background-image:url('https://sg-cdn.uek.krakow.pl/thumbnail/teaser/articles/20210521_058_s.jpg')\"\n",
            "  >\n",
            "    \n",
            "          <div class=\"content\">\n",
            "        <div class=\"top-label\">\n",
            "          <span class=\"top-label__domain top-label__domain--red\">\n",
            "            Aktualności\n",
            "          </span>\n",
            "        </div>\n",
            "                  <div class=\"social-info\">\n",
            "  </div>\n",
            "              </div>\n",
            "      </div>\n",
            "\n",
            "  <div class=\"text-wrapper text-offset\">\n",
            "  \n",
            "      \n",
            "    <h3 class=\"text-wrapper__title text-wrapper__title--3-lines\">\n",
            "      <a href=\"/artykuly/aktualnosci/spotkanie-jm-rektora-z-przedstawicielami-hospicjum-im-sw-lazarza-w-krakowie\">Spotkanie JM Rektora z przedstawicielami Hospicjum im. św. Łazarza w Krakowie</a>\n",
            "    </h3>\n",
            "        \n",
            "  </div>\n",
            "</section>\n",
            "          </div>\n",
            "  </div>\n",
            "</div>\n",
            "        \n",
            "                <div class=\"article-wrapper article-wrapper--wide article-wrapper--blue\">\n",
            "  <div class=\"container\">\n",
            "    <div class=\"article-wrapper__header\">\n",
            "      <h2 class=\"article-wrapper__title\">Najnowsze doniesienia naukowe</h2>\n",
            "    </div>\n",
            "\n",
            "    <div class=\"article-wrapper__horizontal-grid\">\n",
            "              \n",
            "<section\n",
            "  class=\"article-item article-item--horizontal\"\n",
            "  >\n",
            "  <div\n",
            "    class=\"image-wrapper\"\n",
            "    style=\"background-image:url('https://sg-cdn.uek.krakow.pl/thumbnail/teaser/articles/windmill-gfdc2463f0_1920.jpg')\"\n",
            "  >\n",
            "    \n",
            "          <div class=\"content\">\n",
            "        <div class=\"top-label\">\n",
            "          <span class=\"top-label__domain top-label__domain--blue\">\n",
            "            Doniesienia naukowe\n",
            "          </span>\n",
            "        </div>\n",
            "                  <div class=\"social-info\">\n",
            "  </div>\n",
            "              </div>\n",
            "      </div>\n",
            "\n",
            "  <div class=\"text-wrapper text-offset\">\n",
            "  \n",
            "      \n",
            "    <h3 class=\"text-wrapper__title text-wrapper__title--3-lines\">\n",
            "      <a href=\"/artykuly/nauka/raport-cpp-uek-na-wschod-zwrot-potencjal-sektora-energii-odnawialnej-wybranych-krajow-regionu-sasiedztwa-wschodniego-ue\">Raport CPP UEK: Na wschód zwrot. Potencjał sektora energii odnawialnej wybranych krajów regionu sąsiedztwa wschodniego UE</a>\n",
            "    </h3>\n",
            "        \n",
            "  </div>\n",
            "</section>\n",
            "              \n",
            "<section\n",
            "  class=\"article-item article-item--horizontal\"\n",
            "  >\n",
            "  <div\n",
            "    class=\"image-wrapper\"\n",
            "    style=\"background-image:url('https://sg-cdn.uek.krakow.pl/thumbnail/teaser/articles/2021-09-29_metody-badawcze(1).jpg')\"\n",
            "  >\n",
            "    \n",
            "          <div class=\"content\">\n",
            "        <div class=\"top-label\">\n",
            "          <span class=\"top-label__domain top-label__domain--blue\">\n",
            "            Doniesienia naukowe\n",
            "          </span>\n",
            "        </div>\n",
            "                  <div class=\"social-info\">\n",
            "  </div>\n",
            "              </div>\n",
            "      </div>\n",
            "\n",
            "  <div class=\"text-wrapper text-offset\">\n",
            "  \n",
            "      \n",
            "    <h3 class=\"text-wrapper__title text-wrapper__title--3-lines\">\n",
            "      <a href=\"/artykuly/nauka/kolejna-monografia-pracownikow-uek-bestsellerem-polskiego-wydawnictwa-ekonomicznego\">Kolejna monografia Pracowników UEK bestsellerem Polskiego Wydawnictwa Ekonomicznego</a>\n",
            "    </h3>\n",
            "        \n",
            "  </div>\n",
            "</section>\n",
            "              \n",
            "<section\n",
            "  class=\"article-item article-item--horizontal\"\n",
            "  >\n",
            "  <div\n",
            "    class=\"image-wrapper\"\n",
            "    style=\"background-image:url('https://sg-cdn.uek.krakow.pl/thumbnail/teaser/articles/students-5372390_1920.jpg')\"\n",
            "  >\n",
            "    \n",
            "          <div class=\"content\">\n",
            "        <div class=\"top-label\">\n",
            "          <span class=\"top-label__domain top-label__domain--blue\">\n",
            "            Doniesienia naukowe\n",
            "          </span>\n",
            "        </div>\n",
            "                  <div class=\"social-info\">\n",
            "  </div>\n",
            "              </div>\n",
            "      </div>\n",
            "\n",
            "  <div class=\"text-wrapper text-offset\">\n",
            "  \n",
            "      \n",
            "    <h3 class=\"text-wrapper__title text-wrapper__title--3-lines\">\n",
            "      <a href=\"/artykuly/nauka/w-drodze-do-kokreatywnego-uniwersytetu-nowa-monografia-autorstwa-dr-hab-lukasza-mamicy-prof-uek\">W drodze do kokreatywnego uniwersytetu. Nowa monografia autorstwa dr. hab. Łukasza Mamicy, prof. UEK</a>\n",
            "    </h3>\n",
            "        \n",
            "  </div>\n",
            "</section>\n",
            "              \n",
            "<section\n",
            "  class=\"article-item article-item--horizontal\"\n",
            "  >\n",
            "  <div\n",
            "    class=\"image-wrapper\"\n",
            "    style=\"background-image:url('https://sg-cdn.uek.krakow.pl/thumbnail/teaser/articles/monitor-1307227_1920123.jpg')\"\n",
            "  >\n",
            "    \n",
            "          <div class=\"content\">\n",
            "        <div class=\"top-label\">\n",
            "          <span class=\"top-label__domain top-label__domain--blue\">\n",
            "            Doniesienia naukowe\n",
            "          </span>\n",
            "        </div>\n",
            "                  <div class=\"social-info\">\n",
            "  </div>\n",
            "              </div>\n",
            "      </div>\n",
            "\n",
            "  <div class=\"text-wrapper text-offset\">\n",
            "  \n",
            "      \n",
            "    <h3 class=\"text-wrapper__title text-wrapper__title--3-lines\">\n",
            "      <a href=\"/artykuly/nauka/raport-cpp-uek-niewykorzystany-potencjal-zasoby-branzy-itict-wybranych-krajow-regionu-sasiedztwa-wschodniego\">Raport CPP UEK: Niewykorzystany potencjał. Zasoby branży IT/ICT wybranych krajów regionu sąsiedztwa wschodniego</a>\n",
            "    </h3>\n",
            "        \n",
            "  </div>\n",
            "</section>\n",
            "            <div class=\"grid-masonry-sizer\"></div>\n",
            "    </div>\n",
            "  </div>\n",
            "</div>\n",
            "            </div>\n",
            "\n",
            "    <footer class=\"footer\">\n",
            "  <div class=\"container\">\n",
            "    <div class=\"footer__sections\">\n",
            "                  <div class=\"footer__section\">\n",
            "        <h6 class=\"footer__section-title footer__section-title--toggleable js-toggle\">Zasoby sieciowe</h6>\n",
            "        \n",
            "        <ul class=\"footer__section-links\">\n",
            "          \n",
            "          <li><a href=\"/zasoby-sieciowe/covid-19-informacje-i-zalecenia\" title=\"COVID-19 Informacje i zalecenia\">COVID-19 Informacje i zalecenia</a></li>\n",
            "          \n",
            "          <li><a href=\"/zasoby-sieciowe/polityka-jakosci-ksztalcenia\" title=\"Polityka Jakości Kształcenia\">Polityka Jakości Kształcenia</a></li>\n",
            "          \n",
            "          <li><a href=\"/zasoby-sieciowe/biblioteka-glowna-uek\" title=\"Biblioteka Główna UEK\">Biblioteka Główna UEK</a></li>\n",
            "          \n",
            "          <li><a href=\"/zasoby-sieciowe/osoby-z-niepenosprawnoscia\" title=\" Osoby z niepełnosprawnością\"> Osoby z niepełnosprawnością</a></li>\n",
            "          \n",
            "          <li><a href=\"/zasoby-sieciowe/mapa-serwisu\" title=\"Mapa serwisu\">Mapa serwisu</a></li>\n",
            "          \n",
            "          <li><a href=\"/zasoby-sieciowe/zamowienia-publiczne\" title=\"Zamówienia publiczne\">Zamówienia publiczne</a></li>\n",
            "          \n",
            "          <li><a href=\"/zasoby-sieciowe/deklaracja-dostepnosci\" title=\"Deklaracja dostępności\">Deklaracja dostępności</a></li>\n",
            "          \n",
            "          <li><a href=\"/zasoby-sieciowe/biuletyn-informacji-publicznej\" title=\"Biuletyn Informacji Publicznej\">Biuletyn Informacji Publicznej</a></li>\n",
            "                  </ul>\n",
            "      </div>\n",
            "            <div class=\"footer__section\">\n",
            "        <h6 class=\"footer__section-title footer__section-title--toggleable js-toggle\">Informacje prawne</h6>\n",
            "        \n",
            "        <ul class=\"footer__section-links\">\n",
            "          \n",
            "          <li><a href=\"/informacje-prawne/akty-prawne\" title=\"Akty Prawne\">Akty Prawne</a></li>\n",
            "          \n",
            "          <li><a href=\"/informacje-prawne/polityka-prywatnosci-i-rodo\" title=\"Polityka prywatności i RODO\">Polityka prywatności i RODO</a></li>\n",
            "                  </ul>\n",
            "      </div>\n",
            "            <div class=\"footer__section\">\n",
            "        <h6 class=\"footer__section-title footer__section-title--toggleable js-toggle\">Kontakt</h6>\n",
            "        \n",
            "        <ul class=\"footer__section-links\">\n",
            "          \n",
            "          <li><a href=\"/kontakt/dane-kontaktowe-i-godziny-otwarcia\" title=\"Dane kontaktowe i godziny otwarcia\">Dane kontaktowe i godziny otwarcia</a></li>\n",
            "          \n",
            "          <li><a href=\"/kontakt/kontakt-dla-mediow\" title=\"Kontakt dla mediów\">Kontakt dla mediów</a></li>\n",
            "          \n",
            "          <li><a href=\"/kontakt/lokalizacja-i-dojazd\" title=\"Lokalizacja i dojazd\">Lokalizacja i dojazd</a></li>\n",
            "          \n",
            "          <li><a href=\"/kontakt/ruch-drogowy-na-terenie-uek\" title=\"Ruch drogowy na terenie UEK\">Ruch drogowy na terenie UEK</a></li>\n",
            "                  </ul>\n",
            "      </div>\n",
            "            <div class=\"footer__section\">\n",
            "        <h6 class=\"footer__section-title\">Media</h6>\n",
            "        <ul class=\"footer__social-media\">\n",
            "          <li>\n",
            "            <a href=\"https://www.facebook.com/uek.uniwersytetekonomiczny\" target=\"_blank\" rel=\"noreferrer nooppener\" >\n",
            "              Facebook\n",
            "              <img src=\"/static/icons/facebook.svg\" alt=\"UEK Facebook\">\n",
            "            </a>\n",
            "          </li>\n",
            "          <li>\n",
            "            <a href=\"https://www.youtube.com/user/uekrakow\" target=\"_blank\" rel=\"noreferrer nooppener\" >\n",
            "              YouTube\n",
            "              <img src=\"/static/icons/youtube.svg\" alt=\"UEK YouTube\">\n",
            "            </a>\n",
            "          </li>\n",
            "          <li>\n",
            "            <a href=\"https://twitter.com/uek_krakow\" target=\"_blank\" rel=\"noreferrer nooppener\" >\n",
            "              Twitter\n",
            "              <img src=\"/static/icons/twitter.svg\" alt=\"UEK Twitter\">\n",
            "            </a>\n",
            "          </li>\n",
            "          <li>\n",
            "            <a href=\"https://www.instagram.com/uekrakow/\" target=\"_blank\" rel=\"noreferrer nooppener\" >\n",
            "              Twitter\n",
            "              <img src=\"/static/icons/instagram.svg\" alt=\"UEK instagram\">\n",
            "            </a>\n",
            "          </li>\n",
            "        </ul>\n",
            "      </div>\n",
            "    </div>\n",
            "\n",
            "    <span class=\"footer__separator\"></span>\n",
            "    <div class=\"footer__logo\">\n",
            "      <div class=\"brand\">\n",
            "  <a class=\"brand__link\" href=\"/\" title=\"Powrót na stronę główną\">\n",
            "    <img\n",
            "      class=\"brand__logo\"\n",
            "      src=\"/static/images/logo_uek_white.svg\"\n",
            "      alt=\"logo\"\n",
            "    />\n",
            "  </a>\n",
            "</div>\n",
            "      <div class=\"brand\">\n",
            "  <a class=\"brand__link\" href=\"https://hr.uek.krakow.pl/\" title=\"Powrót na stronę główną\" >\n",
            "    <img\n",
            "      class=\"brand__logo\"\n",
            "      src=\"/static/images/logo_hr.png\"\n",
            "      title=\"HR Excellence in Research\"\n",
            "      alt=\"HR Excellence in Research\"\n",
            "      style=\"padding:0\"\n",
            "    />\n",
            "  </a>\n",
            "</div>\n",
            "    </div>\n",
            "  </div>\n",
            "  <div class=\"copyright copyright__container\">\n",
            "    <div>2021 © Uniwersytet Ekonomiczny w Krakowie</div>\n",
            "  </div>\n",
            "</footer>\n",
            "\n",
            "\n",
            "            <script type=\"text/javascript\" src=\"/assets/index.html.bundle.js?ts=v12021102406\"></script>\n",
            "        <div id=\"fb-root\"></div>\n",
            "<script async defer crossorigin=\"anonymous\"\n",
            "        src=\"https://connect.facebook.net/pl_PL/sdk.js#xfbml=1&version=v3.3&appId=644855922663718&autoLogAppEvents=1\"\n",
            "></script>    </body>\n",
            "</html>\n"
          ]
        }
      ]
    },
    {
      "cell_type": "code",
      "metadata": {
        "colab": {
          "base_uri": "https://localhost:8080/"
        },
        "id": "o6iFKN9cA1Z5",
        "outputId": "fd10c89d-71ec-4294-abed-c2f49f999584"
      },
      "source": [
        "pip install "
      ],
      "execution_count": null,
      "outputs": [
        {
          "name": "stdout",
          "output_type": "stream",
          "text": [
            "Requirement already satisfied: beautifulsoup4 in /usr/local/lib/python3.7/dist-packages (4.6.3)\n"
          ]
        }
      ]
    },
    {
      "cell_type": "code",
      "metadata": {
        "id": "f_y7exc0DD96"
      },
      "source": [
        ""
      ],
      "execution_count": null,
      "outputs": []
    },
    {
      "cell_type": "code",
      "metadata": {
        "id": "wPtS0bIEA-S5"
      },
      "source": [
        "from bs4 import BeautifulSoup"
      ],
      "execution_count": null,
      "outputs": []
    },
    {
      "cell_type": "code",
      "metadata": {
        "id": "7qpF5dwXBE8h"
      },
      "source": [
        "soup = BeautifulSoup(text)"
      ],
      "execution_count": null,
      "outputs": []
    },
    {
      "cell_type": "code",
      "metadata": {
        "id": "XNp2cvpzBVa7"
      },
      "source": [
        "selector = \"body > article\""
      ],
      "execution_count": null,
      "outputs": []
    },
    {
      "cell_type": "code",
      "metadata": {
        "id": "YbSJWlfwBejt"
      },
      "source": [
        "article = soup.select_one(selector)"
      ],
      "execution_count": null,
      "outputs": []
    },
    {
      "cell_type": "code",
      "metadata": {
        "colab": {
          "base_uri": "https://localhost:8080/",
          "height": 239
        },
        "id": "Tasj6Ai0Btjr",
        "outputId": "c7013dd3-b842-4992-f5c6-19fe49d1d27a"
      },
      "source": [
        "article.get_text()"
      ],
      "execution_count": null,
      "outputs": [
        {
          "data": {
            "application/vnd.google.colaboratory.intrinsic+json": {
              "type": "string"
            },
            "text/plain": [
              "'\\n\\n\\nBlockchain może pomóc zwalczać fake newsy\\nNieprawdziwe wiadomości zwykle nie są związane z wiarygodnym źródłem ani autorytetem. Można je eliminować używając metody przypominającej zakłady bukmacherskie.\\n\\n\\n\\nDezinformacja i zjawisko fake news są jednymi z największych zagrożeń dla współczesnego społeczeństwa opartego na informacji. Aktualnie w Internecie zarejestrowanych jest około miliarda domen, każdego dnia przybywa 100 tysięcy nowych witryn, a każdej sekundy ilość danych wzrasta o 50 tysięcy gigabajtów. Nawet jeśli tylko ułamek tych danych jest nieprawdziwy, to w tej skali urasta on do olbrzymich rozmiarów.\\nTa sama technologia informatyczna daje jednak pewną nadzieję na uratowanie ludzkości przed zalewem fałszywych informacji. Tak przynajmniej uważa Radosław Nicieja, student II stopnia Informatyki stosowanej, który wraz ze studentami Uniwersytetu Ekonomicznego w Krakowie oraz innych uczelni polskich i zagranicznych uczestniczył w 11. Międzynarodowej Konferencji Naukowej Wydziału Zarządzania UEK.\\nW trakcie wydarzenia Radosław Nicieja zaprezentował koncepcję systemu decydującego o autentyczności informacji. Wykorzystuje on zakłady, w których stawką mogłyby być rzeczywiste pieniądze, podobnie jak w tych bukmacherskich.\\n  Swoboda kontra wiarygodność W gospodarce cyfrowej tworzenie i prezentacja treści stały się wygodne i łatwe. Informacje w postaci obrazów, filmów lub tekstu są obecnie tworzone i publikowane na dużą skalę nawet przez zupełnych amatorów. Każda osoba może napisać artykuł lub inną treść i udostępnić ją całemu światu.Doprowadza to do destrukcji autorytetu samego medium komunikacji:\\xa0 fakt opublikowania informacji nie jest wystarczającym dowodem jej wiarygodności. Co gorsza, rozwój sztucznej inteligencji, grafiki komputerowej i innych technologii sprawia, iż granice między treścią autentyczną, zniekształconą i całkowicie fikcyjną zaczynają się coraz bardziej zacierać.Fake newsy łączą w sobie formę oszustwa i manipulacji. Były postrzegane jeszcze do niedawna jako treść całkowicie nieprawdziwa, aktualnie również należy do tej kategorii nieścisłość, nadinterpretacja i przeinaczenie. Z drugiej strony nie każda nieprawdziwa wiadomość to fake news, gdyż należy jeszcze pozostawić miejsce na satyrę, parodię czy inne zabiegi twórcze. Wszechstronny blockchain Technologia blockchain może pomóc chronić się przed fake newsami – choć paradoksalnie sama nosi piętno dezinformacji, ponieważ wciąż nie udało się ustalić, kto jest jej twórcą. Początkowo służyła ona do księgowania transakcji realizowanych przy użyciu kryptowalut. Z czasem jednak zauważono, że blockchain może mieć bardzo wiele innych zastosowań.Jako rozproszony i jawny rejestr przypominający księgę rachunkową, blockchain oferuje możliwość przechowywania wiarygodnych danych, co do których autentyczności można być pewnym. Skłania to do poszukiwań takich zastosowań technologii, które pomagałyby eliminować fake newsy.Jeszcze większe możliwości oferuje zawarty w obrębie blockchain system inteligentnych kontraktów. Umowa tego rodzaju bezpośrednio kontroluje transfer walut cyfrowych lub inne transakcje między stronami zachodzące pod pewnymi warunkami. Inteligentna umowa nie tylko definiuje zasady i kary, podobnie jak tradycyjna umowa, ale może również automatycznie egzekwować te zobowiązania.    Schemat działania systemu  Zakład o prawdziwość Zaproponowane przez Radosława Nicieję rozwiązanie łączy w sobie kilka pomysłów. Po pierwsze, nowe doniesienia wstępnie oceniane są przez moduł sztucznej inteligencji wykorzystujący typowe i używane obecnie techniki uczenia maszynowego. Nie ma on jednak zdania decydującego.W drugim etapie wkraczają użytkownicy pełniący rolę arbitrów, którzy na podstawie wstępnej oceny oraz własnych przewidywań głosują, czy wiadomość jest autentyczna. Swoje głosy muszą uzasadnić podając odpowiednie źródła, a także poprzeć stawką zakładu – stawiając własne pieniądze jako poręczenie, że dany artykuł jest prawdziwy lub fałszywy.Ostatni etap to agregacja i rozstrzygnięcie zakładów, najpierw przez odpowiednio wytrenowany model sztucznej inteligencji, a ostatecznie przez człowieka. Wszyscy zaangażowani w proces użytkownicy wnoszą wkład w postaci udostępnionej mocy obliczeniowej, czasu lub stawki zakładu. Po ostatecznym werdykcie ci użytkownicy, którzy trafnie ocenili wiadomość, dzielą się zyskiem.Dodatkowo każda rozpatrzona wiadomość staje się kolejnym przypadkiem wykorzystywanym do trenowania modeli sztucznej inteligencji.Nagrodzeni autorzy i użytkownicy, którzy trafnie głosowali, zostaną dołączeni do rozproszonego rejestru zaufanych autorytetów, obsługiwanego przez blockchain. W ten sposób mogą zyskiwać reputację braną pod uwagę w przyszłości, podczas oceniania nowych wiadomości, których będą autorami.Ktoś jednak musi tracić, podobnie jak w zakładach bukmacherskich. “Tracą oczywiście autorzy fake newsów oraz ci, którzy próbują ich uwiarygodnić,” objaśnia swój pomysł Radosław Nicieja. “W ten sposób każdy, kto będzie chciał rozpowszechniać fałszywe wiadomości, będzie musiał ponosić za to koszty.”Gdyby udało się całkowicie wyeliminować fałszywe informacje, system przestanie się bilansować, gdyż wszyscy powinni tylko zyskiwać. – Wątpię jednak, żeby to nastąpiło w najbliższym czasie – uspokaja autor koncepcji.  \\n\\n\\n\\nO autorze\\n\\n\\n\\nRedakcja Uniwersytetu Ekonomicznego\\nRedakcja Uniwersytetu Ekonomicznego\\n\\n\\n\\n\\n\\n\\n\\n\\n\\n\\n\\n\\n\\n\\n'"
            ]
          },
          "execution_count": 75,
          "metadata": {},
          "output_type": "execute_result"
        }
      ]
    },
    {
      "cell_type": "markdown",
      "metadata": {
        "id": "ZVhhsT-7CR4R"
      },
      "source": [
        "### Web scrapping"
      ]
    },
    {
      "cell_type": "code",
      "metadata": {
        "id": "83g9R1T1Buu5"
      },
      "source": [
        "import requests\n",
        "from bs4 import BeautifulSoup\n",
        "from collections import namedtuple\n",
        "\n",
        "URL_BASE = \"https://www.wykop.pl/strona/{}/\"\n",
        "PAGE_TO_BE_SCRAPED = 4"
      ],
      "execution_count": null,
      "outputs": []
    },
    {
      "cell_type": "code",
      "metadata": {
        "id": "f17YuCvJDSti"
      },
      "source": [
        "Wykop = namedtuple('Wykop', ['id', 'text', 'tags'])"
      ],
      "execution_count": null,
      "outputs": []
    },
    {
      "cell_type": "code",
      "metadata": {
        "id": "6K8UYZsSCsyW"
      },
      "source": [
        "pages_urls = [URL_BASE.format(i) for i in range(1, PAGE_TO_BE_SCRAPED)]"
      ],
      "execution_count": null,
      "outputs": []
    },
    {
      "cell_type": "code",
      "metadata": {
        "id": "t3XICkHUC2F2"
      },
      "source": [
        "responses = (requests.get(url) for url in pages_urls)"
      ],
      "execution_count": null,
      "outputs": []
    },
    {
      "cell_type": "code",
      "metadata": {
        "id": "ZvZSBdVVD68C"
      },
      "source": [
        "hrefs_batches = (BeautifulSoup(r.text).select('#itemsStream li h2 a') for r in responses)"
      ],
      "execution_count": null,
      "outputs": []
    },
    {
      "cell_type": "code",
      "metadata": {
        "id": "i33ZYWo7EJ49"
      },
      "source": [
        "import itertools"
      ],
      "execution_count": null,
      "outputs": []
    },
    {
      "cell_type": "code",
      "metadata": {
        "id": "my3dmhAREnvh"
      },
      "source": [
        "hrefs = itertools.chain.from_iterable(hrefs_batches)"
      ],
      "execution_count": null,
      "outputs": []
    },
    {
      "cell_type": "code",
      "metadata": {
        "id": "bpDLYIjiErat"
      },
      "source": [
        "item_urls = (a['href'] for a in hrefs)"
      ],
      "execution_count": null,
      "outputs": []
    },
    {
      "cell_type": "code",
      "metadata": {
        "id": "euj_lbLSE7WB"
      },
      "source": [
        "item_responses = (requests.get(url) for url in item_urls)"
      ],
      "execution_count": null,
      "outputs": []
    },
    {
      "cell_type": "code",
      "metadata": {
        "id": "Aoqi1ZTXFFsj"
      },
      "source": [
        "item_contents = (r.text for r in item_responses)"
      ],
      "execution_count": null,
      "outputs": []
    },
    {
      "cell_type": "code",
      "metadata": {
        "id": "Xj_kzCwcFJgv"
      },
      "source": [
        "item_soups = (BeautifulSoup(text) for text in item_contents)"
      ],
      "execution_count": null,
      "outputs": []
    },
    {
      "cell_type": "code",
      "metadata": {
        "id": "YANgpi0pGGm-"
      },
      "source": [
        "\n",
        "test_soup = next(item_soups)"
      ],
      "execution_count": null,
      "outputs": []
    },
    {
      "cell_type": "code",
      "metadata": {
        "id": "2SeeN7e0Fx70"
      },
      "source": [
        "def extract_item(item_soup):\n",
        "  if item_soup.select_one('div.article') is None:\n",
        "    return None\n",
        "\n",
        "  id = item_soup.select_one('div.article')['data-id']\n",
        "  text = item_soup.select_one('div.article .text').get_text().strip()\n",
        "  tags = list(map(lambda tag: tag.get_text(), item_soup.select('a.tag')))\n",
        "  return Wykop(id, text, tags)"
      ],
      "execution_count": null,
      "outputs": []
    },
    {
      "cell_type": "code",
      "metadata": {
        "colab": {
          "base_uri": "https://localhost:8080/"
        },
        "id": "V_U7UcKlF4N2",
        "outputId": "e15f40b3-fcda-486b-fc31-7481a4aeaee8"
      },
      "source": [
        "extract_item(test_soup)\n"
      ],
      "execution_count": null,
      "outputs": [
        {
          "data": {
            "text/plain": [
              "Wykop(id='6331319', text='Operacja „Market Garden” była śmiałą operacją wojskową na terenie Holandii, której inicjatorem był brytyjski generał Bernard Montgomery. Kiedy cała akcja zakończyła się kompletnym niepowodzeniem, Brytyjczycy całą winę za klęskę zrzucili na generała Stanisława Sosabowskiego.', tags=['europa', 'ciekawostki', 'ciekawostkihistoryczne', 'historia', 'iiwojnaswiatowa', 'codziennawojna', 'hardware', 'humor', 'internet', 'technologia', 'rozrywka', 'nauka', 'programowanie', 'software', 'sztuka', 'bekazpisu', 'ciekawostki', 'covid19', 'ekonomia', 'europa', 'finanse', 'gospodarka', 'heheszki', 'historia', 'koronawirus', 'kultura', 'medycyna', 'motoryzacja', 'muzyka', 'neuropa', 'pieniadze', 'polityka', 'polska', 'prawo', 'samochody', 'sport', 'swiat', 'szczepienia', 'usa', 'wydarzenia', 'zainteresowania', 'zdrowie'])"
            ]
          },
          "execution_count": 221,
          "metadata": {},
          "output_type": "execute_result"
        }
      ]
    },
    {
      "cell_type": "code",
      "metadata": {
        "id": "2RZeg2V0HWSw"
      },
      "source": [
        "wykops = (extract_item(item_soup) for item_soup in item_soups if item_soup is not None)\n",
        "wykops_skip_broken = (wykop for wykop in wykops if wykop is not None)"
      ],
      "execution_count": null,
      "outputs": []
    },
    {
      "cell_type": "code",
      "metadata": {
        "colab": {
          "base_uri": "https://localhost:8080/"
        },
        "id": "ALa_nQUwHeBK",
        "outputId": "0fde6f4b-1dc6-4805-f52e-e61138b2eeec"
      },
      "source": [
        "pip install pandas\n"
      ],
      "execution_count": null,
      "outputs": [
        {
          "name": "stdout",
          "output_type": "stream",
          "text": [
            "Requirement already satisfied: pandas in /usr/local/lib/python3.7/dist-packages (1.1.5)\n",
            "Requirement already satisfied: pytz>=2017.2 in /usr/local/lib/python3.7/dist-packages (from pandas) (2018.9)\n",
            "Requirement already satisfied: python-dateutil>=2.7.3 in /usr/local/lib/python3.7/dist-packages (from pandas) (2.8.2)\n",
            "Requirement already satisfied: numpy>=1.15.4 in /usr/local/lib/python3.7/dist-packages (from pandas) (1.19.5)\n",
            "Requirement already satisfied: six>=1.5 in /usr/local/lib/python3.7/dist-packages (from python-dateutil>=2.7.3->pandas) (1.15.0)\n"
          ]
        }
      ]
    },
    {
      "cell_type": "code",
      "metadata": {
        "id": "7Q29qsbvIvV9"
      },
      "source": [
        "wykops_as_list = list(wykops_skip_broken)"
      ],
      "execution_count": null,
      "outputs": []
    },
    {
      "cell_type": "code",
      "metadata": {
        "colab": {
          "base_uri": "https://localhost:8080/"
        },
        "id": "aRidfN5BIyfB",
        "outputId": "d1d05474-efa4-4f26-de8b-08245f673149"
      },
      "source": [
        "wykops_as_list[:3]\n"
      ],
      "execution_count": null,
      "outputs": [
        {
          "data": {
            "text/plain": [
              "[Wykop(id='6330721', text='Hasco-lek, Adam Kostrzewa i umowa-widmo.', tags=['polska', 'praca', 'oszustwo', 'prawnik', 'pensja', 'wroclaw', 'hardware', 'humor', 'internet', 'technologia', 'rozrywka', 'nauka', 'programowanie', 'software', 'sztuka', 'bekazpisu', 'ciekawostki', 'covid19', 'ekonomia', 'europa', 'finanse', 'gospodarka', 'heheszki', 'historia', 'koronawirus', 'kultura', 'medycyna', 'motoryzacja', 'muzyka', 'neuropa', 'pieniadze', 'polityka', 'polska', 'prawo', 'samochody', 'sport', 'swiat', 'szczepienia', 'usa', 'wydarzenia', 'zainteresowania', 'zdrowie']),\n",
              " Wykop(id='6330581', text='Kolczatka ustawiona przed szkołą muzyczną w Olsztynie okazała się nie lada przeszkodą dla kierowcy, który stracił na niej opony i napisał w tej sprawie do lokalnego \"Ukiel Magazine\". Mężczyzna skarżył się, że dyrekcja korzysta z \"wyrafinowanych metod drogowego terroru\".', tags=['polska', 'olsztyn', 'polskiedrogi', 'motoryzacja', 'hardware', 'humor', 'internet', 'technologia', 'rozrywka', 'nauka', 'programowanie', 'software', 'sztuka', 'bekazpisu', 'ciekawostki', 'covid19', 'ekonomia', 'europa', 'finanse', 'gospodarka', 'heheszki', 'historia', 'koronawirus', 'kultura', 'medycyna', 'motoryzacja', 'muzyka', 'neuropa', 'pieniadze', 'polityka', 'polska', 'prawo', 'samochody', 'sport', 'swiat', 'szczepienia', 'usa', 'wydarzenia', 'zainteresowania', 'zdrowie']),\n",
              " Wykop(id='6330625', text='Bezpieczny sport? Zawodnik musiał przejść ciężką operację, wiadomość od jednego z uczestników wklejam w komentarzu, może ktoś to zweryfikuje ale na FB pełno komentarzy, że z Walusiem jest ciężko.', tags=['polska', 'sport', 'punchdown', 'hardware', 'humor', 'internet', 'technologia', 'rozrywka', 'nauka', 'programowanie', 'software', 'sztuka', 'bekazpisu', 'ciekawostki', 'covid19', 'ekonomia', 'europa', 'finanse', 'gospodarka', 'heheszki', 'historia', 'koronawirus', 'kultura', 'medycyna', 'motoryzacja', 'muzyka', 'neuropa', 'pieniadze', 'polityka', 'polska', 'prawo', 'samochody', 'sport', 'swiat', 'szczepienia', 'usa', 'wydarzenia', 'zainteresowania', 'zdrowie'])]"
            ]
          },
          "execution_count": 225,
          "metadata": {},
          "output_type": "execute_result"
        }
      ]
    },
    {
      "cell_type": "code",
      "metadata": {
        "id": "qwVROmjWHyb7"
      },
      "source": [
        "import pandas as pd\n",
        "\n",
        "X = pd.DataFrame(wykops_as_list)"
      ],
      "execution_count": null,
      "outputs": []
    },
    {
      "cell_type": "code",
      "metadata": {
        "colab": {
          "base_uri": "https://localhost:8080/",
          "height": 289
        },
        "id": "bG1ThOgjH6p8",
        "outputId": "d6e9608f-c1a4-4ee8-a489-405ec193f1ea"
      },
      "source": [
        "\n",
        "X.head()"
      ],
      "execution_count": null,
      "outputs": [
        {
          "data": {
            "text/html": [
              "<div>\n",
              "<style scoped>\n",
              "    .dataframe tbody tr th:only-of-type {\n",
              "        vertical-align: middle;\n",
              "    }\n",
              "\n",
              "    .dataframe tbody tr th {\n",
              "        vertical-align: top;\n",
              "    }\n",
              "\n",
              "    .dataframe thead th {\n",
              "        text-align: right;\n",
              "    }\n",
              "</style>\n",
              "<table border=\"1\" class=\"dataframe\">\n",
              "  <thead>\n",
              "    <tr style=\"text-align: right;\">\n",
              "      <th></th>\n",
              "      <th>id</th>\n",
              "      <th>text</th>\n",
              "      <th>tags</th>\n",
              "    </tr>\n",
              "  </thead>\n",
              "  <tbody>\n",
              "    <tr>\n",
              "      <th>0</th>\n",
              "      <td>6330721</td>\n",
              "      <td>Hasco-lek, Adam Kostrzewa i umowa-widmo.</td>\n",
              "      <td>[polska, praca, oszustwo, prawnik, pensja, wro...</td>\n",
              "    </tr>\n",
              "    <tr>\n",
              "      <th>1</th>\n",
              "      <td>6330581</td>\n",
              "      <td>Kolczatka ustawiona przed szkołą muzyczną w Ol...</td>\n",
              "      <td>[polska, olsztyn, polskiedrogi, motoryzacja, h...</td>\n",
              "    </tr>\n",
              "    <tr>\n",
              "      <th>2</th>\n",
              "      <td>6330625</td>\n",
              "      <td>Bezpieczny sport? Zawodnik musiał przejść cięż...</td>\n",
              "      <td>[polska, sport, punchdown, hardware, humor, in...</td>\n",
              "    </tr>\n",
              "    <tr>\n",
              "      <th>3</th>\n",
              "      <td>6331281</td>\n",
              "      <td>Polakom zaczyna brakować strategicznych surowc...</td>\n",
              "      <td>[polska, ekonomia, hardware, humor, internet, ...</td>\n",
              "    </tr>\n",
              "    <tr>\n",
              "      <th>4</th>\n",
              "      <td>6330841</td>\n",
              "      <td>Ministerstwo Zdrowia notorycznie manipuluje in...</td>\n",
              "      <td>[polska, covid, pis, hardware, humor, internet...</td>\n",
              "    </tr>\n",
              "  </tbody>\n",
              "</table>\n",
              "</div>"
            ],
            "text/plain": [
              "        id  ...                                               tags\n",
              "0  6330721  ...  [polska, praca, oszustwo, prawnik, pensja, wro...\n",
              "1  6330581  ...  [polska, olsztyn, polskiedrogi, motoryzacja, h...\n",
              "2  6330625  ...  [polska, sport, punchdown, hardware, humor, in...\n",
              "3  6331281  ...  [polska, ekonomia, hardware, humor, internet, ...\n",
              "4  6330841  ...  [polska, covid, pis, hardware, humor, internet...\n",
              "\n",
              "[5 rows x 3 columns]"
            ]
          },
          "execution_count": 227,
          "metadata": {},
          "output_type": "execute_result"
        }
      ]
    },
    {
      "cell_type": "markdown",
      "metadata": {
        "id": "jmQoWUeZD91T"
      },
      "source": [
        ""
      ]
    },
    {
      "cell_type": "code",
      "metadata": {
        "id": "8iJy1THvDRwH"
      },
      "source": [
        "X.to_csv(\"var/wykops.csv\")"
      ],
      "execution_count": null,
      "outputs": []
    },
    {
      "cell_type": "code",
      "metadata": {
        "id": "XXv42QWpKu6t"
      },
      "source": [
        "loaded_X = pd.read_csv(\"var/wykops.csv\")"
      ],
      "execution_count": null,
      "outputs": []
    },
    {
      "cell_type": "code",
      "metadata": {
        "colab": {
          "base_uri": "https://localhost:8080/"
        },
        "id": "i-73n3q2IIuw",
        "outputId": "0f133a06-7577-4955-c684-e4bb79993f51"
      },
      "source": [
        "type(X['tags'][10])"
      ],
      "execution_count": null,
      "outputs": [
        {
          "data": {
            "text/plain": [
              "list"
            ]
          },
          "execution_count": 240,
          "metadata": {},
          "output_type": "execute_result"
        }
      ]
    },
    {
      "cell_type": "code",
      "metadata": {
        "colab": {
          "base_uri": "https://localhost:8080/"
        },
        "id": "9oZO9ZSBLQbg",
        "outputId": "2171d187-cace-46b4-8848-46ac79005f69"
      },
      "source": [
        "type(loaded_X['tags'][10])"
      ],
      "execution_count": null,
      "outputs": [
        {
          "data": {
            "text/plain": [
              "str"
            ]
          },
          "execution_count": 249,
          "metadata": {},
          "output_type": "execute_result"
        }
      ]
    },
    {
      "cell_type": "code",
      "metadata": {
        "id": "bAERIqXKK165"
      },
      "source": [
        "X.to_parquet(\"var/wykops.parquet\")"
      ],
      "execution_count": null,
      "outputs": []
    },
    {
      "cell_type": "code",
      "metadata": {
        "id": "0_ZmVM7aK3Qu"
      },
      "source": [
        "loaded_parquet = pd.read_parquet(\"var/wykops.parquet\")"
      ],
      "execution_count": null,
      "outputs": []
    },
    {
      "cell_type": "code",
      "metadata": {
        "colab": {
          "base_uri": "https://localhost:8080/"
        },
        "id": "sFiHV-ybLdzo",
        "outputId": "6e5e0838-7542-45e0-a590-666d249dc3df"
      },
      "source": [
        "type(loaded_parquet['tags'][10])"
      ],
      "execution_count": null,
      "outputs": [
        {
          "data": {
            "text/plain": [
              "numpy.ndarray"
            ]
          },
          "execution_count": 251,
          "metadata": {},
          "output_type": "execute_result"
        }
      ]
    },
    {
      "cell_type": "code",
      "metadata": {
        "id": "Wie_GQm0LgeB"
      },
      "source": [
        ""
      ],
      "execution_count": null,
      "outputs": []
    },
    {
      "cell_type": "markdown",
      "metadata": {
        "id": "ll2bEzAfL4sv"
      },
      "source": [
        "## OCR image\n",
        "\n",
        "image or images\n",
        "\n",
        "https://sg-cdn.uek.krakow.pl/thumbnail/cache/article/d91b4258-20b6-422e-92d3-15e7fa4e064a/pl/infografika_raport25.png"
      ]
    },
    {
      "cell_type": "code",
      "metadata": {
        "colab": {
          "base_uri": "https://localhost:8080/"
        },
        "id": "Fa-WhVL_NMu5",
        "outputId": "1cdc3233-8bbb-4b2c-9cde-bbcea08817e2"
      },
      "source": [
        "!sudo apt install tesseract-ocr"
      ],
      "execution_count": null,
      "outputs": [
        {
          "name": "stdout",
          "output_type": "stream",
          "text": [
            "Reading package lists... Done\n",
            "Building dependency tree       \n",
            "Reading state information... Done\n",
            "The following additional packages will be installed:\n",
            "  tesseract-ocr-eng tesseract-ocr-osd\n",
            "The following NEW packages will be installed:\n",
            "  tesseract-ocr tesseract-ocr-eng tesseract-ocr-osd\n",
            "0 upgraded, 3 newly installed, 0 to remove and 37 not upgraded.\n",
            "Need to get 4,795 kB of archives.\n",
            "After this operation, 15.8 MB of additional disk space will be used.\n",
            "Get:1 http://archive.ubuntu.com/ubuntu bionic/universe amd64 tesseract-ocr-eng all 4.00~git24-0e00fe6-1.2 [1,588 kB]\n",
            "Get:2 http://archive.ubuntu.com/ubuntu bionic/universe amd64 tesseract-ocr-osd all 4.00~git24-0e00fe6-1.2 [2,989 kB]\n",
            "Get:3 http://archive.ubuntu.com/ubuntu bionic/universe amd64 tesseract-ocr amd64 4.00~git2288-10f4998a-2 [218 kB]\n",
            "Fetched 4,795 kB in 0s (19.9 MB/s)\n",
            "debconf: unable to initialize frontend: Dialog\n",
            "debconf: (No usable dialog-like program is installed, so the dialog based frontend cannot be used. at /usr/share/perl5/Debconf/FrontEnd/Dialog.pm line 76, <> line 3.)\n",
            "debconf: falling back to frontend: Readline\n",
            "debconf: unable to initialize frontend: Readline\n",
            "debconf: (This frontend requires a controlling tty.)\n",
            "debconf: falling back to frontend: Teletype\n",
            "dpkg-preconfigure: unable to re-open stdin: \n",
            "Selecting previously unselected package tesseract-ocr-eng.\n",
            "(Reading database ... 155047 files and directories currently installed.)\n",
            "Preparing to unpack .../tesseract-ocr-eng_4.00~git24-0e00fe6-1.2_all.deb ...\n",
            "Unpacking tesseract-ocr-eng (4.00~git24-0e00fe6-1.2) ...\n",
            "Selecting previously unselected package tesseract-ocr-osd.\n",
            "Preparing to unpack .../tesseract-ocr-osd_4.00~git24-0e00fe6-1.2_all.deb ...\n",
            "Unpacking tesseract-ocr-osd (4.00~git24-0e00fe6-1.2) ...\n",
            "Selecting previously unselected package tesseract-ocr.\n",
            "Preparing to unpack .../tesseract-ocr_4.00~git2288-10f4998a-2_amd64.deb ...\n",
            "Unpacking tesseract-ocr (4.00~git2288-10f4998a-2) ...\n",
            "Setting up tesseract-ocr-osd (4.00~git24-0e00fe6-1.2) ...\n",
            "Setting up tesseract-ocr-eng (4.00~git24-0e00fe6-1.2) ...\n",
            "Setting up tesseract-ocr (4.00~git2288-10f4998a-2) ...\n",
            "Processing triggers for man-db (2.8.3-2ubuntu0.1) ...\n"
          ]
        }
      ]
    },
    {
      "cell_type": "code",
      "metadata": {
        "colab": {
          "base_uri": "https://localhost:8080/"
        },
        "id": "7QKHMJZIL8BE",
        "outputId": "3edef65d-8ff4-472d-cf49-903259ae44aa"
      },
      "source": [
        "pip install pytesseract"
      ],
      "execution_count": null,
      "outputs": [
        {
          "name": "stdout",
          "output_type": "stream",
          "text": [
            "Requirement already satisfied: pytesseract in /usr/local/lib/python3.7/dist-packages (0.3.8)\n",
            "Requirement already satisfied: Pillow in /usr/local/lib/python3.7/dist-packages (from pytesseract) (7.1.2)\n"
          ]
        }
      ]
    },
    {
      "cell_type": "code",
      "metadata": {
        "colab": {
          "base_uri": "https://localhost:8080/"
        },
        "id": "vEKcfwFZMAax",
        "outputId": "0b21ff46-6ede-422a-99cb-e7131167607c"
      },
      "source": [
        "!wget -O var/image.png https://sg-cdn.uek.krakow.pl/thumbnail/cache/article/d91b4258-20b6-422e-92d3-15e7fa4e064a/pl/infografika_raport25.png"
      ],
      "execution_count": null,
      "outputs": [
        {
          "name": "stdout",
          "output_type": "stream",
          "text": [
            "--2021-10-24 07:30:51--  https://sg-cdn.uek.krakow.pl/thumbnail/cache/article/d91b4258-20b6-422e-92d3-15e7fa4e064a/pl/infografika_raport25.png\n",
            "Resolving sg-cdn.uek.krakow.pl (sg-cdn.uek.krakow.pl)... 149.156.208.22\n",
            "Connecting to sg-cdn.uek.krakow.pl (sg-cdn.uek.krakow.pl)|149.156.208.22|:443... connected.\n",
            "HTTP request sent, awaiting response... 200 OK\n",
            "Length: 5770295 (5.5M) [image/png]\n",
            "Saving to: ‘var/image.png’\n",
            "\n",
            "var/image.png       100%[===================>]   5.50M  19.5MB/s    in 0.3s    \n",
            "\n",
            "2021-10-24 07:30:51 (19.5 MB/s) - ‘var/image.png’ saved [5770295/5770295]\n",
            "\n"
          ]
        }
      ]
    },
    {
      "cell_type": "code",
      "metadata": {
        "id": "J7Mj1RHUMlb3"
      },
      "source": [
        "import pytesseract\n",
        "from PIL import Image"
      ],
      "execution_count": null,
      "outputs": []
    },
    {
      "cell_type": "code",
      "metadata": {
        "id": "2kpGmX4oM8iU"
      },
      "source": [
        "text = pytesseract.image_to_string(Image.open('var/image.png'))"
      ],
      "execution_count": null,
      "outputs": []
    },
    {
      "cell_type": "code",
      "metadata": {
        "colab": {
          "base_uri": "https://localhost:8080/",
          "height": 69
        },
        "id": "LyhYHYtdNa-z",
        "outputId": "4cb5294d-c564-4b61-bf3e-c24b323d7068"
      },
      "source": [
        "text"
      ],
      "execution_count": null,
      "outputs": [
        {
          "data": {
            "application/vnd.google.colaboratory.intrinsic+json": {
              "type": "string"
            },
            "text/plain": [
              "' \\n\\nRAPORT\\n\\nCYFRYZACJA\\n| RYNEK PRACY\\n\\nMatgorzata Cwiek e Marek Cwiklicki e Dariusz Firszt e\\nMarek Jabtonski e Norbert Laurisz e Agnieszka Pacut e\\nMariusz Sottysik\\n\\x0c'"
            ]
          },
          "execution_count": 268,
          "metadata": {},
          "output_type": "execute_result"
        }
      ]
    },
    {
      "cell_type": "markdown",
      "metadata": {
        "id": "aLmvT-HtNkP8"
      },
      "source": [
        "## All files at once"
      ]
    },
    {
      "cell_type": "code",
      "metadata": {
        "id": "01KbkjvSNByg"
      },
      "source": [
        "!mkdir -p var/nested/a/b/c/d/e/f"
      ],
      "execution_count": null,
      "outputs": []
    },
    {
      "cell_type": "code",
      "metadata": {
        "id": "T2mfmNUVNuBv"
      },
      "source": [
        "!echo \"level 1\" > var/nested/a/level.txt\n",
        "!echo \"level 2\" > var/nested/a/b/level.txt\n",
        "!echo \"level 3\" > var/nested/a/b/c/level.txt\n",
        "!echo \"level 4\" > var/nested/a/b/c/d/level.txt\n",
        "!echo \"level 5\" > var/nested/a/b/c/d/e/level.txt\n",
        "!echo \"level 6\" > var/nested/a/b/c/d/e/f/level.txt\n",
        "!echo \"example doc x\" > var/nested/a/b/c/d/e/f/level.docx"
      ],
      "execution_count": null,
      "outputs": []
    },
    {
      "cell_type": "code",
      "metadata": {
        "id": "BWOSZwUSOGha"
      },
      "source": [
        "import glob"
      ],
      "execution_count": null,
      "outputs": []
    },
    {
      "cell_type": "code",
      "metadata": {
        "id": "V-LUho1nN2mT"
      },
      "source": [
        "paths = glob.glob('./var/nested/**/*.txt', recursive=True)"
      ],
      "execution_count": null,
      "outputs": []
    },
    {
      "cell_type": "code",
      "metadata": {
        "id": "t4GNTFe-OTzG"
      },
      "source": [
        "contents = [open(path) for path in paths]\n",
        "contents = map(lambda f: f.readlines(), contents)\n",
        "content = itertools.chain.from_iterable(contents)\n",
        "content = list(content)"
      ],
      "execution_count": null,
      "outputs": []
    },
    {
      "cell_type": "code",
      "metadata": {
        "id": "ohtgVZ3oPEeC"
      },
      "source": [
        "from pprint import pprint as pp"
      ],
      "execution_count": null,
      "outputs": []
    },
    {
      "cell_type": "code",
      "metadata": {
        "colab": {
          "base_uri": "https://localhost:8080/",
          "height": 35
        },
        "id": "CazNGdCMOWbr",
        "outputId": "1a1e702c-6e6f-45a6-847e-4624439392ce"
      },
      "source": [
        "display(\"\".join(content))"
      ],
      "execution_count": null,
      "outputs": [
        {
          "data": {
            "application/vnd.google.colaboratory.intrinsic+json": {
              "type": "string"
            },
            "text/plain": [
              "'level 1\\nlevel 2\\nlevel 3\\nlevel 4\\nlevel 5\\nlevel 6\\n'"
            ]
          },
          "metadata": {},
          "output_type": "display_data"
        }
      ]
    },
    {
      "cell_type": "code",
      "metadata": {
        "id": "LfGNtONdO3Or"
      },
      "source": [
        ""
      ],
      "execution_count": null,
      "outputs": []
    },
    {
      "cell_type": "markdown",
      "metadata": {
        "id": "XkQJLq_HbqF1"
      },
      "source": [
        "# Klasyfikacja przykład\n",
        "\n",
        "Potencjalne zastosowania: \n",
        "* Segregowanie zleceń CRM\n",
        "* wykrywanie tagów\n",
        "* przypisywanie kategorii\n",
        "* wykrywanie tekstów o określonej treści\n",
        "  * fake-news\n",
        "* profil autora na podstawie tekstu\n",
        "  * płeć\n",
        "  * wiek\n",
        "  * stopień zdenerwowania piszącego\n",
        "* Pokrewne\n",
        "  * budowanie streszczeń na podstawie treści\n"
      ]
    },
    {
      "cell_type": "markdown",
      "metadata": {
        "id": "NY_FpqCHf7hy"
      },
      "source": [
        "## Pobieranie danych"
      ]
    },
    {
      "cell_type": "code",
      "metadata": {
        "id": "YEwfRtfTbtLw"
      },
      "source": [
        "books = {\n",
        "  \"Zeromski\": [\n",
        "    \"https://wolnelektury.pl/media/book/txt/zeromski-oko-za-oko.txt\",\n",
        "    \"https://wolnelektury.pl/media/book/txt/wszystko-i-nic.txt\",\n",
        "    \"https://wolnelektury.pl/media/book/txt/zeromski-rozdziobia-nas-kruki-wrony.txt\",\n",
        "    \"https://wolnelektury.pl/media/book/txt/silaczka.txt\",\n",
        "    \"https://wolnelektury.pl/media/book/txt/syzyfowe-prace.txt\",\n",
        "  ],\n",
        " \"Mickiewicz\": [\n",
        "    \"https://wolnelektury.pl/media/book/txt/pan-tadeusz.txt\",\n",
        "    \"https://wolnelektury.pl/media/book/txt/dziady-dziady-widowisko-czesc-i.txt\",\n",
        "    \"https://wolnelektury.pl/media/book/txt/dziady-dziadow-czesci-iii-ustep-do-przyjaciol-moskali.txt\",\n",
        "    \"https://wolnelektury.pl/media/book/txt/ballady-i-romanse-pani-twardowska.txt\",\n",
        "    \"https://wolnelektury.pl/media/book/txt/ballady-i-romanse-powrot-taty.txt\",\n",
        "    \"https://wolnelektury.pl/media/book/txt/ballady-i-romanse-switez.txt\",\n",
        "    \"https://wolnelektury.pl/media/book/txt/dziady-dziady-poema-dziady-czesc-iv.txt\",\n",
        " ],\n",
        " \"Sienkiewicz\": [\n",
        "  \"https://wolnelektury.pl/media/book/txt/quo-vadis.txt\",\n",
        "  \"https://wolnelektury.pl/media/book/txt/sienkiewicz-we-mgle.txt\",\n",
        "  \"https://wolnelektury.pl/media/book/txt/potop-tom-pierwszy.txt\",\n",
        "  \"https://wolnelektury.pl/media/book/txt/potop-tom-drugi.txt\",\n",
        "  \"https://wolnelektury.pl/media/book/txt/potop-tom-trzeci.txt\",\n",
        " ],\n",
        " \"Orzeszkowa\": [\n",
        "    \"https://wolnelektury.pl/media/book/txt/orzeszkowa-kto-winien.txt\",\n",
        "    \"https://wolnelektury.pl/media/book/txt/nad-niemnem-tom-pierwszy.txt\",\n",
        "    \"https://wolnelektury.pl/media/book/txt/nad-niemnem-tom-drugi.txt\",\n",
        "    \"https://wolnelektury.pl/media/book/txt/nad-niemnem-tom-trzeci.txt\",\n",
        "    \"https://wolnelektury.pl/media/book/txt/gloria-victis-dziwna-historia.txt\",\n",
        "    \"https://wolnelektury.pl/media/book/txt/z-pozogi.txt\",\n",
        "    \"https://wolnelektury.pl/media/book/txt/pani-dudkowa.txt\",\n",
        "    \"https://wolnelektury.pl/media/book/txt/dymy.txt\",\n",
        "    \"https://wolnelektury.pl/media/book/txt/syn-stolarza.txt\",\n",
        "    \"https://wolnelektury.pl/media/book/txt/dobra-pani.txt\",\n",
        "    \"https://wolnelektury.pl/media/book/txt/cnotliwi.txt\",\n",
        "    \"https://wolnelektury.pl/media/book/txt/kilka-slow-o-kobietach.txt\",\n",
        "    \"https://wolnelektury.pl/media/book/txt/patryotyzm-i-kosmopolityzm.txt\",\n",
        "    \"https://wolnelektury.pl/media/book/txt/julianka.txt\",\n",
        " ],\n",
        " \"Prus\": [\n",
        "  \"https://wolnelektury.pl/media/book/txt/lalka-tom-drugi.txt\",\n",
        "  \"https://wolnelektury.pl/media/book/txt/lalka-tom-pierwszy.txt\",\n",
        "  \"https://wolnelektury.pl/media/book/txt/antek.txt\",\n",
        "  \"https://wolnelektury.pl/media/book/txt/katarynka.txt\",\n",
        "  \"https://wolnelektury.pl/media/book/txt/prus-anielka.txt\",\n",
        "  \"https://wolnelektury.pl/media/book/txt/prus-placowka.txt\",\n",
        " \n",
        " ],\n",
        " \"Reymont\": [\n",
        "    \"https://wolnelektury.pl/media/book/txt/ziemia-obiecana-tom-pierwszy.txt\",\n",
        "    \"https://wolnelektury.pl/media/book/txt/chlopi-czesc-pierwsza-jesien.txt\",\n",
        "    \"https://wolnelektury.pl/media/book/txt/reymont-chlopi-zima.txt\",\n",
        "    \"https://wolnelektury.pl/media/book/txt/chlopi-czesc-trzecia-wiosna.txt\",\n",
        "    \"https://wolnelektury.pl/media/book/txt/chlopi-czesc-czwarta-lato.txt\",\n",
        " ]\n",
        "}"
      ],
      "execution_count": null,
      "outputs": []
    },
    {
      "cell_type": "code",
      "metadata": {
        "id": "jrSM7Q0wc58W"
      },
      "source": [
        "items_batches = ([(author, url) for url in urls] for author, urls in books.items())"
      ],
      "execution_count": null,
      "outputs": []
    },
    {
      "cell_type": "code",
      "metadata": {
        "id": "gx5I0ZNpeX2G"
      },
      "source": [
        "items = itertools.chain.from_iterable(items_batches)"
      ],
      "execution_count": null,
      "outputs": []
    },
    {
      "cell_type": "code",
      "metadata": {
        "colab": {
          "base_uri": "https://localhost:8080/"
        },
        "id": "iN4a27GUegBw",
        "outputId": "5ffd1318-0eea-4e1b-d52b-0cb41b4ecc0d"
      },
      "source": [
        "next(items)"
      ],
      "execution_count": null,
      "outputs": [
        {
          "data": {
            "text/plain": [
              "('Zeromski', 'https://wolnelektury.pl/media/book/txt/zeromski-oko-za-oko.txt')"
            ]
          },
          "execution_count": 338,
          "metadata": {},
          "output_type": "execute_result"
        }
      ]
    },
    {
      "cell_type": "code",
      "metadata": {
        "id": "omgIgKPXgU5g"
      },
      "source": [
        "responses = ((author, url.replace(\"https://wolnelektury.pl/media/book/txt/\", \"\"), requests.get(url)) for author, url in items)"
      ],
      "execution_count": null,
      "outputs": []
    },
    {
      "cell_type": "code",
      "metadata": {
        "id": "V45vRTJwfCI4"
      },
      "source": [
        "texts = ((author, filename, r.text if r.status_code == 200 else None) for author, filename, r in responses)"
      ],
      "execution_count": null,
      "outputs": []
    },
    {
      "cell_type": "code",
      "metadata": {
        "id": "fWie9AVKfNAN"
      },
      "source": [
        "valid = ((author, filename, content) for author, filename, content in texts if content is not None)"
      ],
      "execution_count": null,
      "outputs": []
    },
    {
      "cell_type": "code",
      "metadata": {
        "id": "hMKSXNqVfXES"
      },
      "source": [
        "BOOKS = pd.DataFrame(valid, columns=['author', 'filename', 'content'])"
      ],
      "execution_count": null,
      "outputs": []
    },
    {
      "cell_type": "code",
      "metadata": {
        "colab": {
          "base_uri": "https://localhost:8080/",
          "height": 289
        },
        "id": "-a-jNde2foUS",
        "outputId": "5822fbc2-3146-41af-bfe8-7613e0d189f2"
      },
      "source": [
        "BOOKS.head()"
      ],
      "execution_count": null,
      "outputs": [
        {
          "data": {
            "text/html": [
              "<div>\n",
              "<style scoped>\n",
              "    .dataframe tbody tr th:only-of-type {\n",
              "        vertical-align: middle;\n",
              "    }\n",
              "\n",
              "    .dataframe tbody tr th {\n",
              "        vertical-align: top;\n",
              "    }\n",
              "\n",
              "    .dataframe thead th {\n",
              "        text-align: right;\n",
              "    }\n",
              "</style>\n",
              "<table border=\"1\" class=\"dataframe\">\n",
              "  <thead>\n",
              "    <tr style=\"text-align: right;\">\n",
              "      <th></th>\n",
              "      <th>author</th>\n",
              "      <th>filename</th>\n",
              "      <th>content</th>\n",
              "    </tr>\n",
              "  </thead>\n",
              "  <tbody>\n",
              "    <tr>\n",
              "      <th>0</th>\n",
              "      <td>Mickiewicz</td>\n",
              "      <td>dziady-dziady-widowisko-czesc-i.txt</td>\n",
              "      <td>Adam Mickiewicz\\r\\n\\r\\nDziady. Widowisko, częś...</td>\n",
              "    </tr>\n",
              "    <tr>\n",
              "      <th>1</th>\n",
              "      <td>Mickiewicz</td>\n",
              "      <td>dziady-dziadow-czesci-iii-ustep-do-przyjaciol-...</td>\n",
              "      <td>Adam Mickiewicz\\r\\n\\r\\nDziadów części III Ustę...</td>\n",
              "    </tr>\n",
              "    <tr>\n",
              "      <th>2</th>\n",
              "      <td>Mickiewicz</td>\n",
              "      <td>ballady-i-romanse-pani-twardowska.txt</td>\n",
              "      <td>Adam Mickiewicz\\r\\n\\r\\nBallady i romanse\\r\\nPa...</td>\n",
              "    </tr>\n",
              "    <tr>\n",
              "      <th>3</th>\n",
              "      <td>Mickiewicz</td>\n",
              "      <td>ballady-i-romanse-powrot-taty.txt</td>\n",
              "      <td>Adam Mickiewicz\\r\\n\\r\\nBallady i romanse\\r\\nPo...</td>\n",
              "    </tr>\n",
              "    <tr>\n",
              "      <th>4</th>\n",
              "      <td>Mickiewicz</td>\n",
              "      <td>ballady-i-romanse-switez.txt</td>\n",
              "      <td>Adam Mickiewicz\\r\\n\\r\\nBallady i romanse\\r\\nŚw...</td>\n",
              "    </tr>\n",
              "  </tbody>\n",
              "</table>\n",
              "</div>"
            ],
            "text/plain": [
              "       author  ...                                            content\n",
              "0  Mickiewicz  ...  Adam Mickiewicz\\r\\n\\r\\nDziady. Widowisko, częś...\n",
              "1  Mickiewicz  ...  Adam Mickiewicz\\r\\n\\r\\nDziadów części III Ustę...\n",
              "2  Mickiewicz  ...  Adam Mickiewicz\\r\\n\\r\\nBallady i romanse\\r\\nPa...\n",
              "3  Mickiewicz  ...  Adam Mickiewicz\\r\\n\\r\\nBallady i romanse\\r\\nPo...\n",
              "4  Mickiewicz  ...  Adam Mickiewicz\\r\\n\\r\\nBallady i romanse\\r\\nŚw...\n",
              "\n",
              "[5 rows x 3 columns]"
            ]
          },
          "execution_count": 354,
          "metadata": {},
          "output_type": "execute_result"
        }
      ]
    },
    {
      "cell_type": "code",
      "metadata": {
        "colab": {
          "base_uri": "https://localhost:8080/",
          "height": 239
        },
        "id": "KpaEylf6g2om",
        "outputId": "6a5748d0-a6cf-4f60-8d66-483863c3e4e5"
      },
      "source": [
        "BOOKS['content'][0]"
      ],
      "execution_count": null,
      "outputs": [
        {
          "data": {
            "application/vnd.google.colaboratory.intrinsic+json": {
              "type": "string"
            },
            "text/plain": [
              "'Adam Mickiewicz\\r\\n\\r\\nDziady. Widowisko, część I\\r\\n\\r\\n\\r\\n\\r\\n/ Prawa strona teatru — Dziewica w samotnym pokoju — na boku ksiąg mnóstwo, fortepiano, okno z lewej strony w pole; na prawej wielkie zwierciadło; świeca gasnąca na stole i księga rozłożona (romans Valerie). /\\r\\n\\r\\n\\r\\nDZIEWICA\\r\\n\\r\\n/ wstaje od stołu /\\r\\n\\r\\nŚwieco niedobra! właśnie pora była zgasnąć!\\r\\nI nie mogłam doczytać — czyż podobna zasnąć?\\r\\nWaleryjo! Gustawie! anielski Gustawie!\\r\\nAch, tak mi często o was śniło się na jawie,\\r\\nA przez sen — będę z wami, Pan Bóg wie dopóki!\\r\\nSmutne dzieje! Jak smutnej są źródłem nauki!\\r\\n\\r\\n/ po pauzie, z niesmakiem /\\r\\n\\r\\nPo co czytam? Już koniec przezieram z daleka!\\r\\nTakich kochanków tutaj\\r\\n\\r\\n/ wskazuje ziemię /\\r\\n\\r\\n                        cóż innego czeka?\\r\\nWaleryjo! ty przecież spomiędzy ziemianek\\r\\nZazdrości godna! Ciebie ubóstwiał kochanek,\\r\\nO którym inna próżno całe życie marzy,\\r\\nKtórego rysów szuka w każdej nowej twarzy,\\r\\nI w każdym nowym głosie nadaremnie bada\\r\\nTonu, który jej duszy brzmieniem odpowiada.\\r\\nBo ich twarze tchną głazem, jak Meduzy głowa,\\r\\nNad słotny deszcz jesienny zimniejsze ich słowa!\\r\\n\\r\\nCo dzień z pamiątką nudnych postaci i zdarzeń\\r\\nWracam do samotności, do książek — [do] marzeń,\\r\\nJak podróżny, śród dzikiej wyspy zarzucony,\\r\\nCo rana wzrok i stopę niesie w różne strony\\r\\nAzali gdzie istoty bliźniej nie obaczy,\\r\\nI co noc w swą jaskinią powraca w rozpaczy.\\r\\n\\r\\nSzalony, niech ukocha swe samotne ściany\\r\\nI nie targa łańcucha, by nie drażnić rany. —\\r\\n\\r\\nWitajże, ma jaskinio — na wieki zamknięci,\\r\\nNauczmy się więźniami stać się z własnej chęci —\\r\\nCzyż nie znajdziem zatrudnień? Mędrce dawnych wieków\\r\\nZamykali się szukać skarbów albo leków\\r\\nI trucizn — my niewinni młodzi czarodzieje\\r\\nSzukajmy ich, by otruć własne swe nadzieje.\\r\\nA jeżeli do grobu wstęp wiar[ą] zawarty,\\r\\nPochowajmy swą duszę za życia w te karty.\\r\\nMożna pięknie zmartwychwstać i po takim zgonie,\\r\\nI przez ten grób jest droga na Elizu błonie.\\r\\nZamieszkałym śród cieniów zmyślonego świata\\r\\nNudnej rzeczywistości nagrodzi się strata.\\r\\nCieniów? Nigdyż nie było między ziemską bracią\\r\\nTakich cieniów, śmiertelną więzionych postacią?\\r\\nDusze ich wzięłyż bytność z poetów wyroku.\\r\\nKształty odlaneż tylko z pięknych słów obłoku?\\r\\nNie mogę przyrodzenia tą myślą obrażać,\\r\\nNie mogę bluźnić Twórcy — i siebie znieważać.\\r\\n\\r\\nW przyrodzeniu, powszechnej ciał i dusz ojczyźnie,\\r\\nWszystkie stworzenia mają swe istoty bliźnie:\\r\\nKażdy promień, głos każdy, z podobnym spojony,\\r\\nHarmoniją ogłasza przez farby i tony;\\r\\nPyłek [każdy] błądzący śród istot ogromu,\\r\\nPadnie w końcu na serce bliźniego atomu;\\r\\nA tylko serce czułe z dozgonną tęsknotą\\r\\nW rodzinie tworów jedną ma zostać sierotą?\\r\\nTwórca mi dał to serce, choć w codziennym tłumie\\r\\nNikt poznać go nie może, bo nikt nie rozumie,\\r\\nJest i musi być kędyś, choć na krańcach świata,\\r\\nKtoś, co do mnie myślami wzajemnymi lata!\\r\\n\\r\\nO, gdybyśmy dzielące rozerwawszy chmury,\\r\\nChoć przed zgonem tęsknymi spotkali się pióry,\\r\\nLub słowem tylko, wzrokiem, — dosyć jednej chwili,\\r\\nDosyć, by się dowiedzieć tylko, żeśmy żyli.\\r\\nWtenczas dusza, co ledwie czucia swe ogarnia,\\r\\nW której rozkosze truje wiązadeł męczarnia,\\r\\nZ ciemnej, głuchej jaskini stałaby się rajem!\\r\\nJakby miło poznawać, zwiedzać ją nawzajem,\\r\\nI cokolwiek pięknego w myślach zajaśnieje,\\r\\nCo ślachetnego mają tajne serca dzieje,\\r\\nRozświecić przed oczyma kochanej istoty,\\r\\nJak wyłamane z piersi kryształów klejnoty!\\r\\nWtenczas przeszłość do życia moglibyśmy wcielić\\r\\nSpomnieniem; można by się z przyszłości weselić\\r\\nW przeczuciu, a obecnym chwil lubych użyciem\\r\\nŁącząc wszystko, żyć całym i zupełnym życiem;\\r\\nBylibyśmy jak lotne tchnienia, co je rosa\\r\\nWiosennym zionie rankiem, dążące w niebiosa,\\r\\nLekkie i niewidome, lecz, kiedy się zlecą, —\\r\\nSpłoną i nową iskrę pośród gwiazd rozświecą.\\r\\n\\r\\n/ Na lewą stronę teatru wchodzi Chór wieśniaków niosących jedzenia i napoje; Starzec pierwszy z chóru na czele /\\r\\n\\r\\n\\r\\nGUŚLARZ\\r\\n\\r\\nCiemno wszędzie, głucho wszędzie,\\r\\nZ czujnym słuchem, z bacznym okiem\\r\\nSpieszmy się w tajnym obrzędzie,\\r\\nZ cichym pieniem, wolnym krokiem;\\r\\nWszak nie nucim po kolędzie,\\r\\nNucimy piosnkę żałoby;\\r\\nNie do dworu z nowym rokiem, —\\r\\nZe łzami idziem na groby.\\r\\n\\r\\n\\r\\nCHÓR\\r\\n\\r\\n  Póki ciemno, głucho wszędzie,\\r\\n  Spieszmy się w tajnym obrzędzie.\\r\\n\\r\\n\\r\\nGUŚLARZ\\r\\n\\r\\nSpieszmy cicho i powoli,\\r\\nPoza cerkwią, poza dworem,\\r\\nBo ksiądz gusłów nie dozwoli,\\r\\nPan się zbudzi nocnym chorem.\\r\\nZmarli tylko wedle woli\\r\\nSpieszą, gdzie ich guślarz woła;\\r\\nŻywi są na pańskiej roli,\\r\\nCmentarz pod władzą kościoła.\\r\\n\\r\\n\\r\\nCHÓR\\r\\n\\r\\n  Póki ciemno, głucho wszędzie,\\r\\n  Spieszmy się w tajnym obrzędzie.\\r\\n\\r\\n\\r\\nCHOR MŁODZIEŃCÓW\\r\\n\\r\\n/ do Dziewczyny, ob. Romantyczność /\\r\\n\\r\\n  Nie łam twych rączek, niewiasto młoda,\\r\\n  Nie płacz, i oczek, i dłoni szkoda.\\r\\n  Te oczki innym źrenicom błysną,\\r\\n  Te rączki inną prawicę ścisną.\\r\\n\\r\\n  Od lasu para gołąbków leci,\\r\\n  Para gołąbków, a orlik trzeci:\\r\\n  Uszłaś, gołąbko, spojrzy do góry,\\r\\n  Czy jest za tobą mąż srebrnopióry?\\r\\n\\r\\n  Nie płacz, nie wzdychaj w próżnej żałobie,\\r\\n  Nowy małżonek grucha ku tobie,\\r\\n  Nóżki z ostrogą, szyją mu wieńczy\\r\\n  Wstążka błękitna, a kolor tęczy.\\r\\n\\r\\n  Róża z fijałkiem na letniej łące\\r\\n  Podają sobie dłonie pachnące,\\r\\n  Pieszy robotnik kosi dąbrowę,\\r\\n  Zranił małżonka, zostawił wdowę.\\r\\n\\r\\n  Płaczesz i wzdychasz w próżnej żałobie,\\r\\n  Wysmukły narcyz kłania się tobie,\\r\\n  Jasną źrenicą śród polnych dzieci\\r\\n  Jak księżyc między gwiazdami świeci.\\r\\n\\r\\n  Nie łam twych rączek, niewiasto młoda,\\r\\n  Nie płacz, i rączek, i oczu szkoda.\\r\\n  Ten, po kim płaczesz, wzajem nie błyśnie\\r\\n  Okiem ku tobie, ręki nie ściśnie.\\r\\n\\r\\n  On ciemny krzyżyk w prawicy trzyma,\\r\\n  A miejsca w niebie szuka oczyma.\\r\\n  Dla niego na mszę daj, młoda wdowo,\\r\\n  A dla nas żywych piękne daj słowo.\\r\\n\\r\\n/ do Starca /\\r\\n\\r\\n  Nie tęsknij, starcze, prosiemy młodzi,\\r\\n  Tęsknota sercu i myślom szkodzi;\\r\\n  W tym sercu dla nas żyją przykłady,\\r\\n  Dla nas w tych myślach jest skarbiec rady.\\r\\n\\r\\n  Stary dąb zruca powiewne szaty,\\r\\n  O cień go proszą trawy i kwiaty:\\r\\n  „Nie znam was, dzieci nowego rodu,\\r\\n  Czyliście warte cienia i chłodu,\\r\\n  Nie takie rosły dawnymi laty\\r\\n  Pod mą zasłoną trawy i kwiaty”.\\r\\n\\r\\n  Przestań narzekać, niesłuszny w gniewie,\\r\\n  Jak było dawniej, nikt o tym nie wie.\\r\\n  Uwiędną jedni, powschodzą inni,\\r\\n  Chociaż mniej piękni, cóż temu winni?\\r\\n  Strzeż naszej barwy, ciesz się z okrasy,\\r\\n  A z nas dawniejsze wspominaj czasy.\\r\\n\\r\\n  Nie wzdychaj, starcze, w próżnej tęsknocie,\\r\\n  Wielu straciłeś, zostały krocie.\\r\\n  Nie całe twoje szczęście jest w grobie,\\r\\n  Nie tam są wszyscy znajomi tobie.\\r\\n  Weź trochę szczęścia od nas szczęśliwych,\\r\\n  Szukaj umarłych pośród nas żywych.\\r\\n\\r\\n\\r\\nGUŚLARZ\\r\\n\\r\\nKto błądząc po życiu kraju,\\r\\nChciał pilnować prostej drogi,\\r\\nChoć mu los wedle zwyczaju\\r\\nWszędzie siał ciernie i głogi;\\r\\n\\r\\nNareszcie po latach wielu,\\r\\nW licznych troskach, w ciężkich nudach,\\r\\nZapomniał o drogi celu,\\r\\nAby znaleźć wczas po trudach;\\r\\n\\r\\nKto z ziemi patrzył ku słońcu,\\r\\nMarzył nieba i gwiazd loty\\r\\nI nie znał ziemi, aż w końcu,\\r\\nKiedy wpadł w otchłań ciemnoty;\\r\\n\\r\\nKto żalem pragnął wydźwignąć,\\r\\nCo znikło w przeszłości łonie,\\r\\nKto żądzą pragnął doścignąć,\\r\\nCo ma przyszłość w tajnym łonie;\\r\\n\\r\\nKto poznał swój błąd niewcześnie,\\r\\nO gorszej myśli poprawie,\\r\\nMruży oczy, by żyć we śnie\\r\\nZ tym, czego szukał na jawie;\\r\\n\\r\\nKto marzeń tknięty chorobą,\\r\\nSam własnej sprawca katuszy,\\r\\nDarmo chciał znaleźć przed sobą,\\r\\nCo miał tylko w swojej duszy; —\\r\\n\\r\\nKto wspominasz dawne chwile,\\r\\nKomu się o przyszłych marzy,\\r\\nIdź ze świata ku mogile,\\r\\nIdź od mędrców do guślarzy!\\r\\n\\r\\nMrok tajemnic nas otacza,\\r\\nPieśń i wiara przewodniczy,\\r\\nDalej z nami, kto rozpacza,\\r\\nKto wspomina i kto życzy.\\r\\n\\r\\n\\r\\nDZIECIĘ\\r\\n\\r\\nWróćmy lepiej do chaty, coś tam od kościoła\\r\\nBłysnęło, ja się boję, coś po lesie woła.\\r\\nJutro pójdziem na cmentarz, ty swoim zwyczajem\\r\\nDumać, ja zdobić krzyże kwiatami i majem.\\r\\n\\r\\nMówią, że dzisiaj w nocy umarłych spotkamy,\\r\\nJa ich nie znam, ja własnej nie pamiętam mamy,\\r\\nTy oczy w dzień masz słabe, pragnąłbyś daremnie\\r\\nDawno widzianych ludzi rozeznać po ciemnie.\\r\\n\\r\\nI słuch masz słaby. Pomnisz? dwie temu niedziele\\r\\nZebrało się i krewnych i sąsiadów wiele\\r\\nUrodziny twe święcić; tyś w milczeniu siedział,\\r\\nNic nie słyszał, nikomu nic nie odpowiedział.\\r\\n\\r\\nZapytałeś na koniec, po co ta gromada\\r\\nZeszła się w dzień powszedni? i czy mrok już pada?\\r\\nA my przyszli winszować i od kilku godzin\\r\\nSłońce zaszło, i był to dzień twoich urodzin.\\r\\n\\r\\n\\r\\nSTARZEC\\r\\n\\r\\nOd tego dnia, ach, jakżem daleko odpłynął!\\r\\nWszystkiem znajome lądy i wyspy ominął,\\r\\nWszystkie dziedziczne skarby znikły w czasu toniach;\\r\\nCóż mnie po waszych twarzach, i głosach, i dłoniach?\\r\\nTwarze, którem z dzieciństwa ukochać przywykał,\\r\\nDłonie, co mię pieściły, głos, co mię przenikał,\\r\\n\\r\\nGdzież są? Zgasły, przebrzmiały, zmieniły się, starły.\\r\\nNie wiem, czym pośród trupów, czylim sam umarły.\\r\\nAle inny świat rzucam, aniżelim zastał;\\r\\nNieszczęsny, kto częściami do mogiły wrastał!\\r\\nTwój jeszcze głos, mój wnuku, ostatnia pociecho,\\r\\nJak po umarłej pieśniach niemowlęce echo,\\r\\nTuła się i głos matki powtarzając kwili.\\r\\nLecz i ty mię porzucasz, jak inni rzucili.\\r\\n\\r\\nPójdę sam; kto w dzień błądzi i żywych nie słyszy,\\r\\nWidzi w nocy, zna język grobowej zaciszy.\\r\\nNie zabłądzę, wszak co rok chodziłem tą drogą:\\r\\nZrazu jak ty, mój synu, z niemowlęcą trwogą,\\r\\nPotem jak chłopiec pełen ciekawej ochoty,\\r\\nPotem z tęsknotą, teraz nawet bez tęsknoty,\\r\\nBez żalu; cóż mię wiedzie? jakiś zapęd nowy,\\r\\nCiemne przeczucie, może to instynkt grobowy.\\r\\nZnajdę cmentarz i coś mi w głębi serca wróży,\\r\\nŻe nazad już nie będę potrzebował stróży.\\r\\nAle nim się rozłączym, twe służby dziecięce\\r\\nNagrodzę, pódź, mój synu, uklęknij, złóż ręce.\\r\\n\\r\\nBoże! Coś mi rozkazał spełnić kielich życia\\r\\nI zbyt wielki, zbyt gorzki dałeś mi do picia,\\r\\nJeśli względów twojego miłosierdzia godna\\r\\nCierpliwość, z którą gorycz wychyliłem do dna,\\r\\nJedynej, lecz największej śmiem żądać nagrody:\\r\\nPobłogosław wnukowi — niechaj umrze młody!\\r\\n\\r\\nBądź zdrów; stój i raz jeszcze ściśni dziada rękę!\\r\\nDaj mi twój głos usłyszeć — zaśpiewaj piosenkę\\r\\nUlubioną i tyle powtarzaną razy,\\r\\nO zaklętym młodzieńcu, przemienionym w głazy.\\r\\n\\r\\n\\r\\n[DZIECIĘ]\\r\\n\\r\\n/ śpiewa /\\r\\n\\r\\n\\r\\nMŁODZIENIEC ZAKLĘTY\\r\\n\\r\\nWyłamawszy zamku bramy,\\r\\n  Twardowski błądził śród gmachów,\\r\\n  Biegł na wieże, schodził w jamy:\\r\\nCo tam czarów! co tam strachów!\\r\\n\\r\\nW jednem sklepisku zapadłem —\\r\\n  Jak dziwny rodzaj pokuty —\\r\\nNa łańcuchu, przed zwierciadłem\\r\\n  Stoi młodzieniec okuty.\\r\\n\\r\\nStoi, a z ludzkiej postaci,\\r\\n  Mocą czarownych omamień,\\r\\nCoraz jakąś cząstkę traci\\r\\n  I powoli wrasta w kamień.\\r\\n\\r\\nAż do piersi był już głazem,\\r\\n  A jeszcze mu błyszczą lica\\r\\nMęstwa i siły wyrazem;\\r\\n  Czułością świeci źrenica.\\r\\n\\r\\n„Kto jesteś? zaklęty rzecze,\\r\\n  Coś te gmachy zdobył śmiało,\\r\\nGdzie tak mnogie pękły miecze,\\r\\n  Tylu wolność postradało”.\\r\\n\\r\\n„Kto jestem? o, drży świat cały\\r\\n  Przed mą szablą, na me słowa\\r\\nWielkiej mocy, większej chwały:\\r\\n  Jestem rycerzem z Twardowa”.\\r\\n\\r\\n„Z Twardowa?… za moich czasów\\r\\n  Nie słyszałem o nazwisku,\\r\\nNi śród wojennych zapasów,\\r\\n  Ni na rycerskim igrzysku.\\r\\n\\r\\nNie zgadnę, jak długie lata\\r\\n  Mogłem w więzieniu przesiedzieć;\\r\\nTy świeżo wracasz ze świata:\\r\\n  Musisz mi o nim powiedzieć.\\r\\n\\r\\nCzy dotąd Olgierda ramię,\\r\\n  Naszą Litwę wiodąc w pole,\\r\\nPo dawnemu Niemcy łamie,\\r\\n  Tratuje stepy mogole?”\\r\\n\\r\\n„Olgierd? Ach, już przeminęło\\r\\n  Dwieście lat po stracie męża,\\r\\nLecz z jego wnuków Jagiełło\\r\\n  Teraz walczy i zwycięża”.\\r\\n\\r\\n„Co słyszę? Jeszcze dwa słowa:\\r\\n  Może w twych błędnych obiegach\\r\\nByłeś, rycerzu z Twardowa,\\r\\n  Na Świtezi naszej brzegach?\\r\\n\\r\\nCzy tam ludzie nie mówili\\r\\n  O Poraju silnej ręki\\r\\nI o nadobnej Maryli,\\r\\n  Której on ubóstwiał wdzięki?”\\r\\n\\r\\n„Młodzieńcze, nigdzie w tym kraju,\\r\\n  Od Niemna po Dniepru krańce,\\r\\nNie słyszałem o Poraju\\r\\n  Ani o jego kochance.\\r\\n\\r\\nPo co pytać, czasu strata,\\r\\n  Gdy cię wyrwę z tej opoki,\\r\\nWszystkie ciekawości świata\\r\\n  Własnymi odwi[e]dzisz kroki.\\r\\n\\r\\nZnam czarodziejską naukę,\\r\\n  Wiem dzielność tego zwierciadła,\\r\\nWraz go na drobiazgi stłukę,\\r\\n  By z ciebie ta larwa spadła”.\\r\\n\\r\\nTo mówiąc, nagłym zamachem\\r\\n  Dobył miecza i przymierza,\\r\\nAle młodzieniec z przestrachem —\\r\\n  „Stój!” — zawołał na rycerza.\\r\\n\\r\\n„Weźmi zwierciadło ze ściany\\r\\n  I podaj go w moje ręce,\\r\\nNiech sam skruszę me kajdany\\r\\n  I uczynię koniec męce”.\\r\\n\\r\\nWziął i westchnął, twarz mu zbladła\\r\\n  I zalał się łez strumieniem,\\r\\nI pocałował zwierciadło —\\r\\n  I cały stał się kamieniem.\\r\\n\\r\\n\\r\\nCHÓR MŁODZIEŻY\\r\\n\\r\\n  Tu guślarz kazał młodzieży\\r\\n  Tam na wzgórku wioska leży,\\r\\n  Stanąć na drogi połowie:\\r\\n  A tam mogilnik w dąbrowie.\\r\\n\\r\\n  Między kolebką i groby\\r\\n  Młody nasz wiek w środku stoi;\\r\\n  Śród wesela i żałoby\\r\\n  Stójmyż w środku, bracia moi!\\r\\n\\r\\n  Nie godzi się do wsi wracać,\\r\\n  Nie godzi się biec w ich ślady.\\r\\n  Tu będziemy święcić Dziady\\r\\n  I piosnkami noc ukracać.\\r\\n\\r\\n  Będziemy idących witać\\r\\n  I powracających pytać,\\r\\n  Lękliwym rozpędzać trwogę,\\r\\n  Błędnym pokazywać drogę. —\\r\\n\\r\\n  Zaszło słońce, biegą dzieci,\\r\\n  Idą starce, płaczą, nucą,\\r\\n  Lecz znowu słońce zaświeci,\\r\\n  Wrócą dzieci, starce wrócą.\\r\\n\\r\\n  Nim dojdzie siwizny dziecię,\\r\\n  Nim starego dzwon powoła,\\r\\n  Jeszcze ich spotka na świecie\\r\\n  Niejedna chwilka wesoła.\\r\\n\\r\\n  Ale kto z nas w młode lata\\r\\n  Nie działa rzeźwym ramieniem,\\r\\n  Ale sercem i myśleniem,\\r\\n  Taki zgubiony dla świata.\\r\\n\\r\\n  Kto jak zwierz pustyni szuka,\\r\\n  Jak pugacz po nocy lata,\\r\\n  Jak upiór do trumny puka,\\r\\n  Taki zgubiony dla świata.\\r\\n\\r\\n  Kto w młodości pieśń żałoby\\r\\n  Raz zanucił, wiecznie nuci;\\r\\n  Kto młody odwiedza groby,\\r\\n  Już z nich na świat nie powróci\\r\\n\\r\\n  Niech więc dzieci i ojcowie\\r\\n  Idą w kościół z prośbą, z chlebem;\\r\\n  Młodzi, na drogi połowie\\r\\n  Zostaniem pod czystym niebem.\\r\\n\\r\\n\\r\\nPIEŚŃ STRZELCA\\r\\n\\r\\n    Śród wzgórzów i jarów,\\r\\n    I dolin, i lasów,\\r\\n    Śród pienia ogarów\\r\\n    I trąby hałasów:\\r\\n\\r\\n    Na koniu, co lotem\\r\\n    Sokoły zadumi,\\r\\n    I z bronią, co grzmotem\\r\\n    Pioruny zatłumi;\\r\\n\\r\\n    Wesoły jak dziecko,\\r\\n    Jak rycerz krwi chciwy,\\r\\n    Odważnie, zdradziecko\\r\\n    Bój zaczął myśliwy.\\r\\n\\r\\n    Witajcież rycerza,\\r\\n    Pagórki i niwy,\\r\\n    Król lasów, pan zwierza,\\r\\n    Niech żyje myśliwy!\\r\\n\\r\\n    Czy w niebo grot zmierza,\\r\\n    Czy w knieje i smugi,\\r\\n    Stąd leci grad pierza,\\r\\n    Stąd płyną krwi strugi.\\r\\n\\r\\n    Kto w puszczy dojedzie\\r\\n    Odyńca bez trwogi?\\r\\n    Kto kudły niedźwiedzie\\r\\n    Podesłał pod nogi?\\r\\n\\r\\n    Czyj dowcip gnał rojem\\r\\n    Lataczów do sideł?\\r\\n    Kto wstępnym wziął bojem\\r\\n    Sztandary ich skrzydeł?\\r\\n\\r\\n    Witajcież rycerza,\\r\\n    Pagórki i niwy,\\r\\n    Król lasów, pan zwierza,\\r\\n    Niech żyje myśliwy!\\r\\n\\r\\n    Dalejże, dalejże, z tropu w trop,\\r\\n    Z tropu w trop, dalejże, dalejże!\\r\\n    Dalejże, dalejże, z tropu w trop,\\r\\n    Z tropu w trop, hop, hop!\\r\\n\\r\\n\\r\\nGUSTAW\\r\\n\\r\\nSpolowałem piosenkę! Nie będą się gniewać\\r\\nMyśliwi, że do domu wracam bez zwierzyny.\\r\\nJak tylko wrócę, zaraz muszę im zaśpiewać. —\\r\\nLecz gdzież zaszedłem? nigdzie śladu ni drożyny.\\r\\nHola! jak w kniei głucho — ni trąby, ni strzału.\\r\\nZbłądziłem — otóż skutek wieszczego zapału!\\r\\nGoniąc muzę, wyszedłem z obławy. — Mróz ciśnie.\\r\\nTrzeba ogień nałożyć; gdy światło zabłyśnie,\\r\\nNuż jaki spółtowarzysz z myśliwej czeladzi\\r\\nBłądzi jak ja, ten ogień razem nas sprowadzi,\\r\\nŁacniej drogę znajdziemy.\\r\\n                        O mój przyjacielu!\\r\\nTakich jak ty myśliwych nie znalazłbyś wielu.\\r\\nOni z lasu nie zwykli spoglądać w obłoki,\\r\\nOgarami na piękne polować widoki;\\r\\nZ jednym zawsze zamiarem i z jedyną żądzą,\\r\\nNa ziemi tropią zdobycz — tym lepiej — nie błądzą!\\r\\nPewnie już z rzeźwym sercem i spoconym czołem\\r\\nDzienną zabawę kończą za biesiadnym stołem.\\r\\nKażdy chlubi się z przeszłych lub przyszłych zdobyczy,\\r\\nKażdy swe trafne strzały, cudze pudła liczy;\\r\\nŻartują z siebie głośno lub szepcą do ucha;\\r\\nWszyscy mówią, a jeden stary ojciec słucha.\\r\\nA jeśli się pod koniec uprzykrzyły łowy,\\r\\nNatenczas do sąsiadek — uśmiechy, rozmowy.\\r\\nCzasem strzelecka miłość — wędrowna ptaszyna,\\r\\nSerce przelotem zwiedzi — tak mija godzina,\\r\\nI tydzień, i rok przeszły, — tak bywało wczora,\\r\\nTak jest dzisiaj i będzie każdego wieczora.\\r\\nSzczęśliwi! —\\r\\n                        A ja… czemuż nie jestem jak oni?\\r\\nWyjechaliśmy razem — cóż mię w pole goni?\\r\\nAch, nie zabawy ścigam — uciekam od nudy;\\r\\nNie rozkosze myśliwskie lubię — ale trudy.\\r\\nŻe się myśli, a przynajmniej że się miejsce zmienia,\\r\\nI że tu nikt mojego nie śledzi marzenia,\\r\\nŁez pustych, które nie wiem, skąd w oczach zaświecą,\\r\\nWestchnień bez celu, które nie wiem, kędy lecą.\\r\\nNie do sąsiadek pewnie! na wiatry, na gaje,\\r\\nKu marzeniom!…\\r\\n                        Myśl dziwna! Zawsze mi się zdaje,\\r\\nŻe ktoś łzy moje widzi i słyszy westchnienia,\\r\\nI wiecznie około mnie krąży na kształt cienia.\\r\\n\\r\\nIleż razy w dzień cichy szeleszczą na łące\\r\\nJakoby nimfy jakiejś stopki latające;\\r\\nSpojrzę: chwieją się kwiaty i podnoszą głowy,\\r\\nJakby z lekka trącone. — Nieraz śród alkowy\\r\\nSamotny książkę czytam; książka z rąk wypadła,\\r\\nSpojrzałem i mignęła naprzeciw zwierciadła\\r\\nLekka postać, szepnęła jej powietrzna szata.\\r\\nNieraz dumałem w nocy; gdy się myśl rozlata,\\r\\nWzdycham, i coś westchnieniem dawało znak życia,\\r\\nSerce biło i czułem drugie serca bicia,\\r\\nSłowo nawet częstokroć, niewyraźnie, głucho,\\r\\nJak przelot nocnej muszki pogłaska mi ucho!…\\r\\n\\r\\nZasnąłem we mgle jasnej; z góry i z daleka\\r\\nCoś błyszczy, choć widocznych kształtów nie obleka;\\r\\nI czuję promień oczu i uśmiech oblicza!\\r\\nGdzież jesteś, samotności córo tajemnicza?\\r\\n\\r\\n    Niechaj się twój duch uwieńczy\\r\\n    Choćby marnym, nikłym ciałem;\\r\\n    Okryj się choć rąbkiem tęczy\\r\\n    Lub jasnym źródła kryształem!\\r\\n\\r\\n    Niechaj twojej blask obsłony\\r\\n    Długo, długo w oczach stoi!\\r\\n    Niech twych ust rajskimi tony\\r\\n    Długo, długo słuch się poi!\\r\\n\\r\\n    Świeć mi, słońca niech źrenica\\r\\n    Olsnie marz[ąc] twoje lica;\\r\\n    Piej, syreno! w lubych głosach\\r\\n    Usnę, marzyć o niebiosach!\\r\\n\\r\\nAch, gdzie cię szukać? — i od ludzi ucieknę,\\r\\nAch, bądź ty ze mną, świata się wyrzeknę!\\r\\n\\r\\n\\r\\nMYŚLIWY CZARNY\\r\\n\\r\\n/ śpiewa /\\r\\n\\r\\nLatasz, mój ptaszku, za wysoko latasz,\\r\\n  A czy znasz dzielność swoich skrzydełek?\\r\\nSpojrzy na ziemię, którą tak pomiatasz,\\r\\n  Co tam wabików, co tam sidełek!\\r\\n\\r\\n\\r\\nMŁODZIENIEC\\r\\n\\r\\nHola! słychać śpiewania, hej! wszelki duch żywy!\\r\\nOzwij się, bracie, kto jesteś?\\r\\n\\r\\n\\r\\nSTRZELEC\\r\\n\\r\\n                        Myśliwy,\\r\\nRównej jak ty ochoty, większej trochę mocy.\\r\\nObadwa polujemy, chociaż ty w poranki\\r\\nJedziesz na świat, ja łowy rozpoczynam w nocy,\\r\\nTy czyhasz na zwierzęta, a ja — na kochanki.\\r\\n\\r\\n\\r\\nGUSTAW\\r\\n\\r\\nNie wiem, czy dobre miejsce wybrałeś na łowy,\\r\\nAle nie chcę przeszkadzać, więc szczęśliwej drogi.\\r\\n\\r\\n\\r\\nSTRZELEC\\r\\n\\r\\nHola, kolego! nie bądź taki raptusowy.\\r\\nJest że to grubijaństwo albo skutek trwogi?\\r\\nPierwiej mię sam zawołał, a teraz ucieka.\\r\\n\\r\\n\\r\\nGUSTAW\\r\\n\\r\\nJa miałbym ciebie wołać?\\r\\n\\r\\n\\r\\nSTRZELEC\\r\\n\\r\\n                        Słyszałem z daleka,\\r\\nŻeś wołał; kogo? na co? nie wiem doskonale,\\r\\nDosyć, że posłyszałem westchnienia i żale.\\r\\nJestem jak ty myśliwcem, byłem kiedyś młody,\\r\\nZnam więc twego rzemiosła i wieku przygody.\\r\\nMusisz mieć coś na sercu, rozmówmy się szczerze.\\r\\nPewnie [cię] zabłąkało w kniei jakie zwierzę?\\r\\nBracie, ja sam błądziłem, znam zwierzęta różne,\\r\\nSkrzydlate i piechotne, czworo– i dwunożne.\\r\\nA jeśli nic nie gonisz, pewno rad byś gonił?\\r\\nEj, czy cię widok pustej torby nie zapłonił?\\r\\nWstyd młodemu niczego dotąd nie zastrzelić?\\r\\nPrzyznaj się, ja ci mogę w potrzebie udzielić.\\r\\n\\r\\n\\r\\nGUSTAW\\r\\n\\r\\nDzięki — od nieznajomych nie żądam pomocy,\\r\\nNie zabieram przyjaźni tak rychło i w nocy;\\r\\nI nie rozumiem, co twe słowa mają znaczyć.\\r\\n\\r\\n\\r\\nSTRZELEC\\r\\n\\r\\nJeżeliś niepojętny, będę się tłumaczyć.\\r\\nJeżeli mi nie ufasz, będę szczerszy z tobą…\\r\\nWiedz naprzód, iż gdzie stąpisz, jest wszędzie nad tobą\\r\\nPewna istota, która z oczu cię [nie] traci,\\r\\nI że chce ciebie w ludzkiej nawiedzić postaci,\\r\\nJeżeli to, coś przyrzekł, zachowasz niezłomnie…\\r\\n\\r\\n\\r\\nGUSTAW\\r\\n\\r\\nPrzebóg! co to ma znaczyć?… Nie zbliżaj się do mnie!\\r\\n\\r\\nI na tym się rękopis kończy\\r\\n\\r\\n\\r\\n\\r\\n\\r\\n-----\\r\\nTa lektura, podobnie jak tysiące innych, dostępna jest na stronie wolnelektury.pl.\\r\\nWersja lektury w opracowaniu merytorycznym i krytycznym (przypisy i motywy) dostępna jest na stronie http://wolnelektury.pl/katalog/lektura/dziady-dziady-widowisko-czesc-i.\\r\\n\\r\\nUtwór opracowany został w ramach projektu Wolne Lektury przez fundację Nowoczesna Polska.\\r\\n\\r\\nTen utwór nie jest objęty majątkowym prawem autorskim i znajduje się w domenie publicznej, co oznacza że możesz go swobodnie wykorzystywać, publikować i rozpowszechniać. Jeśli utwór opatrzony jest dodatkowymi materiałami (przypisy, motywy literackie etc.), które podlegają prawu autorskiemu, to te dodatkowe materiały udostępnione są na licencji Creative Commons Uznanie Autorstwa – Na Tych Samych Warunkach 3.0 PL (http://creativecommons.org/licenses/by-sa/3.0/).\\r\\n\\r\\nTekst opracowany na podstawie: Adam Mickiewicz, Dziady cz. 1-4, wyd. Czytelnik, Warszawa 1974\\r\\n\\r\\nWydawca: Fundacja Nowoczesna Polska\\r\\n\\r\\nPublikacja zrealizowana w ramach projektu Wolne Lektury (http://wolnelektury.pl). Reprodukcja cyfrowa wykonana przez Bibliotekę Narodową z egzemplarza pochodzącego ze zbiorów BN.\\r\\n\\r\\nOpracowanie redakcyjne i przypisy: Stanisław Pigoń, Aleksandra Sekuła, Olga Sutkowska.\\r\\n'"
            ]
          },
          "execution_count": 358,
          "metadata": {},
          "output_type": "execute_result"
        }
      ]
    },
    {
      "cell_type": "code",
      "metadata": {
        "colab": {
          "base_uri": "https://localhost:8080/"
        },
        "id": "mL3T5xRghDo1",
        "outputId": "ef951355-eda4-4bdf-83b1-18c05857ef86"
      },
      "source": [
        "BOOKS.shape"
      ],
      "execution_count": null,
      "outputs": [
        {
          "data": {
            "text/plain": [
              "(36, 3)"
            ]
          },
          "execution_count": 359,
          "metadata": {},
          "output_type": "execute_result"
        }
      ]
    },
    {
      "cell_type": "code",
      "metadata": {
        "colab": {
          "base_uri": "https://localhost:8080/"
        },
        "id": "78hV1-tSiCiv",
        "outputId": "98d6f49d-9d32-4da2-b9db-8fb8eb26169b"
      },
      "source": [
        "BOOKS.dtypes"
      ],
      "execution_count": null,
      "outputs": [
        {
          "data": {
            "text/plain": [
              "author      object\n",
              "filename    object\n",
              "content     object\n",
              "dtype: object"
            ]
          },
          "execution_count": 360,
          "metadata": {},
          "output_type": "execute_result"
        }
      ]
    },
    {
      "cell_type": "code",
      "metadata": {
        "colab": {
          "base_uri": "https://localhost:8080/",
          "height": 235
        },
        "id": "IALL9CUmiFhM",
        "outputId": "2c4994bf-38d0-4192-862b-ff3e330d3eb0"
      },
      "source": [
        "BOOKS.groupby('author').count()"
      ],
      "execution_count": null,
      "outputs": [
        {
          "data": {
            "text/html": [
              "<div>\n",
              "<style scoped>\n",
              "    .dataframe tbody tr th:only-of-type {\n",
              "        vertical-align: middle;\n",
              "    }\n",
              "\n",
              "    .dataframe tbody tr th {\n",
              "        vertical-align: top;\n",
              "    }\n",
              "\n",
              "    .dataframe thead th {\n",
              "        text-align: right;\n",
              "    }\n",
              "</style>\n",
              "<table border=\"1\" class=\"dataframe\">\n",
              "  <thead>\n",
              "    <tr style=\"text-align: right;\">\n",
              "      <th></th>\n",
              "      <th>filename</th>\n",
              "      <th>content</th>\n",
              "    </tr>\n",
              "    <tr>\n",
              "      <th>author</th>\n",
              "      <th></th>\n",
              "      <th></th>\n",
              "    </tr>\n",
              "  </thead>\n",
              "  <tbody>\n",
              "    <tr>\n",
              "      <th>Mickiewicz</th>\n",
              "      <td>6</td>\n",
              "      <td>6</td>\n",
              "    </tr>\n",
              "    <tr>\n",
              "      <th>Orzeszkowa</th>\n",
              "      <td>14</td>\n",
              "      <td>14</td>\n",
              "    </tr>\n",
              "    <tr>\n",
              "      <th>Prus</th>\n",
              "      <td>6</td>\n",
              "      <td>6</td>\n",
              "    </tr>\n",
              "    <tr>\n",
              "      <th>Reymont</th>\n",
              "      <td>5</td>\n",
              "      <td>5</td>\n",
              "    </tr>\n",
              "    <tr>\n",
              "      <th>Sienkiewicz</th>\n",
              "      <td>5</td>\n",
              "      <td>5</td>\n",
              "    </tr>\n",
              "  </tbody>\n",
              "</table>\n",
              "</div>"
            ],
            "text/plain": [
              "             filename  content\n",
              "author                        \n",
              "Mickiewicz          6        6\n",
              "Orzeszkowa         14       14\n",
              "Prus                6        6\n",
              "Reymont             5        5\n",
              "Sienkiewicz         5        5"
            ]
          },
          "execution_count": 361,
          "metadata": {},
          "output_type": "execute_result"
        }
      ]
    },
    {
      "cell_type": "code",
      "metadata": {
        "colab": {
          "base_uri": "https://localhost:8080/"
        },
        "id": "HzEZoYykiOXO",
        "outputId": "f217ca27-ba4a-441b-a13c-1349414b764d"
      },
      "source": [
        "BOOKS.content.isnull().sum()"
      ],
      "execution_count": null,
      "outputs": [
        {
          "data": {
            "text/plain": [
              "0"
            ]
          },
          "execution_count": 363,
          "metadata": {},
          "output_type": "execute_result"
        }
      ]
    },
    {
      "cell_type": "markdown",
      "metadata": {
        "id": "VImENKyPhMTa"
      },
      "source": [
        "## Czyszczenie danych\n",
        "* istotne z perspektywy uwydatnienia poszukiwanych informacji\n"
      ]
    },
    {
      "cell_type": "markdown",
      "metadata": {
        "id": "J60mV44H_AL-"
      },
      "source": [
        "## Stemming\n",
        "bazując na definicji z angielskiej wikipedii jest to proces polegający na wydobyciu z wybranego wyrazu tzw. rdzenia, a więc tej jego części, która jest odporna na odmiany przez przyimki, rodzaje itp.\n",
        "\n"
      ]
    },
    {
      "cell_type": "markdown",
      "metadata": {
        "id": "OoAe73Ct_Mei"
      },
      "source": [
        "## Lematyzacja\n",
        "\n",
        "pojęcie to jest bardzo podobne do powyższego, a oznacza sprowadzenie grupy wyrazów stanowiących odmianę danego zwrotu do wspólnej postaci, umożliwiającej traktowanie ich wszystkich jako te samo słowo."
      ]
    },
    {
      "cell_type": "markdown",
      "metadata": {
        "id": "MN5L3ez-jZEm"
      },
      "source": [
        "## Znaki specjalne, nadmiarowe spacje, znaczniki HTML, inne jeżeli potrzeba"
      ]
    },
    {
      "cell_type": "code",
      "metadata": {
        "id": "LvaqQG0xj5w_"
      },
      "source": [
        "test_text = '''\n",
        "Adam Mickiewicz\\r\\n\\r\\nDziady. Widowisko, część I\\r\\n\\r\\n\\r\\n\\r\\n/ Prawa strona teatru — Dziewica w samotnym pokoju — na boku ksiąg mnóstwo, fortepiano, okno z lewej strony w pole; na prawej wielkie zwierciadło; świeca gasnąca na stole i księga rozłożona (romans Valerie). /\\r\\n\\r\\n\\r\\nDZIEWICA\\r\\n\\r\\n/ wstaje od stołu /\\r\\n\\r\\nŚwieco niedobra! właśnie pora była zgasnąć!\\r\\nI nie mogłam doczytać — czyż podobna zasnąć?\\r\\nWaleryjo! Gustawie! anielski Gustawie!\\r\\nAch, tak mi często o was śniło się na jawie,\\r\\nA przez sen — będę z wami, Pan Bóg wie dopóki! -----\\r\\nTa lektura, podobnie jak tysiące innych, dostępna jest na stronie wolnelektury.pl.\\r\\nWersja lektury w opracowaniu merytorycznym i krytycznym (przypisy i motywy) dostępna jest na stronie http://wolnelektury.pl/katalog/lektura/dziady-dziady-widowisko-czesc-i.\\r\\n\\r\\n\n",
        "'''\n"
      ],
      "execution_count": null,
      "outputs": []
    },
    {
      "cell_type": "code",
      "metadata": {
        "id": "9WT2qseWj8OR"
      },
      "source": [
        "import re\n",
        "def preprocess_text(text):\n",
        "    text = re.sub(r\"^.*\\n\",\"\", text)\n",
        "    text = re.sub(u\"[ \\n]+\", \" \", text) # newlines -> spaces\n",
        "    text = re.sub(u\"[ \\r]+\", \" \", text) # \\r -> spaces\n",
        "    text = text.strip()\n",
        "    text = re.sub(r\"----- Ta lektura.*\",\"\", text)\n",
        "\n",
        "\n",
        "    return text\n",
        "\n",
        "\n",
        "assert ('\\n' not in preprocess_text(test_text))\n",
        "assert ('\\r' not in preprocess_text(test_text))\n",
        "assert ('  ' not in preprocess_text(test_text))\n",
        "assert ('Ta lektura,' not in preprocess_text(test_text))\n"
      ],
      "execution_count": null,
      "outputs": []
    },
    {
      "cell_type": "code",
      "metadata": {
        "colab": {
          "base_uri": "https://localhost:8080/",
          "height": 137
        },
        "id": "VLrSz4zRk-ob",
        "outputId": "1ac33858-8aeb-419e-e313-025ffdbb3d8b"
      },
      "source": [
        "preprocess_text(test_text)"
      ],
      "execution_count": null,
      "outputs": [
        {
          "data": {
            "application/vnd.google.colaboratory.intrinsic+json": {
              "type": "string"
            },
            "text/plain": [
              "'Adam Mickiewicz Dziady. Widowisko, część I / Prawa strona teatru — Dziewica w samotnym pokoju — na boku ksiąg mnóstwo, fortepiano, okno z lewej strony w pole; na prawej wielkie zwierciadło; świeca gasnąca na stole i księga rozłożona (romans Valerie). / DZIEWICA / wstaje od stołu / Świeco niedobra! właśnie pora była zgasnąć! I nie mogłam doczytać — czyż podobna zasnąć? Waleryjo! Gustawie! anielski Gustawie! Ach, tak mi często o was śniło się na jawie, A przez sen — będę z wami, Pan Bóg wie dopóki! '"
            ]
          },
          "execution_count": 434,
          "metadata": {},
          "output_type": "execute_result"
        }
      ]
    },
    {
      "cell_type": "code",
      "metadata": {
        "id": "E3oMZ2fwnIge"
      },
      "source": [
        "def split_to_sentences(text):\n",
        "  return [re.sub(r\"^ \",\"\",l) for l in re.split('\\.|,|\\?|!|:', text)]\n",
        "\n",
        "assert(['hello world', \"Hello John\"] == split_to_sentences(\"hello world! Hello John\"))"
      ],
      "execution_count": null,
      "outputs": []
    },
    {
      "cell_type": "markdown",
      "metadata": {
        "id": "Dz4CjN7SjVeg"
      },
      "source": [
        "###interpunkcja"
      ]
    },
    {
      "cell_type": "code",
      "metadata": {
        "colab": {
          "base_uri": "https://localhost:8080/",
          "height": 35
        },
        "id": "xWaegBkeh1TM",
        "outputId": "88bcbd8f-1731-48e2-f366-aeb35d48d7c7"
      },
      "source": [
        "import string \n",
        "string.punctuation"
      ],
      "execution_count": null,
      "outputs": [
        {
          "data": {
            "application/vnd.google.colaboratory.intrinsic+json": {
              "type": "string"
            },
            "text/plain": [
              "'!\"#$%&\\'()*+,-./:;<=>?@[\\\\]^_`{|}~'"
            ]
          },
          "execution_count": 405,
          "metadata": {},
          "output_type": "execute_result"
        }
      ]
    },
    {
      "cell_type": "code",
      "metadata": {
        "id": "mIxN8jAlifwT"
      },
      "source": [
        "def remove_punct(text):\n",
        "    text_nopunct = \"\".join([char for char in text if char not in string.punctuation])\n",
        "    return text_nopunct"
      ],
      "execution_count": null,
      "outputs": []
    },
    {
      "cell_type": "code",
      "metadata": {
        "id": "Y5y_YgrCiloW"
      },
      "source": [
        "assert(remove_punct(\"hello, world!\") == \"hello world\")"
      ],
      "execution_count": null,
      "outputs": []
    },
    {
      "cell_type": "markdown",
      "metadata": {
        "id": "WYvEZdESxGjc"
      },
      "source": [
        "### Stop words"
      ]
    },
    {
      "cell_type": "code",
      "metadata": {
        "id": "_ZGWOBrhxeUm"
      },
      "source": [
        "stop_words = (requests\n",
        "         .get('https://raw.githubusercontent.com/bieli/stopwords/master/polish.stopwords.txt')\n",
        "         .text\n",
        "         .split('\\n'))"
      ],
      "execution_count": null,
      "outputs": []
    },
    {
      "cell_type": "code",
      "metadata": {
        "colab": {
          "base_uri": "https://localhost:8080/"
        },
        "id": "Bjmr6VLHxi36",
        "outputId": "e2f02f0e-d480-4091-94b3-5ce9a5bcaf1f"
      },
      "source": [
        "\n",
        "stop_words[:10]"
      ],
      "execution_count": null,
      "outputs": [
        {
          "data": {
            "text/plain": [
              "['a', 'aby', 'ach', 'acz', 'aczkolwiek', 'aj', 'albo', 'ale', 'alez', 'ależ']"
            ]
          },
          "execution_count": 513,
          "metadata": {},
          "output_type": "execute_result"
        }
      ]
    },
    {
      "cell_type": "code",
      "metadata": {
        "id": "aeCZwUwPxEUA"
      },
      "source": [
        "def remove_stop_words(text):\n",
        "  return \" \".join([word for word in text.split(' ') if word not in stop_words])\n",
        "\n",
        "assert \"Cześć czołem\" == remove_stop_words(\"Cześć i czołem\")"
      ],
      "execution_count": null,
      "outputs": []
    },
    {
      "cell_type": "code",
      "metadata": {
        "id": "HS_gsLONit3p"
      },
      "source": [
        "BOOKS['content_txt'] = (BOOKS.content\n",
        "                             .apply(preprocess_text)\n",
        "                             .apply(lambda s: s.lower())\n",
        "                             .apply(remove_stop_words)\n",
        "                             .apply(split_to_sentences)\n",
        "                            )"
      ],
      "execution_count": null,
      "outputs": []
    },
    {
      "cell_type": "code",
      "metadata": {
        "id": "oMcwYFAzm2tC"
      },
      "source": [
        "BOOK_LINES = BOOKS[['author', 'content_txt']].explode('content_txt')"
      ],
      "execution_count": null,
      "outputs": []
    },
    {
      "cell_type": "code",
      "metadata": {
        "id": "b3I0EIskoMAV"
      },
      "source": [
        "BOOK_LINES = BOOK_LINES.reset_index(drop=True)"
      ],
      "execution_count": null,
      "outputs": []
    },
    {
      "cell_type": "code",
      "metadata": {
        "colab": {
          "base_uri": "https://localhost:8080/",
          "height": 204
        },
        "id": "u9B0TQRFpVw2",
        "outputId": "40c299d8-b7d3-4327-9826-b92e883bf84b"
      },
      "source": [
        "BOOK_LINES.head()"
      ],
      "execution_count": null,
      "outputs": [
        {
          "data": {
            "text/html": [
              "<div>\n",
              "<style scoped>\n",
              "    .dataframe tbody tr th:only-of-type {\n",
              "        vertical-align: middle;\n",
              "    }\n",
              "\n",
              "    .dataframe tbody tr th {\n",
              "        vertical-align: top;\n",
              "    }\n",
              "\n",
              "    .dataframe thead th {\n",
              "        text-align: right;\n",
              "    }\n",
              "</style>\n",
              "<table border=\"1\" class=\"dataframe\">\n",
              "  <thead>\n",
              "    <tr style=\"text-align: right;\">\n",
              "      <th></th>\n",
              "      <th>author</th>\n",
              "      <th>content_txt</th>\n",
              "    </tr>\n",
              "  </thead>\n",
              "  <tbody>\n",
              "    <tr>\n",
              "      <th>0</th>\n",
              "      <td>Mickiewicz</td>\n",
              "      <td>adam mickiewicz dziady</td>\n",
              "    </tr>\n",
              "    <tr>\n",
              "      <th>1</th>\n",
              "      <td>Mickiewicz</td>\n",
              "      <td>widowisko</td>\n",
              "    </tr>\n",
              "    <tr>\n",
              "      <th>2</th>\n",
              "      <td>Mickiewicz</td>\n",
              "      <td>część i / prawa strona teatru — dziewica w sam...</td>\n",
              "    </tr>\n",
              "    <tr>\n",
              "      <th>3</th>\n",
              "      <td>Mickiewicz</td>\n",
              "      <td>fortepiano</td>\n",
              "    </tr>\n",
              "    <tr>\n",
              "      <th>4</th>\n",
              "      <td>Mickiewicz</td>\n",
              "      <td>okno z lewej strony w pole; na prawej wielkie ...</td>\n",
              "    </tr>\n",
              "  </tbody>\n",
              "</table>\n",
              "</div>"
            ],
            "text/plain": [
              "       author                                        content_txt\n",
              "0  Mickiewicz                             adam mickiewicz dziady\n",
              "1  Mickiewicz                                          widowisko\n",
              "2  Mickiewicz  część i / prawa strona teatru — dziewica w sam...\n",
              "3  Mickiewicz                                         fortepiano\n",
              "4  Mickiewicz  okno z lewej strony w pole; na prawej wielkie ..."
            ]
          },
          "execution_count": 454,
          "metadata": {},
          "output_type": "execute_result"
        }
      ]
    },
    {
      "cell_type": "code",
      "metadata": {
        "colab": {
          "base_uri": "https://localhost:8080/",
          "height": 235
        },
        "id": "zK9ml_J4pkVF",
        "outputId": "2be4eacc-c2f4-4965-9814-52dbadf827dd"
      },
      "source": [
        "BOOK_LINES.groupby('author').count()"
      ],
      "execution_count": null,
      "outputs": [
        {
          "data": {
            "text/html": [
              "<div>\n",
              "<style scoped>\n",
              "    .dataframe tbody tr th:only-of-type {\n",
              "        vertical-align: middle;\n",
              "    }\n",
              "\n",
              "    .dataframe tbody tr th {\n",
              "        vertical-align: top;\n",
              "    }\n",
              "\n",
              "    .dataframe thead th {\n",
              "        text-align: right;\n",
              "    }\n",
              "</style>\n",
              "<table border=\"1\" class=\"dataframe\">\n",
              "  <thead>\n",
              "    <tr style=\"text-align: right;\">\n",
              "      <th></th>\n",
              "      <th>content_txt</th>\n",
              "    </tr>\n",
              "    <tr>\n",
              "      <th>author</th>\n",
              "      <th></th>\n",
              "    </tr>\n",
              "  </thead>\n",
              "  <tbody>\n",
              "    <tr>\n",
              "      <th>Mickiewicz</th>\n",
              "      <td>3214</td>\n",
              "    </tr>\n",
              "    <tr>\n",
              "      <th>Orzeszkowa</th>\n",
              "      <td>73332</td>\n",
              "    </tr>\n",
              "    <tr>\n",
              "      <th>Prus</th>\n",
              "      <td>69622</td>\n",
              "    </tr>\n",
              "    <tr>\n",
              "      <th>Reymont</th>\n",
              "      <td>77587</td>\n",
              "    </tr>\n",
              "    <tr>\n",
              "      <th>Sienkiewicz</th>\n",
              "      <td>105748</td>\n",
              "    </tr>\n",
              "  </tbody>\n",
              "</table>\n",
              "</div>"
            ],
            "text/plain": [
              "             content_txt\n",
              "author                  \n",
              "Mickiewicz          3214\n",
              "Orzeszkowa         73332\n",
              "Prus               69622\n",
              "Reymont            77587\n",
              "Sienkiewicz       105748"
            ]
          },
          "execution_count": 456,
          "metadata": {},
          "output_type": "execute_result"
        }
      ]
    },
    {
      "cell_type": "markdown",
      "metadata": {
        "id": "TK1jmVyUp3HU"
      },
      "source": [
        "Duża różnica w elementach danej klasy!! Może mieć wpływ na rezultaty"
      ]
    },
    {
      "cell_type": "code",
      "metadata": {
        "id": "6pWHWKiFpxWS"
      },
      "source": [
        "BOOK_LINES['words'] = BOOK_LINES.content_txt.apply(lambda s: len(s.split()))"
      ],
      "execution_count": null,
      "outputs": []
    },
    {
      "cell_type": "code",
      "metadata": {
        "colab": {
          "base_uri": "https://localhost:8080/",
          "height": 235
        },
        "id": "PRVIqEdOsSXU",
        "outputId": "fd7c0d93-3b2a-493d-9a50-07b0391fe621"
      },
      "source": [
        "BOOK_LINES.groupby('author')['words'].describe()\n"
      ],
      "execution_count": null,
      "outputs": [
        {
          "data": {
            "text/html": [
              "<div>\n",
              "<style scoped>\n",
              "    .dataframe tbody tr th:only-of-type {\n",
              "        vertical-align: middle;\n",
              "    }\n",
              "\n",
              "    .dataframe tbody tr th {\n",
              "        vertical-align: top;\n",
              "    }\n",
              "\n",
              "    .dataframe thead th {\n",
              "        text-align: right;\n",
              "    }\n",
              "</style>\n",
              "<table border=\"1\" class=\"dataframe\">\n",
              "  <thead>\n",
              "    <tr style=\"text-align: right;\">\n",
              "      <th></th>\n",
              "      <th>count</th>\n",
              "      <th>mean</th>\n",
              "      <th>std</th>\n",
              "      <th>min</th>\n",
              "      <th>25%</th>\n",
              "      <th>50%</th>\n",
              "      <th>75%</th>\n",
              "      <th>max</th>\n",
              "    </tr>\n",
              "    <tr>\n",
              "      <th>author</th>\n",
              "      <th></th>\n",
              "      <th></th>\n",
              "      <th></th>\n",
              "      <th></th>\n",
              "      <th></th>\n",
              "      <th></th>\n",
              "      <th></th>\n",
              "      <th></th>\n",
              "    </tr>\n",
              "  </thead>\n",
              "  <tbody>\n",
              "    <tr>\n",
              "      <th>Mickiewicz</th>\n",
              "      <td>3214.0</td>\n",
              "      <td>4.471998</td>\n",
              "      <td>3.049798</td>\n",
              "      <td>0.0</td>\n",
              "      <td>2.0</td>\n",
              "      <td>4.0</td>\n",
              "      <td>6.0</td>\n",
              "      <td>27.0</td>\n",
              "    </tr>\n",
              "    <tr>\n",
              "      <th>Orzeszkowa</th>\n",
              "      <td>73332.0</td>\n",
              "      <td>5.971636</td>\n",
              "      <td>4.348810</td>\n",
              "      <td>0.0</td>\n",
              "      <td>3.0</td>\n",
              "      <td>5.0</td>\n",
              "      <td>8.0</td>\n",
              "      <td>64.0</td>\n",
              "    </tr>\n",
              "    <tr>\n",
              "      <th>Prus</th>\n",
              "      <td>69622.0</td>\n",
              "      <td>5.758482</td>\n",
              "      <td>3.888227</td>\n",
              "      <td>0.0</td>\n",
              "      <td>3.0</td>\n",
              "      <td>5.0</td>\n",
              "      <td>7.0</td>\n",
              "      <td>51.0</td>\n",
              "    </tr>\n",
              "    <tr>\n",
              "      <th>Reymont</th>\n",
              "      <td>77587.0</td>\n",
              "      <td>5.290100</td>\n",
              "      <td>3.479665</td>\n",
              "      <td>0.0</td>\n",
              "      <td>3.0</td>\n",
              "      <td>5.0</td>\n",
              "      <td>7.0</td>\n",
              "      <td>55.0</td>\n",
              "    </tr>\n",
              "    <tr>\n",
              "      <th>Sienkiewicz</th>\n",
              "      <td>105748.0</td>\n",
              "      <td>5.425994</td>\n",
              "      <td>3.506715</td>\n",
              "      <td>0.0</td>\n",
              "      <td>3.0</td>\n",
              "      <td>5.0</td>\n",
              "      <td>7.0</td>\n",
              "      <td>44.0</td>\n",
              "    </tr>\n",
              "  </tbody>\n",
              "</table>\n",
              "</div>"
            ],
            "text/plain": [
              "                count      mean       std  min  25%  50%  75%   max\n",
              "author                                                             \n",
              "Mickiewicz     3214.0  4.471998  3.049798  0.0  2.0  4.0  6.0  27.0\n",
              "Orzeszkowa    73332.0  5.971636  4.348810  0.0  3.0  5.0  8.0  64.0\n",
              "Prus          69622.0  5.758482  3.888227  0.0  3.0  5.0  7.0  51.0\n",
              "Reymont       77587.0  5.290100  3.479665  0.0  3.0  5.0  7.0  55.0\n",
              "Sienkiewicz  105748.0  5.425994  3.506715  0.0  3.0  5.0  7.0  44.0"
            ]
          },
          "execution_count": 463,
          "metadata": {},
          "output_type": "execute_result"
        }
      ]
    },
    {
      "cell_type": "code",
      "metadata": {
        "id": "zSphnG-Bs5uN"
      },
      "source": [
        "BOOK_LINES = BOOK_LINES[BOOK_LINES['words'] != 0]"
      ],
      "execution_count": null,
      "outputs": []
    },
    {
      "cell_type": "code",
      "metadata": {
        "colab": {
          "base_uri": "https://localhost:8080/"
        },
        "id": "9votvf7asmzG",
        "outputId": "91599880-89b8-45a8-f2f8-01d4d78952cc"
      },
      "source": [
        "BOOK_LINES.groupby('author')['words'].quantile(0.98)"
      ],
      "execution_count": null,
      "outputs": [
        {
          "data": {
            "text/plain": [
              "author\n",
              "Mickiewicz     13.0\n",
              "Orzeszkowa     18.0\n",
              "Prus           17.0\n",
              "Reymont        15.0\n",
              "Sienkiewicz    15.0\n",
              "Name: words, dtype: float64"
            ]
          },
          "execution_count": 468,
          "metadata": {},
          "output_type": "execute_result"
        }
      ]
    },
    {
      "cell_type": "code",
      "metadata": {
        "colab": {
          "base_uri": "https://localhost:8080/",
          "height": 235
        },
        "id": "zJXtgj4vsom-",
        "outputId": "29238dcb-bfaa-4751-a20c-5b6908ad2198"
      },
      "source": [
        "BOOK_LINES.groupby('author')['words'].describe()"
      ],
      "execution_count": null,
      "outputs": [
        {
          "data": {
            "text/html": [
              "<div>\n",
              "<style scoped>\n",
              "    .dataframe tbody tr th:only-of-type {\n",
              "        vertical-align: middle;\n",
              "    }\n",
              "\n",
              "    .dataframe tbody tr th {\n",
              "        vertical-align: top;\n",
              "    }\n",
              "\n",
              "    .dataframe thead th {\n",
              "        text-align: right;\n",
              "    }\n",
              "</style>\n",
              "<table border=\"1\" class=\"dataframe\">\n",
              "  <thead>\n",
              "    <tr style=\"text-align: right;\">\n",
              "      <th></th>\n",
              "      <th>count</th>\n",
              "      <th>mean</th>\n",
              "      <th>std</th>\n",
              "      <th>min</th>\n",
              "      <th>25%</th>\n",
              "      <th>50%</th>\n",
              "      <th>75%</th>\n",
              "      <th>max</th>\n",
              "    </tr>\n",
              "    <tr>\n",
              "      <th>author</th>\n",
              "      <th></th>\n",
              "      <th></th>\n",
              "      <th></th>\n",
              "      <th></th>\n",
              "      <th></th>\n",
              "      <th></th>\n",
              "      <th></th>\n",
              "      <th></th>\n",
              "    </tr>\n",
              "  </thead>\n",
              "  <tbody>\n",
              "    <tr>\n",
              "      <th>Mickiewicz</th>\n",
              "      <td>3206.0</td>\n",
              "      <td>4.483157</td>\n",
              "      <td>3.045397</td>\n",
              "      <td>1.0</td>\n",
              "      <td>2.0</td>\n",
              "      <td>4.0</td>\n",
              "      <td>6.0</td>\n",
              "      <td>27.0</td>\n",
              "    </tr>\n",
              "    <tr>\n",
              "      <th>Orzeszkowa</th>\n",
              "      <td>73230.0</td>\n",
              "      <td>5.979954</td>\n",
              "      <td>4.346119</td>\n",
              "      <td>1.0</td>\n",
              "      <td>3.0</td>\n",
              "      <td>5.0</td>\n",
              "      <td>8.0</td>\n",
              "      <td>64.0</td>\n",
              "    </tr>\n",
              "    <tr>\n",
              "      <th>Prus</th>\n",
              "      <td>69588.0</td>\n",
              "      <td>5.761295</td>\n",
              "      <td>3.887092</td>\n",
              "      <td>1.0</td>\n",
              "      <td>3.0</td>\n",
              "      <td>5.0</td>\n",
              "      <td>7.0</td>\n",
              "      <td>51.0</td>\n",
              "    </tr>\n",
              "    <tr>\n",
              "      <th>Reymont</th>\n",
              "      <td>77560.0</td>\n",
              "      <td>5.291942</td>\n",
              "      <td>3.478870</td>\n",
              "      <td>1.0</td>\n",
              "      <td>3.0</td>\n",
              "      <td>5.0</td>\n",
              "      <td>7.0</td>\n",
              "      <td>55.0</td>\n",
              "    </tr>\n",
              "    <tr>\n",
              "      <th>Sienkiewicz</th>\n",
              "      <td>105626.0</td>\n",
              "      <td>5.432261</td>\n",
              "      <td>3.503884</td>\n",
              "      <td>1.0</td>\n",
              "      <td>3.0</td>\n",
              "      <td>5.0</td>\n",
              "      <td>7.0</td>\n",
              "      <td>44.0</td>\n",
              "    </tr>\n",
              "  </tbody>\n",
              "</table>\n",
              "</div>"
            ],
            "text/plain": [
              "                count      mean       std  min  25%  50%  75%   max\n",
              "author                                                             \n",
              "Mickiewicz     3206.0  4.483157  3.045397  1.0  2.0  4.0  6.0  27.0\n",
              "Orzeszkowa    73230.0  5.979954  4.346119  1.0  3.0  5.0  8.0  64.0\n",
              "Prus          69588.0  5.761295  3.887092  1.0  3.0  5.0  7.0  51.0\n",
              "Reymont       77560.0  5.291942  3.478870  1.0  3.0  5.0  7.0  55.0\n",
              "Sienkiewicz  105626.0  5.432261  3.503884  1.0  3.0  5.0  7.0  44.0"
            ]
          },
          "execution_count": 469,
          "metadata": {},
          "output_type": "execute_result"
        }
      ]
    },
    {
      "cell_type": "markdown",
      "metadata": {
        "id": "tcT605qtsu41"
      },
      "source": [
        "# Podział na zbiory\n",
        "  * train\n",
        "  * test\n",
        "  * validation\n",
        "  * dev"
      ]
    },
    {
      "cell_type": "code",
      "metadata": {
        "colab": {
          "base_uri": "https://localhost:8080/"
        },
        "id": "d3i7ersvtd17",
        "outputId": "9a86fc4b-8058-4315-e6a7-3e6846e8ab34"
      },
      "source": [
        "pip install sklearn"
      ],
      "execution_count": null,
      "outputs": [
        {
          "name": "stdout",
          "output_type": "stream",
          "text": [
            "Requirement already satisfied: sklearn in /usr/local/lib/python3.7/dist-packages (0.0)\n",
            "Requirement already satisfied: scikit-learn in /usr/local/lib/python3.7/dist-packages (from sklearn) (0.22.2.post1)\n",
            "Requirement already satisfied: scipy>=0.17.0 in /usr/local/lib/python3.7/dist-packages (from scikit-learn->sklearn) (1.4.1)\n",
            "Requirement already satisfied: joblib>=0.11 in /usr/local/lib/python3.7/dist-packages (from scikit-learn->sklearn) (1.0.1)\n",
            "Requirement already satisfied: numpy>=1.11.0 in /usr/local/lib/python3.7/dist-packages (from scikit-learn->sklearn) (1.19.5)\n"
          ]
        }
      ]
    },
    {
      "cell_type": "code",
      "metadata": {
        "id": "E2mcfgMet0gU"
      },
      "source": [
        "from sklearn.model_selection import train_test_split"
      ],
      "execution_count": null,
      "outputs": []
    },
    {
      "cell_type": "code",
      "metadata": {
        "id": "fTmdACeoujCn"
      },
      "source": [
        ""
      ],
      "execution_count": null,
      "outputs": []
    },
    {
      "cell_type": "code",
      "metadata": {
        "id": "GQ5u9ru4t5A1"
      },
      "source": [
        "train_test_split?"
      ],
      "execution_count": null,
      "outputs": []
    },
    {
      "cell_type": "code",
      "metadata": {
        "colab": {
          "base_uri": "https://localhost:8080/",
          "height": 235
        },
        "id": "cfoQa6icuHrC",
        "outputId": "71e75cd7-67ab-4294-a25f-0944ffdfd3e8"
      },
      "source": [
        "BOOK_LINES.groupby('author').count()"
      ],
      "execution_count": null,
      "outputs": [
        {
          "data": {
            "text/html": [
              "<div>\n",
              "<style scoped>\n",
              "    .dataframe tbody tr th:only-of-type {\n",
              "        vertical-align: middle;\n",
              "    }\n",
              "\n",
              "    .dataframe tbody tr th {\n",
              "        vertical-align: top;\n",
              "    }\n",
              "\n",
              "    .dataframe thead th {\n",
              "        text-align: right;\n",
              "    }\n",
              "</style>\n",
              "<table border=\"1\" class=\"dataframe\">\n",
              "  <thead>\n",
              "    <tr style=\"text-align: right;\">\n",
              "      <th></th>\n",
              "      <th>content_txt</th>\n",
              "      <th>words</th>\n",
              "    </tr>\n",
              "    <tr>\n",
              "      <th>author</th>\n",
              "      <th></th>\n",
              "      <th></th>\n",
              "    </tr>\n",
              "  </thead>\n",
              "  <tbody>\n",
              "    <tr>\n",
              "      <th>Mickiewicz</th>\n",
              "      <td>3206</td>\n",
              "      <td>3206</td>\n",
              "    </tr>\n",
              "    <tr>\n",
              "      <th>Orzeszkowa</th>\n",
              "      <td>73230</td>\n",
              "      <td>73230</td>\n",
              "    </tr>\n",
              "    <tr>\n",
              "      <th>Prus</th>\n",
              "      <td>69588</td>\n",
              "      <td>69588</td>\n",
              "    </tr>\n",
              "    <tr>\n",
              "      <th>Reymont</th>\n",
              "      <td>77560</td>\n",
              "      <td>77560</td>\n",
              "    </tr>\n",
              "    <tr>\n",
              "      <th>Sienkiewicz</th>\n",
              "      <td>105626</td>\n",
              "      <td>105626</td>\n",
              "    </tr>\n",
              "  </tbody>\n",
              "</table>\n",
              "</div>"
            ],
            "text/plain": [
              "             content_txt   words\n",
              "author                          \n",
              "Mickiewicz          3206    3206\n",
              "Orzeszkowa         73230   73230\n",
              "Prus               69588   69588\n",
              "Reymont            77560   77560\n",
              "Sienkiewicz       105626  105626"
            ]
          },
          "execution_count": 485,
          "metadata": {},
          "output_type": "execute_result"
        }
      ]
    },
    {
      "cell_type": "code",
      "metadata": {
        "id": "-5R5yb0Dt1GA"
      },
      "source": [
        "train_df, test_df = train_test_split(\n",
        "    BOOK_LINES, \n",
        "    test_size=0.1,\n",
        "    stratify=BOOK_LINES['author']\n",
        ")"
      ],
      "execution_count": null,
      "outputs": []
    },
    {
      "cell_type": "code",
      "metadata": {
        "colab": {
          "base_uri": "https://localhost:8080/",
          "height": 235
        },
        "id": "V3rfTV4AuFki",
        "outputId": "58822c26-5320-4b7a-ce65-bcef363139b4"
      },
      "source": [
        "train_df.groupby('author').count()"
      ],
      "execution_count": null,
      "outputs": [
        {
          "data": {
            "text/html": [
              "<div>\n",
              "<style scoped>\n",
              "    .dataframe tbody tr th:only-of-type {\n",
              "        vertical-align: middle;\n",
              "    }\n",
              "\n",
              "    .dataframe tbody tr th {\n",
              "        vertical-align: top;\n",
              "    }\n",
              "\n",
              "    .dataframe thead th {\n",
              "        text-align: right;\n",
              "    }\n",
              "</style>\n",
              "<table border=\"1\" class=\"dataframe\">\n",
              "  <thead>\n",
              "    <tr style=\"text-align: right;\">\n",
              "      <th></th>\n",
              "      <th>content_txt</th>\n",
              "      <th>words</th>\n",
              "    </tr>\n",
              "    <tr>\n",
              "      <th>author</th>\n",
              "      <th></th>\n",
              "      <th></th>\n",
              "    </tr>\n",
              "  </thead>\n",
              "  <tbody>\n",
              "    <tr>\n",
              "      <th>Mickiewicz</th>\n",
              "      <td>2886</td>\n",
              "      <td>2886</td>\n",
              "    </tr>\n",
              "    <tr>\n",
              "      <th>Orzeszkowa</th>\n",
              "      <td>65907</td>\n",
              "      <td>65907</td>\n",
              "    </tr>\n",
              "    <tr>\n",
              "      <th>Prus</th>\n",
              "      <td>62629</td>\n",
              "      <td>62629</td>\n",
              "    </tr>\n",
              "    <tr>\n",
              "      <th>Reymont</th>\n",
              "      <td>69804</td>\n",
              "      <td>69804</td>\n",
              "    </tr>\n",
              "    <tr>\n",
              "      <th>Sienkiewicz</th>\n",
              "      <td>95063</td>\n",
              "      <td>95063</td>\n",
              "    </tr>\n",
              "  </tbody>\n",
              "</table>\n",
              "</div>"
            ],
            "text/plain": [
              "             content_txt  words\n",
              "author                         \n",
              "Mickiewicz          2886   2886\n",
              "Orzeszkowa         65907  65907\n",
              "Prus               62629  62629\n",
              "Reymont            69804  69804\n",
              "Sienkiewicz        95063  95063"
            ]
          },
          "execution_count": 494,
          "metadata": {},
          "output_type": "execute_result"
        }
      ]
    },
    {
      "cell_type": "markdown",
      "metadata": {
        "id": "H8j_eVFyvhbE"
      },
      "source": [
        "# Reprezentacja numeryczna\n",
        "\n",
        "https://scikit-learn.org/stable/modules/classes.html#module-sklearn.feature_extraction.text"
      ]
    },
    {
      "cell_type": "code",
      "metadata": {
        "id": "NXBR3ZHwvkrY"
      },
      "source": [
        "from sklearn.feature_extraction.text import  CountVectorizer"
      ],
      "execution_count": null,
      "outputs": []
    },
    {
      "cell_type": "code",
      "metadata": {
        "id": "S4vowwhrwAPU"
      },
      "source": [
        ""
      ],
      "execution_count": null,
      "outputs": []
    },
    {
      "cell_type": "markdown",
      "metadata": {
        "id": "R3Ty1g4lwZ73"
      },
      "source": [
        "## Bag of words\n",
        "Pozwala reprezentować dane tekstowe jako wektor cech(ang. feature vector). Reprezentacja bag-of-words jest niezwykle prosta, sprowadza się do 2 kroków. 1. Stworzenie słownika unikalnych wyrazów - zbiór wyrazów z całej kolekcji dokumentów 2. Stworzenie reprezentacji wektorowej dla każdego z dokumentów zawierającej częstość wystąpień dla poszczególnych wyrazów\n",
        "\n",
        "Jako, że pojedyńczy dokument zawiera wyłącznie mały wycinek z całego zbioru dostępnych wyrazów, wektor cech zawiera głównie 0. Często nazywany rzadkim (ang. sparse vector)"
      ]
    },
    {
      "cell_type": "code",
      "metadata": {
        "id": "6o95OBv8wb9B"
      },
      "source": [
        "documents = [\n",
        "    \"Care About Your Craft\",\n",
        "    \"Make Quality a Requirements Issue\",\n",
        "    \"Don't Repeat Yourself\",\n",
        "    \"Always Design for Concurrency\",\n",
        "    \"Sign Your Work\",\n",
        "    \"Refactor Early, Refactor Often\",\n",
        "]"
      ],
      "execution_count": null,
      "outputs": []
    },
    {
      "cell_type": "code",
      "metadata": {
        "id": "U0_qWMgdwfCs"
      },
      "source": [
        "from sklearn.feature_extraction.text import CountVectorizer\n",
        "import pandas as pd"
      ],
      "execution_count": null,
      "outputs": []
    },
    {
      "cell_type": "code",
      "metadata": {
        "id": "X3AhX2QJwhIK"
      },
      "source": [
        "cv = CountVectorizer(binary=True)\n",
        "cv.fit(documents)\n",
        "X = cv.transform(documents)"
      ],
      "execution_count": null,
      "outputs": []
    },
    {
      "cell_type": "code",
      "metadata": {
        "colab": {
          "base_uri": "https://localhost:8080/",
          "height": 225
        },
        "id": "5A-vAhg0wiZT",
        "outputId": "86a56aad-6474-44cc-d2f4-b48c4e6fa732"
      },
      "source": [
        "DF = pd.DataFrame(X.toarray(), columns=cv.get_feature_names())\n",
        "display(DF[:2], DF[4:6])"
      ],
      "execution_count": null,
      "outputs": [
        {
          "data": {
            "text/html": [
              "<div>\n",
              "<style scoped>\n",
              "    .dataframe tbody tr th:only-of-type {\n",
              "        vertical-align: middle;\n",
              "    }\n",
              "\n",
              "    .dataframe tbody tr th {\n",
              "        vertical-align: top;\n",
              "    }\n",
              "\n",
              "    .dataframe thead th {\n",
              "        text-align: right;\n",
              "    }\n",
              "</style>\n",
              "<table border=\"1\" class=\"dataframe\">\n",
              "  <thead>\n",
              "    <tr style=\"text-align: right;\">\n",
              "      <th></th>\n",
              "      <th>about</th>\n",
              "      <th>always</th>\n",
              "      <th>care</th>\n",
              "      <th>concurrency</th>\n",
              "      <th>craft</th>\n",
              "      <th>design</th>\n",
              "      <th>don</th>\n",
              "      <th>early</th>\n",
              "      <th>for</th>\n",
              "      <th>issue</th>\n",
              "      <th>make</th>\n",
              "      <th>often</th>\n",
              "      <th>quality</th>\n",
              "      <th>refactor</th>\n",
              "      <th>repeat</th>\n",
              "      <th>requirements</th>\n",
              "      <th>sign</th>\n",
              "      <th>work</th>\n",
              "      <th>your</th>\n",
              "      <th>yourself</th>\n",
              "    </tr>\n",
              "  </thead>\n",
              "  <tbody>\n",
              "    <tr>\n",
              "      <th>0</th>\n",
              "      <td>1</td>\n",
              "      <td>0</td>\n",
              "      <td>1</td>\n",
              "      <td>0</td>\n",
              "      <td>1</td>\n",
              "      <td>0</td>\n",
              "      <td>0</td>\n",
              "      <td>0</td>\n",
              "      <td>0</td>\n",
              "      <td>0</td>\n",
              "      <td>0</td>\n",
              "      <td>0</td>\n",
              "      <td>0</td>\n",
              "      <td>0</td>\n",
              "      <td>0</td>\n",
              "      <td>0</td>\n",
              "      <td>0</td>\n",
              "      <td>0</td>\n",
              "      <td>1</td>\n",
              "      <td>0</td>\n",
              "    </tr>\n",
              "    <tr>\n",
              "      <th>1</th>\n",
              "      <td>0</td>\n",
              "      <td>0</td>\n",
              "      <td>0</td>\n",
              "      <td>0</td>\n",
              "      <td>0</td>\n",
              "      <td>0</td>\n",
              "      <td>0</td>\n",
              "      <td>0</td>\n",
              "      <td>0</td>\n",
              "      <td>1</td>\n",
              "      <td>1</td>\n",
              "      <td>0</td>\n",
              "      <td>1</td>\n",
              "      <td>0</td>\n",
              "      <td>0</td>\n",
              "      <td>1</td>\n",
              "      <td>0</td>\n",
              "      <td>0</td>\n",
              "      <td>0</td>\n",
              "      <td>0</td>\n",
              "    </tr>\n",
              "  </tbody>\n",
              "</table>\n",
              "</div>"
            ],
            "text/plain": [
              "   about  always  care  concurrency  ...  sign  work  your  yourself\n",
              "0      1       0     1            0  ...     0     0     1         0\n",
              "1      0       0     0            0  ...     0     0     0         0\n",
              "\n",
              "[2 rows x 20 columns]"
            ]
          },
          "metadata": {},
          "output_type": "display_data"
        },
        {
          "data": {
            "text/html": [
              "<div>\n",
              "<style scoped>\n",
              "    .dataframe tbody tr th:only-of-type {\n",
              "        vertical-align: middle;\n",
              "    }\n",
              "\n",
              "    .dataframe tbody tr th {\n",
              "        vertical-align: top;\n",
              "    }\n",
              "\n",
              "    .dataframe thead th {\n",
              "        text-align: right;\n",
              "    }\n",
              "</style>\n",
              "<table border=\"1\" class=\"dataframe\">\n",
              "  <thead>\n",
              "    <tr style=\"text-align: right;\">\n",
              "      <th></th>\n",
              "      <th>about</th>\n",
              "      <th>always</th>\n",
              "      <th>care</th>\n",
              "      <th>concurrency</th>\n",
              "      <th>craft</th>\n",
              "      <th>design</th>\n",
              "      <th>don</th>\n",
              "      <th>early</th>\n",
              "      <th>for</th>\n",
              "      <th>issue</th>\n",
              "      <th>make</th>\n",
              "      <th>often</th>\n",
              "      <th>quality</th>\n",
              "      <th>refactor</th>\n",
              "      <th>repeat</th>\n",
              "      <th>requirements</th>\n",
              "      <th>sign</th>\n",
              "      <th>work</th>\n",
              "      <th>your</th>\n",
              "      <th>yourself</th>\n",
              "    </tr>\n",
              "  </thead>\n",
              "  <tbody>\n",
              "    <tr>\n",
              "      <th>4</th>\n",
              "      <td>0</td>\n",
              "      <td>0</td>\n",
              "      <td>0</td>\n",
              "      <td>0</td>\n",
              "      <td>0</td>\n",
              "      <td>0</td>\n",
              "      <td>0</td>\n",
              "      <td>0</td>\n",
              "      <td>0</td>\n",
              "      <td>0</td>\n",
              "      <td>0</td>\n",
              "      <td>0</td>\n",
              "      <td>0</td>\n",
              "      <td>0</td>\n",
              "      <td>0</td>\n",
              "      <td>0</td>\n",
              "      <td>1</td>\n",
              "      <td>1</td>\n",
              "      <td>1</td>\n",
              "      <td>0</td>\n",
              "    </tr>\n",
              "    <tr>\n",
              "      <th>5</th>\n",
              "      <td>0</td>\n",
              "      <td>0</td>\n",
              "      <td>0</td>\n",
              "      <td>0</td>\n",
              "      <td>0</td>\n",
              "      <td>0</td>\n",
              "      <td>0</td>\n",
              "      <td>1</td>\n",
              "      <td>0</td>\n",
              "      <td>0</td>\n",
              "      <td>0</td>\n",
              "      <td>1</td>\n",
              "      <td>0</td>\n",
              "      <td>1</td>\n",
              "      <td>0</td>\n",
              "      <td>0</td>\n",
              "      <td>0</td>\n",
              "      <td>0</td>\n",
              "      <td>0</td>\n",
              "      <td>0</td>\n",
              "    </tr>\n",
              "  </tbody>\n",
              "</table>\n",
              "</div>"
            ],
            "text/plain": [
              "   about  always  care  concurrency  ...  sign  work  your  yourself\n",
              "4      0       0     0            0  ...     1     1     1         0\n",
              "5      0       0     0            0  ...     0     0     0         0\n",
              "\n",
              "[2 rows x 20 columns]"
            ]
          },
          "metadata": {},
          "output_type": "display_data"
        }
      ]
    },
    {
      "cell_type": "markdown",
      "metadata": {
        "id": "gra6iA0RwqHB"
      },
      "source": [
        "Transformacja pozwoliła uzyskać strukturę w której każdy wiersz reprezentuje dokument, każda kolumna określa częstość wystąpienia danego tokenu"
      ]
    },
    {
      "cell_type": "code",
      "metadata": {
        "id": "XPO2NkKMwqj1"
      },
      "source": [
        ""
      ],
      "execution_count": null,
      "outputs": []
    },
    {
      "cell_type": "markdown",
      "metadata": {
        "id": "SBWc0Rakwrtv"
      },
      "source": [
        "## Wektor częstości"
      ]
    },
    {
      "cell_type": "code",
      "metadata": {
        "colab": {
          "base_uri": "https://localhost:8080/",
          "height": 225
        },
        "id": "ufiyQ6xuwxYE",
        "outputId": "955c7e3c-1518-4d4a-beff-62586234cc48"
      },
      "source": [
        "cv = CountVectorizer(binary=False)\n",
        "cv.fit(documents)\n",
        "X = cv.transform(documents)\n",
        "DF = pd.DataFrame(X.toarray(), columns=cv.get_feature_names())\n",
        "display(DF[:2], DF[4:6])"
      ],
      "execution_count": null,
      "outputs": [
        {
          "data": {
            "text/html": [
              "<div>\n",
              "<style scoped>\n",
              "    .dataframe tbody tr th:only-of-type {\n",
              "        vertical-align: middle;\n",
              "    }\n",
              "\n",
              "    .dataframe tbody tr th {\n",
              "        vertical-align: top;\n",
              "    }\n",
              "\n",
              "    .dataframe thead th {\n",
              "        text-align: right;\n",
              "    }\n",
              "</style>\n",
              "<table border=\"1\" class=\"dataframe\">\n",
              "  <thead>\n",
              "    <tr style=\"text-align: right;\">\n",
              "      <th></th>\n",
              "      <th>about</th>\n",
              "      <th>always</th>\n",
              "      <th>care</th>\n",
              "      <th>concurrency</th>\n",
              "      <th>craft</th>\n",
              "      <th>design</th>\n",
              "      <th>don</th>\n",
              "      <th>early</th>\n",
              "      <th>for</th>\n",
              "      <th>issue</th>\n",
              "      <th>make</th>\n",
              "      <th>often</th>\n",
              "      <th>quality</th>\n",
              "      <th>refactor</th>\n",
              "      <th>repeat</th>\n",
              "      <th>requirements</th>\n",
              "      <th>sign</th>\n",
              "      <th>work</th>\n",
              "      <th>your</th>\n",
              "      <th>yourself</th>\n",
              "    </tr>\n",
              "  </thead>\n",
              "  <tbody>\n",
              "    <tr>\n",
              "      <th>0</th>\n",
              "      <td>1</td>\n",
              "      <td>0</td>\n",
              "      <td>1</td>\n",
              "      <td>0</td>\n",
              "      <td>1</td>\n",
              "      <td>0</td>\n",
              "      <td>0</td>\n",
              "      <td>0</td>\n",
              "      <td>0</td>\n",
              "      <td>0</td>\n",
              "      <td>0</td>\n",
              "      <td>0</td>\n",
              "      <td>0</td>\n",
              "      <td>0</td>\n",
              "      <td>0</td>\n",
              "      <td>0</td>\n",
              "      <td>0</td>\n",
              "      <td>0</td>\n",
              "      <td>1</td>\n",
              "      <td>0</td>\n",
              "    </tr>\n",
              "    <tr>\n",
              "      <th>1</th>\n",
              "      <td>0</td>\n",
              "      <td>0</td>\n",
              "      <td>0</td>\n",
              "      <td>0</td>\n",
              "      <td>0</td>\n",
              "      <td>0</td>\n",
              "      <td>0</td>\n",
              "      <td>0</td>\n",
              "      <td>0</td>\n",
              "      <td>1</td>\n",
              "      <td>1</td>\n",
              "      <td>0</td>\n",
              "      <td>1</td>\n",
              "      <td>0</td>\n",
              "      <td>0</td>\n",
              "      <td>1</td>\n",
              "      <td>0</td>\n",
              "      <td>0</td>\n",
              "      <td>0</td>\n",
              "      <td>0</td>\n",
              "    </tr>\n",
              "  </tbody>\n",
              "</table>\n",
              "</div>"
            ],
            "text/plain": [
              "   about  always  care  concurrency  ...  sign  work  your  yourself\n",
              "0      1       0     1            0  ...     0     0     1         0\n",
              "1      0       0     0            0  ...     0     0     0         0\n",
              "\n",
              "[2 rows x 20 columns]"
            ]
          },
          "metadata": {},
          "output_type": "display_data"
        },
        {
          "data": {
            "text/html": [
              "<div>\n",
              "<style scoped>\n",
              "    .dataframe tbody tr th:only-of-type {\n",
              "        vertical-align: middle;\n",
              "    }\n",
              "\n",
              "    .dataframe tbody tr th {\n",
              "        vertical-align: top;\n",
              "    }\n",
              "\n",
              "    .dataframe thead th {\n",
              "        text-align: right;\n",
              "    }\n",
              "</style>\n",
              "<table border=\"1\" class=\"dataframe\">\n",
              "  <thead>\n",
              "    <tr style=\"text-align: right;\">\n",
              "      <th></th>\n",
              "      <th>about</th>\n",
              "      <th>always</th>\n",
              "      <th>care</th>\n",
              "      <th>concurrency</th>\n",
              "      <th>craft</th>\n",
              "      <th>design</th>\n",
              "      <th>don</th>\n",
              "      <th>early</th>\n",
              "      <th>for</th>\n",
              "      <th>issue</th>\n",
              "      <th>make</th>\n",
              "      <th>often</th>\n",
              "      <th>quality</th>\n",
              "      <th>refactor</th>\n",
              "      <th>repeat</th>\n",
              "      <th>requirements</th>\n",
              "      <th>sign</th>\n",
              "      <th>work</th>\n",
              "      <th>your</th>\n",
              "      <th>yourself</th>\n",
              "    </tr>\n",
              "  </thead>\n",
              "  <tbody>\n",
              "    <tr>\n",
              "      <th>4</th>\n",
              "      <td>0</td>\n",
              "      <td>0</td>\n",
              "      <td>0</td>\n",
              "      <td>0</td>\n",
              "      <td>0</td>\n",
              "      <td>0</td>\n",
              "      <td>0</td>\n",
              "      <td>0</td>\n",
              "      <td>0</td>\n",
              "      <td>0</td>\n",
              "      <td>0</td>\n",
              "      <td>0</td>\n",
              "      <td>0</td>\n",
              "      <td>0</td>\n",
              "      <td>0</td>\n",
              "      <td>0</td>\n",
              "      <td>1</td>\n",
              "      <td>1</td>\n",
              "      <td>1</td>\n",
              "      <td>0</td>\n",
              "    </tr>\n",
              "    <tr>\n",
              "      <th>5</th>\n",
              "      <td>0</td>\n",
              "      <td>0</td>\n",
              "      <td>0</td>\n",
              "      <td>0</td>\n",
              "      <td>0</td>\n",
              "      <td>0</td>\n",
              "      <td>0</td>\n",
              "      <td>1</td>\n",
              "      <td>0</td>\n",
              "      <td>0</td>\n",
              "      <td>0</td>\n",
              "      <td>1</td>\n",
              "      <td>0</td>\n",
              "      <td>2</td>\n",
              "      <td>0</td>\n",
              "      <td>0</td>\n",
              "      <td>0</td>\n",
              "      <td>0</td>\n",
              "      <td>0</td>\n",
              "      <td>0</td>\n",
              "    </tr>\n",
              "  </tbody>\n",
              "</table>\n",
              "</div>"
            ],
            "text/plain": [
              "   about  always  care  concurrency  ...  sign  work  your  yourself\n",
              "4      0       0     0            0  ...     1     1     1         0\n",
              "5      0       0     0            0  ...     0     0     0         0\n",
              "\n",
              "[2 rows x 20 columns]"
            ]
          },
          "metadata": {},
          "output_type": "display_data"
        }
      ]
    },
    {
      "cell_type": "code",
      "metadata": {
        "id": "mgHtdVkVwy5y"
      },
      "source": [
        ""
      ],
      "execution_count": null,
      "outputs": []
    },
    {
      "cell_type": "markdown",
      "metadata": {
        "id": "01t9yOA3yarY"
      },
      "source": [
        "### zalety\n",
        "+ Jest prostą numeryczną reprezentacją danych tekstowych.\n",
        "\n",
        "### wady\n",
        "\n",
        "- Problem stanowi rozmiar wektora który jest równy długości całego słownika.\n",
        "- Nie uwzględnia relacji pomiędzy semantyką wyrazów\n",
        "- relacje pomiędzy słowami - rózne interpretacje\n",
        "- znaczenie – te same słowa różne znaczenie\n",
        "- metafory, tautologie, ironie\n",
        "- znaki specialne\n",
        "- homonimy - to samo brzmienie inne znaczenia\n",
        "- synonimy, idiomy\n",
        "- 150k słów w słowniku\n"
      ]
    },
    {
      "cell_type": "code",
      "metadata": {
        "id": "TFbIzkmSyoZL"
      },
      "source": [
        "\n"
      ],
      "execution_count": null,
      "outputs": []
    },
    {
      "cell_type": "markdown",
      "metadata": {
        "id": "CIX4wxk4y6eq"
      },
      "source": [
        "## Ważony wektor częstości\n",
        " "
      ]
    },
    {
      "cell_type": "markdown",
      "metadata": {
        "id": "xm3jg0VZzV6h"
      },
      "source": [
        "TF-IDF Term Frequency - Inverse Document Frequency pozwala uzyskać wartość określającą istotność danego tokenu w kontekście całego dokumentu. \n",
        "Wartość częstości (TF) nie uwzględnia różnicy w wartości informacyjnej jaką niosą ze sobą poszczególne wyrazy.\n",
        "IDF - pozwala tą różnicę uchwycić.\n",
        "\n",
        "Innymi słowy metodad TF-IDF pozwala wzmocnić znaczenie tokenu wraz ze wzrostem ilości wystąpień w dokumencie. Jednocześnie niwelując efekt wzmocnienia jeżeli dany token występuje równie często w pozostałych dokumentach stanowiących korpus.\n",
        "\n",
        "Wartość tf-idf może być policzona przez mnożenie wartości tf oraz idf\n",
        "\n",
        "$$ TfIdf(t,d) = tf(t,d)*idf(t,d)$$\n",
        "\n",
        "\n",
        "$tf(t,d)$ jest częstością występowania tokenu w dokumencie\n",
        "$idf(t,d)$ obliczany jest wg wzoru\n",
        "\n",
        "$$ idf(t,d) = log\\frac{n_d}{1+df(d,t)}$$\n",
        "$n_d$ - liczba wystąpień w korpusie\n",
        "\n",
        "$df(d,t)$ - liczba kokumentów gdzie występuje token t\n",
        "\n",
        "$1$ - stała 1 jest opcjonalna, niemniej pozwala uzyskać niezerowe wartości dla tokenów występujących we wszystkich dokumentach\n",
        "\n",
        "\n",
        "Implementacja TF-IDF w scikit-learn różni się jednak od powyższej definicji jest liczony następująco:\n",
        "$$ TfIdf(t,d) = tf(t,d)*(idf(t,d) + 1)$$\n",
        "$$ idf(t,d) = log\\frac{1 + n_d}{1+df(d,t)}$$\n"
      ]
    },
    {
      "cell_type": "code",
      "metadata": {
        "colab": {
          "base_uri": "https://localhost:8080/",
          "height": 224
        },
        "id": "fuNXnrDKy_2s",
        "outputId": "9455ebbe-0168-491a-d824-1f32303937a3"
      },
      "source": [
        "documents = [\n",
        "    \"Test Early. Test Often. Test Automatically!\",\n",
        "    \"Refactor Early, Refactor Often, Just as you might!\",\n",
        "    \"Abstractions Live Longer than Details\",\n",
        "    \"Use Saboteurs to Test Your Testing\",\n",
        "    \"Keep Knowledge in Plain Text\",\n",
        "]\n",
        "\n",
        "import pandas as pd\n",
        "from sklearn.feature_extraction.text import TfidfVectorizer\n",
        "\n",
        "tdif = TfidfVectorizer()\n",
        "X = tdif.fit(documents)\n",
        "X = tdif.transform(documents)\n",
        "DF = pd.DataFrame(X.toarray(), columns=tdif.get_feature_names())\n",
        "DF"
      ],
      "execution_count": null,
      "outputs": [
        {
          "data": {
            "text/html": [
              "<div>\n",
              "<style scoped>\n",
              "    .dataframe tbody tr th:only-of-type {\n",
              "        vertical-align: middle;\n",
              "    }\n",
              "\n",
              "    .dataframe tbody tr th {\n",
              "        vertical-align: top;\n",
              "    }\n",
              "\n",
              "    .dataframe thead th {\n",
              "        text-align: right;\n",
              "    }\n",
              "</style>\n",
              "<table border=\"1\" class=\"dataframe\">\n",
              "  <thead>\n",
              "    <tr style=\"text-align: right;\">\n",
              "      <th></th>\n",
              "      <th>abstractions</th>\n",
              "      <th>as</th>\n",
              "      <th>automatically</th>\n",
              "      <th>details</th>\n",
              "      <th>early</th>\n",
              "      <th>in</th>\n",
              "      <th>just</th>\n",
              "      <th>keep</th>\n",
              "      <th>knowledge</th>\n",
              "      <th>live</th>\n",
              "      <th>longer</th>\n",
              "      <th>might</th>\n",
              "      <th>often</th>\n",
              "      <th>plain</th>\n",
              "      <th>refactor</th>\n",
              "      <th>saboteurs</th>\n",
              "      <th>test</th>\n",
              "      <th>testing</th>\n",
              "      <th>text</th>\n",
              "      <th>than</th>\n",
              "      <th>to</th>\n",
              "      <th>use</th>\n",
              "      <th>you</th>\n",
              "      <th>your</th>\n",
              "    </tr>\n",
              "  </thead>\n",
              "  <tbody>\n",
              "    <tr>\n",
              "      <th>0</th>\n",
              "      <td>0.000000</td>\n",
              "      <td>0.000000</td>\n",
              "      <td>0.350068</td>\n",
              "      <td>0.000000</td>\n",
              "      <td>0.282433</td>\n",
              "      <td>0.000000</td>\n",
              "      <td>0.000000</td>\n",
              "      <td>0.000000</td>\n",
              "      <td>0.000000</td>\n",
              "      <td>0.000000</td>\n",
              "      <td>0.000000</td>\n",
              "      <td>0.000000</td>\n",
              "      <td>0.282433</td>\n",
              "      <td>0.000000</td>\n",
              "      <td>0.000000</td>\n",
              "      <td>0.000000</td>\n",
              "      <td>0.847299</td>\n",
              "      <td>0.000000</td>\n",
              "      <td>0.000000</td>\n",
              "      <td>0.000000</td>\n",
              "      <td>0.000000</td>\n",
              "      <td>0.000000</td>\n",
              "      <td>0.000000</td>\n",
              "      <td>0.000000</td>\n",
              "    </tr>\n",
              "    <tr>\n",
              "      <th>1</th>\n",
              "      <td>0.000000</td>\n",
              "      <td>0.327881</td>\n",
              "      <td>0.000000</td>\n",
              "      <td>0.000000</td>\n",
              "      <td>0.264532</td>\n",
              "      <td>0.000000</td>\n",
              "      <td>0.327881</td>\n",
              "      <td>0.000000</td>\n",
              "      <td>0.000000</td>\n",
              "      <td>0.000000</td>\n",
              "      <td>0.000000</td>\n",
              "      <td>0.327881</td>\n",
              "      <td>0.264532</td>\n",
              "      <td>0.000000</td>\n",
              "      <td>0.655761</td>\n",
              "      <td>0.000000</td>\n",
              "      <td>0.000000</td>\n",
              "      <td>0.000000</td>\n",
              "      <td>0.000000</td>\n",
              "      <td>0.000000</td>\n",
              "      <td>0.000000</td>\n",
              "      <td>0.000000</td>\n",
              "      <td>0.327881</td>\n",
              "      <td>0.000000</td>\n",
              "    </tr>\n",
              "    <tr>\n",
              "      <th>2</th>\n",
              "      <td>0.447214</td>\n",
              "      <td>0.000000</td>\n",
              "      <td>0.000000</td>\n",
              "      <td>0.447214</td>\n",
              "      <td>0.000000</td>\n",
              "      <td>0.000000</td>\n",
              "      <td>0.000000</td>\n",
              "      <td>0.000000</td>\n",
              "      <td>0.000000</td>\n",
              "      <td>0.447214</td>\n",
              "      <td>0.447214</td>\n",
              "      <td>0.000000</td>\n",
              "      <td>0.000000</td>\n",
              "      <td>0.000000</td>\n",
              "      <td>0.000000</td>\n",
              "      <td>0.000000</td>\n",
              "      <td>0.000000</td>\n",
              "      <td>0.000000</td>\n",
              "      <td>0.000000</td>\n",
              "      <td>0.447214</td>\n",
              "      <td>0.000000</td>\n",
              "      <td>0.000000</td>\n",
              "      <td>0.000000</td>\n",
              "      <td>0.000000</td>\n",
              "    </tr>\n",
              "    <tr>\n",
              "      <th>3</th>\n",
              "      <td>0.000000</td>\n",
              "      <td>0.000000</td>\n",
              "      <td>0.000000</td>\n",
              "      <td>0.000000</td>\n",
              "      <td>0.000000</td>\n",
              "      <td>0.000000</td>\n",
              "      <td>0.000000</td>\n",
              "      <td>0.000000</td>\n",
              "      <td>0.000000</td>\n",
              "      <td>0.000000</td>\n",
              "      <td>0.000000</td>\n",
              "      <td>0.000000</td>\n",
              "      <td>0.000000</td>\n",
              "      <td>0.000000</td>\n",
              "      <td>0.000000</td>\n",
              "      <td>0.420669</td>\n",
              "      <td>0.339393</td>\n",
              "      <td>0.420669</td>\n",
              "      <td>0.000000</td>\n",
              "      <td>0.000000</td>\n",
              "      <td>0.420669</td>\n",
              "      <td>0.420669</td>\n",
              "      <td>0.000000</td>\n",
              "      <td>0.420669</td>\n",
              "    </tr>\n",
              "    <tr>\n",
              "      <th>4</th>\n",
              "      <td>0.000000</td>\n",
              "      <td>0.000000</td>\n",
              "      <td>0.000000</td>\n",
              "      <td>0.000000</td>\n",
              "      <td>0.000000</td>\n",
              "      <td>0.447214</td>\n",
              "      <td>0.000000</td>\n",
              "      <td>0.447214</td>\n",
              "      <td>0.447214</td>\n",
              "      <td>0.000000</td>\n",
              "      <td>0.000000</td>\n",
              "      <td>0.000000</td>\n",
              "      <td>0.000000</td>\n",
              "      <td>0.447214</td>\n",
              "      <td>0.000000</td>\n",
              "      <td>0.000000</td>\n",
              "      <td>0.000000</td>\n",
              "      <td>0.000000</td>\n",
              "      <td>0.447214</td>\n",
              "      <td>0.000000</td>\n",
              "      <td>0.000000</td>\n",
              "      <td>0.000000</td>\n",
              "      <td>0.000000</td>\n",
              "      <td>0.000000</td>\n",
              "    </tr>\n",
              "  </tbody>\n",
              "</table>\n",
              "</div>"
            ],
            "text/plain": [
              "   abstractions        as  automatically  ...       use       you      your\n",
              "0      0.000000  0.000000       0.350068  ...  0.000000  0.000000  0.000000\n",
              "1      0.000000  0.327881       0.000000  ...  0.000000  0.327881  0.000000\n",
              "2      0.447214  0.000000       0.000000  ...  0.000000  0.000000  0.000000\n",
              "3      0.000000  0.000000       0.000000  ...  0.420669  0.000000  0.420669\n",
              "4      0.000000  0.000000       0.000000  ...  0.000000  0.000000  0.000000\n",
              "\n",
              "[5 rows x 24 columns]"
            ]
          },
          "execution_count": 520,
          "metadata": {},
          "output_type": "execute_result"
        }
      ]
    },
    {
      "cell_type": "markdown",
      "metadata": {
        "id": "iDo8ha8HzqVz"
      },
      "source": [
        "### zalety\n",
        "\n",
        "* wielkość dokumentu nie ma wpływu wartość, tfifd która jest normalizowana\n",
        "* uwzględnia różnice w znaczeniu tokenów dla znaczenia dokumentu\n",
        "\n",
        "### wady\n",
        "\n",
        "- Nie uwzględnia relacji pomiędzy semantyką wyrazów\n",
        "- relacje pomiędzy słowami - rózne interpretacje\n",
        "- znaczenie – te same słowa różne znaczenie\n",
        "- homonimy - to samo brzmienie inne znaczenia\n",
        "- ignoruje kolejność wyrazów w dokumencie"
      ]
    },
    {
      "cell_type": "code",
      "metadata": {
        "id": "9thomcc6zvpa"
      },
      "source": [
        ""
      ],
      "execution_count": null,
      "outputs": []
    },
    {
      "cell_type": "markdown",
      "metadata": {
        "id": "-v1Cknuf0Jmk"
      },
      "source": [
        "## Wektory - odległość\n",
        "\n",
        "https://docs.scipy.org/doc/scipy/reference/generated/scipy.spatial.distance.cosine.html\n",
        "\n",
        "### Podobieństwo wektorów / odległość kosinusowa\n",
        "\n",
        "Jest metryką pozwalającą zmierzyć jak 2 wektory są podobne względem siebie. Wartość otrzymujemy obliczając wartość kosinusa konta pomiędzy wektorami w przestrzeni. Odległosć kosinusowa pozwala zniwelować wartości wynikające z położenia wektorów w przestrzeni, zachowując interpretowalną statystykę podobieństwa. Zakres wartości (0,1)\n",
        "\n",
        "\n",
        "\n",
        "![cosine](http://blog.jkan.pl/images/cosine-distance.svg)\n",
        "\n",
        "$ A = (3,3)$\n",
        "$ B = (5,2)$\n",
        "$ C = (5,0.5)$\n",
        "\n",
        "$$Cos\\theta = \\frac{\\vec{a} * \\vec{b}}{||\\vec{a}|| ||\\vec{b}||} = \\frac{\\sum_1^n a_ib_i}{\\sqrt{\\sum_1^na_i^2} * \\sqrt{\\sum_1^nb_i^2}}$$\n",
        "$$Cos\\theta = \\frac{15 + 6}{\\sqrt{18} * \\sqrt{29}}$$\n",
        "$$Cos\\theta = 0,9191$$\n",
        "\n",
        "$$cos(90) = 0$$\n",
        "$$cos(0) = 1$$\n",
        "Kosunius przyjmuje wartość ``0`` dla wektorów prostopadłych (ortogonalnych) i wartość ``1`` dla wektorów równoległych. Im wartość kosinusa bliższa ``1`` tym mniejszy kont pomiędzy wektorami\n",
        "\n",
        "Wykorzystując metodę cosine z ``scipy.spatial.distance`` musimy pamiętać o przekształceniu wg wzoru: \n",
        "\n",
        "$$Cosine Distance = 1 − Cosine Similarity$$\n",
        "\n",
        "Oczekujemy że $podobieństwo(A,B) > podobieństwo(A,C)$ ponieważ kąt pomiędzy wektorami A,B jest mniejszy\n",
        "\n"
      ]
    },
    {
      "cell_type": "code",
      "metadata": {
        "colab": {
          "base_uri": "https://localhost:8080/",
          "height": 51
        },
        "id": "iHRMqN0T0Mhz",
        "outputId": "4fbe8631-ce01-4d4c-c271-9e243a0dc09b"
      },
      "source": [
        "from scipy.spatial.distance import cosine\n",
        "A = (3,3)\n",
        "B = (5,2)\n",
        "C = (5,0.5)\n",
        "display(1 - cosine(A,B))\n",
        "display(1 - cosine(A,C))"
      ],
      "execution_count": null,
      "outputs": [
        {
          "data": {
            "text/plain": [
              "0.9191450300180578"
            ]
          },
          "metadata": {},
          "output_type": "display_data"
        },
        {
          "data": {
            "text/plain": [
              "0.7739572992033211"
            ]
          },
          "metadata": {},
          "output_type": "display_data"
        }
      ]
    },
    {
      "cell_type": "code",
      "metadata": {
        "colab": {
          "base_uri": "https://localhost:8080/"
        },
        "id": "oHvOciRj0syP",
        "outputId": "4d71d51e-ac20-4895-cd8b-7a6355558768"
      },
      "source": [
        "A = (1,0,0)\n",
        "B = (0,1,0)\n",
        "1 - cosine(A,B)\n",
        "0.0"
      ],
      "execution_count": null,
      "outputs": [
        {
          "data": {
            "text/plain": [
              "0.0"
            ]
          },
          "execution_count": 522,
          "metadata": {},
          "output_type": "execute_result"
        }
      ]
    },
    {
      "cell_type": "code",
      "metadata": {
        "colab": {
          "base_uri": "https://localhost:8080/"
        },
        "id": "mY-fJjmv005t",
        "outputId": "009dfe4f-e573-40ba-f665-0dc255be4b57"
      },
      "source": [
        "A = (1,0,0)\n",
        "1 - cosine(A,A)\n",
        "1.0"
      ],
      "execution_count": null,
      "outputs": [
        {
          "data": {
            "text/plain": [
              "1.0"
            ]
          },
          "execution_count": 523,
          "metadata": {},
          "output_type": "execute_result"
        }
      ]
    },
    {
      "cell_type": "code",
      "metadata": {
        "id": "1etkjFlr02hK"
      },
      "source": [
        ""
      ],
      "execution_count": null,
      "outputs": []
    },
    {
      "cell_type": "markdown",
      "metadata": {
        "id": "OsZ0s3RP0-ju"
      },
      "source": [
        "## Inne metryki\n",
        "* Manhattan distance\n",
        "* Euclidean distance\n",
        "* Minkowski distance\n",
        "* Jaccard similarity"
      ]
    },
    {
      "cell_type": "code",
      "metadata": {
        "colab": {
          "base_uri": "https://localhost:8080/"
        },
        "id": "-sFaKoXm1Bp-",
        "outputId": "01e3b863-a986-4b00-8dc4-f7c2887465aa"
      },
      "source": [
        "from scipy.spatial.distance import jaccard\n",
        "from scipy.spatial.distance import minkowski\n",
        "from scipy.spatial.distance import euclidean\n",
        "from scipy.spatial.distance import cityblock\n",
        "from scipy.spatial.distance import cosine\n",
        "\n",
        "A = (3, 22, 55, 13)\n",
        "B = (1, 12, 40, 5)\n",
        "\n",
        "jaccard(A,B), minkowski(A,B), euclidean(A,B), cityblock(A,B), cosine(A,B)\n",
        "(1.0, 19.82422760159901, 19.82422760159901, 35, 0.008847457489864041)"
      ],
      "execution_count": null,
      "outputs": [
        {
          "data": {
            "text/plain": [
              "(1.0, 19.82422760159901, 19.82422760159901, 35, 0.008847457489864041)"
            ]
          },
          "execution_count": 524,
          "metadata": {},
          "output_type": "execute_result"
        }
      ]
    },
    {
      "cell_type": "code",
      "metadata": {
        "id": "sXemDenL1GwO"
      },
      "source": [
        ""
      ],
      "execution_count": null,
      "outputs": []
    },
    {
      "cell_type": "markdown",
      "metadata": {
        "id": "d73akN1q1PZ8"
      },
      "source": [
        "## Reprezentacja wektorowa"
      ]
    },
    {
      "cell_type": "code",
      "metadata": {
        "colab": {
          "base_uri": "https://localhost:8080/",
          "height": 204
        },
        "id": "_3lxe10q1bvA",
        "outputId": "e97a107f-cfce-4642-97a4-a0f22e14c2ad"
      },
      "source": [
        "BOOK_LINES.head()"
      ],
      "execution_count": null,
      "outputs": [
        {
          "data": {
            "text/html": [
              "<div>\n",
              "<style scoped>\n",
              "    .dataframe tbody tr th:only-of-type {\n",
              "        vertical-align: middle;\n",
              "    }\n",
              "\n",
              "    .dataframe tbody tr th {\n",
              "        vertical-align: top;\n",
              "    }\n",
              "\n",
              "    .dataframe thead th {\n",
              "        text-align: right;\n",
              "    }\n",
              "</style>\n",
              "<table border=\"1\" class=\"dataframe\">\n",
              "  <thead>\n",
              "    <tr style=\"text-align: right;\">\n",
              "      <th></th>\n",
              "      <th>author</th>\n",
              "      <th>content_txt</th>\n",
              "      <th>words</th>\n",
              "    </tr>\n",
              "  </thead>\n",
              "  <tbody>\n",
              "    <tr>\n",
              "      <th>0</th>\n",
              "      <td>Mickiewicz</td>\n",
              "      <td>adam mickiewicz dziady</td>\n",
              "      <td>3</td>\n",
              "    </tr>\n",
              "    <tr>\n",
              "      <th>1</th>\n",
              "      <td>Mickiewicz</td>\n",
              "      <td>widowisko</td>\n",
              "      <td>1</td>\n",
              "    </tr>\n",
              "    <tr>\n",
              "      <th>2</th>\n",
              "      <td>Mickiewicz</td>\n",
              "      <td>część i / prawa strona teatru — dziewica w sam...</td>\n",
              "      <td>16</td>\n",
              "    </tr>\n",
              "    <tr>\n",
              "      <th>3</th>\n",
              "      <td>Mickiewicz</td>\n",
              "      <td>fortepiano</td>\n",
              "      <td>1</td>\n",
              "    </tr>\n",
              "    <tr>\n",
              "      <th>4</th>\n",
              "      <td>Mickiewicz</td>\n",
              "      <td>okno z lewej strony w pole; na prawej wielkie ...</td>\n",
              "      <td>19</td>\n",
              "    </tr>\n",
              "  </tbody>\n",
              "</table>\n",
              "</div>"
            ],
            "text/plain": [
              "       author                                        content_txt  words\n",
              "0  Mickiewicz                             adam mickiewicz dziady      3\n",
              "1  Mickiewicz                                          widowisko      1\n",
              "2  Mickiewicz  część i / prawa strona teatru — dziewica w sam...     16\n",
              "3  Mickiewicz                                         fortepiano      1\n",
              "4  Mickiewicz  okno z lewej strony w pole; na prawej wielkie ...     19"
            ]
          },
          "execution_count": 525,
          "metadata": {},
          "output_type": "execute_result"
        }
      ]
    },
    {
      "cell_type": "code",
      "metadata": {
        "colab": {
          "base_uri": "https://localhost:8080/"
        },
        "id": "fZhS-Fo61VJ6",
        "outputId": "29b1648a-1db2-46ba-b7ef-24c09d8c57c3"
      },
      "source": [
        "vectorizer = CountVectorizer() # Binary False\n",
        "vectorizer.fit(train_df['content_txt'])"
      ],
      "execution_count": null,
      "outputs": [
        {
          "data": {
            "text/plain": [
              "CountVectorizer(analyzer='word', binary=False, decode_error='strict',\n",
              "                dtype=<class 'numpy.int64'>, encoding='utf-8', input='content',\n",
              "                lowercase=True, max_df=1.0, max_features=None, min_df=1,\n",
              "                ngram_range=(1, 1), preprocessor=None, stop_words=None,\n",
              "                strip_accents=None, token_pattern='(?u)\\\\b\\\\w\\\\w+\\\\b',\n",
              "                tokenizer=None, vocabulary=None)"
            ]
          },
          "execution_count": 528,
          "metadata": {},
          "output_type": "execute_result"
        }
      ]
    },
    {
      "cell_type": "code",
      "metadata": {
        "id": "pAs8-MX31oOi"
      },
      "source": [
        "sample = train_df.iloc[120]['content_txt']"
      ],
      "execution_count": null,
      "outputs": []
    },
    {
      "cell_type": "code",
      "metadata": {
        "colab": {
          "base_uri": "https://localhost:8080/",
          "height": 35
        },
        "id": "0M0s6H5R13Fw",
        "outputId": "5722db22-b8ff-43c5-b803-6378ed3f4473"
      },
      "source": [
        "sample"
      ],
      "execution_count": null,
      "outputs": [
        {
          "data": {
            "application/vnd.google.colaboratory.intrinsic+json": {
              "type": "string"
            },
            "text/plain": [
              "'tam i przyjaźni prawdziwej być nie może'"
            ]
          },
          "execution_count": 533,
          "metadata": {},
          "output_type": "execute_result"
        }
      ]
    },
    {
      "cell_type": "code",
      "metadata": {
        "id": "if6_Hpdn2CkN"
      },
      "source": [
        "vector = vectorizer.transform([sample])"
      ],
      "execution_count": null,
      "outputs": []
    },
    {
      "cell_type": "code",
      "metadata": {
        "colab": {
          "base_uri": "https://localhost:8080/"
        },
        "id": "Yxr_7yOP2ITd",
        "outputId": "1aef613e-8646-4946-a809-b9899476bdc5"
      },
      "source": [
        "list(vector)"
      ],
      "execution_count": null,
      "outputs": [
        {
          "data": {
            "text/plain": [
              "[<1x127720 sparse matrix of type '<class 'numpy.int64'>'\n",
              " \twith 6 stored elements in Compressed Sparse Row format>]"
            ]
          },
          "execution_count": 537,
          "metadata": {},
          "output_type": "execute_result"
        }
      ]
    },
    {
      "cell_type": "code",
      "metadata": {
        "colab": {
          "base_uri": "https://localhost:8080/"
        },
        "id": "es2yyFPS3a39",
        "outputId": "2b2b6052-c376-437c-aae3-e1a1ce2ceae5"
      },
      "source": [
        "len(vectorizer.vocabulary_)"
      ],
      "execution_count": null,
      "outputs": [
        {
          "data": {
            "text/plain": [
              "127720"
            ]
          },
          "execution_count": 541,
          "metadata": {},
          "output_type": "execute_result"
        }
      ]
    },
    {
      "cell_type": "code",
      "metadata": {
        "id": "Wm-ke2UA3o60"
      },
      "source": [
        "X_train = vectorizer.transform(train_df['content_txt'])\n",
        "X_test = vectorizer.transform(test_df['content_txt'])\n",
        "Y_train = train_df['author']\n",
        "Y_test = test_df['author']"
      ],
      "execution_count": null,
      "outputs": []
    },
    {
      "cell_type": "code",
      "metadata": {
        "id": "umLbguyS4H2-"
      },
      "source": [
        "from sklearn.linear_model import LogisticRegression"
      ],
      "execution_count": null,
      "outputs": []
    },
    {
      "cell_type": "code",
      "metadata": {
        "id": "8Ql4y2q335fj"
      },
      "source": [
        "model = LogisticRegression(class_weight='balanced', dual=True)"
      ],
      "execution_count": null,
      "outputs": []
    },
    {
      "cell_type": "markdown",
      "metadata": {
        "id": "wZ-73TmA4WrY"
      },
      "source": [
        "Pierwszy z parametrów pomaga zrównoważyć nierównomierne ilości tekstów poszczególnych autorów przypisując im wagi odwrotnie proporcjonalne do częstotliwości występowania danej klasy. Drugi pozwala na wewnętrzne wykorzystanie innego sposobu implementacji algorytmu regresji logistycznej, który jest znacznie szybszy jeśli liczba cech przewyższa ilość próbek"
      ]
    },
    {
      "cell_type": "code",
      "metadata": {
        "id": "JotZJ3Cq5b-n"
      },
      "source": [
        ""
      ],
      "execution_count": null,
      "outputs": []
    },
    {
      "cell_type": "code",
      "metadata": {
        "colab": {
          "base_uri": "https://localhost:8080/"
        },
        "id": "7SgVfqRT4fsD",
        "outputId": "d11f72d2-018c-428e-e0a9-dff38f58178e"
      },
      "source": [
        "X_train.shape, Y_train.shape"
      ],
      "execution_count": null,
      "outputs": [
        {
          "data": {
            "text/plain": [
              "((296289, 127720), (296289,))"
            ]
          },
          "execution_count": 579,
          "metadata": {},
          "output_type": "execute_result"
        }
      ]
    },
    {
      "cell_type": "code",
      "metadata": {
        "colab": {
          "base_uri": "https://localhost:8080/"
        },
        "id": "gF2Dh7tP4DAt",
        "outputId": "497e0bb5-52ba-42a1-e771-0c40156f583c"
      },
      "source": [
        "len(vectorizer.vocabulary_) > len(train_df)"
      ],
      "execution_count": null,
      "outputs": [
        {
          "data": {
            "text/plain": [
              "False"
            ]
          },
          "execution_count": 580,
          "metadata": {},
          "output_type": "execute_result"
        }
      ]
    },
    {
      "cell_type": "code",
      "metadata": {
        "colab": {
          "base_uri": "https://localhost:8080/"
        },
        "id": "qSMfTGC65Uoj",
        "outputId": "1100792e-8c3c-49d4-e00c-b2c3a1eec155"
      },
      "source": [
        "\n",
        "X_train"
      ],
      "execution_count": null,
      "outputs": [
        {
          "data": {
            "text/plain": [
              "<296289x127720 sparse matrix of type '<class 'numpy.int64'>'\n",
              "\twith 1429080 stored elements in Compressed Sparse Row format>"
            ]
          },
          "execution_count": 581,
          "metadata": {},
          "output_type": "execute_result"
        }
      ]
    },
    {
      "cell_type": "code",
      "metadata": {
        "id": "SA6MtgsI5_IB"
      },
      "source": [
        "\n",
        "model = LogisticRegression(class_weight='balanced', dual=False, solver=\"liblinear\")"
      ],
      "execution_count": null,
      "outputs": []
    },
    {
      "cell_type": "code",
      "metadata": {
        "colab": {
          "base_uri": "https://localhost:8080/"
        },
        "id": "eAUkjwp_6CYA",
        "outputId": "421c090f-d8a4-4700-a7d9-f5066e7ae4d2"
      },
      "source": [
        "\n",
        "model"
      ],
      "execution_count": null,
      "outputs": [
        {
          "data": {
            "text/plain": [
              "LogisticRegression(C=1.0, class_weight='balanced', dual=False,\n",
              "                   fit_intercept=True, intercept_scaling=1, l1_ratio=None,\n",
              "                   max_iter=100, multi_class='auto', n_jobs=None, penalty='l2',\n",
              "                   random_state=None, solver='liblinear', tol=0.0001, verbose=0,\n",
              "                   warm_start=False)"
            ]
          },
          "execution_count": 592,
          "metadata": {},
          "output_type": "execute_result"
        }
      ]
    },
    {
      "cell_type": "code",
      "metadata": {
        "colab": {
          "base_uri": "https://localhost:8080/"
        },
        "id": "RQSc_FE54eMm",
        "outputId": "24c2be04-6188-432e-befb-5061ce144058"
      },
      "source": [
        "model.fit(X_train, Y_train)"
      ],
      "execution_count": null,
      "outputs": [
        {
          "data": {
            "text/plain": [
              "LogisticRegression(C=1.0, class_weight='balanced', dual=False,\n",
              "                   fit_intercept=True, intercept_scaling=1, l1_ratio=None,\n",
              "                   max_iter=100, multi_class='auto', n_jobs=None, penalty='l2',\n",
              "                   random_state=None, solver='liblinear', tol=0.0001, verbose=0,\n",
              "                   warm_start=False)"
            ]
          },
          "execution_count": 593,
          "metadata": {},
          "output_type": "execute_result"
        }
      ]
    },
    {
      "cell_type": "code",
      "metadata": {
        "id": "XZQgnJ--43k0"
      },
      "source": [
        ""
      ],
      "execution_count": null,
      "outputs": []
    },
    {
      "cell_type": "markdown",
      "metadata": {
        "id": "t9GGXHIP5kLf"
      },
      "source": [
        "## Ocena modelu"
      ]
    },
    {
      "cell_type": "code",
      "metadata": {
        "colab": {
          "base_uri": "https://localhost:8080/"
        },
        "id": "R_VSN0cw5mZj",
        "outputId": "690543e7-cbc8-4403-cc36-1c5481c4a014"
      },
      "source": [
        "model.score(X_test, test_df['author'])"
      ],
      "execution_count": null,
      "outputs": [
        {
          "data": {
            "text/plain": [
              "0.6492816135597339"
            ]
          },
          "execution_count": 594,
          "metadata": {},
          "output_type": "execute_result"
        }
      ]
    },
    {
      "cell_type": "code",
      "metadata": {
        "id": "JEy7lxm66T-A"
      },
      "source": [
        ""
      ],
      "execution_count": null,
      "outputs": []
    },
    {
      "cell_type": "markdown",
      "metadata": {
        "id": "y1Z7Gu937FGu"
      },
      "source": [
        "Trzeba też pamiętać, że accuracy bardzo często nie jest dobrą miarą oceny jakości modelu. Bez wchodzenia w zbyt wiele detali nadmienię że podobnie jest w naszym przypadku. Jako przykład niech posłużą bardziej szczegółowe wyniki miar precision, recall (inaczej sensitivity, czułość), i F1 dla poszczególnych klas:\n",
        "\n",
        "https://en.wikipedia.org/wiki/Precision_and_recall\n",
        "\n",
        "https://en.wikipedia.org/wiki/Sensitivity_and_specificity\n",
        "\n",
        "https://en.wikipedia.org/wiki/F1_score\n"
      ]
    },
    {
      "cell_type": "code",
      "metadata": {
        "colab": {
          "base_uri": "https://localhost:8080/"
        },
        "id": "Cz_C4oRe7F9i",
        "outputId": "7f547eee-7d0d-4f9c-e7e2-6b1b07884d0a"
      },
      "source": [
        "from sklearn import metrics\n",
        "target = test_df['author']\n",
        "predicted = model.predict(X_test)\n",
        "print (metrics.classification_report(target, predicted, digits=4))"
      ],
      "execution_count": null,
      "outputs": [
        {
          "name": "stdout",
          "output_type": "stream",
          "text": [
            "              precision    recall  f1-score   support\n",
            "\n",
            "  Mickiewicz     0.1138    0.3219    0.1682       320\n",
            "  Orzeszkowa     0.6379    0.6237    0.6307      7323\n",
            "        Prus     0.6165    0.5621    0.5880      6959\n",
            "     Reymont     0.6434    0.6987    0.6699      7756\n",
            " Sienkiewicz     0.7310    0.6981    0.7142     10563\n",
            "\n",
            "    accuracy                         0.6493     32921\n",
            "   macro avg     0.5485    0.5809    0.5542     32921\n",
            "weighted avg     0.6594    0.6493    0.6532     32921\n",
            "\n"
          ]
        }
      ]
    },
    {
      "cell_type": "code",
      "metadata": {
        "colab": {
          "base_uri": "https://localhost:8080/",
          "height": 235
        },
        "id": "IjrKIwuF7TRO",
        "outputId": "c530ce7a-cf12-46f1-f4d9-049b804bf7c2"
      },
      "source": [
        "BOOK_LINES.groupby('author').count()"
      ],
      "execution_count": null,
      "outputs": [
        {
          "data": {
            "text/html": [
              "<div>\n",
              "<style scoped>\n",
              "    .dataframe tbody tr th:only-of-type {\n",
              "        vertical-align: middle;\n",
              "    }\n",
              "\n",
              "    .dataframe tbody tr th {\n",
              "        vertical-align: top;\n",
              "    }\n",
              "\n",
              "    .dataframe thead th {\n",
              "        text-align: right;\n",
              "    }\n",
              "</style>\n",
              "<table border=\"1\" class=\"dataframe\">\n",
              "  <thead>\n",
              "    <tr style=\"text-align: right;\">\n",
              "      <th></th>\n",
              "      <th>content_txt</th>\n",
              "      <th>words</th>\n",
              "    </tr>\n",
              "    <tr>\n",
              "      <th>author</th>\n",
              "      <th></th>\n",
              "      <th></th>\n",
              "    </tr>\n",
              "  </thead>\n",
              "  <tbody>\n",
              "    <tr>\n",
              "      <th>Mickiewicz</th>\n",
              "      <td>3206</td>\n",
              "      <td>3206</td>\n",
              "    </tr>\n",
              "    <tr>\n",
              "      <th>Orzeszkowa</th>\n",
              "      <td>73230</td>\n",
              "      <td>73230</td>\n",
              "    </tr>\n",
              "    <tr>\n",
              "      <th>Prus</th>\n",
              "      <td>69588</td>\n",
              "      <td>69588</td>\n",
              "    </tr>\n",
              "    <tr>\n",
              "      <th>Reymont</th>\n",
              "      <td>77560</td>\n",
              "      <td>77560</td>\n",
              "    </tr>\n",
              "    <tr>\n",
              "      <th>Sienkiewicz</th>\n",
              "      <td>105626</td>\n",
              "      <td>105626</td>\n",
              "    </tr>\n",
              "  </tbody>\n",
              "</table>\n",
              "</div>"
            ],
            "text/plain": [
              "             content_txt   words\n",
              "author                          \n",
              "Mickiewicz          3206    3206\n",
              "Orzeszkowa         73230   73230\n",
              "Prus               69588   69588\n",
              "Reymont            77560   77560\n",
              "Sienkiewicz       105626  105626"
            ]
          },
          "execution_count": 596,
          "metadata": {},
          "output_type": "execute_result"
        }
      ]
    },
    {
      "cell_type": "code",
      "metadata": {
        "id": "OfUj-BEK7isi"
      },
      "source": [
        ""
      ],
      "execution_count": null,
      "outputs": []
    },
    {
      "cell_type": "markdown",
      "metadata": {
        "id": "YjpGkE9--rh4"
      },
      "source": [
        "# Wykorzystanie innych modeli"
      ]
    },
    {
      "cell_type": "code",
      "metadata": {
        "colab": {
          "base_uri": "https://localhost:8080/"
        },
        "id": "UdtkCn61_ijR",
        "outputId": "57b22927-2519-42eb-adc5-3e9d8295b9c2"
      },
      "source": [
        "from sklearn.naive_bayes import MultinomialNB\n",
        "\n",
        "model = MultinomialNB()\n",
        "model.fit(X_train, Y_train)\n",
        "model.score(X_test, test_df['author'])\n",
        "\n"
      ],
      "execution_count": null,
      "outputs": [
        {
          "data": {
            "text/plain": [
              "0.6658971477172625"
            ]
          },
          "execution_count": 603,
          "metadata": {},
          "output_type": "execute_result"
        }
      ]
    },
    {
      "cell_type": "code",
      "metadata": {
        "colab": {
          "base_uri": "https://localhost:8080/"
        },
        "id": "go68AcBRAD3y",
        "outputId": "330d1918-5513-4e5a-ed46-cb4c376f522f"
      },
      "source": [
        "from sklearn import metrics\n",
        "\n",
        "target = test_df['author']\n",
        "predicted = model.predict(X_test)\n",
        "print (metrics.classification_report(target, predicted, digits=4))"
      ],
      "execution_count": null,
      "outputs": [
        {
          "name": "stdout",
          "output_type": "stream",
          "text": [
            "              precision    recall  f1-score   support\n",
            "\n",
            "  Mickiewicz     0.7500    0.0094    0.0185       320\n",
            "  Orzeszkowa     0.6859    0.5954    0.6374      7323\n",
            "        Prus     0.6317    0.5545    0.5906      6959\n",
            "     Reymont     0.7125    0.6706    0.6909      7756\n",
            " Sienkiewicz     0.6463    0.8046    0.7168     10563\n",
            "\n",
            "    accuracy                         0.6659     32921\n",
            "   macro avg     0.6853    0.5269    0.5308     32921\n",
            "weighted avg     0.6686    0.6659    0.6596     32921\n",
            "\n"
          ]
        }
      ]
    },
    {
      "cell_type": "code",
      "metadata": {
        "colab": {
          "background_save": true
        },
        "id": "bt8w8EXeAMhP",
        "outputId": "e33abc03-136f-48a4-8c03-4a3c4390c1ac"
      },
      "source": [
        "from sklearn.naive_bayes import MultinomialNB\n",
        "from sklearn.svm import LinearSVC\n",
        "\n",
        "model = LinearSVC()\n",
        "model.fit(X_train, Y_train)\n",
        "model.score(X_test, test_df['author'])\n",
        "\n",
        "target = test_df['author']\n",
        "predicted = model.predict(X_test)\n",
        "print (metrics.classification_report(target, predicted, digits=4))"
      ],
      "execution_count": null,
      "outputs": [
        {
          "name": "stdout",
          "output_type": "stream",
          "text": [
            "              precision    recall  f1-score   support\n",
            "\n",
            "  Mickiewicz     0.3864    0.1594    0.2257       320\n",
            "  Orzeszkowa     0.6476    0.5918    0.6185      7323\n",
            "        Prus     0.6138    0.5498    0.5800      6959\n",
            "     Reymont     0.6767    0.6756    0.6761      7756\n",
            " Sienkiewicz     0.6630    0.7608    0.7085     10563\n",
            "\n",
            "    accuracy                         0.6527     32921\n",
            "   macro avg     0.5975    0.5475    0.5618     32921\n",
            "weighted avg     0.6497    0.6527    0.6490     32921\n",
            "\n"
          ]
        }
      ]
    },
    {
      "cell_type": "markdown",
      "metadata": {
        "id": "fFio-X3_7z9y"
      },
      "source": [
        "# zadania do wykonania\n",
        "\n",
        "Pobierz zbiór danych dotyczących sentymentu wypowiedzi dla tekstów w języku polskim\n",
        "\n",
        "http://blog.jkan.pl/polish_sentiment_dataset.csv\n",
        "\n",
        "Opracuj model klasyfikujący sentyment wypowiedzi dla 3 grup\n",
        "* pozytywne\n",
        "* neutralne\n",
        "* \n"
      ]
    },
    {
      "cell_type": "code",
      "metadata": {
        "colab": {
          "base_uri": "https://localhost:8080/"
        },
        "id": "5KpfUcDa95xH",
        "outputId": "82579e57-82bd-4a30-e853-5537705f2407"
      },
      "source": [
        "!wget http://blog.jkan.pl/polish_sentiment_dataset.csv -O var/polish_sentiment.csv"
      ],
      "execution_count": null,
      "outputs": [
        {
          "name": "stdout",
          "output_type": "stream",
          "text": [
            "--2021-10-24 11:03:01--  http://blog.jkan.pl/polish_sentiment_dataset.csv\n",
            "Resolving blog.jkan.pl (blog.jkan.pl)... 85.128.239.15\n",
            "Connecting to blog.jkan.pl (blog.jkan.pl)|85.128.239.15|:80... connected.\n",
            "HTTP request sent, awaiting response... 200 OK\n",
            "Length: 95240804 (91M) [text/csv]\n",
            "Saving to: ‘var/polish_sentiment.csv’\n",
            "\n",
            "var/polish_sentimen 100%[===================>]  90.83M   104MB/s    in 0.9s    \n",
            "\n",
            "2021-10-24 11:03:02 (104 MB/s) - ‘var/polish_sentiment.csv’ saved [95240804/95240804]\n",
            "\n"
          ]
        }
      ]
    },
    {
      "cell_type": "code",
      "metadata": {
        "id": "MPj7xzTX-ArG"
      },
      "source": [
        "X = pd.read_csv('var/polish_sentiment.csv')"
      ],
      "execution_count": null,
      "outputs": []
    },
    {
      "cell_type": "code",
      "metadata": {
        "colab": {
          "base_uri": "https://localhost:8080/",
          "height": 419
        },
        "id": "TPZ5HZ3h-FMX",
        "outputId": "bf49bd16-d1cb-419d-bc8a-da3bf4323888"
      },
      "source": [
        "X"
      ],
      "execution_count": null,
      "outputs": [
        {
          "data": {
            "text/html": [
              "<div>\n",
              "<style scoped>\n",
              "    .dataframe tbody tr th:only-of-type {\n",
              "        vertical-align: middle;\n",
              "    }\n",
              "\n",
              "    .dataframe tbody tr th {\n",
              "        vertical-align: top;\n",
              "    }\n",
              "\n",
              "    .dataframe thead th {\n",
              "        text-align: right;\n",
              "    }\n",
              "</style>\n",
              "<table border=\"1\" class=\"dataframe\">\n",
              "  <thead>\n",
              "    <tr style=\"text-align: right;\">\n",
              "      <th></th>\n",
              "      <th>description</th>\n",
              "      <th>length</th>\n",
              "      <th>rate</th>\n",
              "    </tr>\n",
              "  </thead>\n",
              "  <tbody>\n",
              "    <tr>\n",
              "      <th>0</th>\n",
              "      <td>Polecam nie pierwszy i nie ostatni raz!</td>\n",
              "      <td>39.0</td>\n",
              "      <td>1.0</td>\n",
              "    </tr>\n",
              "    <tr>\n",
              "      <th>1</th>\n",
              "      <td>Bardzo dobra komunikacja sms i telefoniczna. Z...</td>\n",
              "      <td>121.0</td>\n",
              "      <td>1.0</td>\n",
              "    </tr>\n",
              "    <tr>\n",
              "      <th>2</th>\n",
              "      <td>Polecam zakupy w tym sklepie. Są dostępne częś...</td>\n",
              "      <td>87.0</td>\n",
              "      <td>1.0</td>\n",
              "    </tr>\n",
              "    <tr>\n",
              "      <th>3</th>\n",
              "      <td>0</td>\n",
              "      <td>0.0</td>\n",
              "      <td>0.0</td>\n",
              "    </tr>\n",
              "    <tr>\n",
              "      <th>4</th>\n",
              "      <td>Jestem w pełni zadowolona z przebiegu transakcji</td>\n",
              "      <td>48.0</td>\n",
              "      <td>1.0</td>\n",
              "    </tr>\n",
              "    <tr>\n",
              "      <th>...</th>\n",
              "      <td>...</td>\n",
              "      <td>...</td>\n",
              "      <td>...</td>\n",
              "    </tr>\n",
              "    <tr>\n",
              "      <th>936878</th>\n",
              "      <td>Coraz lepiej wygląda</td>\n",
              "      <td>NaN</td>\n",
              "      <td>-1.0</td>\n",
              "    </tr>\n",
              "    <tr>\n",
              "      <th>936879</th>\n",
              "      <td>JA SRAM NA TEN PIERSCIONEK I NA CIEBIE CHWILE ...</td>\n",
              "      <td>NaN</td>\n",
              "      <td>-1.0</td>\n",
              "    </tr>\n",
              "    <tr>\n",
              "      <th>936880</th>\n",
              "      <td>Rafatus do Marleny  Ty kurwo bez honoru       ...</td>\n",
              "      <td>NaN</td>\n",
              "      <td>-1.0</td>\n",
              "    </tr>\n",
              "    <tr>\n",
              "      <th>936881</th>\n",
              "      <td>matka Marleny   prosi o pomoc</td>\n",
              "      <td>NaN</td>\n",
              "      <td>-1.0</td>\n",
              "    </tr>\n",
              "    <tr>\n",
              "      <th>936882</th>\n",
              "      <td>wiesz człowieku że on ją nawet nie uderzył i m...</td>\n",
              "      <td>NaN</td>\n",
              "      <td>-1.0</td>\n",
              "    </tr>\n",
              "  </tbody>\n",
              "</table>\n",
              "<p>936883 rows × 3 columns</p>\n",
              "</div>"
            ],
            "text/plain": [
              "                                              description  length  rate\n",
              "0                 Polecam nie pierwszy i nie ostatni raz!    39.0   1.0\n",
              "1       Bardzo dobra komunikacja sms i telefoniczna. Z...   121.0   1.0\n",
              "2       Polecam zakupy w tym sklepie. Są dostępne częś...    87.0   1.0\n",
              "3                                                       0     0.0   0.0\n",
              "4        Jestem w pełni zadowolona z przebiegu transakcji    48.0   1.0\n",
              "...                                                   ...     ...   ...\n",
              "936878                              Coraz lepiej wygląda      NaN  -1.0\n",
              "936879  JA SRAM NA TEN PIERSCIONEK I NA CIEBIE CHWILE ...     NaN  -1.0\n",
              "936880  Rafatus do Marleny  Ty kurwo bez honoru       ...     NaN  -1.0\n",
              "936881                      matka Marleny   prosi o pomoc     NaN  -1.0\n",
              "936882  wiesz człowieku że on ją nawet nie uderzył i m...     NaN  -1.0\n",
              "\n",
              "[936883 rows x 3 columns]"
            ]
          },
          "execution_count": 599,
          "metadata": {},
          "output_type": "execute_result"
        }
      ]
    },
    {
      "cell_type": "code",
      "metadata": {
        "id": "7cq3d2sg-GMk"
      },
      "source": [
        ""
      ],
      "execution_count": null,
      "outputs": []
    }
  ]
}